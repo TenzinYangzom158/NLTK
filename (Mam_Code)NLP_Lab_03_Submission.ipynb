{
  "nbformat": 4,
  "nbformat_minor": 0,
  "metadata": {
    "colab": {
      "name": "(Mam_Code)NLP_Lab_03_Submission.ipynb",
      "provenance": [],
      "include_colab_link": true
    },
    "kernelspec": {
      "name": "python3",
      "display_name": "Python 3"
    },
    "language_info": {
      "name": "python"
    }
  },
  "cells": [
    {
      "cell_type": "markdown",
      "metadata": {
        "id": "view-in-github",
        "colab_type": "text"
      },
      "source": [
        "<a href=\"https://colab.research.google.com/github/TenzinYangzom158/NLTK/blob/main/(Mam_Code)NLP_Lab_03_Submission.ipynb\" target=\"_parent\"><img src=\"https://colab.research.google.com/assets/colab-badge.svg\" alt=\"Open In Colab\"/></a>"
      ]
    },
    {
      "cell_type": "code",
      "metadata": {
        "colab": {
          "base_uri": "https://localhost:8080/"
        },
        "id": "bxW8_q6k0llQ",
        "outputId": "db50442f-06cf-4183-9977-83389c14ad9b"
      },
      "source": [
        "import nltk.data #for loading non english language tokenizers\n",
        "nltk.download(\"punkt\") #language pickle files"
      ],
      "execution_count": null,
      "outputs": [
        {
          "output_type": "stream",
          "text": [
            "[nltk_data] Downloading package punkt to /root/nltk_data...\n",
            "[nltk_data]   Unzipping tokenizers/punkt.zip.\n"
          ],
          "name": "stdout"
        },
        {
          "output_type": "execute_result",
          "data": {
            "text/plain": [
              "True"
            ]
          },
          "metadata": {},
          "execution_count": 4
        }
      ]
    },
    {
      "cell_type": "code",
      "metadata": {
        "id": "0-c49mAQ0pQ3"
      },
      "source": [
        "spain_data=nltk.data.load(\"tokenizers/punkt/PY3/spanish.pickle\")"
      ],
      "execution_count": null,
      "outputs": []
    },
    {
      "cell_type": "code",
      "metadata": {
        "id": "zvjSY4Xn1QxH"
      },
      "source": [
        "text = \"Hola a todos, su aprendizaje de tokenización de diferentes idiomas.\""
      ],
      "execution_count": null,
      "outputs": []
    },
    {
      "cell_type": "code",
      "metadata": {
        "colab": {
          "base_uri": "https://localhost:8080/"
        },
        "id": "pJn6OrIS1cLZ",
        "outputId": "3fd94a69-3195-4b97-b179-0ccf16f7dd8d"
      },
      "source": [
        "spain_data.tokenize(text)"
      ],
      "execution_count": null,
      "outputs": [
        {
          "output_type": "execute_result",
          "data": {
            "text/plain": [
              "['Hola a todos, su aprendizaje de tokenización de diferentes idiomas.']"
            ]
          },
          "metadata": {},
          "execution_count": 10
        }
      ]
    },
    {
      "cell_type": "code",
      "metadata": {
        "colab": {
          "base_uri": "https://localhost:8080/",
          "height": 1000
        },
        "id": "Sa57pqhc2IiO",
        "outputId": "c5d4ae96-2924-42f2-a4fd-e4bdf6cb7513"
      },
      "source": [
        "!pip install inltk"
      ],
      "execution_count": null,
      "outputs": [
        {
          "output_type": "stream",
          "text": [
            "Collecting inltk\n",
            "  Downloading inltk-0.9-py3-none-any.whl (13 kB)\n",
            "Collecting sentencepiece\n",
            "  Downloading sentencepiece-0.1.96-cp37-cp37m-manylinux_2_17_x86_64.manylinux2014_x86_64.whl (1.2 MB)\n",
            "\u001b[K     |████████████████████████████████| 1.2 MB 4.9 MB/s \n",
            "\u001b[?25hCollecting async-timeout>=3.0.1\n",
            "  Downloading async_timeout-3.0.1-py3-none-any.whl (8.2 kB)\n",
            "Collecting aiohttp>=3.5.4\n",
            "  Downloading aiohttp-3.7.4.post0-cp37-cp37m-manylinux2014_x86_64.whl (1.3 MB)\n",
            "\u001b[K     |████████████████████████████████| 1.3 MB 41.5 MB/s \n",
            "\u001b[?25hRequirement already satisfied: numpy>=1.15 in /usr/local/lib/python3.7/dist-packages (from inltk) (1.19.5)\n",
            "Collecting fastai==1.0.57\n",
            "  Downloading fastai-1.0.57-py3-none-any.whl (233 kB)\n",
            "\u001b[K     |████████████████████████████████| 233 kB 30.7 MB/s \n",
            "\u001b[?25hRequirement already satisfied: packaging in /usr/local/lib/python3.7/dist-packages (from inltk) (21.0)\n",
            "Requirement already satisfied: spacy>=2.0.18 in /usr/local/lib/python3.7/dist-packages (from inltk) (2.2.4)\n",
            "Requirement already satisfied: pyyaml in /usr/local/lib/python3.7/dist-packages (from inltk) (3.13)\n",
            "Requirement already satisfied: pandas in /usr/local/lib/python3.7/dist-packages (from inltk) (1.1.5)\n",
            "Requirement already satisfied: numexpr in /usr/local/lib/python3.7/dist-packages (from inltk) (2.7.3)\n",
            "Requirement already satisfied: scipy in /usr/local/lib/python3.7/dist-packages (from inltk) (1.4.1)\n",
            "Collecting typing\n",
            "  Downloading typing-3.7.4.3.tar.gz (78 kB)\n",
            "\u001b[K     |████████████████████████████████| 78 kB 7.8 MB/s \n",
            "\u001b[?25hRequirement already satisfied: bottleneck in /usr/local/lib/python3.7/dist-packages (from inltk) (1.3.2)\n",
            "Requirement already satisfied: matplotlib in /usr/local/lib/python3.7/dist-packages (from inltk) (3.2.2)\n",
            "Requirement already satisfied: beautifulsoup4 in /usr/local/lib/python3.7/dist-packages (from inltk) (4.6.3)\n",
            "Requirement already satisfied: fastprogress>=0.1.19 in /usr/local/lib/python3.7/dist-packages (from inltk) (1.0.0)\n",
            "Requirement already satisfied: requests in /usr/local/lib/python3.7/dist-packages (from inltk) (2.23.0)\n",
            "Requirement already satisfied: nvidia-ml-py3 in /usr/local/lib/python3.7/dist-packages (from inltk) (7.352.0)\n",
            "Requirement already satisfied: Pillow in /usr/local/lib/python3.7/dist-packages (from inltk) (7.1.2)\n",
            "Requirement already satisfied: torchvision in /usr/local/lib/python3.7/dist-packages (from fastai==1.0.57->inltk) (0.10.0+cu102)\n",
            "Requirement already satisfied: torch>=1.0.0 in /usr/local/lib/python3.7/dist-packages (from fastai==1.0.57->inltk) (1.9.0+cu102)\n",
            "Requirement already satisfied: typing-extensions>=3.6.5 in /usr/local/lib/python3.7/dist-packages (from aiohttp>=3.5.4->inltk) (3.7.4.3)\n",
            "Requirement already satisfied: attrs>=17.3.0 in /usr/local/lib/python3.7/dist-packages (from aiohttp>=3.5.4->inltk) (21.2.0)\n",
            "Collecting yarl<2.0,>=1.0\n",
            "  Downloading yarl-1.6.3-cp37-cp37m-manylinux2014_x86_64.whl (294 kB)\n",
            "\u001b[K     |████████████████████████████████| 294 kB 54.6 MB/s \n",
            "\u001b[?25hCollecting multidict<7.0,>=4.5\n",
            "  Downloading multidict-5.1.0-cp37-cp37m-manylinux2014_x86_64.whl (142 kB)\n",
            "\u001b[K     |████████████████████████████████| 142 kB 59.6 MB/s \n",
            "\u001b[?25hRequirement already satisfied: chardet<5.0,>=2.0 in /usr/local/lib/python3.7/dist-packages (from aiohttp>=3.5.4->inltk) (3.0.4)\n",
            "Requirement already satisfied: wasabi<1.1.0,>=0.4.0 in /usr/local/lib/python3.7/dist-packages (from spacy>=2.0.18->inltk) (0.8.2)\n",
            "Requirement already satisfied: setuptools in /usr/local/lib/python3.7/dist-packages (from spacy>=2.0.18->inltk) (57.4.0)\n",
            "Requirement already satisfied: thinc==7.4.0 in /usr/local/lib/python3.7/dist-packages (from spacy>=2.0.18->inltk) (7.4.0)\n",
            "Requirement already satisfied: srsly<1.1.0,>=1.0.2 in /usr/local/lib/python3.7/dist-packages (from spacy>=2.0.18->inltk) (1.0.5)\n",
            "Requirement already satisfied: catalogue<1.1.0,>=0.0.7 in /usr/local/lib/python3.7/dist-packages (from spacy>=2.0.18->inltk) (1.0.0)\n",
            "Requirement already satisfied: murmurhash<1.1.0,>=0.28.0 in /usr/local/lib/python3.7/dist-packages (from spacy>=2.0.18->inltk) (1.0.5)\n",
            "Requirement already satisfied: plac<1.2.0,>=0.9.6 in /usr/local/lib/python3.7/dist-packages (from spacy>=2.0.18->inltk) (1.1.3)\n",
            "Requirement already satisfied: tqdm<5.0.0,>=4.38.0 in /usr/local/lib/python3.7/dist-packages (from spacy>=2.0.18->inltk) (4.62.0)\n",
            "Requirement already satisfied: cymem<2.1.0,>=2.0.2 in /usr/local/lib/python3.7/dist-packages (from spacy>=2.0.18->inltk) (2.0.5)\n",
            "Requirement already satisfied: blis<0.5.0,>=0.4.0 in /usr/local/lib/python3.7/dist-packages (from spacy>=2.0.18->inltk) (0.4.1)\n",
            "Requirement already satisfied: preshed<3.1.0,>=3.0.2 in /usr/local/lib/python3.7/dist-packages (from spacy>=2.0.18->inltk) (3.0.5)\n",
            "Requirement already satisfied: importlib-metadata>=0.20 in /usr/local/lib/python3.7/dist-packages (from catalogue<1.1.0,>=0.0.7->spacy>=2.0.18->inltk) (4.6.4)\n",
            "Requirement already satisfied: zipp>=0.5 in /usr/local/lib/python3.7/dist-packages (from importlib-metadata>=0.20->catalogue<1.1.0,>=0.0.7->spacy>=2.0.18->inltk) (3.5.0)\n",
            "Requirement already satisfied: certifi>=2017.4.17 in /usr/local/lib/python3.7/dist-packages (from requests->inltk) (2021.5.30)\n",
            "Requirement already satisfied: urllib3!=1.25.0,!=1.25.1,<1.26,>=1.21.1 in /usr/local/lib/python3.7/dist-packages (from requests->inltk) (1.24.3)\n",
            "Requirement already satisfied: idna<3,>=2.5 in /usr/local/lib/python3.7/dist-packages (from requests->inltk) (2.10)\n",
            "Requirement already satisfied: cycler>=0.10 in /usr/local/lib/python3.7/dist-packages (from matplotlib->inltk) (0.10.0)\n",
            "Requirement already satisfied: pyparsing!=2.0.4,!=2.1.2,!=2.1.6,>=2.0.1 in /usr/local/lib/python3.7/dist-packages (from matplotlib->inltk) (2.4.7)\n",
            "Requirement already satisfied: kiwisolver>=1.0.1 in /usr/local/lib/python3.7/dist-packages (from matplotlib->inltk) (1.3.1)\n",
            "Requirement already satisfied: python-dateutil>=2.1 in /usr/local/lib/python3.7/dist-packages (from matplotlib->inltk) (2.8.2)\n",
            "Requirement already satisfied: six in /usr/local/lib/python3.7/dist-packages (from cycler>=0.10->matplotlib->inltk) (1.15.0)\n",
            "Requirement already satisfied: pytz>=2017.2 in /usr/local/lib/python3.7/dist-packages (from pandas->inltk) (2018.9)\n",
            "Building wheels for collected packages: typing\n",
            "  Building wheel for typing (setup.py) ... \u001b[?25l\u001b[?25hdone\n",
            "  Created wheel for typing: filename=typing-3.7.4.3-py3-none-any.whl size=26324 sha256=78e770aaf7475217fce8ef7d02ef0d74aacfd4fc007b20cc76181b46f4ac2833\n",
            "  Stored in directory: /root/.cache/pip/wheels/35/f3/15/01aa6571f0a72ee6ae7b827c1491c37a1f72d686fd22b43b0e\n",
            "Successfully built typing\n",
            "Installing collected packages: multidict, yarl, async-timeout, typing, sentencepiece, fastai, aiohttp, inltk\n",
            "  Attempting uninstall: fastai\n",
            "    Found existing installation: fastai 1.0.61\n",
            "    Uninstalling fastai-1.0.61:\n",
            "      Successfully uninstalled fastai-1.0.61\n",
            "Successfully installed aiohttp-3.7.4.post0 async-timeout-3.0.1 fastai-1.0.57 inltk-0.9 multidict-5.1.0 sentencepiece-0.1.96 typing-3.7.4.3 yarl-1.6.3\n"
          ],
          "name": "stdout"
        },
        {
          "output_type": "display_data",
          "data": {
            "application/vnd.colab-display-data+json": {
              "pip_warning": {
                "packages": [
                  "typing"
                ]
              }
            }
          },
          "metadata": {}
        }
      ]
    },
    {
      "cell_type": "markdown",
      "metadata": {
        "id": "l4INI-1r4nbv"
      },
      "source": [
        "![image.png](data:image/png;base64,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)"
      ]
    },
    {
      "cell_type": "code",
      "metadata": {
        "id": "uTX1w1H54nEM"
      },
      "source": [
        "from inltk.inltk import tokenize\n",
        "text=\"\"\"\n",
        "तेरी आँखों की\n",
        "नमकीन मस्तियाँ\n",
        "तेरी हंसी की बेपरवाह\n",
        "गुस्ताखियाँ\n",
        "तेरी जुल्फों की\n",
        "लहराती अंगड़ाइयाँ\n",
        "नहीं भूलूंगा मैं\n",
        "जब तक है जान\n",
        "जब तक है जान\n",
        "\n",
        "तेरा हाथ से हाथ छोड़ना\n",
        "तेरा सायों से रुख मोड़ना\n",
        "तेरा पलट के फिर न देखना\n",
        "नहीं माफ़ करूँगा मैं\n",
        "जब तक है जान\n",
        "जब तक है जान\n",
        "\n",
        "बारिशों में बेधड़क\n",
        "तेरे नाचने से\n",
        "बात बात पे बेवजह\n",
        "तेरे रूठने से\n",
        "छोटी छोटी तेरी\n",
        "बचकानी बदमाशियों से\n",
        "मोहब्बत करूँगा मैं\n",
        "जब तक है जान\n",
        "जब तक है जान\n",
        "\n",
        "तेरे झूठे कसमें वादों से\n",
        "तेरे जलते सुलगते ख्वाबों से\n",
        "तेरी बे-रहम दुआओं से\n",
        "नफरत करूँगा मैं\n",
        "जब तक है जान\n",
        "जब तक है जान.\n",
        "\"\"\""
      ],
      "execution_count": null,
      "outputs": []
    },
    {
      "cell_type": "code",
      "metadata": {
        "colab": {
          "base_uri": "https://localhost:8080/"
        },
        "id": "z6IkCpDt5d_0",
        "outputId": "b626a394-bf02-4758-9cec-1d538648fb60"
      },
      "source": [
        "tokenize(text, \"hi\")[0:50]"
      ],
      "execution_count": null,
      "outputs": [
        {
          "output_type": "execute_result",
          "data": {
            "text/plain": [
              "['▁तेरी',\n",
              " '▁आँखों',\n",
              " '▁की',\n",
              " '▁नमकीन',\n",
              " '▁मस्त',\n",
              " 'ियाँ',\n",
              " '▁तेरी',\n",
              " '▁हंस',\n",
              " 'ी',\n",
              " '▁की',\n",
              " '▁बे',\n",
              " 'पर',\n",
              " 'वाह',\n",
              " '▁गु',\n",
              " 'स्ता',\n",
              " 'ख',\n",
              " 'ियाँ',\n",
              " '▁तेरी',\n",
              " '▁जु',\n",
              " 'ल्फ',\n",
              " 'ों',\n",
              " '▁की',\n",
              " '▁लहर',\n",
              " 'ा',\n",
              " 'ती',\n",
              " '▁अंग',\n",
              " 'ड़ा',\n",
              " 'इयाँ',\n",
              " '▁नहीं',\n",
              " '▁भूल',\n",
              " 'ूंगा',\n",
              " '▁मैं',\n",
              " '▁जब',\n",
              " '▁तक',\n",
              " '▁है',\n",
              " '▁जान',\n",
              " '▁जब',\n",
              " '▁तक',\n",
              " '▁है',\n",
              " '▁जान',\n",
              " '▁तेरा',\n",
              " '▁हाथ',\n",
              " '▁से',\n",
              " '▁हाथ',\n",
              " '▁छोड़ना',\n",
              " '▁तेरा',\n",
              " '▁साय',\n",
              " 'ों',\n",
              " '▁से',\n",
              " '▁रुख']"
            ]
          },
          "metadata": {},
          "execution_count": 5
        }
      ]
    },
    {
      "cell_type": "code",
      "metadata": {
        "colab": {
          "base_uri": "https://localhost:8080/"
        },
        "id": "6jCYPvxV5z0o",
        "outputId": "9e42719d-8d8b-4945-afd6-8e1344e776bf"
      },
      "source": [
        "from nltk.probability import FreqDist\n",
        "freq=FreqDist()\n",
        "#input : word\n",
        "for word in tokenize(text, \"hi\"):\n",
        "  freq[word]+=1\n",
        "freq"
      ],
      "execution_count": null,
      "outputs": [
        {
          "output_type": "execute_result",
          "data": {
            "text/plain": [
              "FreqDist({'-': 1,\n",
              "          '.': 1,\n",
              "          'इयाँ': 1,\n",
              "          'ओं': 1,\n",
              "          'क': 1,\n",
              "          'का': 1,\n",
              "          'ख': 1,\n",
              "          'ख्वा': 1,\n",
              "          'गत': 1,\n",
              "          'ज': 1,\n",
              "          'ठ': 1,\n",
              "          'ड़': 1,\n",
              "          'ड़ा': 1,\n",
              "          'ती': 1,\n",
              "          'ते': 1,\n",
              "          'ध': 1,\n",
              "          'ना': 1,\n",
              "          'नी': 1,\n",
              "          'ने': 1,\n",
              "          'पर': 1,\n",
              "          'फ़': 1,\n",
              "          'ब': 1,\n",
              "          'में': 1,\n",
              "          'र': 1,\n",
              "          'ल': 1,\n",
              "          'ल्फ': 1,\n",
              "          'व': 1,\n",
              "          'वाह': 1,\n",
              "          'स्ता': 1,\n",
              "          'ह': 1,\n",
              "          'हब्बत': 1,\n",
              "          'हम': 1,\n",
              "          'ा': 1,\n",
              "          'ियाँ': 2,\n",
              "          'ियों': 1,\n",
              "          'ी': 1,\n",
              "          'ूँगा': 3,\n",
              "          'ूंगा': 1,\n",
              "          'े': 1,\n",
              "          'ों': 5,\n",
              "          '▁': 1,\n",
              "          '▁अंग': 1,\n",
              "          '▁आँखों': 1,\n",
              "          '▁कर': 3,\n",
              "          '▁कस': 1,\n",
              "          '▁की': 3,\n",
              "          '▁के': 1,\n",
              "          '▁गु': 1,\n",
              "          '▁छोटी': 2,\n",
              "          '▁छोड़ना': 1,\n",
              "          '▁जब': 8,\n",
              "          '▁जल': 1,\n",
              "          '▁जान': 8,\n",
              "          '▁जु': 1,\n",
              "          '▁झूठे': 1,\n",
              "          '▁तक': 8,\n",
              "          '▁तेरा': 3,\n",
              "          '▁तेरी': 5,\n",
              "          '▁तेरे': 4,\n",
              "          '▁दुआ': 1,\n",
              "          '▁देखना': 1,\n",
              "          '▁न': 1,\n",
              "          '▁नफरत': 1,\n",
              "          '▁नमकीन': 1,\n",
              "          '▁नहीं': 2,\n",
              "          '▁नाचने': 1,\n",
              "          '▁पलट': 1,\n",
              "          '▁पे': 1,\n",
              "          '▁फिर': 1,\n",
              "          '▁बच': 1,\n",
              "          '▁बदमाश': 1,\n",
              "          '▁बात': 2,\n",
              "          '▁बारिश': 1,\n",
              "          '▁बे': 4,\n",
              "          '▁भूल': 1,\n",
              "          '▁मस्त': 1,\n",
              "          '▁मा': 1,\n",
              "          '▁में': 1,\n",
              "          '▁मैं': 4,\n",
              "          '▁मो': 1,\n",
              "          '▁मोड़': 1,\n",
              "          '▁रुख': 1,\n",
              "          '▁रू': 1,\n",
              "          '▁लहर': 1,\n",
              "          '▁वाद': 1,\n",
              "          '▁साय': 1,\n",
              "          '▁सु': 1,\n",
              "          '▁से': 8,\n",
              "          '▁हंस': 1,\n",
              "          '▁हाथ': 2,\n",
              "          '▁है': 8})"
            ]
          },
          "metadata": {},
          "execution_count": 6
        }
      ]
    },
    {
      "cell_type": "code",
      "metadata": {
        "colab": {
          "base_uri": "https://localhost:8080/"
        },
        "id": "yKEAbjvJ7BtB",
        "outputId": "c08cdc10-ba9d-4533-918f-d2608b96a93c"
      },
      "source": [
        "from nltk.tokenize import WordPunctTokenizer\n",
        "tk=WordPunctTokenizer()\n",
        "tk.tokenize(text)[0:50]"
      ],
      "execution_count": null,
      "outputs": [
        {
          "output_type": "execute_result",
          "data": {
            "text/plain": [
              "['त',\n",
              " 'े',\n",
              " 'र',\n",
              " 'ी',\n",
              " 'आ',\n",
              " 'ँ',\n",
              " 'ख',\n",
              " 'ों',\n",
              " 'क',\n",
              " 'ी',\n",
              " 'नमक',\n",
              " 'ी',\n",
              " 'न',\n",
              " 'मस',\n",
              " '्',\n",
              " 'त',\n",
              " 'ि',\n",
              " 'य',\n",
              " 'ाँ',\n",
              " 'त',\n",
              " 'े',\n",
              " 'र',\n",
              " 'ी',\n",
              " 'ह',\n",
              " 'ं',\n",
              " 'स',\n",
              " 'ी',\n",
              " 'क',\n",
              " 'ी',\n",
              " 'ब',\n",
              " 'े',\n",
              " 'परव',\n",
              " 'ा',\n",
              " 'ह',\n",
              " 'ग',\n",
              " 'ु',\n",
              " 'स',\n",
              " '्',\n",
              " 'त',\n",
              " 'ा',\n",
              " 'ख',\n",
              " 'ि',\n",
              " 'य',\n",
              " 'ाँ',\n",
              " 'त',\n",
              " 'े',\n",
              " 'र',\n",
              " 'ी',\n",
              " 'ज',\n",
              " 'ु']"
            ]
          },
          "metadata": {},
          "execution_count": 8
        }
      ]
    },
    {
      "cell_type": "code",
      "metadata": {
        "id": "4rE3O1Ue7bYc"
      },
      "source": [
        "tamil_text=\"\"\"\n",
        "நெஞ்சுக்குள்ள\n",
        "ஒம்ம முடிஞ்சிருக்கேன்- இங்க\n",
        "எத்திசையில் எம்பொழப்பு விடிஞ்சிருக்கோ?\n",
        "\n",
        "வெல்லப் பார்வை வீசிவிட்டீர் முன்னாடி\n",
        "இதத் தாங்காத மனசு தண்ணி பட்ட கண்ணாடி\n",
        "வண்ண மணியாரம் வலதுகைக் கெடியாரம்\n",
        "ஆனை புலியெல்லாம் அடக்கும் அதிகாரம்\n",
        "\n",
        "நீர் போன பின்னும்\n",
        "நிழல் மட்டும் போகலயே போகலயே\n",
        "நெஞ்சுக்குழியில் நிழல் வந்து விழுந்துருச்சே\n",
        "அப்ப நிமிந்தவ தான்\n",
        "அப்புறமாக் குனியலையே! குனியலையே!\n",
        "கொடக்கம்பி போல மனம் குத்தி நிக்குதே\n",
        "\n",
        "நெஞ்சுக்குள்ள\n",
        "ஒம்ம முடிஞ்சிருக்கேன்-இங்க\n",
        "எத்திசையில் எம்பொழப்பு விடிஞ்சிருக்கோ?\n",
        "\n",
        "\n",
        "பச்சி ஒறங்கிருச்சு\n",
        "பால்தயிராத் தூங்கிருச்சு\n",
        "இச்சி மரத்து மேல\n",
        "எல கூடத் தூங்கிருச்சு\n",
        "\n",
        "காச நோய்க் காரிகளும்\n",
        "கண்ணுறங்கும் வேளையில\n",
        "ஆசநோய் வந்தமக\n",
        "அரை நிமிசம் தூங்கலையே!\n",
        "\n",
        "நெஞ்சுக்குள்ள ஒம்ம\n",
        "முடிஞ்சிருக்கேன்!- இங்க\n",
        "எத்திசையில் எம்பொழப்பு விடிஞ்சிருக்கோ ?\n",
        "\n",
        "\n",
        "ஒரு வாய் எறங்கலையே\n",
        "உள்நாக்கு நனையலையே\n",
        "ஏழெட்டு நாளா\n",
        "எச்சில் முழுங்கலையே!\n",
        "\n",
        "ஏழை இளஞ்சிறுக்கி\n",
        "ஏதும் சொல்ல முடியலையே\n",
        "ரப்பர் வளவிக்கெல்லாம்\n",
        "சத்தமிட வாயில்லையே!\n",
        "\n",
        "நெஞ்சுக்குள்ள ஒம்ம\n",
        "முடிஞ்சிருக்கேன்!- இங்க\n",
        "எத்திசையில் எம்பொழப்பு விடிஞ்சிருக்கோ ?\n",
        "\"\"\""
      ],
      "execution_count": null,
      "outputs": []
    },
    {
      "cell_type": "code",
      "metadata": {
        "colab": {
          "base_uri": "https://localhost:8080/",
          "height": 363
        },
        "id": "rmLTMiVi8HLL",
        "outputId": "e80c1fd2-1604-4df8-e119-cf6e4aa885ae"
      },
      "source": [
        "#tamil language setup\n",
        "setup('ta')\n",
        "tokenize(tamil_text,'ta')[0:50] #tamil text tokenize#"
      ],
      "execution_count": null,
      "outputs": [
        {
          "output_type": "error",
          "ename": "RuntimeError",
          "evalue": "ignored",
          "traceback": [
            "\u001b[0;31m---------------------------------------------------------------------------\u001b[0m",
            "\u001b[0;31mRuntimeError\u001b[0m                              Traceback (most recent call last)",
            "\u001b[0;32m<ipython-input-17-b84fa5fad428>\u001b[0m in \u001b[0;36m<module>\u001b[0;34m()\u001b[0m\n\u001b[0;32m----> 1\u001b[0;31m \u001b[0msetup\u001b[0m\u001b[0;34m(\u001b[0m\u001b[0;34m'ta'\u001b[0m\u001b[0;34m)\u001b[0m\u001b[0;34m\u001b[0m\u001b[0;34m\u001b[0m\u001b[0m\n\u001b[0m\u001b[1;32m      2\u001b[0m \u001b[0mtokenize\u001b[0m\u001b[0;34m(\u001b[0m\u001b[0mtamil_text\u001b[0m\u001b[0;34m,\u001b[0m\u001b[0;34m'ta'\u001b[0m\u001b[0;34m)\u001b[0m\u001b[0;34m[\u001b[0m\u001b[0;36m0\u001b[0m\u001b[0;34m:\u001b[0m\u001b[0;36m50\u001b[0m\u001b[0;34m]\u001b[0m \u001b[0;31m#tamil text tokenize\u001b[0m\u001b[0;34m\u001b[0m\u001b[0;34m\u001b[0m\u001b[0m\n",
            "\u001b[0;32m/usr/local/lib/python3.7/dist-packages/inltk/inltk.py\u001b[0m in \u001b[0;36msetup\u001b[0;34m(language_code)\u001b[0m\n\u001b[1;32m     31\u001b[0m     \u001b[0mloop\u001b[0m \u001b[0;34m=\u001b[0m \u001b[0masyncio\u001b[0m\u001b[0;34m.\u001b[0m\u001b[0mget_event_loop\u001b[0m\u001b[0;34m(\u001b[0m\u001b[0;34m)\u001b[0m\u001b[0;34m\u001b[0m\u001b[0;34m\u001b[0m\u001b[0m\n\u001b[1;32m     32\u001b[0m     \u001b[0mtasks\u001b[0m \u001b[0;34m=\u001b[0m \u001b[0;34m[\u001b[0m\u001b[0masyncio\u001b[0m\u001b[0;34m.\u001b[0m\u001b[0mensure_future\u001b[0m\u001b[0;34m(\u001b[0m\u001b[0mdownload\u001b[0m\u001b[0;34m(\u001b[0m\u001b[0mlanguage_code\u001b[0m\u001b[0;34m)\u001b[0m\u001b[0;34m)\u001b[0m\u001b[0;34m]\u001b[0m\u001b[0;34m\u001b[0m\u001b[0;34m\u001b[0m\u001b[0m\n\u001b[0;32m---> 33\u001b[0;31m     \u001b[0mlearn\u001b[0m \u001b[0;34m=\u001b[0m \u001b[0mloop\u001b[0m\u001b[0;34m.\u001b[0m\u001b[0mrun_until_complete\u001b[0m\u001b[0;34m(\u001b[0m\u001b[0masyncio\u001b[0m\u001b[0;34m.\u001b[0m\u001b[0mgather\u001b[0m\u001b[0;34m(\u001b[0m\u001b[0;34m*\u001b[0m\u001b[0mtasks\u001b[0m\u001b[0;34m)\u001b[0m\u001b[0;34m)\u001b[0m\u001b[0;34m[\u001b[0m\u001b[0;36m0\u001b[0m\u001b[0;34m]\u001b[0m\u001b[0;34m\u001b[0m\u001b[0;34m\u001b[0m\u001b[0m\n\u001b[0m\u001b[1;32m     34\u001b[0m     \u001b[0mloop\u001b[0m\u001b[0;34m.\u001b[0m\u001b[0mclose\u001b[0m\u001b[0;34m(\u001b[0m\u001b[0;34m)\u001b[0m\u001b[0;34m\u001b[0m\u001b[0;34m\u001b[0m\u001b[0m\n\u001b[1;32m     35\u001b[0m \u001b[0;34m\u001b[0m\u001b[0m\n",
            "\u001b[0;32m/usr/lib/python3.7/asyncio/base_events.py\u001b[0m in \u001b[0;36mrun_until_complete\u001b[0;34m(self, future)\u001b[0m\n\u001b[1;32m    561\u001b[0m         \"\"\"\n\u001b[1;32m    562\u001b[0m         \u001b[0mself\u001b[0m\u001b[0;34m.\u001b[0m\u001b[0m_check_closed\u001b[0m\u001b[0;34m(\u001b[0m\u001b[0;34m)\u001b[0m\u001b[0;34m\u001b[0m\u001b[0;34m\u001b[0m\u001b[0m\n\u001b[0;32m--> 563\u001b[0;31m         \u001b[0mself\u001b[0m\u001b[0;34m.\u001b[0m\u001b[0m_check_runnung\u001b[0m\u001b[0;34m(\u001b[0m\u001b[0;34m)\u001b[0m\u001b[0;34m\u001b[0m\u001b[0;34m\u001b[0m\u001b[0m\n\u001b[0m\u001b[1;32m    564\u001b[0m \u001b[0;34m\u001b[0m\u001b[0m\n\u001b[1;32m    565\u001b[0m         \u001b[0mnew_task\u001b[0m \u001b[0;34m=\u001b[0m \u001b[0;32mnot\u001b[0m \u001b[0mfutures\u001b[0m\u001b[0;34m.\u001b[0m\u001b[0misfuture\u001b[0m\u001b[0;34m(\u001b[0m\u001b[0mfuture\u001b[0m\u001b[0;34m)\u001b[0m\u001b[0;34m\u001b[0m\u001b[0;34m\u001b[0m\u001b[0m\n",
            "\u001b[0;32m/usr/lib/python3.7/asyncio/base_events.py\u001b[0m in \u001b[0;36m_check_runnung\u001b[0;34m(self)\u001b[0m\n\u001b[1;32m    521\u001b[0m     \u001b[0;32mdef\u001b[0m \u001b[0m_check_runnung\u001b[0m\u001b[0;34m(\u001b[0m\u001b[0mself\u001b[0m\u001b[0;34m)\u001b[0m\u001b[0;34m:\u001b[0m\u001b[0;34m\u001b[0m\u001b[0;34m\u001b[0m\u001b[0m\n\u001b[1;32m    522\u001b[0m         \u001b[0;32mif\u001b[0m \u001b[0mself\u001b[0m\u001b[0;34m.\u001b[0m\u001b[0mis_running\u001b[0m\u001b[0;34m(\u001b[0m\u001b[0;34m)\u001b[0m\u001b[0;34m:\u001b[0m\u001b[0;34m\u001b[0m\u001b[0;34m\u001b[0m\u001b[0m\n\u001b[0;32m--> 523\u001b[0;31m             \u001b[0;32mraise\u001b[0m \u001b[0mRuntimeError\u001b[0m\u001b[0;34m(\u001b[0m\u001b[0;34m'This event loop is already running'\u001b[0m\u001b[0;34m)\u001b[0m\u001b[0;34m\u001b[0m\u001b[0;34m\u001b[0m\u001b[0m\n\u001b[0m\u001b[1;32m    524\u001b[0m         \u001b[0;32mif\u001b[0m \u001b[0mevents\u001b[0m\u001b[0;34m.\u001b[0m\u001b[0m_get_running_loop\u001b[0m\u001b[0;34m(\u001b[0m\u001b[0;34m)\u001b[0m \u001b[0;32mis\u001b[0m \u001b[0;32mnot\u001b[0m \u001b[0;32mNone\u001b[0m\u001b[0;34m:\u001b[0m\u001b[0;34m\u001b[0m\u001b[0;34m\u001b[0m\u001b[0m\n\u001b[1;32m    525\u001b[0m             raise RuntimeError(\n",
            "\u001b[0;31mRuntimeError\u001b[0m: This event loop is already running"
          ]
        },
        {
          "output_type": "stream",
          "text": [
            "Downloading Model. This might take time, depending on your internet connection. Please be patient.\n",
            "We'll only do this for the first time.\n"
          ],
          "name": "stdout"
        }
      ]
    },
    {
      "cell_type": "code",
      "metadata": {
        "colab": {
          "base_uri": "https://localhost:8080/"
        },
        "id": "eq-g6uJb-CA2",
        "outputId": "9f38c935-238c-41b4-d239-9fb4632e2e81"
      },
      "source": [
        "tk.tokenize(tamil_text)[0:50]"
      ],
      "execution_count": null,
      "outputs": [
        {
          "output_type": "execute_result",
          "data": {
            "text/plain": [
              "['ந',\n",
              " 'ெ',\n",
              " 'ஞ',\n",
              " '்',\n",
              " 'ச',\n",
              " 'ு',\n",
              " 'க',\n",
              " '்',\n",
              " 'க',\n",
              " 'ு',\n",
              " 'ள',\n",
              " '்',\n",
              " 'ள',\n",
              " 'ஒம',\n",
              " '்',\n",
              " 'ம',\n",
              " 'ம',\n",
              " 'ு',\n",
              " 'ட',\n",
              " 'ி',\n",
              " 'ஞ',\n",
              " '்',\n",
              " 'ச',\n",
              " 'ி',\n",
              " 'ர',\n",
              " 'ு',\n",
              " 'க',\n",
              " '்',\n",
              " 'க',\n",
              " 'ே',\n",
              " 'ன',\n",
              " '்-',\n",
              " 'இங',\n",
              " '்',\n",
              " 'க',\n",
              " 'எத',\n",
              " '்',\n",
              " 'த',\n",
              " 'ி',\n",
              " 'ச',\n",
              " 'ை',\n",
              " 'ய',\n",
              " 'ி',\n",
              " 'ல',\n",
              " '்',\n",
              " 'எம',\n",
              " '்',\n",
              " 'ப',\n",
              " 'ொ',\n",
              " 'ழப']"
            ]
          },
          "metadata": {},
          "execution_count": 18
        }
      ]
    },
    {
      "cell_type": "code",
      "metadata": {
        "id": "nhXHha2V-NII"
      },
      "source": [
        "punjabi_text=\"\"\"\n",
        "वे मैथों तेरा मन भर्र्या मन भरेया बदल गेया सारा वे तू मैनू छड जाना गल्लां त्तेरिया तों लगदा ऐ यारा वे मैथों तेरे मन भरेया गल्लां त्तेरिया तों लगदा ऐ यारा \n",
        "वे मैथों तेरे मन भरेया गल गल ते शक करदे ऐतबार जरा वि नइ हूँ तेरियां अखियाँ च मेरे लाई प्यार ज़रा वि नइ मेरे ते कोई नि \n",
        "तेरे बिन तैनू मिल जाना किसे दा सहारा वे तू मैनू छड जाना गल्लां तेरियां तों लगदा ऐ यारा काश ऐसा हो सकदा रब्ब दे पेरी पे जांदी तेरी जगह ते जानी\n",
        "\"\"\""
      ],
      "execution_count": null,
      "outputs": []
    },
    {
      "cell_type": "code",
      "metadata": {
        "colab": {
          "base_uri": "https://localhost:8080/"
        },
        "id": "HQugmlRBAwCc",
        "outputId": "4fc07eda-317b-43e0-a7be-f323f15bb04c"
      },
      "source": [
        "tk.tokenize(punjabi_text)[0:50]"
      ],
      "execution_count": null,
      "outputs": [
        {
          "output_type": "execute_result",
          "data": {
            "text/plain": [
              "['व',\n",
              " 'े',\n",
              " 'म',\n",
              " 'ै',\n",
              " 'थ',\n",
              " 'ों',\n",
              " 'त',\n",
              " 'े',\n",
              " 'र',\n",
              " 'ा',\n",
              " 'मन',\n",
              " 'भर',\n",
              " '्',\n",
              " 'र',\n",
              " '्',\n",
              " 'य',\n",
              " 'ा',\n",
              " 'मन',\n",
              " 'भर',\n",
              " 'े',\n",
              " 'य',\n",
              " 'ा',\n",
              " 'बदल',\n",
              " 'ग',\n",
              " 'े',\n",
              " 'य',\n",
              " 'ा',\n",
              " 'स',\n",
              " 'ा',\n",
              " 'र',\n",
              " 'ा',\n",
              " 'व',\n",
              " 'े',\n",
              " 'त',\n",
              " 'ू',\n",
              " 'म',\n",
              " 'ै',\n",
              " 'न',\n",
              " 'ू',\n",
              " 'छड',\n",
              " 'ज',\n",
              " 'ा',\n",
              " 'न',\n",
              " 'ा',\n",
              " 'गल',\n",
              " '्',\n",
              " 'ल',\n",
              " 'ां',\n",
              " 'त',\n",
              " '्']"
            ]
          },
          "metadata": {},
          "execution_count": 22
        }
      ]
    },
    {
      "cell_type": "code",
      "metadata": {
        "id": "wvSN3q2OBwFl"
      },
      "source": [
        ""
      ],
      "execution_count": null,
      "outputs": []
    },
    {
      "cell_type": "code",
      "metadata": {
        "colab": {
          "base_uri": "https://localhost:8080/",
          "height": 466
        },
        "id": "0FnFzd6J6oOJ",
        "outputId": "5dbc15ae-7e1b-4677-b80f-7a5cca53f61b"
      },
      "source": [
        "#visualizing the most frequent words using a wordcloud\n",
        "import wordcloud\n",
        "import matplotlib.pyplot as plot\n",
        "Final=tokenize(text,'hi')\n",
        "wordcloud_txt=str(Final).replace('[','').replace(']','').replace('\\'','')\n",
        "plot.figure(figsize=(15,10))\n",
        "plot.imshow(wordcloud.WordCloud().generate(wordcloud_txt))\n",
        "plot.axis(\"off\")"
      ],
      "execution_count": null,
      "outputs": [
        {
          "output_type": "execute_result",
          "data": {
            "text/plain": [
              "(-0.5, 399.5, 199.5, -0.5)"
            ]
          },
          "metadata": {},
          "execution_count": 25
        },
        {
          "output_type": "display_data",
          "data": {
            "image/png": "[encoded data removed]",
            "text/plain": [
              "<Figure size 1080x720 with 1 Axes>"
            ]
          },
          "metadata": {
            "needs_background": "light"
          }
        }
      ]
    }
  ]
}