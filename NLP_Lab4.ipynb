{
  "nbformat": 4,
  "nbformat_minor": 0,
  "metadata": {
    "colab": {
      "name": "NLP_Lab4.ipynb",
      "provenance": [],
      "collapsed_sections": [],
      "authorship_tag": "ABX9TyO2VkGp+P6cZBxfNPJz0xJK",
      "include_colab_link": true
    },
    "kernelspec": {
      "name": "python3",
      "display_name": "Python 3"
    },
    "language_info": {
      "name": "python"
    }
  },
  "cells": [
    {
      "cell_type": "markdown",
      "metadata": {
        "id": "view-in-github",
        "colab_type": "text"
      },
      "source": [
        "<a href=\"https://colab.research.google.com/github/TenzinYangzom158/NLTK/blob/main/NLP_Lab4.ipynb\" target=\"_parent\"><img src=\"https://colab.research.google.com/assets/colab-badge.svg\" alt=\"Open In Colab\"/></a>"
      ]
    },
    {
      "cell_type": "markdown",
      "source": [
        "## **Write a program to get synonyms from WordNet.**"
      ],
      "metadata": {
        "id": "0oinZduk84v7"
      }
    },
    {
      "cell_type": "markdown",
      "source": [
        "#### WordNet is a large lexical database of English. Nouns, verbs, adjectives and adverbs are grouped into sets of cognitive synonyms (synsets), each expressing a distinct concept. Synsets are interlinked by means of conceptual-semantic and lexical relations.\n",
        "##### WordNet’s structure makes it a useful tool for computational linguistics and natural language processing.\n",
        "\n",
        "###### synonym (words having the same meaning)\n",
        "###### hypernyms (The generic term used to designate a class of specifics (i.e., meal is a breakfast), hyponyms (rice is a meal)\n",
        "###### holonyms (proteins, carbohydrates are part of meal)\n",
        "###### meronyms (meal is part of daily food intake)"
      ],
      "metadata": {
        "id": "OSCaQdn79YzA"
      }
    },
    {
      "cell_type": "code",
      "source": [
        "import nltk\n",
        "nltk.download('wordnet')\n",
        "nltk.download('omw-1.4')"
      ],
      "metadata": {
        "colab": {
          "base_uri": "https://localhost:8080/",
          "height": 0
        },
        "id": "C5kGTpFL-tIl",
        "outputId": "dd73714b-f4d3-459a-a1be-d01e91b2e0b7"
      },
      "execution_count": 9,
      "outputs": [
        {
          "output_type": "stream",
          "name": "stderr",
          "text": [
            "[nltk_data] Downloading package wordnet to /root/nltk_data...\n",
            "[nltk_data]   Package wordnet is already up-to-date!\n",
            "[nltk_data] Downloading package omw-1.4 to /root/nltk_data...\n"
          ]
        },
        {
          "output_type": "execute_result",
          "data": {
            "text/plain": [
              "True"
            ]
          },
          "metadata": {},
          "execution_count": 9
        }
      ]
    },
    {
      "cell_type": "code",
      "execution_count": 10,
      "metadata": {
        "id": "oBko9mzm8w4I"
      },
      "outputs": [],
      "source": [
        "# import wordnet\n",
        "from nltk.corpus import wordnet"
      ]
    },
    {
      "cell_type": "code",
      "source": [
        "# 1. Simple way to get the synonyms\n",
        "syns = wordnet.synsets(\"buy\")\n",
        "print(syns)"
      ],
      "metadata": {
        "colab": {
          "base_uri": "https://localhost:8080/",
          "height": 0
        },
        "id": "89xykXHi-HSS",
        "outputId": "a0747b2c-6e13-4498-eea4-f0fcaab6e147"
      },
      "execution_count": 17,
      "outputs": [
        {
          "output_type": "stream",
          "name": "stdout",
          "text": [
            "[Synset('bargain.n.02'), Synset('buy.v.01'), Synset('bribe.v.01'), Synset('buy.v.03'), Synset('buy.v.04'), Synset('buy.v.05')]\n"
          ]
        }
      ]
    },
    {
      "cell_type": "code",
      "source": [
        "from nltk.corpus.reader.wordnet import Synset\n",
        "# Details of the word\n",
        "print('Word and Type : ' + syns[0].name())\n",
        "print('Synonym of Buy is: ' + syns[0].lemmas()[0].name())\n",
        "print('The meaning of the word : ' + syns[0].definition())\n",
        "print('Example of Buy : ' + str(syns[0].examples()))"
      ],
      "metadata": {
        "colab": {
          "base_uri": "https://localhost:8080/",
          "height": 0
        },
        "id": "ESdNfjlh-qtp",
        "outputId": "a807bbed-008a-41f5-f35c-6ee386174c64"
      },
      "execution_count": 23,
      "outputs": [
        {
          "output_type": "stream",
          "name": "stdout",
          "text": [
            "Word and Type : bargain.n.02\n",
            "Synonym of Buy is: bargain\n",
            "The meaning of the word : an advantageous purchase\n",
            "Example of Buy : ['she got a bargain at the auction', 'the stock was a real buy at that price']\n"
          ]
        }
      ]
    },
    {
      "cell_type": "code",
      "source": [
        "# 2. Using the for loop\n",
        "\n",
        "synonyms = []\n",
        "\n",
        "for syn in wordnet.synsets(\"sell\"):\n",
        "\t\tfor l in syn.lemmas():\n",
        "\t\t\tsynonyms.append(l.name()) #Synonyms of the word sell are searched in the module synsets and are appended in the list synonyms.\n",
        "\n",
        "print(\"The synonyms are:\")\n",
        "print(set(synonyms))\n",
        "\n",
        "len(synonyms)"
      ],
      "metadata": {
        "colab": {
          "base_uri": "https://localhost:8080/",
          "height": 0
        },
        "id": "sP2FJeG4DCNF",
        "outputId": "1da26f03-0d90-494e-d7c9-c597c4dca5e1"
      },
      "execution_count": 30,
      "outputs": [
        {
          "output_type": "stream",
          "name": "stdout",
          "text": [
            "The synonyms are:\n",
            "{'sell', 'deal', 'trade', 'betray'}\n"
          ]
        },
        {
          "output_type": "execute_result",
          "data": {
            "text/plain": [
              "12"
            ]
          },
          "metadata": {},
          "execution_count": 30
        }
      ]
    },
    {
      "cell_type": "markdown",
      "source": [
        "POS Tagging for synonym"
      ],
      "metadata": {
        "id": "-ToS5mdxJvRm"
      }
    },
    {
      "cell_type": "code",
      "source": [
        "# Get all the synsets that are verbs\n",
        "wordnet.synsets('buy', pos = wordnet.VERB)"
      ],
      "metadata": {
        "colab": {
          "base_uri": "https://localhost:8080/",
          "height": 0
        },
        "id": "71JeCzYxH2-v",
        "outputId": "112c8832-f09d-46e4-9024-c49018ecca43"
      },
      "execution_count": 33,
      "outputs": [
        {
          "output_type": "execute_result",
          "data": {
            "text/plain": [
              "[Synset('buy.v.01'),\n",
              " Synset('bribe.v.01'),\n",
              " Synset('buy.v.03'),\n",
              " Synset('buy.v.04'),\n",
              " Synset('buy.v.05')]"
            ]
          },
          "metadata": {},
          "execution_count": 33
        }
      ]
    },
    {
      "cell_type": "code",
      "source": [
        "# Get all the synsets that are nouns\n",
        "wordnet.synsets('buy', pos = wordnet.NOUN)"
      ],
      "metadata": {
        "colab": {
          "base_uri": "https://localhost:8080/",
          "height": 0
        },
        "id": "5IIprwKuIhZ2",
        "outputId": "7dd4738c-09f2-4b9b-d56d-c03295caf0fa"
      },
      "execution_count": 34,
      "outputs": [
        {
          "output_type": "execute_result",
          "data": {
            "text/plain": [
              "[Synset('bargain.n.02')]"
            ]
          },
          "metadata": {},
          "execution_count": 34
        }
      ]
    },
    {
      "cell_type": "code",
      "source": [
        "# Get all the synsets that are adjectives\n",
        "wordnet.synsets('buy', pos = wordnet.ADJ)"
      ],
      "metadata": {
        "colab": {
          "base_uri": "https://localhost:8080/",
          "height": 0
        },
        "id": "U6tdY9GQJ18q",
        "outputId": "dfaeec79-f632-4367-dea5-7dd385daa230"
      },
      "execution_count": 36,
      "outputs": [
        {
          "output_type": "execute_result",
          "data": {
            "text/plain": [
              "[]"
            ]
          },
          "metadata": {},
          "execution_count": 36
        }
      ]
    },
    {
      "cell_type": "code",
      "source": [
        "for i in wordnet.synsets(\"sell\"):\n",
        "     for lemma in i.lemmas():\n",
        "          print(\"Synonym of Word: \" + lemma.name(), \"| Definition of Synonym: \" + i.definition())"
      ],
      "metadata": {
        "colab": {
          "base_uri": "https://localhost:8080/",
          "height": 0
        },
        "id": "Zy7aib47E2xL",
        "outputId": "8669d516-dca8-45db-def2-128100ee9423"
      },
      "execution_count": 37,
      "outputs": [
        {
          "output_type": "stream",
          "name": "stdout",
          "text": [
            "Synonym of Word: sell | Definition of Synonym: the activity of persuading someone to buy\n",
            "Synonym of Word: sell | Definition of Synonym: exchange or deliver for money or its equivalent\n",
            "Synonym of Word: sell | Definition of Synonym: be sold at a certain price or in a certain way\n",
            "Synonym of Word: sell | Definition of Synonym: persuade somebody to accept something\n",
            "Synonym of Word: deal | Definition of Synonym: do business; offer for sale as for one's livelihood\n",
            "Synonym of Word: sell | Definition of Synonym: do business; offer for sale as for one's livelihood\n",
            "Synonym of Word: trade | Definition of Synonym: do business; offer for sale as for one's livelihood\n",
            "Synonym of Word: sell | Definition of Synonym: give up for a price or reward\n",
            "Synonym of Word: sell | Definition of Synonym: be approved of or gain acceptance\n",
            "Synonym of Word: sell | Definition of Synonym: be responsible for the sale of\n",
            "Synonym of Word: betray | Definition of Synonym: deliver to an enemy by treachery\n",
            "Synonym of Word: sell | Definition of Synonym: deliver to an enemy by treachery\n"
          ]
        }
      ]
    },
    {
      "cell_type": "markdown",
      "source": [
        "Extracting synonyms from different language"
      ],
      "metadata": {
        "id": "cqX4FTwULPGk"
      }
    },
    {
      "cell_type": "code",
      "source": [
        "wordnet.synset(\"store.v.01\").lemma_names(\"fra\")"
      ],
      "metadata": {
        "colab": {
          "base_uri": "https://localhost:8080/",
          "height": 0
        },
        "id": "NWm5tzC2GFmx",
        "outputId": "7446ae64-82cb-47ae-bfc0-ac4a3fb4b2c5"
      },
      "execution_count": 40,
      "outputs": [
        {
          "output_type": "execute_result",
          "data": {
            "text/plain": [
              "['conserver', 'entreposer', 'stocker']"
            ]
          },
          "metadata": {},
          "execution_count": 40
        }
      ]
    },
    {
      "cell_type": "markdown",
      "source": [
        "![image.png](data:image/png;base64,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)"
      ],
      "metadata": {
        "id": "O8_Nx-pTLLpH"
      }
    },
    {
      "cell_type": "code",
      "source": [
        ""
      ],
      "metadata": {
        "id": "bu3_NMSfKqx-"
      },
      "execution_count": null,
      "outputs": []
    }
  ]
}