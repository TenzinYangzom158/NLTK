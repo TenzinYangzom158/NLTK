{
  "nbformat": 4,
  "nbformat_minor": 0,
  "metadata": {
    "colab": {
      "name": "NLP_Lab3.ipynb",
      "provenance": [],
      "collapsed_sections": [],
      "authorship_tag": "ABX9TyNhUSHsasRPBw5GWsjY6ApN",
      "include_colab_link": true
    },
    "kernelspec": {
      "name": "python3",
      "display_name": "Python 3"
    },
    "language_info": {
      "name": "python"
    }
  },
  "cells": [
    {
      "cell_type": "markdown",
      "metadata": {
        "id": "view-in-github",
        "colab_type": "text"
      },
      "source": [
        "<a href=\"https://colab.research.google.com/github/TenzinYangzom158/NLTK/blob/main/NLP_Lab3.ipynb\" target=\"_parent\"><img src=\"https://colab.research.google.com/assets/colab-badge.svg\" alt=\"Open In Colab\"/></a>"
      ]
    },
    {
      "cell_type": "markdown",
      "source": [
        "# **Lab3. Write a program to program to tokenize Non-English Languages**"
      ],
      "metadata": {
        "id": "DXjOBNy0dPKK"
      }
    },
    {
      "cell_type": "markdown",
      "source": [
        "### Tokenization is breaking the raw text into small chunks. Tokenization breaks the raw text into words, sentences called tokens. "
      ],
      "metadata": {
        "id": "Vc7f1RQ2Cq3j"
      }
    },
    {
      "cell_type": "code",
      "execution_count": 7,
      "metadata": {
        "id": "erWslPiHdL-G",
        "colab": {
          "base_uri": "https://localhost:8080/"
        },
        "outputId": "fc7a75b7-a25f-4d93-bcc2-f9519e7b46be"
      },
      "outputs": [
        {
          "output_type": "stream",
          "name": "stderr",
          "text": [
            "[nltk_data] Downloading package punkt to /root/nltk_data...\n",
            "[nltk_data]   Package punkt is already up-to-date!\n",
            "[nltk_data] Downloading package stopwords to /root/nltk_data...\n",
            "[nltk_data]   Unzipping corpora/stopwords.zip.\n"
          ]
        }
      ],
      "source": [
        "# import the library\n",
        "import nltk\n",
        "nltk.download('punkt')\n",
        "nltk.download('stopwords')\n",
        "import nltk.data"
      ]
    },
    {
      "cell_type": "code",
      "source": [
        "import matplotlib.pyplot as plt"
      ],
      "metadata": {
        "id": "3F6mADZZSZDD"
      },
      "execution_count": 2,
      "outputs": []
    },
    {
      "cell_type": "code",
      "source": [
        "# add necessary libraries\n",
        "from nltk.corpus import stopwords\n",
        "from nltk.tokenize import (word_tokenize, \n",
        "                          sent_tokenize,\n",
        "                           RegexpTokenizer,\n",
        "                           wordpunct_tokenize,\n",
        "                           TreebankWordTokenizer, \n",
        "                           TweetTokenizer,\n",
        "                           MWETokenizer)\n",
        "# TreebankWordTokenizer and MWETokenizer works but not useful\n",
        "\n",
        "from nltk.probability import FreqDist\n",
        "\n",
        "from nltk.stem import PorterStemmer\n",
        "import math"
      ],
      "metadata": {
        "id": "AjzolG5w9NGY"
      },
      "execution_count": 3,
      "outputs": []
    },
    {
      "cell_type": "code",
      "source": [
        "!git clone https://github.com/TenzinYangzom158/NLTK.git"
      ],
      "metadata": {
        "colab": {
          "base_uri": "https://localhost:8080/"
        },
        "id": "HwmNaH-DIItO",
        "outputId": "3f4a0f22-cace-4080-bd1d-8b2af0186be7"
      },
      "execution_count": 4,
      "outputs": [
        {
          "output_type": "stream",
          "name": "stdout",
          "text": [
            "Cloning into 'NLTK'...\n",
            "remote: Enumerating objects: 25, done.\u001b[K\n",
            "remote: Counting objects: 100% (25/25), done.\u001b[K\n",
            "remote: Compressing objects: 100% (22/22), done.\u001b[K\n",
            "remote: Total 25 (delta 6), reused 0 (delta 0), pack-reused 0\u001b[K\n",
            "Unpacking objects: 100% (25/25), done.\n"
          ]
        }
      ]
    },
    {
      "cell_type": "markdown",
      "source": [
        "Importing Hindi text from the text file"
      ],
      "metadata": {
        "id": "GyzrgXwy8Y6Z"
      }
    },
    {
      "cell_type": "code",
      "source": [
        "text = open('NLTK/hindi.txt')\n",
        "sen = text.read()\n",
        "print(sen)"
      ],
      "metadata": {
        "colab": {
          "base_uri": "https://localhost:8080/"
        },
        "id": "PdZtpWCBqgYc",
        "outputId": "f264dec0-b8cc-49f0-800c-ac46f880719d"
      },
      "execution_count": null,
      "outputs": [
        {
          "output_type": "stream",
          "name": "stdout",
          "text": [
            "आदरणीय अध्यक्षा जी, मैं आपका आभार व्\\यक्\\त करता हूं, जिस धैर्य के साथ आपने सदन का आज संचालन किया है। यह अविश्\\वास प्रस्\\ताव एक प्रकार से हमारे लोकतंत्र की महत्\\वपूर्ण शक्ति का परिचायक है। भले ही टीडीपी के माध् यम से यह प्रस्ताव आया हो, लेकिन उनके साथ जुड़े हुए कुछ माननीय सदस्\\यों ने प्रस्\\ताव का समर्थन करते हुए बातें कही है।\n"
          ]
        }
      ]
    },
    {
      "cell_type": "code",
      "source": [
        ""
      ],
      "metadata": {
        "id": "6QniN3btED_f"
      },
      "execution_count": null,
      "outputs": []
    },
    {
      "cell_type": "markdown",
      "source": [
        "Printing Hindi Stop words"
      ],
      "metadata": {
        "id": "KICbolIa8UJp"
      }
    },
    {
      "cell_type": "code",
      "source": [
        "hin_stops = open('NLTK/hindi_stopwords.txt')\n",
        "\n",
        "stopwords=[]\n",
        "for x in hin_stops:\n",
        "   stopwords.append(x)\n",
        "print(stopwords)"
      ],
      "metadata": {
        "id": "Jyt-uG7Gqu_Q",
        "colab": {
          "base_uri": "https://localhost:8080/"
        },
        "outputId": "c5f21cb1-b6db-462e-a3b2-e39cf0589fb6"
      },
      "execution_count": null,
      "outputs": [
        {
          "output_type": "stream",
          "name": "stdout",
          "text": [
            "['अत\\n', 'अपना\\n', 'अपनी\\n', 'अपने\\n', 'अभी\\n', 'अंदर\\n', 'आदि\\n', 'आप\\n', 'इत्यादि\\n', 'इन \\n', 'इनका\\n', 'इन्हीं\\n', 'इन्हें\\n', 'इन्हों\\n', 'इस\\n', 'इसका\\n', 'इसकी\\n', 'इसके\\n', 'इसमें\\n', 'इसी\\n', 'इसे\\n', 'उन\\n', 'उनका\\n', 'उनकी\\n', 'उनके\\n', 'उनको\\n', 'उन्हीं\\n', 'उन्हें\\n', 'उन्हों\\n', 'उस\\n', 'उसके\\n', 'उसी\\n', 'उसे\\n', 'एक\\n', 'एवं\\n', 'एस\\n', 'ऐसे\\n', 'और\\n', 'कई\\n', 'कर\\n', 'करता\\n', 'करते\\n', 'करना\\n', 'करने\\n', 'करें\\n', 'कहते\\n', 'कहा\\n', 'का\\n', 'काफ़ी\\n', 'कि\\n', 'कितना\\n', 'किन्हें\\n', 'किन्हों\\n', 'किया\\n', 'किर\\n', 'किस\\n', 'किसी\\n', 'किसे\\n', 'की\\n', 'कुछ\\n', 'कुल\\n', 'के\\n', 'को\\n', 'कोई\\n', 'कौन\\n', 'कौनसा\\n', 'गया\\n', 'घर\\n', 'जब\\n', 'जहाँ\\n', 'जा\\n', 'जितना\\n', 'जिन\\n', 'जिन्हें\\n', 'जिन्हों\\n', 'जिस\\n', 'जिसे\\n', 'जीधर\\n', 'जैसा\\n', 'जैसे\\n', 'जो\\n', 'तक\\n', 'तब\\n', 'तरह\\n', 'तिन\\n', 'तिन्हें\\n', 'तिन्हों\\n', 'तिस\\n', 'तिसे\\n', 'तो\\n', 'था\\n', 'थी\\n', 'थे\\n', 'दबारा\\n', 'दिया\\n', 'दुसरा\\n', 'दूसरे\\n', 'दो\\n', 'द्वारा\\n', 'न\\n', 'नके\\n', 'नहीं\\n', 'ना\\n', 'निहायत\\n', 'नीचे\\n', 'ने\\n', 'पर\\n', 'पहले\\n', 'पूरा\\n', 'पे\\n', 'फिर\\n', 'बनी\\n', 'बही\\n', 'बहुत\\n', 'बाद\\n', 'बाला\\n', 'बिलकुल\\n', 'भी\\n', 'भीतर\\n', 'मगर\\n', 'मानो\\n', 'मे\\n', 'में\\n', 'यदि\\n', 'यह\\n', 'यहाँ\\n', 'यही\\n', 'या\\n', 'यिह\\n', 'ये\\n', 'रखें\\n', 'रहा\\n', 'रहे\\n', 'ऱ्वासा\\n', 'लिए\\n', 'लिये\\n', 'लेकिन\\n', 'व\\n', 'वग़ैरह\\n', 'वर्ग\\n', 'वह\\n', 'वहाँ\\n', 'वहीं\\n', 'वाले\\n', 'वुह\\n', 'वे\\n', 'सकता\\n', 'सकते\\n', 'सबसे\\n', 'सभी\\n', 'साथ\\n', 'साबुत\\n', 'साभ\\n', 'सारा\\n', 'से\\n', 'सो\\n', 'संग\\n', 'ही\\n', 'हुआ\\n', 'हुई\\n', 'हुए\\n', 'है\\n', 'हैं\\n', 'हो\\n', 'होता\\n', 'होती\\n', 'होते\\n', 'होना\\n', 'होने\\n']\n"
          ]
        }
      ]
    },
    {
      "cell_type": "markdown",
      "source": [
        "### Tokenization on Hindi language"
      ],
      "metadata": {
        "id": "VGtsTjJy8fjQ"
      }
    },
    {
      "cell_type": "code",
      "source": [
        "# 1. White Space Tokenization\n",
        "print(\"Full sentence: \",sen)\n",
        "print(\"After white space tokenization: \",word_tokenize(sen))"
      ],
      "metadata": {
        "id": "E78zOXRX714q",
        "colab": {
          "base_uri": "https://localhost:8080/"
        },
        "outputId": "8dd74916-a0b9-4de4-c7bc-225cda6e8c6d"
      },
      "execution_count": null,
      "outputs": [
        {
          "output_type": "stream",
          "name": "stdout",
          "text": [
            "Full sentence:  आदरणीय अध्यक्षा जी, मैं आपका आभार व्\\यक्\\त करता हूं, जिस धैर्य के साथ आपने सदन का आज संचालन किया है। यह अविश्\\वास प्रस्\\ताव एक प्रकार से हमारे लोकतंत्र की महत्\\वपूर्ण शक्ति का परिचायक है। भले ही टीडीपी के माध् यम से यह प्रस्ताव आया हो, लेकिन उनके साथ जुड़े हुए कुछ माननीय सदस्\\यों ने प्रस्\\ताव का समर्थन करते हुए बातें कही है।\n",
            "After white space tokenization:  ['आदरणीय', 'अध्यक्षा', 'जी', ',', 'मैं', 'आपका', 'आभार', 'व्\\\\यक्\\\\त', 'करता', 'हूं', ',', 'जिस', 'धैर्य', 'के', 'साथ', 'आपने', 'सदन', 'का', 'आज', 'संचालन', 'किया', 'है।', 'यह', 'अविश्\\\\वास', 'प्रस्\\\\ताव', 'एक', 'प्रकार', 'से', 'हमारे', 'लोकतंत्र', 'की', 'महत्\\\\वपूर्ण', 'शक्ति', 'का', 'परिचायक', 'है।', 'भले', 'ही', 'टीडीपी', 'के', 'माध्', 'यम', 'से', 'यह', 'प्रस्ताव', 'आया', 'हो', ',', 'लेकिन', 'उनके', 'साथ', 'जुड़े', 'हुए', 'कुछ', 'माननीय', 'सदस्\\\\यों', 'ने', 'प्रस्\\\\ताव', 'का', 'समर्थन', 'करते', 'हुए', 'बातें', 'कही', 'है।']\n"
          ]
        }
      ]
    },
    {
      "cell_type": "code",
      "source": [
        "# 2. Sentence Tokenizer\n",
        "print(sent_tokenize(sen))\n",
        "print(sen.split('।'))"
      ],
      "metadata": {
        "id": "xJ0UwBjN9hJr",
        "colab": {
          "base_uri": "https://localhost:8080/"
        },
        "outputId": "3417463b-8707-4ff4-bacc-909be7d5dc60"
      },
      "execution_count": null,
      "outputs": [
        {
          "output_type": "stream",
          "name": "stdout",
          "text": [
            "['आदरणीय अध्यक्षा जी, मैं आपका आभार व्\\\\यक्\\\\त करता हूं, जिस धैर्य के साथ आपने सदन का आज संचालन किया है। यह अविश्\\\\वास प्रस्\\\\ताव एक प्रकार से हमारे लोकतंत्र की महत्\\\\वपूर्ण शक्ति का परिचायक है। भले ही टीडीपी के माध् यम से यह प्रस्ताव आया हो, लेकिन उनके साथ जुड़े हुए कुछ माननीय सदस्\\\\यों ने प्रस्\\\\ताव का समर्थन करते हुए बातें कही है।']\n",
            "['आदरणीय अध्यक्षा जी, मैं आपका आभार व्\\\\यक्\\\\त करता हूं, जिस धैर्य के साथ आपने सदन का आज संचालन किया है', ' यह अविश्\\\\वास प्रस्\\\\ताव एक प्रकार से हमारे लोकतंत्र की महत्\\\\वपूर्ण शक्ति का परिचायक है', ' भले ही टीडीपी के माध् यम से यह प्रस्ताव आया हो, लेकिन उनके साथ जुड़े हुए कुछ माननीय सदस्\\\\यों ने प्रस्\\\\ताव का समर्थन करते हुए बातें कही है', '']\n"
          ]
        }
      ]
    },
    {
      "cell_type": "code",
      "source": [
        "# 3. Regexp Tokenizer\n",
        "tokenizer = RegexpTokenizer('[^आ]')\n",
        "tokenizer.tokenize(sen)"
      ],
      "metadata": {
        "id": "yLgWE0gbJPcm",
        "colab": {
          "base_uri": "https://localhost:8080/"
        },
        "outputId": "66ce198c-a58f-42dd-9424-9e8acb6fa30a"
      },
      "execution_count": null,
      "outputs": [
        {
          "output_type": "execute_result",
          "data": {
            "text/plain": [
              "['द',\n",
              " 'र',\n",
              " 'ण',\n",
              " 'ी',\n",
              " 'य',\n",
              " ' ',\n",
              " 'अ',\n",
              " 'ध',\n",
              " '्',\n",
              " 'य',\n",
              " 'क',\n",
              " '्',\n",
              " 'ष',\n",
              " 'ा',\n",
              " ' ',\n",
              " 'ज',\n",
              " 'ी',\n",
              " ',',\n",
              " ' ',\n",
              " 'म',\n",
              " 'ै',\n",
              " 'ं',\n",
              " ' ',\n",
              " 'प',\n",
              " 'क',\n",
              " 'ा',\n",
              " ' ',\n",
              " 'भ',\n",
              " 'ा',\n",
              " 'र',\n",
              " ' ',\n",
              " 'व',\n",
              " '्',\n",
              " '\\\\',\n",
              " 'य',\n",
              " 'क',\n",
              " '्',\n",
              " '\\\\',\n",
              " 'त',\n",
              " ' ',\n",
              " 'क',\n",
              " 'र',\n",
              " 'त',\n",
              " 'ा',\n",
              " ' ',\n",
              " 'ह',\n",
              " 'ू',\n",
              " 'ं',\n",
              " ',',\n",
              " ' ',\n",
              " 'ज',\n",
              " 'ि',\n",
              " 'स',\n",
              " ' ',\n",
              " 'ध',\n",
              " 'ै',\n",
              " 'र',\n",
              " '्',\n",
              " 'य',\n",
              " ' ',\n",
              " 'क',\n",
              " 'े',\n",
              " ' ',\n",
              " 'स',\n",
              " 'ा',\n",
              " 'थ',\n",
              " ' ',\n",
              " 'प',\n",
              " 'न',\n",
              " 'े',\n",
              " ' ',\n",
              " 'स',\n",
              " 'द',\n",
              " 'न',\n",
              " ' ',\n",
              " 'क',\n",
              " 'ा',\n",
              " ' ',\n",
              " 'ज',\n",
              " ' ',\n",
              " 'स',\n",
              " 'ं',\n",
              " 'च',\n",
              " 'ा',\n",
              " 'ल',\n",
              " 'न',\n",
              " ' ',\n",
              " 'क',\n",
              " 'ि',\n",
              " 'य',\n",
              " 'ा',\n",
              " ' ',\n",
              " 'ह',\n",
              " 'ै',\n",
              " '।',\n",
              " ' ',\n",
              " 'य',\n",
              " 'ह',\n",
              " ' ',\n",
              " 'अ',\n",
              " 'व',\n",
              " 'ि',\n",
              " 'श',\n",
              " '्',\n",
              " '\\\\',\n",
              " 'व',\n",
              " 'ा',\n",
              " 'स',\n",
              " ' ',\n",
              " 'प',\n",
              " '्',\n",
              " 'र',\n",
              " 'स',\n",
              " '्',\n",
              " '\\\\',\n",
              " 'त',\n",
              " 'ा',\n",
              " 'व',\n",
              " ' ',\n",
              " 'ए',\n",
              " 'क',\n",
              " ' ',\n",
              " 'प',\n",
              " '्',\n",
              " 'र',\n",
              " 'क',\n",
              " 'ा',\n",
              " 'र',\n",
              " ' ',\n",
              " 'स',\n",
              " 'े',\n",
              " ' ',\n",
              " 'ह',\n",
              " 'म',\n",
              " 'ा',\n",
              " 'र',\n",
              " 'े',\n",
              " ' ',\n",
              " 'ल',\n",
              " 'ो',\n",
              " 'क',\n",
              " 'त',\n",
              " 'ं',\n",
              " 'त',\n",
              " '्',\n",
              " 'र',\n",
              " ' ',\n",
              " 'क',\n",
              " 'ी',\n",
              " ' ',\n",
              " 'म',\n",
              " 'ह',\n",
              " 'त',\n",
              " '्',\n",
              " '\\\\',\n",
              " 'व',\n",
              " 'प',\n",
              " 'ू',\n",
              " 'र',\n",
              " '्',\n",
              " 'ण',\n",
              " ' ',\n",
              " 'श',\n",
              " 'क',\n",
              " '्',\n",
              " 'त',\n",
              " 'ि',\n",
              " ' ',\n",
              " 'क',\n",
              " 'ा',\n",
              " ' ',\n",
              " 'प',\n",
              " 'र',\n",
              " 'ि',\n",
              " 'च',\n",
              " 'ा',\n",
              " 'य',\n",
              " 'क',\n",
              " ' ',\n",
              " 'ह',\n",
              " 'ै',\n",
              " '।',\n",
              " ' ',\n",
              " 'भ',\n",
              " 'ल',\n",
              " 'े',\n",
              " ' ',\n",
              " 'ह',\n",
              " 'ी',\n",
              " ' ',\n",
              " 'ट',\n",
              " 'ी',\n",
              " 'ड',\n",
              " 'ी',\n",
              " 'प',\n",
              " 'ी',\n",
              " ' ',\n",
              " 'क',\n",
              " 'े',\n",
              " ' ',\n",
              " 'म',\n",
              " 'ा',\n",
              " 'ध',\n",
              " '्',\n",
              " ' ',\n",
              " 'य',\n",
              " 'म',\n",
              " ' ',\n",
              " 'स',\n",
              " 'े',\n",
              " ' ',\n",
              " 'य',\n",
              " 'ह',\n",
              " ' ',\n",
              " 'प',\n",
              " '्',\n",
              " 'र',\n",
              " 'स',\n",
              " '्',\n",
              " 'त',\n",
              " 'ा',\n",
              " 'व',\n",
              " ' ',\n",
              " 'य',\n",
              " 'ा',\n",
              " ' ',\n",
              " 'ह',\n",
              " 'ो',\n",
              " ',',\n",
              " ' ',\n",
              " 'ल',\n",
              " 'े',\n",
              " 'क',\n",
              " 'ि',\n",
              " 'न',\n",
              " ' ',\n",
              " 'उ',\n",
              " 'न',\n",
              " 'क',\n",
              " 'े',\n",
              " ' ',\n",
              " 'स',\n",
              " 'ा',\n",
              " 'थ',\n",
              " ' ',\n",
              " 'ज',\n",
              " 'ु',\n",
              " 'ड',\n",
              " '़',\n",
              " 'े',\n",
              " ' ',\n",
              " 'ह',\n",
              " 'ु',\n",
              " 'ए',\n",
              " ' ',\n",
              " 'क',\n",
              " 'ु',\n",
              " 'छ',\n",
              " ' ',\n",
              " 'म',\n",
              " 'ा',\n",
              " 'न',\n",
              " 'न',\n",
              " 'ी',\n",
              " 'य',\n",
              " ' ',\n",
              " 'स',\n",
              " 'द',\n",
              " 'स',\n",
              " '्',\n",
              " '\\\\',\n",
              " 'य',\n",
              " 'ो',\n",
              " 'ं',\n",
              " ' ',\n",
              " 'न',\n",
              " 'े',\n",
              " ' ',\n",
              " 'प',\n",
              " '्',\n",
              " 'र',\n",
              " 'स',\n",
              " '्',\n",
              " '\\\\',\n",
              " 'त',\n",
              " 'ा',\n",
              " 'व',\n",
              " ' ',\n",
              " 'क',\n",
              " 'ा',\n",
              " ' ',\n",
              " 'स',\n",
              " 'म',\n",
              " 'र',\n",
              " '्',\n",
              " 'थ',\n",
              " 'न',\n",
              " ' ',\n",
              " 'क',\n",
              " 'र',\n",
              " 'त',\n",
              " 'े',\n",
              " ' ',\n",
              " 'ह',\n",
              " 'ु',\n",
              " 'ए',\n",
              " ' ',\n",
              " 'ब',\n",
              " 'ा',\n",
              " 'त',\n",
              " 'े',\n",
              " 'ं',\n",
              " ' ',\n",
              " 'क',\n",
              " 'ह',\n",
              " 'ी',\n",
              " ' ',\n",
              " 'ह',\n",
              " 'ै',\n",
              " '।']"
            ]
          },
          "metadata": {},
          "execution_count": 9
        }
      ]
    },
    {
      "cell_type": "code",
      "source": [
        "# 4. Punctuation based tokenizer\n",
        "print(wordpunct_tokenize(sen))"
      ],
      "metadata": {
        "id": "RV7Ozzo5KEni",
        "colab": {
          "base_uri": "https://localhost:8080/"
        },
        "outputId": "db12916d-b2f9-4f00-d599-ccc4a4b258bd"
      },
      "execution_count": null,
      "outputs": [
        {
          "output_type": "stream",
          "name": "stdout",
          "text": [
            "['आदरण', 'ी', 'य', 'अध', '्', 'यक', '्', 'ष', 'ा', 'ज', 'ी,', 'म', 'ैं', 'आपक', 'ा', 'आभ', 'ा', 'र', 'व', '्\\\\', 'यक', '्\\\\', 'त', 'करत', 'ा', 'ह', 'ूं,', 'ज', 'ि', 'स', 'ध', 'ै', 'र', '्', 'य', 'क', 'े', 'स', 'ा', 'थ', 'आपन', 'े', 'सदन', 'क', 'ा', 'आज', 'स', 'ं', 'च', 'ा', 'लन', 'क', 'ि', 'य', 'ा', 'ह', 'ै।', 'यह', 'अव', 'ि', 'श', '्\\\\', 'व', 'ा', 'स', 'प', '्', 'रस', '्\\\\', 'त', 'ा', 'व', 'एक', 'प', '्', 'रक', 'ा', 'र', 'स', 'े', 'हम', 'ा', 'र', 'े', 'ल', 'ो', 'कत', 'ं', 'त', '्', 'र', 'क', 'ी', 'महत', '्\\\\', 'वप', 'ू', 'र', '्', 'ण', 'शक', '्', 'त', 'ि', 'क', 'ा', 'पर', 'ि', 'च', 'ा', 'यक', 'ह', 'ै।', 'भल', 'े', 'ह', 'ी', 'ट', 'ी', 'ड', 'ी', 'प', 'ी', 'क', 'े', 'म', 'ा', 'ध', '्', 'यम', 'स', 'े', 'यह', 'प', '्', 'रस', '्', 'त', 'ा', 'व', 'आय', 'ा', 'ह', 'ो,', 'ल', 'े', 'क', 'ि', 'न', 'उनक', 'े', 'स', 'ा', 'थ', 'ज', 'ु', 'ड', '़े', 'ह', 'ु', 'ए', 'क', 'ु', 'छ', 'म', 'ा', 'नन', 'ी', 'य', 'सदस', '्\\\\', 'य', 'ों', 'न', 'े', 'प', '्', 'रस', '्\\\\', 'त', 'ा', 'व', 'क', 'ा', 'समर', '्', 'थन', 'करत', 'े', 'ह', 'ु', 'ए', 'ब', 'ा', 'त', 'ें', 'कह', 'ी', 'ह', 'ै।']\n"
          ]
        }
      ]
    },
    {
      "cell_type": "code",
      "source": [
        "# 5. Tweet Tokenizer\n",
        "tweet = \"आदरणीय अध्यक्षा जी, मैं आपका आभार व्\\यक्\\त करता हूं 👩‍💻 \"\n",
        "tokenizer = TweetTokenizer()\n",
        "print(tokenizer.tokenize(tweet))"
      ],
      "metadata": {
        "id": "8X7JbrNwKxcO",
        "colab": {
          "base_uri": "https://localhost:8080/"
        },
        "outputId": "c5f5fe04-768e-4480-b267-dd0b929e594f"
      },
      "execution_count": null,
      "outputs": [
        {
          "output_type": "stream",
          "name": "stdout",
          "text": [
            "['आदरणीय', 'अध्यक्षा', 'जी', ',', 'मैं', 'आपका', 'आभार', 'व्', '\\\\', 'यक्', '\\\\', 'त', 'करता', 'हूं', '👩\\u200d💻']\n"
          ]
        }
      ]
    },
    {
      "cell_type": "code",
      "source": [
        "# stop words in hindi\n",
        "stop=open('NLTK/hindi_stopwords.txt')\n",
        "stopwords=[]\n",
        "for x in stop:\n",
        "   stopwords.append(x)\n",
        "print(stopwords)"
      ],
      "metadata": {
        "id": "Uwa2QWEEPr1K",
        "colab": {
          "base_uri": "https://localhost:8080/"
        },
        "outputId": "3d87b82f-813d-4104-d1c3-30c27a5f75eb"
      },
      "execution_count": null,
      "outputs": [
        {
          "output_type": "stream",
          "name": "stdout",
          "text": [
            "['अत\\n', 'अपना\\n', 'अपनी\\n', 'अपने\\n', 'अभी\\n', 'अंदर\\n', 'आदि\\n', 'आप\\n', 'इत्यादि\\n', 'इन \\n', 'इनका\\n', 'इन्हीं\\n', 'इन्हें\\n', 'इन्हों\\n', 'इस\\n', 'इसका\\n', 'इसकी\\n', 'इसके\\n', 'इसमें\\n', 'इसी\\n', 'इसे\\n', 'उन\\n', 'उनका\\n', 'उनकी\\n', 'उनके\\n', 'उनको\\n', 'उन्हीं\\n', 'उन्हें\\n', 'उन्हों\\n', 'उस\\n', 'उसके\\n', 'उसी\\n', 'उसे\\n', 'एक\\n', 'एवं\\n', 'एस\\n', 'ऐसे\\n', 'और\\n', 'कई\\n', 'कर\\n', 'करता\\n', 'करते\\n', 'करना\\n', 'करने\\n', 'करें\\n', 'कहते\\n', 'कहा\\n', 'का\\n', 'काफ़ी\\n', 'कि\\n', 'कितना\\n', 'किन्हें\\n', 'किन्हों\\n', 'किया\\n', 'किर\\n', 'किस\\n', 'किसी\\n', 'किसे\\n', 'की\\n', 'कुछ\\n', 'कुल\\n', 'के\\n', 'को\\n', 'कोई\\n', 'कौन\\n', 'कौनसा\\n', 'गया\\n', 'घर\\n', 'जब\\n', 'जहाँ\\n', 'जा\\n', 'जितना\\n', 'जिन\\n', 'जिन्हें\\n', 'जिन्हों\\n', 'जिस\\n', 'जिसे\\n', 'जीधर\\n', 'जैसा\\n', 'जैसे\\n', 'जो\\n', 'तक\\n', 'तब\\n', 'तरह\\n', 'तिन\\n', 'तिन्हें\\n', 'तिन्हों\\n', 'तिस\\n', 'तिसे\\n', 'तो\\n', 'था\\n', 'थी\\n', 'थे\\n', 'दबारा\\n', 'दिया\\n', 'दुसरा\\n', 'दूसरे\\n', 'दो\\n', 'द्वारा\\n', 'न\\n', 'नके\\n', 'नहीं\\n', 'ना\\n', 'निहायत\\n', 'नीचे\\n', 'ने\\n', 'पर\\n', 'पहले\\n', 'पूरा\\n', 'पे\\n', 'फिर\\n', 'बनी\\n', 'बही\\n', 'बहुत\\n', 'बाद\\n', 'बाला\\n', 'बिलकुल\\n', 'भी\\n', 'भीतर\\n', 'मगर\\n', 'मानो\\n', 'मे\\n', 'में\\n', 'यदि\\n', 'यह\\n', 'यहाँ\\n', 'यही\\n', 'या\\n', 'यिह\\n', 'ये\\n', 'रखें\\n', 'रहा\\n', 'रहे\\n', 'ऱ्वासा\\n', 'लिए\\n', 'लिये\\n', 'लेकिन\\n', 'व\\n', 'वग़ैरह\\n', 'वर्ग\\n', 'वह\\n', 'वहाँ\\n', 'वहीं\\n', 'वाले\\n', 'वुह\\n', 'वे\\n', 'सकता\\n', 'सकते\\n', 'सबसे\\n', 'सभी\\n', 'साथ\\n', 'साबुत\\n', 'साभ\\n', 'सारा\\n', 'से\\n', 'सो\\n', 'संग\\n', 'ही\\n', 'हुआ\\n', 'हुई\\n', 'हुए\\n', 'है\\n', 'हैं\\n', 'हो\\n', 'होता\\n', 'होती\\n', 'होते\\n', 'होना\\n', 'होने\\n']\n"
          ]
        }
      ]
    },
    {
      "cell_type": "code",
      "source": [
        "def createfrequencytable(text_string) -> dict:\n",
        "   stopWords = set(stopwords)\n",
        "   words = word_tokenize(text_string)\n",
        "   ps = PorterStemmer()\n",
        "   print(ps)\n",
        "   \n",
        "   freqTable = dict()\n",
        "   for word in words:\n",
        "      word=str(word)\n",
        "      # stemming\n",
        "      word = ps.stem(word)\n",
        "      print(word)\n",
        "      if word in stopWords:\n",
        "         continue\n",
        "      if word in freqTable:\n",
        "         freqTable[word] += 1\n",
        "      else:\n",
        "         freqTable[word] = 1\n",
        "   return freqTable\n",
        "ft=createfrequencytable(sen)\n",
        "print(ft)"
      ],
      "metadata": {
        "id": "yh-WvDfLPyts",
        "colab": {
          "base_uri": "https://localhost:8080/"
        },
        "outputId": "fdba55db-b2b6-48c1-a0c0-bed14a53a744"
      },
      "execution_count": null,
      "outputs": [
        {
          "output_type": "stream",
          "name": "stdout",
          "text": [
            "<PorterStemmer>\n",
            "आदरणीय\n",
            "अध्यक्षा\n",
            "जी\n",
            ",\n",
            "मैं\n",
            "आपका\n",
            "आभार\n",
            "व्\\यक्\\त\n",
            "करता\n",
            "हूं\n",
            ",\n",
            "जिस\n",
            "धैर्य\n",
            "के\n",
            "साथ\n",
            "आपने\n",
            "सदन\n",
            "का\n",
            "आज\n",
            "संचालन\n",
            "किया\n",
            "है।\n",
            "यह\n",
            "अविश्\\वास\n",
            "प्रस्\\ताव\n",
            "एक\n",
            "प्रकार\n",
            "से\n",
            "हमारे\n",
            "लोकतंत्र\n",
            "की\n",
            "महत्\\वपूर्ण\n",
            "शक्ति\n",
            "का\n",
            "परिचायक\n",
            "है।\n",
            "भले\n",
            "ही\n",
            "टीडीपी\n",
            "के\n",
            "माध्\n",
            "यम\n",
            "से\n",
            "यह\n",
            "प्रस्ताव\n",
            "आया\n",
            "हो\n",
            ",\n",
            "लेकिन\n",
            "उनके\n",
            "साथ\n",
            "जुड़े\n",
            "हुए\n",
            "कुछ\n",
            "माननीय\n",
            "सदस्\\यों\n",
            "ने\n",
            "प्रस्\\ताव\n",
            "का\n",
            "समर्थन\n",
            "करते\n",
            "हुए\n",
            "बातें\n",
            "कही\n",
            "है।\n",
            "{'आदरणीय': 1, 'अध्यक्षा': 1, 'जी': 1, ',': 3, 'मैं': 1, 'आपका': 1, 'आभार': 1, 'व्\\\\यक्\\\\त': 1, 'करता': 1, 'हूं': 1, 'जिस': 1, 'धैर्य': 1, 'के': 2, 'साथ': 2, 'आपने': 1, 'सदन': 1, 'का': 3, 'आज': 1, 'संचालन': 1, 'किया': 1, 'है।': 3, 'यह': 2, 'अविश्\\\\वास': 1, 'प्रस्\\\\ताव': 2, 'एक': 1, 'प्रकार': 1, 'से': 2, 'हमारे': 1, 'लोकतंत्र': 1, 'की': 1, 'महत्\\\\वपूर्ण': 1, 'शक्ति': 1, 'परिचायक': 1, 'भले': 1, 'ही': 1, 'टीडीपी': 1, 'माध्': 1, 'यम': 1, 'प्रस्ताव': 1, 'आया': 1, 'हो': 1, 'लेकिन': 1, 'उनके': 1, 'जुड़े': 1, 'हुए': 2, 'कुछ': 1, 'माननीय': 1, 'सदस्\\\\यों': 1, 'ने': 1, 'समर्थन': 1, 'करते': 1, 'बातें': 1, 'कही': 1}\n"
          ]
        }
      ]
    },
    {
      "cell_type": "code",
      "source": [
        "hindi_fdist = nltk.FreqDist(ft)\n",
        "hindi_fdist.most_common(100)"
      ],
      "metadata": {
        "id": "1ATlBBa9QINw",
        "colab": {
          "base_uri": "https://localhost:8080/"
        },
        "outputId": "b4dfc9e1-55d1-4e9c-ba05-3abbdef2d9e1"
      },
      "execution_count": null,
      "outputs": [
        {
          "output_type": "execute_result",
          "data": {
            "text/plain": [
              "[(',', 3),\n",
              " ('का', 3),\n",
              " ('है।', 3),\n",
              " ('के', 2),\n",
              " ('साथ', 2),\n",
              " ('यह', 2),\n",
              " ('प्रस्\\\\ताव', 2),\n",
              " ('से', 2),\n",
              " ('हुए', 2),\n",
              " ('आदरणीय', 1),\n",
              " ('अध्यक्षा', 1),\n",
              " ('जी', 1),\n",
              " ('मैं', 1),\n",
              " ('आपका', 1),\n",
              " ('आभार', 1),\n",
              " ('व्\\\\यक्\\\\त', 1),\n",
              " ('करता', 1),\n",
              " ('हूं', 1),\n",
              " ('जिस', 1),\n",
              " ('धैर्य', 1),\n",
              " ('आपने', 1),\n",
              " ('सदन', 1),\n",
              " ('आज', 1),\n",
              " ('संचालन', 1),\n",
              " ('किया', 1),\n",
              " ('अविश्\\\\वास', 1),\n",
              " ('एक', 1),\n",
              " ('प्रकार', 1),\n",
              " ('हमारे', 1),\n",
              " ('लोकतंत्र', 1),\n",
              " ('की', 1),\n",
              " ('महत्\\\\वपूर्ण', 1),\n",
              " ('शक्ति', 1),\n",
              " ('परिचायक', 1),\n",
              " ('भले', 1),\n",
              " ('ही', 1),\n",
              " ('टीडीपी', 1),\n",
              " ('माध्', 1),\n",
              " ('यम', 1),\n",
              " ('प्रस्ताव', 1),\n",
              " ('आया', 1),\n",
              " ('हो', 1),\n",
              " ('लेकिन', 1),\n",
              " ('उनके', 1),\n",
              " ('जुड़े', 1),\n",
              " ('कुछ', 1),\n",
              " ('माननीय', 1),\n",
              " ('सदस्\\\\यों', 1),\n",
              " ('ने', 1),\n",
              " ('समर्थन', 1),\n",
              " ('करते', 1),\n",
              " ('बातें', 1),\n",
              " ('कही', 1)]"
            ]
          },
          "metadata": {},
          "execution_count": 14
        }
      ]
    },
    {
      "cell_type": "code",
      "source": [
        "hindi_fdist.plot(5)"
      ],
      "metadata": {
        "colab": {
          "base_uri": "https://localhost:8080/",
          "height": 880
        },
        "id": "HAsqq7INK7lQ",
        "outputId": "09a5bf36-bbba-4f16-dcd8-2b4455ef4baa"
      },
      "execution_count": null,
      "outputs": [
        {
          "output_type": "stream",
          "name": "stderr",
          "text": [
            "/usr/local/lib/python3.7/dist-packages/matplotlib/backends/backend_agg.py:214: RuntimeWarning: Glyph 2325 missing from current font.\n",
            "  font.set_text(s, 0.0, flags=flags)\n",
            "/usr/local/lib/python3.7/dist-packages/matplotlib/backends/backend_agg.py:214: RuntimeWarning: Glyph 2366 missing from current font.\n",
            "  font.set_text(s, 0.0, flags=flags)\n",
            "/usr/local/lib/python3.7/dist-packages/matplotlib/backends/backend_agg.py:214: RuntimeWarning: Glyph 2361 missing from current font.\n",
            "  font.set_text(s, 0.0, flags=flags)\n",
            "/usr/local/lib/python3.7/dist-packages/matplotlib/backends/backend_agg.py:214: RuntimeWarning: Glyph 2376 missing from current font.\n",
            "  font.set_text(s, 0.0, flags=flags)\n",
            "/usr/local/lib/python3.7/dist-packages/matplotlib/backends/backend_agg.py:214: RuntimeWarning: Glyph 2404 missing from current font.\n",
            "  font.set_text(s, 0.0, flags=flags)\n",
            "/usr/local/lib/python3.7/dist-packages/matplotlib/backends/backend_agg.py:214: RuntimeWarning: Glyph 2375 missing from current font.\n",
            "  font.set_text(s, 0.0, flags=flags)\n",
            "/usr/local/lib/python3.7/dist-packages/matplotlib/backends/backend_agg.py:214: RuntimeWarning: Glyph 2360 missing from current font.\n",
            "  font.set_text(s, 0.0, flags=flags)\n",
            "/usr/local/lib/python3.7/dist-packages/matplotlib/backends/backend_agg.py:214: RuntimeWarning: Glyph 2341 missing from current font.\n",
            "  font.set_text(s, 0.0, flags=flags)\n",
            "/usr/local/lib/python3.7/dist-packages/matplotlib/backends/backend_agg.py:183: RuntimeWarning: Glyph 2325 missing from current font.\n",
            "  font.set_text(s, 0, flags=flags)\n",
            "/usr/local/lib/python3.7/dist-packages/matplotlib/backends/backend_agg.py:183: RuntimeWarning: Glyph 2366 missing from current font.\n",
            "  font.set_text(s, 0, flags=flags)\n",
            "/usr/local/lib/python3.7/dist-packages/matplotlib/backends/backend_agg.py:183: RuntimeWarning: Glyph 2361 missing from current font.\n",
            "  font.set_text(s, 0, flags=flags)\n",
            "/usr/local/lib/python3.7/dist-packages/matplotlib/backends/backend_agg.py:183: RuntimeWarning: Glyph 2376 missing from current font.\n",
            "  font.set_text(s, 0, flags=flags)\n",
            "/usr/local/lib/python3.7/dist-packages/matplotlib/backends/backend_agg.py:183: RuntimeWarning: Glyph 2404 missing from current font.\n",
            "  font.set_text(s, 0, flags=flags)\n",
            "/usr/local/lib/python3.7/dist-packages/matplotlib/backends/backend_agg.py:183: RuntimeWarning: Glyph 2375 missing from current font.\n",
            "  font.set_text(s, 0, flags=flags)\n",
            "/usr/local/lib/python3.7/dist-packages/matplotlib/backends/backend_agg.py:183: RuntimeWarning: Glyph 2360 missing from current font.\n",
            "  font.set_text(s, 0, flags=flags)\n",
            "/usr/local/lib/python3.7/dist-packages/matplotlib/backends/backend_agg.py:183: RuntimeWarning: Glyph 2341 missing from current font.\n",
            "  font.set_text(s, 0, flags=flags)\n"
          ]
        },
        {
          "output_type": "display_data",
          "data": {
            "text/plain": [
              "<Figure size 432x288 with 1 Axes>"
            ],
            "image/png": "[encoded data removed]"
          },
          "metadata": {
            "needs_background": "light"
          }
        },
        {
          "output_type": "execute_result",
          "data": {
            "text/plain": [
              "<matplotlib.axes._subplots.AxesSubplot at 0x7f1b67a0a550>"
            ]
          },
          "metadata": {},
          "execution_count": 18
        }
      ]
    },
    {
      "cell_type": "markdown",
      "source": [
        "### Tokenization on Spanish Language"
      ],
      "metadata": {
        "id": "9brn60IhBRoG"
      }
    },
    {
      "cell_type": "code",
      "source": [
        "spanish_tokenizer = nltk.data.load('tokenizers/punkt/PY3/spanish.pickle') \n",
        "text = 'Hola amigo. Me llamo Ankit.'\n",
        "spanish_tokenizer.tokenize(text)"
      ],
      "metadata": {
        "id": "GgjK_fur_KqR",
        "colab": {
          "base_uri": "https://localhost:8080/"
        },
        "outputId": "e2ed6078-f88f-4f0b-de99-ec9285d791e2"
      },
      "execution_count": null,
      "outputs": [
        {
          "output_type": "execute_result",
          "data": {
            "text/plain": [
              "['Hola amigo.', 'Me llamo Ankit.']"
            ]
          },
          "metadata": {},
          "execution_count": 19
        }
      ]
    },
    {
      "cell_type": "code",
      "source": [
        "Sample_text = \"Hola a todos, su aprendizaje de tokenización de diferentes idiomas.\"\n",
        "spanish_tokenizer.tokenize(Sample_text)"
      ],
      "metadata": {
        "id": "Vg4FwiIyBCAS",
        "colab": {
          "base_uri": "https://localhost:8080/"
        },
        "outputId": "a9c3f615-7580-4a25-c1cb-44a519e56270"
      },
      "execution_count": null,
      "outputs": [
        {
          "output_type": "execute_result",
          "data": {
            "text/plain": [
              "['Hola a todos, su aprendizaje de tokenización de diferentes idiomas.']"
            ]
          },
          "metadata": {},
          "execution_count": 20
        }
      ]
    },
    {
      "cell_type": "markdown",
      "source": [
        "Using Spacy Tokenizer"
      ],
      "metadata": {
        "id": "K3hufCzoL8oP"
      }
    },
    {
      "cell_type": "code",
      "source": [
        "import spacy"
      ],
      "metadata": {
        "id": "ip3792czBvCV"
      },
      "execution_count": null,
      "outputs": []
    },
    {
      "cell_type": "code",
      "source": [
        "# download spanish-language-model\n",
        "\n",
        "!python -m spacy download es_core_news_md"
      ],
      "metadata": {
        "id": "kdppPQhkDRNx",
        "colab": {
          "base_uri": "https://localhost:8080/"
        },
        "outputId": "c4c92987-e0b9-455a-8908-045735d32472"
      },
      "execution_count": null,
      "outputs": [
        {
          "output_type": "stream",
          "name": "stdout",
          "text": [
            "Successfully installed es-core-news-md-3.4.0\n",
            "\u001b[38;5;2m✔ Download and installation successful\u001b[0m\n",
            "You can now load the package via spacy.load('es_core_news_md')\n"
          ]
        }
      ]
    },
    {
      "cell_type": "code",
      "source": [
        "# load the language model\n",
        "nlp = spacy.load('es_core_news_md')"
      ],
      "metadata": {
        "id": "FxPD3BtfDcHm"
      },
      "execution_count": null,
      "outputs": []
    },
    {
      "cell_type": "code",
      "source": [
        "spanish_text = open('NLTK/spanish.txt')\n",
        "text = spanish_text.read()\n",
        "print(text)\n",
        "document = nlp(text) #Whenever we use spaCy, our first step will be to create a processed spaCy document with the loaded NLP model nlp()."
      ],
      "metadata": {
        "colab": {
          "base_uri": "https://localhost:8080/"
        },
        "id": "MBG36s7xDr3S",
        "outputId": "0aae7b1a-cf3a-48f2-ea1f-a849a30ed681"
      },
      "execution_count": null,
      "outputs": [
        {
          "output_type": "stream",
          "name": "stdout",
          "text": [
            "Mi familia no es muy grande, somos solo cuatro personas: mi padre, mi madre, mi hermana y yo. También tenemos un perro.\n",
            "\n",
            "Yo soy mayor que mi hermana, pero ella es más alta. Yo tengo doce años y ella once. Mis padres se llaman Javier y María, mi hermana se llama Sara y yo Luis. Vivimos todos juntos en una casa muy bonita.\n",
            "\n",
            "Mi padre es banquero y mi madre ama de casa. Por la mañana, desayunamos juntos en la cocina. Me gusta desayunar con mi familia. Además, por las mañanas siempre tengo hambre. Después del colegio, mi madre prepara una comida deliciosa. Por la tarde, mi madre queda con sus amigas, y mi padre juega al tenis. Mi hermana y yo hacemos los deberes, y después vemos la televisión. Los viernes por la tarde vamos los cuatro de compras.\n"
          ]
        }
      ]
    },
    {
      "cell_type": "code",
      "source": [
        "# for token in document:\n",
        "#     print(token.lemma_, token.pos_, token.dep_)"
      ],
      "metadata": {
        "id": "1y94S1GPHnuP"
      },
      "execution_count": null,
      "outputs": []
    },
    {
      "cell_type": "code",
      "source": [
        "for token in document:\n",
        "  print(token, token.idx)"
      ],
      "metadata": {
        "id": "f3Re9h5RENdS",
        "colab": {
          "base_uri": "https://localhost:8080/"
        },
        "outputId": "07a726cd-425c-4b07-b158-b3a82e874af1"
      },
      "execution_count": null,
      "outputs": [
        {
          "output_type": "stream",
          "name": "stdout",
          "text": [
            "Mi 0\n",
            "familia 3\n",
            "no 11\n",
            "es 14\n",
            "muy 17\n",
            "grande 21\n",
            ", 27\n",
            "somos 29\n",
            "solo 35\n",
            "cuatro 40\n",
            "personas 47\n",
            ": 55\n",
            "mi 57\n",
            "padre 60\n",
            ", 65\n",
            "mi 67\n",
            "madre 70\n",
            ", 75\n",
            "mi 77\n",
            "hermana 80\n",
            "y 88\n",
            "yo 90\n",
            ". 92\n",
            "También 94\n",
            "tenemos 102\n",
            "un 110\n",
            "perro 113\n",
            ". 118\n",
            "\n",
            "\n",
            " 119\n",
            "Yo 121\n",
            "soy 124\n",
            "mayor 128\n",
            "que 134\n",
            "mi 138\n",
            "hermana 141\n",
            ", 148\n",
            "pero 150\n",
            "ella 155\n",
            "es 160\n",
            "más 163\n",
            "alta 167\n",
            ". 171\n",
            "Yo 173\n",
            "tengo 176\n",
            "doce 182\n",
            "años 187\n",
            "y 192\n",
            "ella 194\n",
            "once 199\n",
            ". 203\n",
            "Mis 205\n",
            "padres 209\n",
            "se 216\n",
            "llaman 219\n",
            "Javier 226\n",
            "y 233\n",
            "María 235\n",
            ", 240\n",
            "mi 242\n",
            "hermana 245\n",
            "se 253\n",
            "llama 256\n",
            "Sara 262\n",
            "y 267\n",
            "yo 269\n",
            "Luis 272\n",
            ". 276\n",
            "Vivimos 278\n",
            "todos 286\n",
            "juntos 292\n",
            "en 299\n",
            "una 302\n",
            "casa 306\n",
            "muy 311\n",
            "bonita 315\n",
            ". 321\n",
            "\n",
            "\n",
            " 322\n",
            "Mi 324\n",
            "padre 327\n",
            "es 333\n",
            "banquero 336\n",
            "y 345\n",
            "mi 347\n",
            "madre 350\n",
            "ama 356\n",
            "de 360\n",
            "casa 363\n",
            ". 367\n",
            "Por 369\n",
            "la 373\n",
            "mañana 376\n",
            ", 382\n",
            "desayunamos 384\n",
            "juntos 396\n",
            "en 403\n",
            "la 406\n",
            "cocina 409\n",
            ". 415\n",
            "Me 417\n",
            "gusta 420\n",
            "desayunar 426\n",
            "con 436\n",
            "mi 440\n",
            "familia 443\n",
            ". 450\n",
            "Además 452\n",
            ", 458\n",
            "por 460\n",
            "las 464\n",
            "mañanas 468\n",
            "siempre 476\n",
            "tengo 484\n",
            "hambre 490\n",
            ". 496\n",
            "Después 498\n",
            "del 506\n",
            "colegio 510\n",
            ", 517\n",
            "mi 519\n",
            "madre 522\n",
            "prepara 528\n",
            "una 536\n",
            "comida 540\n",
            "deliciosa 547\n",
            ". 556\n",
            "Por 558\n",
            "la 562\n",
            "tarde 565\n",
            ", 570\n",
            "mi 572\n",
            "madre 575\n",
            "queda 581\n",
            "con 587\n",
            "sus 591\n",
            "amigas 595\n",
            ", 601\n",
            "y 603\n",
            "mi 605\n",
            "padre 608\n",
            "juega 614\n",
            "al 620\n",
            "tenis 623\n",
            ". 628\n",
            "Mi 630\n",
            "hermana 633\n",
            "y 641\n",
            "yo 643\n",
            "hacemos 646\n",
            "los 654\n",
            "deberes 658\n",
            ", 665\n",
            "y 667\n",
            "después 669\n",
            "vemos 677\n",
            "la 683\n",
            "televisión 686\n",
            ". 696\n",
            "Los 698\n",
            "viernes 702\n",
            "por 710\n",
            "la 714\n",
            "tarde 717\n",
            "vamos 723\n",
            "los 729\n",
            "cuatro 733\n",
            "de 740\n",
            "compras 743\n",
            ". 750\n"
          ]
        }
      ]
    },
    {
      "cell_type": "code",
      "source": [
        "word_token = word_tokenize(text)\n",
        "print(word_token)"
      ],
      "metadata": {
        "colab": {
          "base_uri": "https://localhost:8080/"
        },
        "id": "NHuAa5cQMPbF",
        "outputId": "821ff2dc-82a6-4ce6-e74a-9874e58aa071"
      },
      "execution_count": null,
      "outputs": [
        {
          "output_type": "stream",
          "name": "stdout",
          "text": [
            "['Mi', 'familia', 'no', 'es', 'muy', 'grande', ',', 'somos', 'solo', 'cuatro', 'personas', ':', 'mi', 'padre', ',', 'mi', 'madre', ',', 'mi', 'hermana', 'y', 'yo', '.', 'También', 'tenemos', 'un', 'perro', '.', 'Yo', 'soy', 'mayor', 'que', 'mi', 'hermana', ',', 'pero', 'ella', 'es', 'más', 'alta', '.', 'Yo', 'tengo', 'doce', 'años', 'y', 'ella', 'once', '.', 'Mis', 'padres', 'se', 'llaman', 'Javier', 'y', 'María', ',', 'mi', 'hermana', 'se', 'llama', 'Sara', 'y', 'yo', 'Luis', '.', 'Vivimos', 'todos', 'juntos', 'en', 'una', 'casa', 'muy', 'bonita', '.', 'Mi', 'padre', 'es', 'banquero', 'y', 'mi', 'madre', 'ama', 'de', 'casa', '.', 'Por', 'la', 'mañana', ',', 'desayunamos', 'juntos', 'en', 'la', 'cocina', '.', 'Me', 'gusta', 'desayunar', 'con', 'mi', 'familia', '.', 'Además', ',', 'por', 'las', 'mañanas', 'siempre', 'tengo', 'hambre', '.', 'Después', 'del', 'colegio', ',', 'mi', 'madre', 'prepara', 'una', 'comida', 'deliciosa', '.', 'Por', 'la', 'tarde', ',', 'mi', 'madre', 'queda', 'con', 'sus', 'amigas', ',', 'y', 'mi', 'padre', 'juega', 'al', 'tenis', '.', 'Mi', 'hermana', 'y', 'yo', 'hacemos', 'los', 'deberes', ',', 'y', 'después', 'vemos', 'la', 'televisión', '.', 'Los', 'viernes', 'por', 'la', 'tarde', 'vamos', 'los', 'cuatro', 'de', 'compras', '.']\n"
          ]
        }
      ]
    },
    {
      "cell_type": "code",
      "source": [
        "# stopwords in spanish\n",
        "stop=open('NLTK/spanish_stopwords.txt')\n",
        "s_stopwords=[]\n",
        "for x in stop:\n",
        "   s_stopwords.append(x)\n",
        "print(s_stopwords)"
      ],
      "metadata": {
        "colab": {
          "base_uri": "https://localhost:8080/"
        },
        "id": "xzbKbsEwNueL",
        "outputId": "cf6075be-431c-4fde-bf1b-e72873d1aa89"
      },
      "execution_count": null,
      "outputs": [
        {
          "output_type": "stream",
          "name": "stdout",
          "text": [
            "['0\\n', '1\\n', '2\\n', '3\\n', '4\\n', '5\\n', '6\\n', '7\\n', '8\\n', '9\\n', '_\\n', 'a\\n', 'actualmente\\n', 'acuerdo\\n', 'adelante\\n', 'ademas\\n', 'además\\n', 'adrede\\n', 'afirmó\\n', 'agregó\\n', 'ahi\\n', 'ahora\\n', 'ahí\\n', 'al\\n', 'algo\\n', 'alguna\\n', 'algunas\\n', 'alguno\\n', 'algunos\\n', 'algún\\n', 'alli\\n', 'allí\\n', 'alrededor\\n', 'ambos\\n', 'ampleamos\\n', 'antano\\n', 'antaño\\n', 'ante\\n', 'anterior\\n', 'antes\\n', 'apenas\\n', 'aproximadamente\\n', 'aquel\\n', 'aquella\\n', 'aquellas\\n', 'aquello\\n', 'aquellos\\n', 'aqui\\n', 'aquél\\n', 'aquélla\\n', 'aquéllas\\n', 'aquéllos\\n', 'aquí\\n', 'arriba\\n', 'arribaabajo\\n', 'aseguró\\n', 'asi\\n', 'así\\n', 'atras\\n', 'aun\\n', 'aunque\\n', 'ayer\\n', 'añadió\\n', 'aún\\n', 'b\\n', 'bajo\\n', 'bastante\\n', 'bien\\n', 'breve\\n', 'buen\\n', 'buena\\n', 'buenas\\n', 'bueno\\n', 'buenos\\n', 'c\\n', 'cada\\n', 'casi\\n', 'cerca\\n', 'cierta\\n', 'ciertas\\n', 'cierto\\n', 'ciertos\\n', 'cinco\\n', 'claro\\n', 'comentó\\n', 'como\\n', 'con\\n', 'conmigo\\n', 'conocer\\n', 'conseguimos\\n', 'conseguir\\n', 'considera\\n', 'consideró\\n', 'consigo\\n', 'consigue\\n', 'consiguen\\n', 'consigues\\n', 'contigo\\n', 'contra\\n', 'cosas\\n', 'creo\\n', 'cual\\n', 'cuales\\n', 'cualquier\\n', 'cuando\\n', 'cuanta\\n', 'cuantas\\n', 'cuanto\\n', 'cuantos\\n', 'cuatro\\n', 'cuenta\\n', 'cuál\\n', 'cuáles\\n', 'cuándo\\n', 'cuánta\\n', 'cuántas\\n', 'cuánto\\n', 'cuántos\\n', 'cómo\\n', 'd\\n', 'da\\n', 'dado\\n', 'dan\\n', 'dar\\n', 'de\\n', 'debajo\\n', 'debe\\n', 'deben\\n', 'debido\\n', 'decir\\n', 'dejó\\n', 'del\\n', 'delante\\n', 'demasiado\\n', 'demás\\n', 'dentro\\n', 'deprisa\\n', 'desde\\n', 'despacio\\n', 'despues\\n', 'después\\n', 'detras\\n', 'detrás\\n', 'dia\\n', 'dias\\n', 'dice\\n', 'dicen\\n', 'dicho\\n', 'dieron\\n', 'diferente\\n', 'diferentes\\n', 'dijeron\\n', 'dijo\\n', 'dio\\n', 'donde\\n', 'dos\\n', 'durante\\n', 'día\\n', 'días\\n', 'dónde\\n', 'e\\n', 'ejemplo\\n', 'el\\n', 'ella\\n', 'ellas\\n', 'ello\\n', 'ellos\\n', 'embargo\\n', 'empleais\\n', 'emplean\\n', 'emplear\\n', 'empleas\\n', 'empleo\\n', 'en\\n', 'encima\\n', 'encuentra\\n', 'enfrente\\n', 'enseguida\\n', 'entonces\\n', 'entre\\n', 'era\\n', 'erais\\n', 'eramos\\n', 'eran\\n', 'eras\\n', 'eres\\n', 'es\\n', 'esa\\n', 'esas\\n', 'ese\\n', 'eso\\n', 'esos\\n', 'esta\\n', 'estaba\\n', 'estabais\\n', 'estaban\\n', 'estabas\\n', 'estad\\n', 'estada\\n', 'estadas\\n', 'estado\\n', 'estados\\n', 'estais\\n', 'estamos\\n', 'estan\\n', 'estando\\n', 'estar\\n', 'estaremos\\n', 'estará\\n', 'estarán\\n', 'estarás\\n', 'estaré\\n', 'estaréis\\n', 'estaría\\n', 'estaríais\\n', 'estaríamos\\n', 'estarían\\n', 'estarías\\n', 'estas\\n', 'este\\n', 'estemos\\n', 'esto\\n', 'estos\\n', 'estoy\\n', 'estuve\\n', 'estuviera\\n', 'estuvierais\\n', 'estuvieran\\n', 'estuvieras\\n', 'estuvieron\\n', 'estuviese\\n', 'estuvieseis\\n', 'estuviesen\\n', 'estuvieses\\n', 'estuvimos\\n', 'estuviste\\n', 'estuvisteis\\n', 'estuviéramos\\n', 'estuviésemos\\n', 'estuvo\\n', 'está\\n', 'estábamos\\n', 'estáis\\n', 'están\\n', 'estás\\n', 'esté\\n', 'estéis\\n', 'estén\\n', 'estés\\n', 'ex\\n', 'excepto\\n', 'existe\\n', 'existen\\n', 'explicó\\n', 'expresó\\n', 'f\\n', 'fin\\n', 'final\\n', 'fue\\n', 'fuera\\n', 'fuerais\\n', 'fueran\\n', 'fueras\\n', 'fueron\\n', 'fuese\\n', 'fueseis\\n', 'fuesen\\n', 'fueses\\n', 'fui\\n', 'fuimos\\n', 'fuiste\\n', 'fuisteis\\n', 'fuéramos\\n', 'fuésemos\\n', 'g\\n', 'general\\n', 'gran\\n', 'grandes\\n', 'gueno\\n', 'h\\n', 'ha\\n', 'haber\\n', 'habia\\n', 'habida\\n', 'habidas\\n', 'habido\\n', 'habidos\\n', 'habiendo\\n', 'habla\\n', 'hablan\\n', 'habremos\\n', 'habrá\\n', 'habrán\\n', 'habrás\\n', 'habré\\n', 'habréis\\n', 'habría\\n', 'habríais\\n', 'habríamos\\n', 'habrían\\n', 'habrías\\n', 'habéis\\n', 'había\\n', 'habíais\\n', 'habíamos\\n', 'habían\\n', 'habías\\n', 'hace\\n', 'haceis\\n', 'hacemos\\n', 'hacen\\n', 'hacer\\n', 'hacerlo\\n', 'haces\\n', 'hacia\\n', 'haciendo\\n', 'hago\\n', 'han\\n', 'has\\n', 'hasta\\n', 'hay\\n', 'haya\\n', 'hayamos\\n', 'hayan\\n', 'hayas\\n', 'hayáis\\n', 'he\\n', 'hecho\\n', 'hemos\\n', 'hicieron\\n', 'hizo\\n', 'horas\\n', 'hoy\\n', 'hube\\n', 'hubiera\\n', 'hubierais\\n', 'hubieran\\n', 'hubieras\\n', 'hubieron\\n', 'hubiese\\n', 'hubieseis\\n', 'hubiesen\\n', 'hubieses\\n', 'hubimos\\n', 'hubiste\\n', 'hubisteis\\n', 'hubiéramos\\n', 'hubiésemos\\n', 'hubo\\n', 'i\\n', 'igual\\n', 'incluso\\n', 'indicó\\n', 'informo\\n', 'informó\\n', 'intenta\\n', 'intentais\\n', 'intentamos\\n', 'intentan\\n', 'intentar\\n', 'intentas\\n', 'intento\\n', 'ir\\n', 'j\\n', 'junto\\n', 'k\\n', 'l\\n', 'la\\n', 'lado\\n', 'largo\\n', 'las\\n', 'le\\n', 'lejos\\n', 'les\\n', 'llegó\\n', 'lleva\\n', 'llevar\\n', 'lo\\n', 'los\\n', 'luego\\n', 'lugar\\n', 'm\\n', 'mal\\n', 'manera\\n', 'manifestó\\n', 'mas\\n', 'mayor\\n', 'me\\n', 'mediante\\n', 'medio\\n', 'mejor\\n', 'mencionó\\n', 'menos\\n', 'menudo\\n', 'mi\\n', 'mia\\n', 'mias\\n', 'mientras\\n', 'mio\\n', 'mios\\n', 'mis\\n', 'misma\\n', 'mismas\\n', 'mismo\\n', 'mismos\\n', 'modo\\n', 'momento\\n', 'mucha\\n', 'muchas\\n', 'mucho\\n', 'muchos\\n', 'muy\\n', 'más\\n', 'mí\\n', 'mía\\n', 'mías\\n', 'mío\\n', 'míos\\n', 'n\\n', 'nada\\n', 'nadie\\n', 'ni\\n', 'ninguna\\n', 'ningunas\\n', 'ninguno\\n', 'ningunos\\n', 'ningún\\n', 'no\\n', 'nos\\n', 'nosotras\\n', 'nosotros\\n', 'nuestra\\n', 'nuestras\\n', 'nuestro\\n', 'nuestros\\n', 'nueva\\n', 'nuevas\\n', 'nuevo\\n', 'nuevos\\n', 'nunca\\n', 'o\\n', 'ocho\\n', 'os\\n', 'otra\\n', 'otras\\n', 'otro\\n', 'otros\\n', 'p\\n', 'pais\\n', 'para\\n', 'parece\\n', 'parte\\n', 'partir\\n', 'pasada\\n', 'pasado\\n', 'paìs\\n', 'peor\\n', 'pero\\n', 'pesar\\n', 'poca\\n', 'pocas\\n', 'poco\\n', 'pocos\\n', 'podeis\\n', 'podemos\\n', 'poder\\n', 'podria\\n', 'podriais\\n', 'podriamos\\n', 'podrian\\n', 'podrias\\n', 'podrá\\n', 'podrán\\n', 'podría\\n', 'podrían\\n', 'poner\\n', 'por\\n', 'por qué\\n', 'porque\\n', 'posible\\n', 'primer\\n', 'primera\\n', 'primero\\n', 'primeros\\n', 'principalmente\\n', 'pronto\\n', 'propia\\n', 'propias\\n', 'propio\\n', 'propios\\n', 'proximo\\n', 'próximo\\n', 'próximos\\n', 'pudo\\n', 'pueda\\n', 'puede\\n', 'pueden\\n', 'puedo\\n', 'pues\\n', 'q\\n', 'qeu\\n', 'que\\n', 'quedó\\n', 'queremos\\n', 'quien\\n', 'quienes\\n', 'quiere\\n', 'quiza\\n', 'quizas\\n', 'quizá\\n', 'quizás\\n', 'quién\\n', 'quiénes\\n', 'qué\\n', 'r\\n', 'raras\\n', 'realizado\\n', 'realizar\\n', 'realizó\\n', 'repente\\n', 'respecto\\n', 's\\n', 'sabe\\n', 'sabeis\\n', 'sabemos\\n', 'saben\\n', 'saber\\n', 'sabes\\n', 'sal\\n', 'salvo\\n', 'se\\n', 'sea\\n', 'seamos\\n', 'sean\\n', 'seas\\n', 'segun\\n', 'segunda\\n', 'segundo\\n', 'según\\n', 'seis\\n', 'ser\\n', 'sera\\n', 'seremos\\n', 'será\\n', 'serán\\n', 'serás\\n', 'seré\\n', 'seréis\\n', 'sería\\n', 'seríais\\n', 'seríamos\\n', 'serían\\n', 'serías\\n', 'seáis\\n', 'señaló\\n', 'si\\n', 'sido\\n', 'siempre\\n', 'siendo\\n', 'siete\\n', 'sigue\\n', 'siguiente\\n', 'sin\\n', 'sino\\n', 'sobre\\n', 'sois\\n', 'sola\\n', 'solamente\\n', 'solas\\n', 'solo\\n', 'solos\\n', 'somos\\n', 'son\\n', 'soy\\n', 'soyos\\n', 'su\\n', 'supuesto\\n', 'sus\\n', 'suya\\n', 'suyas\\n', 'suyo\\n', 'suyos\\n', 'sé\\n', 'sí\\n', 'sólo\\n', 't\\n', 'tal\\n', 'tambien\\n', 'también\\n', 'tampoco\\n', 'tan\\n', 'tanto\\n', 'tarde\\n', 'te\\n', 'temprano\\n', 'tendremos\\n', 'tendrá\\n', 'tendrán\\n', 'tendrás\\n', 'tendré\\n', 'tendréis\\n', 'tendría\\n', 'tendríais\\n', 'tendríamos\\n', 'tendrían\\n', 'tendrías\\n', 'tened\\n', 'teneis\\n', 'tenemos\\n', 'tener\\n', 'tenga\\n', 'tengamos\\n', 'tengan\\n', 'tengas\\n', 'tengo\\n', 'tengáis\\n', 'tenida\\n', 'tenidas\\n', 'tenido\\n', 'tenidos\\n', 'teniendo\\n', 'tenéis\\n', 'tenía\\n', 'teníais\\n', 'teníamos\\n', 'tenían\\n', 'tenías\\n', 'tercera\\n', 'ti\\n', 'tiempo\\n', 'tiene\\n', 'tienen\\n', 'tienes\\n', 'toda\\n', 'todas\\n', 'todavia\\n', 'todavía\\n', 'todo\\n', 'todos\\n', 'total\\n', 'trabaja\\n', 'trabajais\\n', 'trabajamos\\n', 'trabajan\\n', 'trabajar\\n', 'trabajas\\n', 'trabajo\\n', 'tras\\n', 'trata\\n', 'través\\n', 'tres\\n', 'tu\\n', 'tus\\n', 'tuve\\n', 'tuviera\\n', 'tuvierais\\n', 'tuvieran\\n', 'tuvieras\\n', 'tuvieron\\n', 'tuviese\\n', 'tuvieseis\\n', 'tuviesen\\n', 'tuvieses\\n', 'tuvimos\\n', 'tuviste\\n', 'tuvisteis\\n', 'tuviéramos\\n', 'tuviésemos\\n', 'tuvo\\n', 'tuya\\n', 'tuyas\\n', 'tuyo\\n', 'tuyos\\n', 'tú\\n', 'u\\n', 'ultimo\\n', 'un\\n', 'una\\n', 'unas\\n', 'uno\\n', 'unos\\n', 'usa\\n', 'usais\\n', 'usamos\\n', 'usan\\n', 'usar\\n', 'usas\\n', 'uso\\n', 'usted\\n', 'ustedes\\n', 'v\\n', 'va\\n', 'vais\\n', 'valor\\n', 'vamos\\n', 'van\\n', 'varias\\n', 'varios\\n', 'vaya\\n', 'veces\\n', 'ver\\n', 'verdad\\n', 'verdadera\\n', 'verdadero\\n', 'vez\\n', 'vosotras\\n', 'vosotros\\n', 'voy\\n', 'vuestra\\n', 'vuestras\\n', 'vuestro\\n', 'vuestros\\n', 'w\\n', 'x\\n', 'y\\n', 'ya\\n', 'yo\\n', 'z\\n', 'él\\n', 'éramos\\n', 'ésa\\n', 'ésas\\n', 'ése\\n', 'ésos\\n', 'ésta\\n', 'éstas\\n', 'éste\\n', 'éstos\\n', 'última\\n', 'últimas\\n', 'último\\n', 'últimos']\n"
          ]
        }
      ]
    },
    {
      "cell_type": "code",
      "source": [
        "# create words\n",
        "filtered_sentences = [w for w in word_token if not w in stop]\n",
        "print(filtered_sentences)"
      ],
      "metadata": {
        "id": "055yRHt6Lnvf",
        "colab": {
          "base_uri": "https://localhost:8080/"
        },
        "outputId": "bf2269bb-acc8-43f6-e67e-b8d39c68975d"
      },
      "execution_count": null,
      "outputs": [
        {
          "output_type": "stream",
          "name": "stdout",
          "text": [
            "['Mi', 'familia', 'no', 'es', 'muy', 'grande', ',', 'somos', 'solo', 'cuatro', 'personas', ':', 'mi', 'padre', ',', 'mi', 'madre', ',', 'mi', 'hermana', 'y', 'yo', '.', 'También', 'tenemos', 'un', 'perro', '.', 'Yo', 'soy', 'mayor', 'que', 'mi', 'hermana', ',', 'pero', 'ella', 'es', 'más', 'alta', '.', 'Yo', 'tengo', 'doce', 'años', 'y', 'ella', 'once', '.', 'Mis', 'padres', 'se', 'llaman', 'Javier', 'y', 'María', ',', 'mi', 'hermana', 'se', 'llama', 'Sara', 'y', 'yo', 'Luis', '.', 'Vivimos', 'todos', 'juntos', 'en', 'una', 'casa', 'muy', 'bonita', '.', 'Mi', 'padre', 'es', 'banquero', 'y', 'mi', 'madre', 'ama', 'de', 'casa', '.', 'Por', 'la', 'mañana', ',', 'desayunamos', 'juntos', 'en', 'la', 'cocina', '.', 'Me', 'gusta', 'desayunar', 'con', 'mi', 'familia', '.', 'Además', ',', 'por', 'las', 'mañanas', 'siempre', 'tengo', 'hambre', '.', 'Después', 'del', 'colegio', ',', 'mi', 'madre', 'prepara', 'una', 'comida', 'deliciosa', '.', 'Por', 'la', 'tarde', ',', 'mi', 'madre', 'queda', 'con', 'sus', 'amigas', ',', 'y', 'mi', 'padre', 'juega', 'al', 'tenis', '.', 'Mi', 'hermana', 'y', 'yo', 'hacemos', 'los', 'deberes', ',', 'y', 'después', 'vemos', 'la', 'televisión', '.', 'Los', 'viernes', 'por', 'la', 'tarde', 'vamos', 'los', 'cuatro', 'de', 'compras', '.']\n"
          ]
        }
      ]
    },
    {
      "cell_type": "code",
      "source": [
        "# create a frequency distribution to find the most common words\n",
        "fdist = nltk.FreqDist(filtered_sentences)\n",
        "fdist.most_common(100)"
      ],
      "metadata": {
        "id": "adl269pjNzs_",
        "colab": {
          "base_uri": "https://localhost:8080/"
        },
        "outputId": "426f3dc6-dce0-4f4c-d2f8-a8f67d6e6b7a"
      },
      "execution_count": null,
      "outputs": [
        {
          "output_type": "execute_result",
          "data": {
            "text/plain": [
              "[('.', 14),\n",
              " (',', 11),\n",
              " ('mi', 10),\n",
              " ('y', 8),\n",
              " ('la', 5),\n",
              " ('madre', 4),\n",
              " ('hermana', 4),\n",
              " ('Mi', 3),\n",
              " ('es', 3),\n",
              " ('padre', 3),\n",
              " ('yo', 3),\n",
              " ('familia', 2),\n",
              " ('muy', 2),\n",
              " ('cuatro', 2),\n",
              " ('Yo', 2),\n",
              " ('ella', 2),\n",
              " ('tengo', 2),\n",
              " ('se', 2),\n",
              " ('juntos', 2),\n",
              " ('en', 2),\n",
              " ('una', 2),\n",
              " ('casa', 2),\n",
              " ('de', 2),\n",
              " ('Por', 2),\n",
              " ('con', 2),\n",
              " ('por', 2),\n",
              " ('tarde', 2),\n",
              " ('los', 2),\n",
              " ('no', 1),\n",
              " ('grande', 1),\n",
              " ('somos', 1),\n",
              " ('solo', 1),\n",
              " ('personas', 1),\n",
              " (':', 1),\n",
              " ('También', 1),\n",
              " ('tenemos', 1),\n",
              " ('un', 1),\n",
              " ('perro', 1),\n",
              " ('soy', 1),\n",
              " ('mayor', 1),\n",
              " ('que', 1),\n",
              " ('pero', 1),\n",
              " ('más', 1),\n",
              " ('alta', 1),\n",
              " ('doce', 1),\n",
              " ('años', 1),\n",
              " ('once', 1),\n",
              " ('Mis', 1),\n",
              " ('padres', 1),\n",
              " ('llaman', 1),\n",
              " ('Javier', 1),\n",
              " ('María', 1),\n",
              " ('llama', 1),\n",
              " ('Sara', 1),\n",
              " ('Luis', 1),\n",
              " ('Vivimos', 1),\n",
              " ('todos', 1),\n",
              " ('bonita', 1),\n",
              " ('banquero', 1),\n",
              " ('ama', 1),\n",
              " ('mañana', 1),\n",
              " ('desayunamos', 1),\n",
              " ('cocina', 1),\n",
              " ('Me', 1),\n",
              " ('gusta', 1),\n",
              " ('desayunar', 1),\n",
              " ('Además', 1),\n",
              " ('las', 1),\n",
              " ('mañanas', 1),\n",
              " ('siempre', 1),\n",
              " ('hambre', 1),\n",
              " ('Después', 1),\n",
              " ('del', 1),\n",
              " ('colegio', 1),\n",
              " ('prepara', 1),\n",
              " ('comida', 1),\n",
              " ('deliciosa', 1),\n",
              " ('queda', 1),\n",
              " ('sus', 1),\n",
              " ('amigas', 1),\n",
              " ('juega', 1),\n",
              " ('al', 1),\n",
              " ('tenis', 1),\n",
              " ('hacemos', 1),\n",
              " ('deberes', 1),\n",
              " ('después', 1),\n",
              " ('vemos', 1),\n",
              " ('televisión', 1),\n",
              " ('Los', 1),\n",
              " ('viernes', 1),\n",
              " ('vamos', 1),\n",
              " ('compras', 1)]"
            ]
          },
          "metadata": {},
          "execution_count": 30
        }
      ]
    },
    {
      "cell_type": "code",
      "source": [
        "fdist.items()"
      ],
      "metadata": {
        "colab": {
          "base_uri": "https://localhost:8080/"
        },
        "id": "kuTmVHxoOzc4",
        "outputId": "7c19aeed-ecb9-4fef-b65e-6722f5d920d1"
      },
      "execution_count": null,
      "outputs": [
        {
          "output_type": "execute_result",
          "data": {
            "text/plain": [
              "dict_items([('Mi', 3), ('familia', 2), ('no', 1), ('es', 3), ('muy', 2), ('grande', 1), (',', 11), ('somos', 1), ('solo', 1), ('cuatro', 2), ('personas', 1), (':', 1), ('mi', 10), ('padre', 3), ('madre', 4), ('hermana', 4), ('y', 8), ('yo', 3), ('.', 14), ('También', 1), ('tenemos', 1), ('un', 1), ('perro', 1), ('Yo', 2), ('soy', 1), ('mayor', 1), ('que', 1), ('pero', 1), ('ella', 2), ('más', 1), ('alta', 1), ('tengo', 2), ('doce', 1), ('años', 1), ('once', 1), ('Mis', 1), ('padres', 1), ('se', 2), ('llaman', 1), ('Javier', 1), ('María', 1), ('llama', 1), ('Sara', 1), ('Luis', 1), ('Vivimos', 1), ('todos', 1), ('juntos', 2), ('en', 2), ('una', 2), ('casa', 2), ('bonita', 1), ('banquero', 1), ('ama', 1), ('de', 2), ('Por', 2), ('la', 5), ('mañana', 1), ('desayunamos', 1), ('cocina', 1), ('Me', 1), ('gusta', 1), ('desayunar', 1), ('con', 2), ('Además', 1), ('por', 2), ('las', 1), ('mañanas', 1), ('siempre', 1), ('hambre', 1), ('Después', 1), ('del', 1), ('colegio', 1), ('prepara', 1), ('comida', 1), ('deliciosa', 1), ('tarde', 2), ('queda', 1), ('sus', 1), ('amigas', 1), ('juega', 1), ('al', 1), ('tenis', 1), ('hacemos', 1), ('los', 2), ('deberes', 1), ('después', 1), ('vemos', 1), ('televisión', 1), ('Los', 1), ('viernes', 1), ('vamos', 1), ('compras', 1)])"
            ]
          },
          "metadata": {},
          "execution_count": 31
        }
      ]
    },
    {
      "cell_type": "code",
      "source": [
        "fdist.plot(50, cumulative = True)"
      ],
      "metadata": {
        "colab": {
          "base_uri": "https://localhost:8080/",
          "height": 332
        },
        "id": "kZSPPemqO3jS",
        "outputId": "28a529ce-cb5d-4750-a5b0-07fd2b3e16aa"
      },
      "execution_count": null,
      "outputs": [
        {
          "output_type": "display_data",
          "data": {
            "text/plain": [
              "<Figure size 432x288 with 1 Axes>"
            ],
            "image/png": "[encoded data removed]"
          },
          "metadata": {
            "needs_background": "light"
          }
        },
        {
          "output_type": "execute_result",
          "data": {
            "text/plain": [
              "<matplotlib.axes._subplots.AxesSubplot at 0x7f1a8eb61d50>"
            ]
          },
          "metadata": {},
          "execution_count": 32
        }
      ]
    },
    {
      "cell_type": "markdown",
      "source": [
        "Tibetan Language"
      ],
      "metadata": {
        "id": "ADAnV-A0QTBA"
      }
    },
    {
      "cell_type": "code",
      "source": [
        "!git clone https://github.com/TenzinYangzom158/NLTK.git"
      ],
      "metadata": {
        "colab": {
          "base_uri": "https://localhost:8080/"
        },
        "id": "XU2ACrapO56G",
        "outputId": "e5de1781-409b-4e81-bf3d-7b71f4e26812"
      },
      "execution_count": null,
      "outputs": [
        {
          "output_type": "stream",
          "name": "stdout",
          "text": [
            "fatal: destination path 'NLTK' already exists and is not an empty directory.\n"
          ]
        }
      ]
    },
    {
      "cell_type": "code",
      "source": [
        "tex = open('NLTK/tibetan.txt')\n",
        "sen=tex.read()\n",
        "print(sen)"
      ],
      "metadata": {
        "colab": {
          "base_uri": "https://localhost:8080/"
        },
        "id": "1fo3g3iUQZ8z",
        "outputId": "8ee9e748-6d73-49e1-d4c0-016719ef2554"
      },
      "execution_count": null,
      "outputs": [
        {
          "output_type": "stream",
          "name": "stdout",
          "text": [
            "༄༅། །འདིར་རྩོམ་པ་པོའི་སྔོན་གླེང་དུ། “ད་ཕན་རང་རེའི་སྤྱི་ཚོགས་ནང་ལབ་གླེང་དཀའ་རྙོག་འདྲ་མིན་བྱུང་ཁོངས་ནས་ཕྲན་བུའི་ཆེ་ཁག་འགའི་བྱུང་རིམ་གནས་ལུགས་དང་། གཞན་ཡང་རང་ཉིད་ཀྱི་ལས་རྒྱུན་རིང་སྐུ་སྒེར་ཡིག་ཚང་དང་འབྲེལ་བའི་བསམ་ཚུལ་རེ་ཟུང་རྒྱུས་མངའ་དཔང་པོའི་ཚུལ་དུ་བརྗོད་བདེ་གོ་སླའི་ཚིག་གིས་ཡིག་ངོ་ཤེས་ཚད་ཐམས་ཅད་ཀྱིས་ནང་དོན་མཁྱེན་རྟོགས་ཐུབ་པའི་རེ་སེམས་བཅངས་ཏེ་ཞོར་འཕྲོས་གསལ་བཤད་དང་བཅས་ཕྱོགས་སྒྲིག་བགྱིས།” ཞེས་གསུངས་འདུག་པ་ལྟར། དཔེ་དེབ་འདིར་༸གོང་ས་མཆོག་གི་མཛད་པ་ཆེ་ཁག་རྣམས་ཚིག་ཉུང་དོན་འདུས་ཀྱི་ལམ་ནས་རྩལ་འདོན་གནང་ཞིང་། དགོས་ངེས་ཅན་གྱི་བྱུང་བ་གནད་ཆེ་ཁག་ལ་ལོ་རྒྱུས་ཀྱི་རྒྱབ་ལྗོངས་དང་། ལོ་ཚིགས། ས་གནས། མི་སྣ། ཡིག་ཚགས་བཅས་ཀྱིས་མཚོན་དཔང་རྟགས་ཚད་ལྡན་གྱི་རྒྱས་བཏབ་འདུག་སྟབས་འདི་ལས་ལྷག་པའི་ཡིག་ཆ་ཁུངས་འཕེར་ཞིག་གནམ་མཐའ་བརྒལ་ཡང་རྙེད་རྒྱུ་དཀའ་སྙམ།\n"
          ]
        }
      ]
    },
    {
      "cell_type": "code",
      "source": [
        "stop=open('NLTK/tibetan_stopwords.txt')\n",
        "stopwords=[]\n",
        "for x in stop:\n",
        "   stopwords.append(x)\n",
        "print(stopwords)"
      ],
      "metadata": {
        "colab": {
          "base_uri": "https://localhost:8080/"
        },
        "id": "mSf9qX-mQtAr",
        "outputId": "7986c248-527a-446c-d6cb-700a6f2d55ac"
      },
      "execution_count": null,
      "outputs": [
        {
          "output_type": "stream",
          "name": "stdout",
          "text": [
            "['།\\n', '་\\n', 'ཕན་']\n"
          ]
        }
      ]
    },
    {
      "cell_type": "code",
      "source": [
        "sen.split(\"་\")\n",
        "words = sen.split(\"་\")\n",
        "print(words)"
      ],
      "metadata": {
        "colab": {
          "base_uri": "https://localhost:8080/"
        },
        "id": "VrcakRqnRYEg",
        "outputId": "e45c367e-d9bf-490c-a1ed-3f6ed7992b94"
      },
      "execution_count": null,
      "outputs": [
        {
          "output_type": "stream",
          "name": "stdout",
          "text": [
            "['༄༅། །འདིར', 'རྩོམ', 'པ', 'པོའི', 'སྔོན', 'གླེང', 'དུ། “ད', 'ཕན', 'རང', 'རེའི', 'སྤྱི', 'ཚོགས', 'ནང', 'ལབ', 'གླེང', 'དཀའ', 'རྙོག', 'འདྲ', 'མིན', 'བྱུང', 'ཁོངས', 'ནས', 'ཕྲན', 'བུའི', 'ཆེ', 'ཁག', 'འགའི', 'བྱུང', 'རིམ', 'གནས', 'ལུགས', 'དང', '། གཞན', 'ཡང', 'རང', 'ཉིད', 'ཀྱི', 'ལས', 'རྒྱུན', 'རིང', 'སྐུ', 'སྒེར', 'ཡིག', 'ཚང', 'དང', 'འབྲེལ', 'བའི', 'བསམ', 'ཚུལ', 'རེ', 'ཟུང', 'རྒྱུས', 'མངའ', 'དཔང', 'པོའི', 'ཚུལ', 'དུ', 'བརྗོད', 'བདེ', 'གོ', 'སླའི', 'ཚིག', 'གིས', 'ཡིག', 'ངོ', 'ཤེས', 'ཚད', 'ཐམས', 'ཅད', 'ཀྱིས', 'ནང', 'དོན', 'མཁྱེན', 'རྟོགས', 'ཐུབ', 'པའི', 'རེ', 'སེམས', 'བཅངས', 'ཏེ', 'ཞོར', 'འཕྲོས', 'གསལ', 'བཤད', 'དང', 'བཅས', 'ཕྱོགས', 'སྒྲིག', 'བགྱིས།” ཞེས', 'གསུངས', 'འདུག', 'པ', 'ལྟར། དཔེ', 'དེབ', 'འདིར', '༸གོང', 'ས', 'མཆོག', 'གི', 'མཛད', 'པ', 'ཆེ', 'ཁག', 'རྣམས', 'ཚིག', 'ཉུང', 'དོན', 'འདུས', 'ཀྱི', 'ལམ', 'ནས', 'རྩལ', 'འདོན', 'གནང', 'ཞིང', '། དགོས', 'ངེས', 'ཅན', 'གྱི', 'བྱུང', 'བ', 'གནད', 'ཆེ', 'ཁག', 'ལ', 'ལོ', 'རྒྱུས', 'ཀྱི', 'རྒྱབ', 'ལྗོངས', 'དང', '། ལོ', 'ཚིགས། ས', 'གནས། མི', 'སྣ། ཡིག', 'ཚགས', 'བཅས', 'ཀྱིས', 'མཚོན', 'དཔང', 'རྟགས', 'ཚད', 'ལྡན', 'གྱི', 'རྒྱས', 'བཏབ', 'འདུག', 'སྟབས', 'འདི', 'ལས', 'ལྷག', 'པའི', 'ཡིག', 'ཆ', 'ཁུངས', 'འཕེར', 'ཞིག', 'གནམ', 'མཐའ', 'བརྒལ', 'ཡང', 'རྙེད', 'རྒྱུ', 'དཀའ', 'སྙམ།']\n"
          ]
        }
      ]
    },
    {
      "cell_type": "code",
      "source": [
        "stopWords = set(stopwords)\n",
        "sentences = [w for w in words if not w in stopWords]\n",
        "print(sentences)"
      ],
      "metadata": {
        "colab": {
          "base_uri": "https://localhost:8080/"
        },
        "id": "Gr1TvXeIRLg_",
        "outputId": "c5134cf8-aa4f-41bd-be62-6f9d0a12e6e6"
      },
      "execution_count": null,
      "outputs": [
        {
          "output_type": "stream",
          "name": "stdout",
          "text": [
            "['༄༅། །འདིར', 'རྩོམ', 'པ', 'པོའི', 'སྔོན', 'གླེང', 'དུ། “ད', 'ཕན', 'རང', 'རེའི', 'སྤྱི', 'ཚོགས', 'ནང', 'ལབ', 'གླེང', 'དཀའ', 'རྙོག', 'འདྲ', 'མིན', 'བྱུང', 'ཁོངས', 'ནས', 'ཕྲན', 'བུའི', 'ཆེ', 'ཁག', 'འགའི', 'བྱུང', 'རིམ', 'གནས', 'ལུགས', 'དང', '། གཞན', 'ཡང', 'རང', 'ཉིད', 'ཀྱི', 'ལས', 'རྒྱུན', 'རིང', 'སྐུ', 'སྒེར', 'ཡིག', 'ཚང', 'དང', 'འབྲེལ', 'བའི', 'བསམ', 'ཚུལ', 'རེ', 'ཟུང', 'རྒྱུས', 'མངའ', 'དཔང', 'པོའི', 'ཚུལ', 'དུ', 'བརྗོད', 'བདེ', 'གོ', 'སླའི', 'ཚིག', 'གིས', 'ཡིག', 'ངོ', 'ཤེས', 'ཚད', 'ཐམས', 'ཅད', 'ཀྱིས', 'ནང', 'དོན', 'མཁྱེན', 'རྟོགས', 'ཐུབ', 'པའི', 'རེ', 'སེམས', 'བཅངས', 'ཏེ', 'ཞོར', 'འཕྲོས', 'གསལ', 'བཤད', 'དང', 'བཅས', 'ཕྱོགས', 'སྒྲིག', 'བགྱིས།” ཞེས', 'གསུངས', 'འདུག', 'པ', 'ལྟར། དཔེ', 'དེབ', 'འདིར', '༸གོང', 'ས', 'མཆོག', 'གི', 'མཛད', 'པ', 'ཆེ', 'ཁག', 'རྣམས', 'ཚིག', 'ཉུང', 'དོན', 'འདུས', 'ཀྱི', 'ལམ', 'ནས', 'རྩལ', 'འདོན', 'གནང', 'ཞིང', '། དགོས', 'ངེས', 'ཅན', 'གྱི', 'བྱུང', 'བ', 'གནད', 'ཆེ', 'ཁག', 'ལ', 'ལོ', 'རྒྱུས', 'ཀྱི', 'རྒྱབ', 'ལྗོངས', 'དང', '། ལོ', 'ཚིགས། ས', 'གནས། མི', 'སྣ། ཡིག', 'ཚགས', 'བཅས', 'ཀྱིས', 'མཚོན', 'དཔང', 'རྟགས', 'ཚད', 'ལྡན', 'གྱི', 'རྒྱས', 'བཏབ', 'འདུག', 'སྟབས', 'འདི', 'ལས', 'ལྷག', 'པའི', 'ཡིག', 'ཆ', 'ཁུངས', 'འཕེར', 'ཞིག', 'གནམ', 'མཐའ', 'བརྒལ', 'ཡང', 'རྙེད', 'རྒྱུ', 'དཀའ', 'སྙམ།']\n"
          ]
        }
      ]
    },
    {
      "cell_type": "code",
      "source": [
        "# create a frequency distribution to find the most common words\n",
        "\n",
        "fdist = nltk.FreqDist(sentences)\n",
        "fdist.most_common(10)"
      ],
      "metadata": {
        "colab": {
          "base_uri": "https://localhost:8080/"
        },
        "id": "s4xrWiLnRP3U",
        "outputId": "a4f82c19-28c4-4db8-a194-ebf762b44b8a"
      },
      "execution_count": null,
      "outputs": [
        {
          "output_type": "execute_result",
          "data": {
            "text/plain": [
              "[('དང', 4),\n",
              " ('པ', 3),\n",
              " ('བྱུང', 3),\n",
              " ('ཆེ', 3),\n",
              " ('ཁག', 3),\n",
              " ('ཀྱི', 3),\n",
              " ('ཡིག', 3),\n",
              " ('པོའི', 2),\n",
              " ('གླེང', 2),\n",
              " ('རང', 2)]"
            ]
          },
          "metadata": {},
          "execution_count": 38
        }
      ]
    },
    {
      "cell_type": "code",
      "source": [
        "fdist.items()"
      ],
      "metadata": {
        "colab": {
          "base_uri": "https://localhost:8080/"
        },
        "id": "0HzgbS2CSEg-",
        "outputId": "bc5ae84a-ab58-4049-8c5a-37c99967b3bd"
      },
      "execution_count": null,
      "outputs": [
        {
          "output_type": "execute_result",
          "data": {
            "text/plain": [
              "dict_items([('༄༅། །འདིར', 1), ('རྩོམ', 1), ('པ', 3), ('པོའི', 2), ('སྔོན', 1), ('གླེང', 2), ('དུ། “ད', 1), ('ཕན', 1), ('རང', 2), ('རེའི', 1), ('སྤྱི', 1), ('ཚོགས', 1), ('ནང', 2), ('ལབ', 1), ('དཀའ', 2), ('རྙོག', 1), ('འདྲ', 1), ('མིན', 1), ('བྱུང', 3), ('ཁོངས', 1), ('ནས', 2), ('ཕྲན', 1), ('བུའི', 1), ('ཆེ', 3), ('ཁག', 3), ('འགའི', 1), ('རིམ', 1), ('གནས', 1), ('ལུགས', 1), ('དང', 4), ('། གཞན', 1), ('ཡང', 2), ('ཉིད', 1), ('ཀྱི', 3), ('ལས', 2), ('རྒྱུན', 1), ('རིང', 1), ('སྐུ', 1), ('སྒེར', 1), ('ཡིག', 3), ('ཚང', 1), ('འབྲེལ', 1), ('བའི', 1), ('བསམ', 1), ('ཚུལ', 2), ('རེ', 2), ('ཟུང', 1), ('རྒྱུས', 2), ('མངའ', 1), ('དཔང', 2), ('དུ', 1), ('བརྗོད', 1), ('བདེ', 1), ('གོ', 1), ('སླའི', 1), ('ཚིག', 2), ('གིས', 1), ('ངོ', 1), ('ཤེས', 1), ('ཚད', 2), ('ཐམས', 1), ('ཅད', 1), ('ཀྱིས', 2), ('དོན', 2), ('མཁྱེན', 1), ('རྟོགས', 1), ('ཐུབ', 1), ('པའི', 2), ('སེམས', 1), ('བཅངས', 1), ('ཏེ', 1), ('ཞོར', 1), ('འཕྲོས', 1), ('གསལ', 1), ('བཤད', 1), ('བཅས', 2), ('ཕྱོགས', 1), ('སྒྲིག', 1), ('བགྱིས།” ཞེས', 1), ('གསུངས', 1), ('འདུག', 2), ('ལྟར། དཔེ', 1), ('དེབ', 1), ('འདིར', 1), ('༸གོང', 1), ('ས', 1), ('མཆོག', 1), ('གི', 1), ('མཛད', 1), ('རྣམས', 1), ('ཉུང', 1), ('འདུས', 1), ('ལམ', 1), ('རྩལ', 1), ('འདོན', 1), ('གནང', 1), ('ཞིང', 1), ('། དགོས', 1), ('ངེས', 1), ('ཅན', 1), ('གྱི', 2), ('བ', 1), ('གནད', 1), ('ལ', 1), ('ལོ', 1), ('རྒྱབ', 1), ('ལྗོངས', 1), ('། ལོ', 1), ('ཚིགས། ས', 1), ('གནས། མི', 1), ('སྣ། ཡིག', 1), ('ཚགས', 1), ('མཚོན', 1), ('རྟགས', 1), ('ལྡན', 1), ('རྒྱས', 1), ('བཏབ', 1), ('སྟབས', 1), ('འདི', 1), ('ལྷག', 1), ('ཆ', 1), ('ཁུངས', 1), ('འཕེར', 1), ('ཞིག', 1), ('གནམ', 1), ('མཐའ', 1), ('བརྒལ', 1), ('རྙེད', 1), ('རྒྱུ', 1), ('སྙམ།', 1)])"
            ]
          },
          "metadata": {},
          "execution_count": 39
        }
      ]
    },
    {
      "cell_type": "code",
      "source": [
        "fdist.plot(10)"
      ],
      "metadata": {
        "id": "Usf9ZMovSIVR",
        "colab": {
          "base_uri": "https://localhost:8080/",
          "height": 1000
        },
        "outputId": "ec61ccd6-832f-47db-bf41-679a858adf27"
      },
      "execution_count": null,
      "outputs": [
        {
          "output_type": "stream",
          "name": "stderr",
          "text": [
            "/usr/local/lib/python3.7/dist-packages/matplotlib/backends/backend_agg.py:214: RuntimeWarning: Glyph 3921 missing from current font.\n",
            "  font.set_text(s, 0.0, flags=flags)\n",
            "/usr/local/lib/python3.7/dist-packages/matplotlib/backends/backend_agg.py:214: RuntimeWarning: Glyph 3908 missing from current font.\n",
            "  font.set_text(s, 0.0, flags=flags)\n",
            "/usr/local/lib/python3.7/dist-packages/matplotlib/backends/backend_agg.py:214: RuntimeWarning: Glyph 3924 missing from current font.\n",
            "  font.set_text(s, 0.0, flags=flags)\n",
            "/usr/local/lib/python3.7/dist-packages/matplotlib/backends/backend_agg.py:214: RuntimeWarning: Glyph 3926 missing from current font.\n",
            "  font.set_text(s, 0.0, flags=flags)\n",
            "/usr/local/lib/python3.7/dist-packages/matplotlib/backends/backend_agg.py:214: RuntimeWarning: Glyph 4017 missing from current font.\n",
            "  font.set_text(s, 0.0, flags=flags)\n",
            "/usr/local/lib/python3.7/dist-packages/matplotlib/backends/backend_agg.py:214: RuntimeWarning: Glyph 3956 missing from current font.\n",
            "  font.set_text(s, 0.0, flags=flags)\n",
            "/usr/local/lib/python3.7/dist-packages/matplotlib/backends/backend_agg.py:214: RuntimeWarning: Glyph 3910 missing from current font.\n",
            "  font.set_text(s, 0.0, flags=flags)\n",
            "/usr/local/lib/python3.7/dist-packages/matplotlib/backends/backend_agg.py:214: RuntimeWarning: Glyph 3962 missing from current font.\n",
            "  font.set_text(s, 0.0, flags=flags)\n",
            "/usr/local/lib/python3.7/dist-packages/matplotlib/backends/backend_agg.py:214: RuntimeWarning: Glyph 3905 missing from current font.\n",
            "  font.set_text(s, 0.0, flags=flags)\n",
            "/usr/local/lib/python3.7/dist-packages/matplotlib/backends/backend_agg.py:214: RuntimeWarning: Glyph 3906 missing from current font.\n",
            "  font.set_text(s, 0.0, flags=flags)\n",
            "/usr/local/lib/python3.7/dist-packages/matplotlib/backends/backend_agg.py:214: RuntimeWarning: Glyph 3904 missing from current font.\n",
            "  font.set_text(s, 0.0, flags=flags)\n",
            "/usr/local/lib/python3.7/dist-packages/matplotlib/backends/backend_agg.py:214: RuntimeWarning: Glyph 3954 missing from current font.\n",
            "  font.set_text(s, 0.0, flags=flags)\n",
            "/usr/local/lib/python3.7/dist-packages/matplotlib/backends/backend_agg.py:214: RuntimeWarning: Glyph 3937 missing from current font.\n",
            "  font.set_text(s, 0.0, flags=flags)\n",
            "/usr/local/lib/python3.7/dist-packages/matplotlib/backends/backend_agg.py:214: RuntimeWarning: Glyph 3964 missing from current font.\n",
            "  font.set_text(s, 0.0, flags=flags)\n",
            "/usr/local/lib/python3.7/dist-packages/matplotlib/backends/backend_agg.py:214: RuntimeWarning: Glyph 3936 missing from current font.\n",
            "  font.set_text(s, 0.0, flags=flags)\n",
            "/usr/local/lib/python3.7/dist-packages/matplotlib/backends/backend_agg.py:214: RuntimeWarning: Glyph 4019 missing from current font.\n",
            "  font.set_text(s, 0.0, flags=flags)\n",
            "/usr/local/lib/python3.7/dist-packages/matplotlib/backends/backend_agg.py:214: RuntimeWarning: Glyph 3938 missing from current font.\n",
            "  font.set_text(s, 0.0, flags=flags)\n",
            "/usr/local/lib/python3.7/dist-packages/matplotlib/backends/backend_agg.py:183: RuntimeWarning: Glyph 3921 missing from current font.\n",
            "  font.set_text(s, 0, flags=flags)\n",
            "/usr/local/lib/python3.7/dist-packages/matplotlib/backends/backend_agg.py:183: RuntimeWarning: Glyph 3908 missing from current font.\n",
            "  font.set_text(s, 0, flags=flags)\n",
            "/usr/local/lib/python3.7/dist-packages/matplotlib/backends/backend_agg.py:183: RuntimeWarning: Glyph 3924 missing from current font.\n",
            "  font.set_text(s, 0, flags=flags)\n",
            "/usr/local/lib/python3.7/dist-packages/matplotlib/backends/backend_agg.py:183: RuntimeWarning: Glyph 3926 missing from current font.\n",
            "  font.set_text(s, 0, flags=flags)\n",
            "/usr/local/lib/python3.7/dist-packages/matplotlib/backends/backend_agg.py:183: RuntimeWarning: Glyph 4017 missing from current font.\n",
            "  font.set_text(s, 0, flags=flags)\n",
            "/usr/local/lib/python3.7/dist-packages/matplotlib/backends/backend_agg.py:183: RuntimeWarning: Glyph 3956 missing from current font.\n",
            "  font.set_text(s, 0, flags=flags)\n",
            "/usr/local/lib/python3.7/dist-packages/matplotlib/backends/backend_agg.py:183: RuntimeWarning: Glyph 3910 missing from current font.\n",
            "  font.set_text(s, 0, flags=flags)\n",
            "/usr/local/lib/python3.7/dist-packages/matplotlib/backends/backend_agg.py:183: RuntimeWarning: Glyph 3962 missing from current font.\n",
            "  font.set_text(s, 0, flags=flags)\n",
            "/usr/local/lib/python3.7/dist-packages/matplotlib/backends/backend_agg.py:183: RuntimeWarning: Glyph 3905 missing from current font.\n",
            "  font.set_text(s, 0, flags=flags)\n",
            "/usr/local/lib/python3.7/dist-packages/matplotlib/backends/backend_agg.py:183: RuntimeWarning: Glyph 3906 missing from current font.\n",
            "  font.set_text(s, 0, flags=flags)\n",
            "/usr/local/lib/python3.7/dist-packages/matplotlib/backends/backend_agg.py:183: RuntimeWarning: Glyph 3904 missing from current font.\n",
            "  font.set_text(s, 0, flags=flags)\n",
            "/usr/local/lib/python3.7/dist-packages/matplotlib/backends/backend_agg.py:183: RuntimeWarning: Glyph 3954 missing from current font.\n",
            "  font.set_text(s, 0, flags=flags)\n",
            "/usr/local/lib/python3.7/dist-packages/matplotlib/backends/backend_agg.py:183: RuntimeWarning: Glyph 3937 missing from current font.\n",
            "  font.set_text(s, 0, flags=flags)\n",
            "/usr/local/lib/python3.7/dist-packages/matplotlib/backends/backend_agg.py:183: RuntimeWarning: Glyph 3964 missing from current font.\n",
            "  font.set_text(s, 0, flags=flags)\n",
            "/usr/local/lib/python3.7/dist-packages/matplotlib/backends/backend_agg.py:183: RuntimeWarning: Glyph 3936 missing from current font.\n",
            "  font.set_text(s, 0, flags=flags)\n",
            "/usr/local/lib/python3.7/dist-packages/matplotlib/backends/backend_agg.py:183: RuntimeWarning: Glyph 4019 missing from current font.\n",
            "  font.set_text(s, 0, flags=flags)\n",
            "/usr/local/lib/python3.7/dist-packages/matplotlib/backends/backend_agg.py:183: RuntimeWarning: Glyph 3938 missing from current font.\n",
            "  font.set_text(s, 0, flags=flags)\n"
          ]
        },
        {
          "output_type": "display_data",
          "data": {
            "text/plain": [
              "<Figure size 432x288 with 1 Axes>"
            ],
            "image/png": "[encoded data removed]"
          },
          "metadata": {
            "needs_background": "light"
          }
        },
        {
          "output_type": "execute_result",
          "data": {
            "text/plain": [
              "<matplotlib.axes._subplots.AxesSubplot at 0x7f1a8ea32f90>"
            ]
          },
          "metadata": {},
          "execution_count": 42
        }
      ]
    },
    {
      "cell_type": "markdown",
      "source": [
        "### Kananada"
      ],
      "metadata": {
        "id": "6YreF1FSo9Vi"
      }
    },
    {
      "cell_type": "code",
      "source": [
        "f = open('NLTK/kannada.txt','r')\n",
        "data = f.read()\n",
        "\n",
        "stop_words = set(stopwords.words())\n",
        "\n",
        "word_tokens = word_tokenize(data)\n",
        "\n",
        "filtered_sentence_kan = [w for w in word_tokens if not w in stop_words]\n",
        "\n",
        "print('the stopped words are:',stop_words)\n",
        "\n",
        "print(filtered_sentence_kan)\n",
        "\n",
        "wordfreq_kan=[]\n",
        "filtered_kan=[]\n",
        "\n",
        "for w in filtered_sentence_kan:\n",
        "    a = filtered_sentence_kan.count(w)\n",
        "    if w not in filtered_kan:\n",
        "      filtered_kan.append(w)\n",
        "      wordfreq_kan.append(a)\n",
        "      print(w,a)\n"
      ],
      "metadata": {
        "id": "mRipxGaeTBhS",
        "colab": {
          "base_uri": "https://localhost:8080/"
        },
        "outputId": "39eb696a-3140-4642-e0ae-0f053e1dc966"
      },
      "execution_count": 8,
      "outputs": [
        {
          "output_type": "stream",
          "name": "stdout",
          "text": [
            "the stopped words are: {'pero', 'عن', 'šesti', 'heu', '构成', 'petinosemdesetih', 'takšnima', 'says', 'podem', '目前', 'njihovimi', 'najini', 'eussions', 'মধ্যেই', 'уай', 'dykk', 'zmoreta', 'ai', 'طفق', 'etc', 'petnajsti', 'أى', 'want', 'šestim', 'foarte', 'einig', 'қоса', 'berriz', '吗', 'doesnt', 'le-ta', 'تعسا', 'מתחת', 'gewesen', 'אתכם', 'inke', 'па', 'nekaki', 'olette', 'ص', 'isi', 'yehi', 'sana', 'حجا', 'केही', 'marsikateremu', '兮', 'down', 'baje', 'হয়নি', 'mitt', 'asking', 'менде', 'wouldnt', 'τὸ', 'sewaktu', 'أمام', 'nekakšnih', 'tudi', '既', 'bide', 'manalagi', 'vsakršnega', 'ধরে', 'wali', 'tolikšnemu', 'serez', 'devetem', 'ehhez', 'mengibaratkannya', '而是', 'שלו', 'sentidos', 'হয়েছিল', 'morete', 'keiden', 'altra', 'منه', 'जस्तै', 'tanyanya', 'sta', 'šeststotimi', 'teesra', '鄙人', 'memungkinkan', 'howbeit', 'nikakršnim', 'если', 'najbrž', 'لسنا', 'علًّ', 'cîtva', '促进', 'johon', 'उहालाई', 'intr', 'doch', 'біздердің', 'she', 'এবার', 'भर', 'teitä', 'enima', 'mateixos', 'أين', 'tristotima', 'ela', 'besar', 'marsikaj', 'nekakimi', 'zmorem', 'csak', 'হলো', 'diperlukan', 'petdesetih', 'saremo', '经', 'tisočim', 'avrò', 'fuese', 'ذه', 'ellas', 'गर्छु', 'dapat', '虽然', 'svojih', 'يفعلان', 'və', 'ever', 'banyak', 'atatia', 'solcher', 'štiridesetih', '咚', 'avuti', 'någon', 'ذا', 'me', 'elle', 'أخذ', 'عشر', 'этого', 'enakemu', 'nosotras', 'ni', 'е', 'dvainšestdeset', 'sommes', '谁知', 'jedes', 'dvanajsta', 'לאן', 'kolikima', 'come', 'şey', 'teringat', 'করছে', 'जसको', 'মোট', 'arabera', 'наход', 'sebi', '似的', 'dwara', '就是说', 'berbagai', 'stoterima', 'enajsto', 'ataupun', 'هَذِي', 'abbiano', 'aceeasi', 'petinštiridesete', 'ujarnya', 'quins', 'blizu', 'لعمر', 'vašega', 'másik', 'أنتِ', 'magát', 'без', 'habíais', 'unhi', 'onedve', 'ona', 'tisočere', 'razen', '这儿', 'estuviera', 'cîţi', 'həmin', 'altii', 'menanyai', 'baina', 'অন্তত', 'mons', '以至于', 'اثنا', '但是', 'noi', 'mendatang', 'triinšestdesetimi', 'الآن', 'sem', 'devetima', 'eta', 'sakte', 'tua', 'melalui', 'dela', 'certainly', 'hainbestez ', 'sok', 'osmim', 'only', 'estemos', 'faiz', 'new', 'нее', 'haar', 'deines', 'شرع', 'dibuat', 'fût', 'ي', 'štiristotimi', 'serán', '首先', 'heissä', \"they're\", 'le-teh', 'quines', '了', 'hal', 'somt', 'এক্', \"we've\", 'devetstotimi', 'vajin', 'habéis', 'איתכן', 'sinun', 'ilyenkor', 'tale', 'zopet', 'быть', 'drugemu', 'hopefully', '总是', '并不', 'tumhare', 'назди', '其他', 'lalu', 'akan', 'berdatangan', '一定', '恰恰相反', 'konsa', 'مه', 'berakhir', 'құрау-құрау', 'ἐκ', 'ओठ', 'petintridesetemu', 'sənə', 'manches', 'сенде', 'stoterih', '另', 'तत्काल', 'želene', 'bukatzeko ', '所谓', 'stoti', 'जहाँ', 'enimi', 'oradan', 'এঁদের', 'lagi', 'niitä', 'štirinajstega', 'सात', 'كِخ', 'petindevetdesetimi', 'sela', 'cărui', 'daha', 'عوض', 'ح', 'ere', 'poden', 'अब', '联系', 'أفٍّ', 'amatlah', 'vsakršnih', 'गर्ने', 'petinsedemdeset', 'belum', 'מבלי', 'berikutnya', 'peterim', 'facevano', 'iar', 'allí', 'kakršnemkoli', 'čigavim', 'तीन', 'vilka', 'onemu', 'ألا', 'ҳангоми', 'soal', 'маған', 'إياكن', 'kahin', 'प्रतेक', 'যাকে', 'тут', 'third', 'kívül', 'kakim', 'štiridesetimi', 'över', 'somewhat', 'alguns', 'nola', 'қорс', 'থাকা', 'meyakini', 'dveh', 'estos', 'ذاك', 'osma', 'af', 'tista', 'aceste', 'consigueix', '慢说', 'allt', 'hello', 'batean', 'भने', 'takim', 'হন', 'dikira', 'spet', 'سرا', 'agl', 'abbiate', 'baik', 'kak', 'our', 'خلافا', '如若', 'özü', 'وجد', 'malgrat', 'कतै', 'hubieras', 'vsakdo', 'स्पष्ट', 'עצמי', 'wherever', 'ذلكم', 'أبو', 'biasa', 'қап', 'oli', 'μετὰ', 'isn', 'hvor', 'veel', 'bermacam-macam', 'care', 'gain', 'onkraj', 'facciate', 'әлдеқалай', 'amelyek', 'citeva', '从而', '乃', 'تلكم', 'četrtemu', 'что', 'skulle', 'membuat', 'τοὺς', '果真', 'dei', 'sebutnya', 'ussi', 'ним', 'শুরু', '任何', 'kinhe', 'sub', 'bir', '再说', '当', '不比', 'le-tista', 'таман', '不能', 'contro', 'mindent', 'ons', 'kelihatan', 'масқарай', 'bi', 'unui', 'menanti-nanti', 'تموز', 'petintrideseti', 'लगभग', 'diperbuatnya', 'করা', 'осынау', 'keresztül', 'nočejo', 'enkratnima', '并不是', 'kaun', 'pač', 'habríais', 'पहिले', 'ки', 'أعلم', 'aquella', 'vaju', 'macam', 'temale', 'andere', '哈哈', 'ser', 'הרי', 'brez', 'tota', 'дида', 'τῆσ', 'आदि', 'পক্ষে', \"we'd\", 'ὦ', 'أربع', 'مئة', 'olyan', 'hep', 'marajmo', '以免', 'štiriindvajseta', 'tebe', 'hoče', 'havemos', 'njenimi', 'לפיכך', 'tisočeri', 'bütün', 'ı', 'तिर', 'संगै', 'estes', 'trojem', '本', 'им', 'hij', 'batez', '呜呼', 'ialah', 'šesta', 'nuestras', 'estuvierais', 'ditujukan', '矣', 'jolle', 'κἂν', 'bahwasanya', '部分', '以', '中间', 'farete', 'esteu', '总而言之', 'ذان', 'estuviese', 'janganlah', 'жалт-жұлт', 'هَجْ', 'masalahnya', 'desi', 'tistim', 'bien', 'tuolta', '啊', 'ثالث', 'després', 'res', 'قلما', 'joiksi', '各级', 'sedemstotih', 'ظلّ', 'essa', '正如', 'οὐδεὶς', '己', 'bani', 'upon', 'ساء', '曾经', 'lenni', 'estáis', '坚决', 'কারণ', 'onem', 'अन्यत्र', 'dan', 'avec', 'banao', 'maybe', 'vom', 'želeli', 'күллі', 'यस', 'cărei', 'कसरी', 'был', 'tvojimi', 'birkaç', 'jih', 'لاسيما', 'chhaiye', 'τὰς', '哪天', 'τὴν', 'onlardan', 'ingat-ingat', 'marajta', 'meiner', 'dovoli', 'algo', 'nerad', 'сорап', '多次', 'next', 'тебя', 'tepat', 'למעלה', 'যতটা', 'than', 'deseterimi', 'le-tistimi', 'için', 'čigavi', 'dvakratni', \"you're\", 'bizkitartean', 'ondan', 'facciamo', 'أي', 'ponj', 'ποιοσ', 'mı', 'bilər', 'habida', 'э', '最好', 'dvojem', '需要', '今後', 'everyone', 'رزق', 'यहाँ', '何', 'berikut', 'eles', 'cumva', 'try', 'আর', 'уж', 'orobat', 'οὐκ', 'ich', '举行', 'troja', 'איתי', 'really', 'euch', 'ذلكن', 'αυτοι', '实现', 'drugim', 'elõször', 'تارة', 'এমনকী', 'tuvieran', 'τῷ', 'starete', 'seré', 'jaisa', 'een', 'also', 'аст', 'əgər', '那样', 'him', 'τινα', 'desetero', \"t'han\", 'weiter', '之后', '哟', '宁愿', 'nanj', 'bai', 'чуть', 'given', 'ذِي', 'fordi', 'দুটি', 'nostri', 'ἐμόσ', 'facessi', '重要', 'acelea', '较', '代替', 'diyo', '它们', 'vagyis', 'pred', 'ka', '哦', 'devetintridesetih', \"should've\", 'tristotega', 'who', 'dvojimi', 'moramo', 'baita', 'petnajstega', '运用', 'petinosemdesetim', 'какой', 'nočeva', 'he', 'quant', 'katero', 'kamu', 'kise', 'أوت', 'soyez', 'dvajsetemu', '漫说', 'werent', 'drugo', '如上所述', 'jadilah', 'míos', 'فبراير', 'mempersiapkan', 'bapak', 'раз', '处理', 'lunga', 'amolyan', 'مساء', 'ποῦ', 'drugih', 'morati', 'osemindevetdesetih', 'যদি', 'tuve', 'katerima', 'әйтпесе', 'exactly', 'heitä', 'houverão', '继而', 'one', 'nekemu', 'mij', 'spate', 'isso', 'laburki', 'joita', 'को', 'сіздердің', 'पछिल्लो', 'trikraten', 'ert', 'mən', 'wahi', 'prvo', 'rakha', 'avemmo', 'devetintridesetimi', 'tiverem', 'bəy', 'pri', 'stavamo', 'এটাই', 'njima', 'našemu', 'ezer', 'seharusnya', '附近', 'osemdeset', 'farà', 'tu', 'edo', 'təəssüf', 'harada', 'হওয়ায়', 'noastre', 'nekom', 'nekaka', 'করার', 'कम से कम', 'وُشْكَانَ', \"i'd\", 'حمٌ', 'predenj', 'osemnajste', 'hereby', 'habrían', 'ud', 'kahaan', 'fossem', 'bersiap', 'еще', 'אתכן', 'seu', 'dovolilo', 'petinsedemdesetim', 'vostru', '不变', 'agli', 'sinulle', 'qual', 'čez', 'vosotras', 'fussions', 'mindenki', 'berujar', 'essendo', 'zares', '按', 'zenbait', 'mukaan', 'hanyalah', 'tistih', 'komur', 'mich', 'zapored', 'marsikaterim', 'হতেই', '倘若', 'trojnem', 'نون', 'μεθ', 'τί', 'upp', 'tistega', '不怕', 'sedemnajstimi', 'ش', '後面', 'τις', 'está', 'moraš', 'ثمّة', 'alla', 'beginikah', 'भन्', 'katera', '多少', 'vsakršna', 'avessimo', 'berori', 'während', 'dvara', 'perhaps', 'közül', 'ие', 'elsõ', 'ilk', 'enaindvajseti', 'দু', 'kolikšnima', 'hubisteis', '变成', 'takih', '若', 'যেতে', 'sarò', '等等', 'bolehlah', 'هلّا', 'nisi', 'starebbe', 'hänelle', 'nun', 'kul', 'kajpada', 'osemnajstima', 'لكيلا', 'জন', \"i'll\", 'عسى', 'torej', 'tambah', 'γε', 'вас', 'thorough', 'бірақ', 'kakršnim', 'waisi', 'any', 'أما', 'যায়', 'trei', 'nope', 'saath', 'manakala', 'seterusnya', 'tocmai', 'belki', 'didatangkan', 'marajva', '云云', 'σύν', '因为', 'fai', '彼', 'numa', 'noče', 'मात्र', 'мына', 'memperbuat', 'между', 'vanjo', 'toti', 'njem', 'nadvse', 'vštric', 'ياء', 'hasteko', 'estic', '往往', \"i'm\", 'ر', 'laburbilduz', 'stotega', 'taken', 'mimo', 'чтоб', 'ثاء', 'ὃν', 'obviously', 'whereafter', 'acele', 'näissä', 'aici', 'προσ', 'aaya', 'devetim', 'egy', 'želiva', 'være', 'להן', 'ба', 'memang', 'tolikšnima', 'tätä', 'יוכלו', 'biz', 'ع', 'سادس', 'without', 'stotim', 'peterega', '又', 'jossa', 'दुई', 'following', 'mei', 'berkata', 'أكثر', 'jeg', 'up', 'aceia', 'waren', 'पूर्व', 'akkor', '啥', 'vrhu', 'morava', '一直', 'teremos', 'demikian', 'durch', 'nekatere', 'katakan', 'كذلك', '自', '比', 'here', 'lagti', 'kelamaan', 'y', 'sua', 'suyo', \"they'll\", 'petnajstih', 'din', 'إنما', 'سقى', 'kini', 'wherein', 'smeta', 'जताततै', 'pihaknya', 'stoterem', 'ničesar', 'күңк', '极了', 'hongi', 'triinpetdesetimi', 'keiltä', 'tengan', 'эй', 'dvaindevetdesetemu', '该', 'sedemdesete', 'ok', '这就是说', '及时', 'هاهنا', 'dungi', 'আমরা', 'en', 'নিয়ে', 'le-ona', 'hainbeste', 'mein', 'enkratnimi', 'quals', 'hanno', 'məhz', 'επι', 'berakhirnya', '是的', 'οι', 'ought', 'أو', 'болп', 'et', '就是', 'भित्री', 'बारे', '的', 'бәрі', 'র', 'minulle', 'तपाई', 'skoznjo', 'أعطى', 'করছেন', '论', 'triindvajsetih', 'kaisa', 'želele', 'avions', '不特', 'seperlunya', 'ҳамоно', 'दिनुभएको', 'bu', 'هبّa', 'bolte', 'hoyenge', 'ارتدّ', '向着', 'nad', 'mü', 'بهن', 'hinter', 'pun', 'هكذا', 'sedemindvajseti', 'neither', 'unele', 'takimile', 'تلك', 'skoz', 'mio', 'teus', 'čigav', 'των', 'heidät', 'könnte', 'σύ', 'noben', 'svoje', 'ble', 'εισαι', '能够', 'mednje', 'ذِه', 'keinen', '可是', 'pic', 'dvanajstemu', 'estará', 'ibu', 'nowhere', 'о', 'niihin', '他人', '靠', 'ü', '他的', \"wasn't\", 'keissä', 'najinem', '对于', 'bersiap-siap', 'dar', '一样', '诸位', 'aura', 'solchem', '顺着', 'даме ки', '哪怕', 'kakšnem', 'wasn', 'বাদে', 'dove', 'tuvieras', 'fuera', 'blei', '基本', 'এখানে', 'bagaimana', 'tehle', 'ceea', 'ada', 'whatever', 'soient', 'povrh', 'dong', 'sulla', 'кірт', \"shan't\", 'becomes', 'meski', 'enega', 'dirinya', 'mene', '倘或', 'alea', 'karne', 'соң', 'hvilken', 'ind', 'ero', 'onidve', 'wahin', 'osemdesetega', 'واهاً', 'čeprav', 'на', 'tends', 'gunakan', 'өзімнің', 'antes', 'حتى', 'ҳаргиз', 'malah', 'tuolla', 'aside', 'mustnt', 'nekoliko', 'tolikimi', '其中', 'haruslah', 'mulţi', 'diibaratkan', 'čeravno', 'korleis', 'keeps', 'aquest', 'zein ', 'sendirian', 'bržkone', 'tutti', 'by', 'heillä', 'vsakomer', 'nora', 'майлаш куя', 'সেখানে', 'horretan', 'jede', 'saw', 'yahaan', '顺', 'diese', 'keseluruhan', '真正', 'causes', 'после', 'minuun', 'איתכם', 'sunt', 'sendiri', 'kapanpun', 'baina ', 'rather', 'radi', 'هو', 'sangat', 'kon', 'enajsti', 'että', 'further', 'igen', 'minusta', '替', 'artean', 'šest', 'einer', 'wagairah', 'six', 'μα', 'vaisi', 'dvaara', 'vore', 'oricînd', 'habidas', 'menyiapkan', 'estivemos', 'petindvajsetimi', 'jotka', 'बरु', 'enkraten', 'zmoreš', 'smejo', 'kuin', 'yourselves', '所以', 'šestintridesetimi', 'tengamos', 'morali', 'aquelles', 'kakima', '转贴', 'hotel', 'bé', 'تِه', 'help', '除非', 'бар', 'saját', 'لام', 'δέ', 'stesti', 'all', 'οὐδέ', 'enako', 'sudahkah', 'dvema', 'cara', 'v', 'inainte', 'när', 'sesudahnya', 'nerede', '归', 'drugačnima', 'da', 'vors', 'prima', 'atare', 'menda', '是', 'um', 'أيضا', 'le-onimi', 'nur', 'агар', 'seriez', 'estava', 'sedeminšestdesetim', 'jer', '一则', 'itself', 'عدَّ', '正在', 'آذار', 'saj', 'jaise', 'soon', 'le-onem', 'hän', 'bada', 'αυτα', 'awalnya', '实际', 'агар чи', 'более', 'avevano', 'αντι', 'stotere', 'ὑπό', 'segera', 'sredi', 'navzlic', 'aati', 'bere', '这边', 'साथ', 'kez', 'mainly', 'moja', 'tuo', 'don', 'viszont', 'sedikitnya', 'desetih', 'hemos', 'tejle', 'spod', 'sebaik', 'салаң-сұлаң', 'lor', 'more', 'dins', 'želeni', 'termasuk', 'ذهب', 'takšni', 'érem', 'katerokoli', 'jyada', 'akankah', 'vašo', 'ισωσ', 'trikratni', 'ولا', 'xeyr', 'छौं', 'tehát', 'ж', 'dvojnimi', 'marsikaterih', 'στον', 'әттеген-ай', 'downwards', 'أغسطس', 'serías', 'üç', 'minua', '巩固', 'ἐάν', 'hauetan', 'begitulah', 'चाहनुहुन्छ', 'οὗτοσ', 'dvestotem', 'rata', 'étiez', 'čigavem', 'hayáis', 'мен', 'هاتي', 'moi', 'bekerja', 'le-temu', 'inn', 'да', 'buat', 'এই', 'fem', 'benne', 'pertanyaan', 'sedemdesetim', 'želela', 'vreo', 'ikut', 'dahulu', 'עצמן', 'vaan', 'kelima', 'әлдекім', 'ешбір', 'edota ', 'uska', '战斗', 'সঙ্গে', 'štirinajstemu', 'teve', '直到', 'obeh', 'niyə', 'jayega', 'hanem', 'kayi', 'بك', 'বলে', '我', 'quante', 'নিজের', 'avuto', 'tened', 'vajinem', 'أقبل', 'getting', 'devetstotim', 'diberi', '待', 'kell', 'dir', 'ismét', 'mit', 'hvis', 'tampak', '嗳', '而且', 'welchen', 'drugi', 'niissä', 'bosta', '以为', 'vaala', 'suo', 'boš', 'асло', 'fus', '这种', 'devetdeseti', 'حاي', 'aint', '表示', 'tivermos', 'מאחורי', 'fu', 'κἀν', 'салым', 'kateremkoli', 'dalle', 'minussa', 'prek', 'jaa', 'hoss', 'ثمّ', 'aurai', 'nor', '个人', 'yourself', 'dimaksud', 'هَيْهات', 'бірдеме', 'রাখা', 'seinem', 'अर्को', '最高', 'kakšna', 'баъд аз он ки', 'be', 'disampaikan', 'таңқ', 'petinštiridesetim', 'किन', 'katerekoli', 'segala', 'houvéramos', 'teille', 'okrog', 'najine', 'dvaindevetdeseto', 'সেটাও', 'vsakršnemu', '各个', 'noua', 'агар ', 'seolah-olah', 'কয়েক', 'עלי', 'yüz', 'sesekali', 'noilla', 'awal', 'devetdesetega', 'selalu', 'sath', '人家', 'كأي', '以便', 'mora', 'تبدّل', 'delarik', 'δ’', 'faceva', '万一', 'deinem', 'beginian', 'amma', 'tiap', '嘘', 'hemen', 'trojemu', 'asko', 'তারপর', 'por', 'ὃ', 'facevamo', 'sampaikan', 'mycket', 'هذا', '哪边', 'mintha', 'ولو', 'trojima', 'تاسع', 'menggunakan', '更加', 'funtsean', 'tolikšne', 'estés', 'sareste', 'борт', 'perché', 'how', 'فلس', '哩', 'dagli', 'osemnajstih', 'quien', 'dega', '叫', 'seketika', 'drugačnimi', 'sie', 'banaya', 'haatik', 'petinosemdesetima', 'tebi', 'αἳ', 'sizlər', 'moreta', 'vaše', 'which', 'бы', 'los', 'moremo', 'asta', 'sekadarnya', 'mes', 'prvega', '啦', 'dono', 'kyu', 'anderes', 'vašemu', 'dimaksudnya', 'štiriindvajsetim', 'خبَّر', 'muito', 'онда', 'म', 'enkratna', 'قام', 'most', 'truly', 'nine', 'ἀπό', 'jobban', 'tuviesen', '显然', '凭借', 'تجاه', 'fueseis', 'olleet', 'eram', 'देखेको', 'took', 'bertutur', 'trinajst', 'iste', 'нахот', 'diberikannya', 'алақай', 'может', '下来', '强调', 'nämä', 'telah', 'বিভিন্ন', '进行', 'أمّا', '上下', 'des de', 'যারা', 'dno', 'edo ', 'štirinajstih', \"she's\", 'bár', 'сіздермен', 'none', '这', 'पहिलो', 'najinemu', 'bati', 'тағы', 'आयो', 'faranno', 'sabo', 'ҳам ', 'pote', 'such', 'өзіне', 'katerimkoli', 'baru', 'ta', 'করেছিলেন', 'yahin', 'ingi', 'auf', 'trojno', 'petinštirideseta', 'trikratnima', 'μη', 'below', 'ein', 'ditegaskan', \"l'hi\", 'περί', 'drept', 'зеро ки', 'нибудь', 'inom', 'terbanyak', 'هم', 'আমাদের', 'zein', '也罢', 'diucapkannya', 'сенен', 'berlalu', '这麽', '即若', 'šestdesetima', 'petintridesetimi', 'serta', 'hori', 'estavam', 'jolla', '将', 'sedemnajstim', 'är', 'ريال', 'ella', 'dein', 'सही', 'dvakratne', 'according', 'estar', 'لكنما', 'våra', 'dovolili', 'saranno', 'inc', 'behinik', 'după', 'дәнеңе', 'beyond', '绝对', '要不是', '那么', 'inginkah', 'šesto', '产生', 'অথচ', 'jinke', 'tene', 'απο', 'takima', 'প্রভৃতি', 'katerikoli', 'laster', 'celo', 'siz', 'آناء', 'coi', '当前', 'шаңқ', 'joksi', 'somehow', 'stotera', 'aldiz ', 'vsi', 'قاطبة', 'أجل', 'dere', 'štiriindvajsetih', 'тек', \"you'd\", 'क्रमशः', 'kiska', '使用', 'kdorkoli', 'nikakršnih', 'éppen', 'এ', 'nekakšnemu', 'gainera ', 'jiss', 'के', 'dog', 'כאשר', 'ist', 'اللتان', 'dipersoalkan', 'ποιων', 'কে', 'sara', 'कि', 'ফের', 'muss', 'yo', 'ব্যাপারে', 'musste', 'ὅδε', 'لات', 'nje', 'তাঁাহারা', 'хайр', 'әлдене', 'altijd', 'beraz ', 'berriro', 'mitä', 'tengas', 'nekima', 'от', 'मेरो', 'njegovega', 'جنيه', 'ধরা', 'olisin', 'ҳар қадар ки', 'well', 'turut', 'aquesta', 'regarding', 'تسعة', 'τα', 'olemme', 'theirs', 'tolikšnimi', 'hardly', '相应', 'please', 'кошки ', 'dovoljene', 'dijelaskannya', 'devetnajsta', 'ait', 'facevate', 'حار', 'honi', 'ὥστε', 'trinajsti', 'durante', 'att', 'कसै', 'untuk', '咱', 'itno', 'sedmem', '不敢', 'erdi', 'أولالك', 'ville', 'printr-', 'eures', 'زود', 'diri', 'volt', 'бері', 'becoming', 'eller', 'οὕτως', 'একই', 'হয়', 'diantara', 'tretjega', '完全', 'štirje', '企图', 'nobena', 'तथा', 'διὰ', \"δ'\", 'بنا', 'baizik ', 'tai', 'şi', 'keiksi', '虽说', 'deseterem', 'svojega', 'nostra', 'saat', 'le-tistega', '另外', 'šestih', 'mateixes', 'enaindvajsetima', 'foram', 'trojnima', 'যাওয়ার', 'ucapnya', 'nikogar', '下面', 'berauek', 'ἐμὸς', 'ככה', 'hubo', 'deci', 'câtva', 'যান', 'near', 'যেমন', 'enkratnim', 'drugačnem', 'adica', 'triinpetdesetih', 'svoj', 'তারৈ', 'kinn', 'כך', 'petinosemdesetemu', 'daca', 'horregatik', 'stiate', 'ও', 'minhas', 'estivesse', '不光', 'tvojim', 'ott', 'let', 'iki', 'hiszen', 'әукім', 'étant', 'behind', 'গিয়ে', 'вале', 'onu', 'uses', 'devetimi', 'komurkoli', 'সেই', 'почти', 'tüm', 'أفريل', 'fosti', 'פה', 'semula', 'soalnya', 'najino', 'medse', 'кейбіреу', '直接', 'keillä', 'ау', 'ett', 'etdi', 'באמצעות', 'estàveu', 'aceştia', 'ثان', 'zuzen', 'تحوّل', 'menanya', 'olivat', 'cam', 'trinajstem', 'indi', 'allò', 'yakin', 'petinštirideset', 'kare', 'peteri', 'zmorete', 'lhe', 'anderer', 'căci', 'вам', 'هيا', 'τά', 'مرّة', 'מקום בו', 'kakršnimakoli', '莫若', '先后', 'ezért', 'ثامن', 'নানা', 'trikratne', \"li'n\", 'уа', 'sebisanya', 'তাহাতে', 'kateremu', 'сонымен', 'দেন', 'sullo', 'banayi', 'mío', 'mojim', 'sentid', 'उदाहरण', 'كيفما', '看见', 'marsičesa', 'পরেও', 'ette', 'dipertanyakan', 'হাজার', 'trojni', 'kamulah', 'štirinajstem', '焉', 'মাত্র', 'osemnajstega', 'welcher', 'aux', '哼唷', 'jima', '较之', 'vele', 'mnogo', 'sense', 'dovoljen', 'tolikšen', 'hone', 'বলতে', 'בשביל', 'tiba-tiba', 'inte', 'accordingly', 'hemengo', 'najsi', 'جويلية', 'آهاً', '人们', 'yaitu', 'že', 'বেশ', 'لها', 'kapan', 'না', 'noihin', 'näistä', 'sille', 'তিনিও', 'ف', \"it'd\", 'nobene', 'isə', 'somme', 'didapat', 'meminta', 'sedemdeseti', 'istega', 'negl', 'εἴτε', 'مكانكما', 'بغتة', 'några', 'hvad', 'सम्म', 'petemu', '为什么', 'okoli', 'فرادى', 'vajinim', 'deseterih', 'भन्दा', 'bis', 'ὡς', 'dvajsetim', 'kiranya', 'করি', 'cant', 'catre', '存在', 'le-tistemu', 'भएको', 'propi', 'le-tistima', 'شباط', 'غ', '反过来说', 'olen', 'ὅτε', 'štirinajsto', 'minulta', 'ikkje', 'استحال', '特别是', 'করবেন', 'خلا', 'אותנו', '强烈', 'vahan', 'την', 'egyre', 'batzuek', 'чаро ки', 'disebutkannya', 'enaindvajsetemu', 'punya', 'कसैले', 'ezt', 'obe', 'hark', 'alone', 'vame', 'біздер', 'seiner', 'كلّما', 'accha', 'esandakoaren', 'ji', 'prva', 'izpod', 'ihre', 'marate', 'badere', 'allem', 'mas', 'dvanajsti', 'pel', 'kellett', 'sale', 'рӯacaba', 'skozte', 'то кӣ', 'estaven', 'seriam', 'tes', 'njegovi', 'vostro', 'oseminštiridesetimi', 'один', 'acesta', 'шіңк', 'να', '正常', '得', 'memberi', 'hennar', 'مادام', 'अगाडी', 'unde', 'kitna', 'siete', 'ওঁরা', 'אף', 'сенен\\tонан', 'sjøl', 'valaki', 'করে', 'много', 'कुरा', 'rakhi', 'elõ', 'гөрі', 'verjetno', 'wieder', 'μην', 'edən', 'איתך', 'לבין', 'दोस्रो', 'يورو', 'אותה', 'deres', 'cind', 'quina', 'petnajsta', 'eûtes', 'četrtimi', 'यदि', '如', 'ditunjukkan', 'sedikit', 'ţi', 'tuossa', 'toda', 'apalagi', 'trojna', 'per que', 'mendean', 'čemer', 'mengingat', 'ingat', 'étaient', '先生', 'étés', 'sebesar', '只有', 'egin', 'looking', 'out', 'kolikšna', 'ҳм', 'כלל', \"won't\", 'sebagai', 'då', 'temle', 'atitia', 'niiksi', 'σὺν', 'petinpetdeset', 'prvi', 'فيفري', 'lekar', 'sempat', 'صار', 'erem', 'gotovo', 'হল', 'ее', 'jaisi', 'sebelumnya', 'ברם', 'dvajseto', 'keneksi', 'estivermos', 'semampu', 'estivéssemos', 'biasanya', 'ou', 'suatu', 'devetdeseto', 'hay', 'arra', 'njuno', 'सम्भव', 'osmo', 'أيّ', 'ὑπὸ', 'deja', 'нельзя', 'štiridesetega', 'drugima', 'भन्छन्', 'ҳатто ки', 'πρόσ', 'dimulainya', 'tendrá', 'neke', 'maraj', 'sedemindvajsetih', 'vam', '可能', 'ekkor', 'temos', 'eni', 'troje', 'kamilah', 'যেন', '彻底', 'только', 'dvesto', 'petero', 'замон', 'gutxi', 'nekakim', 'maana', 'bisakah', '为什麽', '如其', 'estadas', 'habré', 'vort', 'bilo', 'dvaindevetdesetim', 'disebut', 'setidaknya', 'kajti', 'شين', 'whole', 'ғұрлы', 'cada', '其实', 'لستما', '您', '严格', 'som', 'worden', 'abia', 'tengah', 'पक्कै', 'шырт', 'mille', '相似', 'tristo', 'sedmimi', 'deseterim', 'boleh', 'nahi', 'jiski', 'furent', 'ezik', '出现', 'haja', 'haiei', 'eurer', 'deras', 'cita', '吧', 'manchem', 'бо нияти он ки', 'mempergunakan', '下去', 'fim', 'those', '充分', 'enggaknya', 'dən', 'هَاتانِ', 'voltunk', 'le-temi', 'já', '防止', 'لهما', 'hubieron', 'إياهما', 'uns', 'أمامكَ', 'هؤلاء', 'οὐδὲν', 'dvestotimi', 'tretjo', '也', 'nous', 'egész', 'قاف', 'ذواتا', 'হচ্ছে', 'kakršenkoli', '与', 'le-tiste', 'عدا', 'tum', 'إياكما', 'from', 'ҳой-ҳой ', 'তিনি', 'בין', 'seine', 'petintridesete', 'az', 'قبل', 'nevertheless', 'keressünk', 'বন', 'became', 'ničemer', '遇到', 'seolah', 'takšna', 'sebut', 'són', 'inka', 'آب', 'হলেই', 'nel', 'dalt', 'ἐπὶ', 'door', 'tadi', 'solament', 'গিয়েছে', 'ταῖς', 'betulkah', 'però', 'juga', 'blitt', 'stoto', 'نبَّا', '虽则', 'hubieseis', 'εκεινοσ', 'yoxsa', 'এত', 'inikah', 'dimungkinkan', 'már', 'yli', 'bane', 'лекин ва ҳол он ки', 'লক্ষ', 'ἀπ', 'איפה', 'sebagaimana', 'alte', 'γάρ', 'oziroma', 'καί', 'itukah', 'kanssa', 'آي', '于', 'acela', 'التي', 'tertuju', 'something', 'estejam', 'avem', 'kesampaian', 'जस्तोसुकै', 'מנין', 'skoraj', '大多数', '于是乎', 'demikianlah', 'kyunki', '宣布', 'لا', 'about', 'lest', 'زعم', 'hočejo', 'nokon', 'под', 'এঁরা', 'তাও', 'afterwards', 'mempertanyakan', 'сізге', 'tentang', 'сайын', 'feu', '对', 'seboj', 'nereye', 'bung', 'ens', 'nimic', 'altı', 'meg', 'سين', 'anybody', 'kitni', 'gaya', 'menjadi', 'गरी', 'devetnajsti', 'è', 'terá', 'ena', 'hendes', '有力', 'ahhoz', 'con', 'ثمنمئة', 'נגר', 'desetemu', 'unseren', 'am', 'এখনও', 'hvem', 'nas', 'أبٌ', 'при', 'dintre', 'aaye', 'sesuatu', 'tuvo', 'elõtt', 'kakšnima', '维持', 'daß', 'ἥ', 'ওঁদের', 'eravamo', 'мұндай', 'hänestä', 'үйт', 'kakor', '要么', 'ha', 'zaradi', 'terus', 'petnajsto', 'نفس', 'njihovi', 'porque', 'لك', 'había', 'vostre', 'žal', 'לכן', 'által', 'lagta', 'барша', 'samma', 'τό', 'فإذا', 'trinajste', '何处', 'llavors', 'kan', 'bas', 'هاته', 'denselben', 'takihle', 'beş', 'nekatero', 'inhi', 'menunjuk', 'sitt', 'tisočerega', 'etter', 'fecero', 'nekimi', 'nekoga', 'fără', 'өзіме', 'מלבד', 'étées', 'سابع', 'vuestros', 'আমার', 'হয়তো', 'teeno', 'অনেকেই', 'sebaik-baiknya', 'थिएन', 'хоть', 'dovolil', 'idk', 'فاء', 'nekatera', 'kari', 'enkratnih', 'dvajsetem', 'avresti', 'würden', 'devetnajstimi', 'êtes', 'যাঁরা', 'dvaindvajsetim', '适当', 'যেখানে', 'יכולות', '保持', 'hadd', 'joka', 'מצד', 'tretje', 'njenima', 'njenim', 'কবে', '应用', '相对', 'zase', 'kolikimi', 'boste', 'هذين', 'unul', 'tivesse', 'صهْ', 'tvoja', 'usse', '吧哒', 'ge', '下列', 'sicer', 'dvanajst', 'noch', 'ειναι', 'einem', 'ini', 'karke', 'ওঁর', 'ক্ষেত্রে', 'они', 'tuviera', '知道', 'наход ки', '即便', 'terasa', 'kenapa', 'dobesedno', 'tenían', 'le-ono', 'לה', 'हरेकog', '谁', 'via', 'smel', 'sois', 'היה', 'even', 'četrtega', 'bin', '而已', 'tive', 'sedmih', 'raz', 'حرى', '表明', 'তথা', 'petstotim', 'رويدك', 'aia', 'triintrideseto', 'stai', 'आत्म', 'teríamos', 'tistemu', 'could', 'ғана', 'triindvajseto', '特殊', '从', 'ditu', 'चाहन्छु', 'avessi', '呢', 'cikk', 'יותר', 'starà', '哪样', 'pe', 'فلان', 'batzuetan', 'yakni', 'vsega', 'тавба', 'hepsi', 'marsičemu', 'marajo', 'bastant', 'orduan ', 'στο', \"mustn't\", 'denne', 'hočeva', 'zijn', 'sebetulnya', '且', 'भन्छु', 'bertzenaz', 'faig', 'welches', '采取', 'doesn', 'تسعين', 'ilə', \"d'unes\", 'tähän', 'حبذا', 'এবং', 'seras', 'dallo', '依', 'עצמם', 'så', 'מדוע', '前进', 'die', 'cukuplah', 'أبدا', 'حمدا', 'take', '咱们', 'tisočerih', 'tolikim', 'mendapat', 'gegen', 'من', 'bunun', 'ما انفك', 'med', 'यसो', 'мәссаған', 'ziren', 'біздермен', 'semakin', 'hasn', 'ahogy', 'οὕτω', 'शायद', 'থাকায়', 'sintem', 'سنتيم', 'sizin', 'sint', 'seves', 'dekho', 'إمّا', 'غدا', 'ай', '有时', '哪儿', 'أنتما', 'enn', 'চেয়ে', 'nd', 'nikakršnima', 'acel', 'dvojnih', 'sejenak', 'দেখতে', 'avevamo', 'tretjimi', 'dalam', 'besides', 'الألاء', 'meer', '有所', 'semasa', 'auront', 'निम्न', 'τοιοῦτοσ', 'إياك', 'आजको', '同', 'another', 'نيف', '个', 'stanno', 'vsakemu', 'atit', 'geweest', 'estas', 'suis', 'keine', 'জানিয়েছে', '看看', 'néha', 'بعدا', 'غادر', 'थिए', '以前', 'tuvierais', 'dieselbe', 'mengibaratkan', 'kolikemu', 'जबकि', 'couldnt', 'همزة', 'bera', 'বলেছেন', 'भए', 'dvojne', 'berau', '倘', 'бе', 'wordt', 'želeno', 'sekaligus', 'ё ки', 'kitno', '那麽', '除', 'staremmo', 'ezek', 'mana', 'dvajsetimi', 'tuviésemos', 'temile', 'ista', 'šele', 'pai', 'ба тразе ки ', 'antar', 'दिए', 'suyas', 'den', 'blive', 'whether', 'мой', 'again', 'dimulai', 'parca', 'sebegitu', 'dvoje', '容易', 'varför', 'totuşi', 'اللاتي', 'ostera', 'before', '同样', 'hasteaz', 'dari', 've', 'anderm', 'प्रति', 'habrás', 'בשעה ש', '避免', 'كثيرا', '随', 'aapne', 'tretjemu', 'menandaskan', 'اللذان', 'سبعمئة', 'njim', 'osemnajsti', 'think', 'सो', '哼', 'kljub', 'ese', 'fora', 'ведь', '扩大', 'kariaz', '即使', 'sedemindvajseta', 'mai', 'marati', 'hva', 'saatnya', 'vas', 'everybody', 'μή', 'dvanajstimi', 'hua', 'kadar', '好象', 'אלו', 'has', 'নেওয়ার', 'diketahuinya', '哇', 'nikakršno', 'niçin', 'جمعة', 'sinulla', 'এদের', 'dvanajstim', 'لهم', 'গেলে', 'tistem', 'lama', 'तेस्रो', 'štirinajste', 'cikkeket', 'হইতে', 'tuyas', 'njunemu', 'ну', 'krne', 'מאיזו סיבה', 'tenir', 'сіздер', 'түгел', 'tristoti', 'tvoj', 'kakršnokoli', 'यद्यपि', 'aya', 'ἐξ', 'tho', 'dvojim', 'aient', 'enough', 'predse', 'keiner', 'šestem', '其二', 'yoxdur', 'drugačen', 'mert', 'بين', 'seréis', 'kalian', 'kakšne', '好的', 'toward', 'astea', 'asal', '遭到', 'জানিয়ে', 'sesegera', 'halaber', 'πρὸς', 'sambil', '自个儿', 'qué', 'saresti', 'ebbi', 'obenj', 'geen', 'ibarat', 'hara', 'כולן', 'fra', 'bagian', 'अलग', 'yox', '同一', 'तापनी', 'eines', 'le-tem', 'utan', 'gero', 'kok', 'phla', 'után', 'avrà', 'enakimi', 'خال', 'mundura', 'takegale', 'তাঁদের', 'whereas', 'осындай', 'бойы', '每年', 'to', 'করবে', 'c', 'оре ', 'तदनुसार', '由此可见', '然而', 'mil', 'say', 'qarşı', 'mightn', 'шамалы', 'soit', 'tiba', 'puc', 'প্রযন্ত', 'agaknya', 'svojem', 'devetemu', 'עליהם', 'তাঁরা', 'προ', 'chahiye', 'सबै', 'দেখা', 'meinem', 'tisočem', 'с', 'oh', '并', 'وَيْ', 'questa', 'komerkoli', 'εκεινο', 'marsikaterima', '深入', 'saben', 'বিনা', 'dini', 'ештеме', 'всех', 'devetnajstih', 'הנה', 'tristotemu', 'bukankah', 'beraiek', 'kata', 'mengerjakan', 'cikkek', 'muy', 'pertanyakan', 'থাকেন', 'trinajstih', 'einige', '出来', 'यो', 'ثم', '欢迎', 'হইয়া', 'হত', '有', 'moje', 'petinštiridesetih', 'čemu', 'čeznje', 'ҷо', 'bodite', 'össze', 'jaha', 'dekha', 'po', 'enake', 'עצמנו', '固然', 'šestnajstim', 'hubiera', '似乎', 'puri', 'takimale', 'עצמו', 'لبيك', 'kine', 'căror', 'ustez', 'useful', 'গুলি', 'להם', 'চালু', 'kakemu', \"hasn't\", 'آ', 'فيم', 'ثمانون', 'petindvajsetem', '个别', 'mogel', 'агар-чанд', 'про', 'dovoliš', 'hər', 'kira-kira', 'bola', 's', 'azután', 'kakršnemu', '则', 'بكن', 'said', 'algunas', 'mutta', 'эътиборан', '别说', 'जसमा', 'ale', 'mele', 'takšnih', 'उनको', 'এসে', 'katerimikoli', 'deine', 'गर्दै', 'أيلول', 'deles', '为', 'həm', 'sejumlah', 'azok', 'vsaj', '某些', 'kakršno', 'পারে', 'zmoči', 'aie', 'পি', 'z', 'deveti', 'behin', 'triindvajsetega', 'τὰ', 'εἴμι', 'enkratnega', 'naproti', 'your', 'ὡσ', 'מול', 'dvaindevetdesetih', 'niille', 'inasmuch', 'σὸς', 'zmoremo', 'ὅστισ', 'masalah', 'هما', 'poori', 'šestdeseta', 'dă', 'begini', 'petintridesetem', 'səhv', 'охир', 'notre', 'nogensmenys', 'näiksi', 'šestnajsta', 'kontuan', 'doi', 'لئن', 'kitalah', 'әлденеше', 'شتانَ', 'facciano', 'uten', 'serious', 'إلَيْكَ', 'وما', 'istih', 'log', 'bizlər', 'njune', 'зеро', 'ets', 'كأن', 'näille', 'consegueixo', 'kabhi', 'es', 'अन्तर्गत', 'sons', 'kehte', 'either', 'belakang', 'सक्छ', 'өзінің', 'dilihat', '因而', 'yahi', 'faceste', 'উপর', 'persze', 'hatte', 'עלינו', 'τι', 'dikarenakan', 'seria', 'बिशेष', 'petnajstima', 'tuvieseis', 'пай-пай', 'halatan', 'إليكَ', 'עם', 'bc', 'tapi', 'whose', '你们', 'einiges', 'করেছে', 'dann', 'jis', '周围', 'барлық', 'berkali-kali', 'bojo', 'अनुसार', 'horko', 'petinštirideseti', 'želita', 'diketahui', 'deg', 'aurais', 'هاتان', 'আগে', 'dvojna', 'במקום שבו', 'zuten', 'jisse', 'ὑμόσ', 'nekem', 'тарс', 'ले', 'osemdesetemu', 'জনকে', 'pogodu', 'bila', 'daripada', 'أربعة', 'οἳ', 'কোন', 'مما', 'yeah', 'vsakima', 'mengenai', 'اربعين', 'أن', 'eri', 'unse', 'njegovemu', 'того', 'барои он ки', 'өй', '也好', 'petinštiridesetemu', 'osemindevetdesetimi', 'সুতরাং', 'عامة', 'kako', 'îl', 'njenemu', 'হয়েছেন', 'sampai-sampai', 'منها', 'через', 'panjang', 'quem', 'eûmes', 'pura', 'resda', 'eus', 'kitne', 'হলেও', 'tumhari', 'bana', 'azért', 'tentu', 'maga', 'δαὶ', 'নেই', 'এতটাই', 'olur', 'aap', 'nam', 'ste', 'toliko', 'sab', '然後', 'sayalah', 'ث', 'berakhirlah', 'их', 'noissa', 'vred', 'és', 'iti', 'नै', '大大', 'son', 'joina', 'dal', 'עצמהן', 'دونك', 'menuju', 'teri', 'বেশি', 'ned', 'то даме ки', 'mulailah', '有利', 'peta', 'ezen', 'kinka', 'saniyə', 'zonder', 'sokkal', 'prvemu', 'kakih', 'япырмай', 'orice', 'menyeluruh', 'sedmemu', '呕', 'cite', '觉得', 'niinä', 'beroriek', 'unho', 'anden', 'inki', 'nekaj', '一来', 'ποτε', 'semaunya', 'trojnemu', 'vpričo', 'til', 'karni', 'étions', 'אבל', 'بئس', 'stareste', 'marata', 'οἷς', 'vahaan', 'kann', 'حاشا', '起来', 'krna', 'unless', 'andern', 'petindvajsetih', 'қызараң-қызараң', 'mereu', 'صهٍ', 'ὑπ', 'ya', 'zuek', 'diungkapkan', 'θα', 'maar', 'estuviéramos', 'ποιουσ', 'يناير', 'היתה', 'niiltä', 'te', '那个', 'enaka', 'più', 'चाले', 'tivemos', 'sekä', 'amelyet', 'petindvajseto', 'ti', 'করতে', 'שלך', 'komaj', 'sentidas', 'الذين', 'оһо', 'lakin', 'ὃς', 'chaiye', 'এস', 'öz', 'bukannya', 'ҳам', 'lehen', 'tema', 'aies', 'аҷабо', 'pehli', 'i', 'عل', 'petega', 'থাকবে', '任', 'ən', 'দুটো', 'ал', 'horrela', 'إياي', 'dede', 'ستمئة', 'তেমন', 'îţi', 'pentsatuz', 'hampir', 'degl', '后面', 'njenem', 'akulah', 'tolikšni', 'otra', '前后', 'такой', 'iyirmi', 'petdesetem', 'sei', 'is', 'setelah', 'যিনি', 'bigarrenez', 'rasanya', 'תחת', 'båe', 'dovolita', 'dia', 'honetan', 'tanto', 'olin', 'aibă', '上面', 'شمال', 'wants', 'sí', 'each', '以下', 'kolikšnim', 'koliki', 'čigavega', 'अर्थात्', 'petindvajsetima', 'ὅ', 'outside', 'তা', 'devetdeset', 'κ', 'حين', 'podnjo', 'desete', 'بيد', '连', 'quale', 'когда', 'אתה', '叮咚', 'tentunya', 'makin', 'boli', 'facessimo', 'مايو', 'মতোই', 'nincs', 'οὐχὶ', 'kiski', 'م', 'эҳ', 'želeti', 'ihr', 'tästä', 'efter', 'ondorio', 'nós', 'njegove', 'ise', 'nella', 'dvainšestdesetimi', '通过', 'liked', 'mentre', 'look', 'moglo', '之後', 'houverá', 'triindvajsetem', 'δαί', 'devetintridesetim', 'جانفي', 'petinštiridesetem', 'morala', 'mjhe', 'تِي', 'too', 'merely', 'štiriindvajsetega', 'prav', 'inkje', 'rad', 'تلكما', 'wollen', 'näiltä', 'cadascuns', 'hain', 'αν', 'dekh', 'әттең', 'seríais', 'până', 'ওর', 'osemnajsta', 'तिनी', 'প্রায়', 'יכלו', 'para', 'le-take', 'tvojem', 'berikan', 'quello', 'কাছ', 'εἴ', 'seeing', 'kateregakoli', 'ذال', 'habe', 'বহু', 'sebelum', 'dvojnega', '哪里', 'erre', 'aceasta', 'täksi', 'ambdues', 'petdeseto', 'mendatangkan', 'hočete', 'terhadapnya', 'أربعمائة', 'jinhi', '清楚', 'اللواتي', 'banai', 'vaale', 'उनले', '或是', 'هَاتِه', 'already', 'bohot', 'osemdesete', 'huh', 'thik', 'waali', 'avreste', 'estén', 'থাকবেন', '应当', 'जसलाई', 'till', 'أخٌ', 'पाँचौं', 'peterih', 'reasonably', 'dibuatnya', 'бізден', 'छु', 'nekateremu', 'keadaan', 'petim', 'ponjo', 'beste', 'devetih', 'לפני', 'dvajset', 'sonst', '什么', 'धेरै', 'بكم', 'vaših', 'হওয়ার', 'bodi', 'واو', 'tidakkah', 'ни', 'menurut', 'abans', 'teu', 'against', \"hadn't\", 'le-tak', 'vor', 'hogyan', 'era', 'баъд', 'najinim', 'stotem', 'יכלה', 'disini', 'inclòs', 'मा', 'tri', 'هَذا', '高兴', 'cadascú', 'totul', 'fossi', 'triintridesetemu', 'artıq', 'מדי', 'enim', 'percuma', 'ampak', 'sesaat', '那时', 'στη', 'diminta', 'many', 'hortaz', 'btw', 'njegovima', 'hayas', 'أجمع', 'tabh', 'njegova', 'sering', 'сейчас', 'marsikatere', 'çok', 'него', 'onima', 'iske', 'štirinajstimi', 'haan', 'كلما', 'zen', 'devetnajsto', 'sejak', '某个', '至', 'melainkan', 'ठीक', 'вдруг', 'pour', 'berapa', 'ειμαι', 'él', 'עצמהם', 'its', '罢了', 'tienen', 'moet', 'ex', 'tra', 'toată', 'bolehkah', '甚至', 'noin', 'iski', 'sedemnajsta', 'tune', '怎样', 'mu', 'dovolile', 'di', 'יכולה', 'desetera', 'כזה', 'देखियो', 'dimaksudkannya', '况且', 'бізбен', 'пай', 'four', 'hočeš', 'smeli', 'lui', 'feci', 'stotero', 'štirinajst', 'altre', 'dies', 'això', 'том', 'шояд ки', 'their', 'njegovim', 'stiano', 'প্রাথমিক', 'tahu', 'والذي', 'man', 'acestea', 'perquè', 'sinuun', '相对而言', 'nikakršna', 'ἄλλοσ', 'oriunde', 'dilalui', 'istimi', 'houverem', 'jin', 'kolika', 'dvakratna', 'sedme', 'sitta', 'jetzt', 'olla', 'menanti', 'প্রথম', 'artinya', 'njunega', 'atita', 'näiden', 'starebbero', 'oder', 'ωσ', 'komer', 'معاذ', 'khud', 'أهلا', '那边', 'כן', 'želelo', 'cuma', 'diingatkan', 'olmaz', 'bad', 'hun', 'איתו', 'jumlahnya', 'יש', 'le-tistem', 'hasi', 'le-tisti', 'bizim', 'سبع', 'kenellä', 'bagaimanapun', 'ة', 'osmimi', 'nekaterim', 'krog', 'τοί', 'estuvieras', 'kyaa', 'pot', 'phli', '沿', 'karunga', 'jabh', 'माथि', 'della', 'sedeminšestdesetimi', 'so', 'various', 'eusse', '呀', 'dimaksudkan', 'know', 'זות', '最后', 'le-tisto', 'таяу', 'takimle', 'jahaan', 'sarete', 'eno', 'biraz', 'estuvimos', 'أول', 'pocs', 'unhone', 'le-takšne', 'ἀλλὰ', 'ليسا', 'dijawab', 'لم', 'dieselben', 'birşey', 'sekali', 'tisočimi', 'пішту', 'dipunyai', 'jos', 'seremos', 'nokre', 'drugačni', 'ezpada ', '哪', '最近', 'werd', 'себе', 'petinsedemdesetih', 'vahi', 'ن', 'vajinimi', 'আদ্যভাগে', 'модоме ки', 'по', 'esta', 'terjadinya', 'কোটি', 'sekalipun', 'চলে', 'ورد', 'diingat', 'आफ्नै', 'og', 'kiske', 'atitea', 'sugl', 'memerlukan', 'teriam', 'qui', 'tenim', '有些', 'osemdesetem', 'drugačno', 'אלה', 'kinke', 'både', 'تين', 'dua', 'šestnajsti', 'বি', 'אשר', 'יוכל', 'для', '已经', 'маңқ', 'шек', 'moji', 'שלכן', 'меня', 'oricând', 'ison', 'diye', 'berupa', 'جلل', 'česarkoli', 'תהיה', '嘎登', 'до', '看出', 'mykje', 'sup', 'petintrideseta', 'get', 'doar', 'ἀλλ’', '争取', 'nagyobb', 'ţieи', 'pome', 'pata', '在', 'أنّى', '怎么样', 'digunakan', 'umum', 'יכול', 'smeti', 'إى', 'bandi', 'ظ', 'bilkul', 'siamo', 'قطّ', 'kaisi', 'triindvajsete', 'вот', 'yours', 'ز', 'setiap', 'étants', 'vsakega', 'najinih', 'empat', 'honetaz', 'sploh', 'hers', 'vostri', 'tisočerem', 'alag', 'estaré', 'memulai', 'سبحان', 'γα^', 'tänä', 'ilyen', 'jadi', 'triindvajsetima', 'etmə', '整个', 'ea', 'dvainšestdesetih', 'devetdeseta', 'esteja', '向', 'nyt', 'egyik', '适用', 'bht', 'dvajsetima', 'eşti', 'кто', 'people', 'el', 'hingga', 'өйткені', 'ăştia', '还是', 'মধ্যভাগে', 'cînd', '尤其', 'isse', 'nadnje', 'karun', '所', 'està', '是否', 'aslında', 'به', 'ар', 'هنالك', 'desetega', 'il', 'kasuaz', 'osmem', 'itak', 'le-taki', 'fanno', 'inni', 'felé', 'stavo', 'maral', 'مازال', 'hayan', 'čigava', 'šestega', 'διά', 'נו', 'dhang', 'zwar', 'terutama', '照', 'menambahkan', 'todo', 'šeststotih', 'fara', 'ই', 'bol', 'عاد', 'ах', 'voastră', 'sedang', 'taki', 'njihovo', '她的', 'bli', 'كأنّ', '其余', 'with', 'үшін', 'بهم', 'tivéssemos', '故此', 'hor', 'rha', 'tertentu', 'hänen', 'looks', 'trideseto', 'चार', 'était', 'tuyos', 'hmm', 'ovat', 'aadi', 'tha', 'semata', 'ছিল', 'нет', '良好', 'aquele', 'του', 'sobre', 'לו', 'dvojnima', 'hotaa', 'করিয়ে', 'több', 'بَلْهَ', 'tuolle', 'ditanya', 'sebab', 'kakršnihkoli', 'or', 'marveč', 'couldn', 'apni', 'মাধ্যমে', 'vos', 'noe', 'cü', 'мынау', 'questi', 'hvordan', 'ешқандай', 'jawab', 'lângă', '按照', 'tolikima', 'ভাবে', 'avrei', 'forem', 'svoja', 'något', 'tant', 'minun', 'spričo', 'enajstim', 'itne', 'מחוץ', '普通', 'tuohon', 'cukupkah', 'consigueixes', 'өзің', 'guztia', 'ألفى', 'tivera', 'njimi', 'বিষয়টি', '假使', 'och', 'pelas', 'ami', 'über', 'štirideseto', 'على', 'katerimakoli', 'tolikšna', 'malahan', '她们', 'я', 'سبت', 'kdo', 'ذي', \"n'he\", 'она', 'deze', 'petinpetdesetih', '广大', 'hue', 'kaise', 'sepantasnya', 'اللائي', 'nichts', 'cele', 'lagian', 'unserem', 'لكما', 'اثنين', 'poleg', 'čemerkoli', '啐', 'ὅστις', 'كم', 'sedemindvajseto', 'ὅθεν', 'بَسْ', 'tuona', 'ketä', 'آهٍ', 'bodo', 'štirideseta', 'tus', 'veya', 'бұндай', 'уҳа', '若是', 'сенің', 'dort', 'осы', 'দিয়েছে', '最後', 'aceea', 're', 'wahai', 'olisitte', 'ennek', '纵使', 'ut', 'vaš', 'mis', '何况', '注意', 'woh', '换言之', \"isn't\", 'নিজে', 'sinusta', 'ibaratkan', 'mivel', '使得', 'сізден', 'eze ', 'vsa', 'j', 'njunih', 'lesz', 'štirinajstima', 'jinhone', 'tengáis', 'למטה', 'karte', 'serei', 'tan', 'ὅς', 'tanya', 'few', 'dus', \"d'un\", 'avesse', 'iemand', 'jeder', 'hargatik', 'non', 'olisivat', 'bəzi', 'masihkah', 'zenbat', 'naše', 'questo', 'dvojima', 'neden', 'dvaindevetdesetega', 'secukupnya', 'আপনি', 'أضحى', 'avevi', 'vsakem', 'কত', 'kolikem', 'bulan', 'bahut', 'quelle', 'demi', 'šestnajstimi', 'serás', 'molta', 'doilea', 'štirinajstim', 'أنبأ', 'αυτεσ', 'সি', 'sedangkan', 'ӯҳӯ', 'kolikega', 'und', 'medan', 'kolikšen', 'conseguir', 'k', 'ӯ', 'devetintrideset', 'želiš', 'otras', 'än', 'jelaskan', 'dialah', 'conseguim', '依照', 'vaikka', 'marsikateri', 'kaunsa', 'našimi', 'বার', 'يا', 'zal', 'tisto', 'enak', 'другой', 'itni', 'volna', '纵', 'machen', 'unei', '他', 'câte', 'জানানো', '结合', 'dig', 'petera', 'পরে', 'أوه', 'عند', 'können', 'able', 'allo', 'kolik', 'انبرى', '达到', 'would', '不要', 'gets', 'olar', 'देखे', 'decit', 'ором', 'bederik', \"they'd\", 'cı', 'সব', 'seven', 'deira', 'avremmo', 'mereka', 'τοῖς', '不问', 'devetnajste', 'theres', 'hon', 'wahan', 'willing', 'mesmo', 'aquela', 'når', 'ғайри', 'নতুন', '连同', 'إياكم', '造成', 'كاف', 'berarti', 'kolikšnimi', 'katakanlah', 'teva', 'keep', 'فو', 'علق', 'sidan', 'pula', '现在', 'менімен', 'бірнеше', '相等', '具体说来', 'triindvajseti', 'sedemindvajset', 'using', 'på', 'abbiamo', 'أخبر', '每当', 'therein', 'mojega', 'אצל', 'tältä', '那儿', 'اثني', 'олармен', 'kenelle', 'cine', 'rakh', 'মধ্যেও', 'preden', 'trije', 'ityadi', 'моһ', 'mely', 'fiţi', 'takimi', '之所以', 'shan', \"needn't\", 'تخذ', 'drugačnih', 'habrán', 'نا', 'οπωσ', 'emme', 'terei', 'jinhe', '伟大', 'و', 'אל', 'vagyok', 'heistä', 'putini', 'tendremos', 'egyéb', 'iss', 'les', 'অবধি', 'najinega', 'avessero', 'مع', 'নাই', 'কাছে', 'τότε', 'štirih', 'diesen', 'druge', '获得', 'fii', 'أربعمئة', 'মতো', 'wir', 'like', 'pelo', 'εκεινων', 'арнайы', 'kim', 'seveda', 'ungkapnya', 'begitukah', 'ব্যবহার', '确定', 'apoi', 'petstotih', 'ton', '随著', 'stotemu', 'olisimme', 'вой-вой', '旁人', 'treilea', 'petindevetdesetim', 'sejam', 'ezperen ', 'ordura', '不拘', 'pela', 'gli', 'vsako', '一些', '通常', 'bodiva', 'rhi', '叫做', 'sakta', '及其', 'stando', 'houvemos', '有关', 'morata', 'osterantzean ', 'despre', 'petindevetdesetih', 'mogle', 'থেকেই', '那里', 'facendo', '比如', 'imi', 'le-takšnega', 'азбаски', 'toch', 'voi', 'то вақте ки', 'much', 'το', 'دال', 'šestnajstima', 'else', 'together', 'memperkirakan', 'عجبا', 'فوق', 'prin', 'alabaina', 'تفعلون', 'εἰμὶ', 'শুধু', 'habremos', 'tegas', 'aata', 'рӯйи', 'mía', 'ط', 'dago', 'devetdesetemu', 'amaitu', 'elə', 'jinho', 'nişte', 'қайсыбір', 'गरि', 'berlebihan', 'primer', 'طاق', 'seus', '不够', 'dvojen', 'tistimi', 'haqqında', '迅速', 'poora', 'этот', 'nekakšnimi', 'صاد', 'enaintridesetimi', '以至', 'horren', 'गर्छ', 'فيما', 'أوّهْ', 'hotela', 'ternyata', '无宁', \"we'll\", 'enajst', 'svojimi', 'বলা', 'dvestoto', 'jenem', 'šestnajstemu', 'ظنَّ', '组成', 'houvesse', 'szerint', '那么些', 'doosre', 'keterlaluan', '朝', 'where', 'enajstemu', 'طالما', 'lewat', 'آمينَ', 'četrtim', 'petinosemdesetega', 'sit', 'takšnem', 'behintzat', 'estiver', 'ihren', 'עליכם', 'teen', 'tuvisteis', 'hvilke', '它们的', 'aveţi', 'veu', 'जान', 'sein', 'četrto', 'diinginkan', 'ezta', 'यी', 'meyakinkan', '即或', 'গেছে', 'també', 'nekaterem', 'mengucapkan', 'kolikšnem', 'fueran', 'ze', 'facessero', 'गरौं', 'مكانَك', '满足', 'его', 'spre', '毋宁', 'altres', 'ἐγὼ', 'tenhamos', 'fûtes', 'along', 'njenega', 'oricît', 'הוא', 'далаң-далаң', 'об', 'sepanjang', 'keille', 'osemdesetimi', 'enkratni', '或者', 'арс', \"ain't\", 'melihatnya', 'estabas', 'vårt', 'toate', 'horratik', 'যাওয়া', 'egyes', 'berturut-turut', 'sus', 'ستمائة', 'दिनुहुन्छ', 'anders', 'dekhi', 'noko', 'tegen', 'issi', 'ειμαστε', 'қайқаң-құйқаң', 'hauek', 'была', 'supaya', 'diakhirinya', 'bodita', 'عليك', 'لكن', 'como', 'μὴν', 'takole', 'trikratnim', 'stessimo', 'o', 'teboj', 'habíamos', 'emilyen', 'यसको', 'tanyakan', 'uneori', 'উত্তর', 'našima', 'eit', 'ешқашан', 'και', 'õk', 'bilakah', 'skoznje', 'olsun', 'מכיוון', 'алайда', 'elas', 'trojim', 'sera', 'allow', '不惟', 'күшім', 'onder', 'precej', 'עליה', 'dai', \"it'll\", 'ingen', 'বলেন', 'əlli', 'vseh', 'dovolite', 'қаңқ-қаңқ', 'rhaa', 'usai', 'devetega', 'alhora', 'εἰσ', 'kogar', 'njene', 'উচিত', 'sejauh', 'koli', 'ante', 'melihat', '设使', 'hočem', 'rakhen', 'تفعلان', 'vaši', 'даже', 'ezezik', 'domala', 'тыңқ', 'missä', 'بؤسا', 'ba', 'επ', 'solchen', 'ditandaskan', 'kinilah', 'facesti', 'done', 'kaj', 'le-tej', 'тарбаң-тарбаң', 'devetdesete', 'étais', 'weren', 'қалт-құлт', 'moral', 'thereafter', 'ihrer', 'estaríamos', '常常', '不得', 'jinn', 'كي', 'overall', 'hier', 'col', 'sinua', '之一', 'jika', 'geroago', 'beforehand', 'jener', 'جوان', 'teves', 'حادي', 'kakega', 'kimi', 'नौ', 'miltä', 'ἀπὸ', 'iskaa', 'avrai', 'étante', 'कुनै', 'राखे', 'δὲ', 'walau', '主张', 'oi', 'main', 'ана', 'deseteremu', 'oleh', 'аё', 'रही', 'छू', 'tisočerimi', 'kiye', 'baino', 'amongst', 'waala', 'olisi', \"d'una\", 'ayez', 'bertzalde', 'fossero', 'aceşti', 'tolike', 'fummo', 'درهم', 'triindvajsetemu', 'باء', 'ului', \"ἀλλ'\", 'هَذانِ', 'vsem', '帮助', 'sue', 'rade', 'mange', 'hona', 'guna', 'כי', 'מאד', 'নিয়ে', 'thanx', 'le-one', '大家', 'μὲν', 'tivéramos', 'бояд', 'বরং', 'vajina', 'tem', 'estuvieran', 'hos', 'vsakogar', 'তাদের', 'a', 'त्सैले', 'чӣ', 'dovolimo', '得到', 'estem', 'ذينك', 'osemnajsto', '广泛', 'perlukah', 'олардың', 'ἀφ', 'teihin', '哎哟', 'setiba', 'אנחנו', 'serons', 'كاد', '反应', 'wont', 'ثلاثاء', 'тағыда', 'nobenega', 'ἐστι', 'हरे', 'smele', 'היא', 'predme', 'этой', 'lebih', 'teistä', 'abbe', '总结', 'tisoče', 'כמו', 'nobeni', 'vi', 'менен', 'أيها', '接着', 'šestimi', 'tetapi', '这么样', '许多', 'needs', 'deseta', 'как', 'nekakšna', 'भित्र', 'faremo', 'no', 'mod', 'איתן', 'nello', 'tridesetima', '不久', 'besterik', 'tadinya', 'пфша', 'lima', 'bojda', 'азбаски ', 'איך', '果然', 'prvem', 'sin', 'εαν', '具体', 'mal', 'לנו', 'لسن', '今天', 'pehle', 'avrete', 'על', 'blivit', '依靠', 'এব', 'kakršne', 'nog', 'जसबाट', 'غالبا', 'petere', 'meu', 'sul', 'মোটেই', 'štiristotih', 'dekhe', 'bei', 'estiveram', 'cukup', 'mă', 'às', 'كيف', 'осылай', 'seenaknya', 'kurang', 'hendaklah', 'berlangsung', 'sedemsto', 'otherwise', 'हो', 'onsuzda', 'koliko', 'are', 'hubiste', 'كلا', 'ҳа', 'unlikely', 'kateri', 'aisi', '可以', 'эҳа', 'had', 'stoter', 'menegaskan', '呵', '总的来说', 'štiriindvajsetemu', 'ono', 'navkljub', '根据', 'এমন', 'بعد', 'hasnt', 'kakršni', 'nobody', 'however', 'ο', 'tersebutlah', '喂', 'avaient', 'sedeminšestdesetih', 'alatt', 'hartan', 'dvakratnega', 'ont', 'tristotem', 'desetere', 'بات', 'uma', 'trikratnimi', 'sebe', 'marsikaterem', '关于', 'marale', 'εκεινουσ', 'sådan', 'tine', '乎', 'kisliye', 'setengah', 'jiske', 'vsakomur', 'ghar', 'kinho', 'شَتَّانَ', 'τήν', 'निर्दिष्ट', 'fueses', 'dikatakan', 'wirst', 'hadn', 'batera', 'qu', 'ao', 'šeststotim', 'ё', '地', 'হতে', 'rá', 'bermacam', 'avremo', 'welchem', 'হয়েছে', 'baldin', 'bakal', 'hasta', 'تعلَّم', 'حزيران', 'nihče', 'habían', 'সাধারণ', '具体地说', '无论', 'alta', 'čezenj', 'regards', 'naš', 'ill.', '少数', 'bigarrenik', 'করাই', 'কিছুই', 'tuturnya', 'bova', 'que', 'merekalah', 'icke', 'vašimi', 'hango', 'vajinih', 'avranno', 'olmuşdur', 'لستم', 'প্রতি', 'יהיה', 'novel', '因', '怎么办', 'jota', 'ci', 'সেটাই', 'újabb', 'meidät', 'নেওয়া', 'একে', 'menantikan', 'dovolijo', '望', 'just', 'takele', 'অবশ্য', 'त्यो', 'düz', 'sina', '冲', '不如', 'näihin', 'štiridesete', 'más', 'também', 'দেয়', 'except', '第', 'essas', 'huye', 'le-takšno', 'ay', 'le-takemu', 'morajo', 'ليرة', 'rahaa', 'nekih', '属于', 'sokat', 'normally', 'unora', 'placed', 'gaye', 'derselben', \"haven't\", 'zamanahala', 'furono', 'иногда', 'tretjih', 'nostru', 'hubieran', 'nobenim', 'চার', 'अर्थात', 'dimisalkan', '为了', 'karenge', 'triinšestdeset', 'এটা', 'olet', '今后', '这里', 'för', 'kahaa', 'deinen', 'yeh', 'ওদের', 'varit', 'yadi', 'suya', 'ءَ', 'mengapa', 'бәрекелді', 'uneia', 'tridesetega', 'यसबाहेक', '不是', '形成', 'أصلا', 'ri', '吓', 'pertama', 'অর্থাত', 'triinpetdesetim', 'puţină', 'triindvajset', 'आफ्नो', 'mojem', 'رأى', 'some', 'perlunya', 'айтпақшы', 'еш', 'mig', 'vsake', 'biti', 'os', 'karen', 'nobenemu', 'сіздің', 'benar', 'bande', 'etwas', 'hoteli', 'mendatangi', 'anyone', 'إليك', 'čimerkoli', 'desetima', 'šestintrideset', '既然', '比较', 'war', 'د', 'second', 'antaranya', 'mengingatkan', 'hoteti', 'aurez', 'перед', 'əslində', 'antara', 'bunu', 'tuon', 'nama', 'أنشأ', 'els', 'اللذين', 'tolikšnih', 'keistä', 'vart', 'איתה', '认真', 'আই', 'către', 'self', 'dvanajsto', 'sekurangnya', 'dituturkan', 'off', 'إنَّ', 'contra', 'everything', 'ثلاثون', 'bhitar', 'sedemdesetih', '越是', 'хуш', 'شبه', 'želim', 'oricare', 'দিন', 'পারি', 'गरेका', \"he's\", 'facevo', 'איזה', 'sadəcə', 'keinem', 'ἅμα', 'хорошо', 'šestdeseto', '她', '而言', 'οὗ', 'ye', 'šestdesetim', 'osemnajstemu', 'jona', 'enajsta', 'honebestez', '而外', 'meihin', 'будто', 'sepihak', 'अक्सर', 'său', 'kiya', '总的说来', 'est', 'dovolim', 'يوليو', 'jisme', 'joiden', 'towards', 'jenes', 'সামনে', 'maralo', 'altcineva', 'sedemindvajsetima', 'noita', 'lol', '密切', 'সহিত', '大力', 'teniendo', 'агар-чи ', 'छन्', 'unor', 'kom', 'njunem', 'কেন', 'কোনো', 'مثل', 'houvera', 'sinulta', '咋', 'أفعل به', 'will', 'aquestes', '之类', 'einiger', 'يمين', 'ওকে', 'drug', 't', 'tanta', 'ποιο', 'করলে', 'seriously', 'אותי', 'tisti', 'ə', 'انقلب', 'kakšnim', 'sarei', 'vajinima', 'খুব', 'ماي', '其', 'kya', 'ستة', 'namesto', 'kaafi', 'necessary', 'أنى', 'গিয়ে', '大批', 'whereby', 'بضع', 'tém', 'there', 'какая', 'saare', 'tämä', 'cineva', 'hossen', 'τούσ', '不只', 'নাকি', 'amelynek', 'bawah', 'horietan', 'عشرة', 'faccia', 'best', 'dvaindevetdesetem', 'ii', 'ὅπερ', 'avea', 'tinha', 'sekurang-kurangnya', 'μετά', 'heiltä', '具有', '不但', 'кошкӣ', 'avais', 'تانِ', 'enakega', 'keluar', '巨大', 'trinajsta', 'drugimi', 'गए', 'ells', 'kdor', 'šestindvajset', 'gabe', 'akhiri', 'petintridesetega', 'εκεινη', 'chi', 'badarik ', 'bagaimanakah', 'beraz', 'सट्टा', 'ειστε', 'ezzel', '重新', 'ask', 'got', 'thru', 'מהיכן', 'anar', 'above', 'tandasnya', 'vsakršni', 'संग', 'bolo', 'впрочем', 'هَذِه', 'إيهٍ', 'bata', 'pak', 'hoti', 'әрқалай', 'कहाँबाट', 'serais', 'triinšestdesetih', 'tridesete', 'patru', 'quanta', 'تسع', '鉴于', 'moram', 'जब', 'vuestras', 'kenen', 'шіркін', 'متى', 'مئتان', \"wouldn't\", 'надо', 'minulla', 'peterem', 'koska', 'com', 'poder', 'deşi', 'nečesa', 'šestindvajsetih', 'zmore', 'raha', 'ҳмм', 'wohi', 'эту', 'ἐὰν', 'أبريل', 'שלכם', '至于', 'lhes', '适应', 'tuyo', 'ayons', 'vsema', 'әркім', 'neki', 'ербелең-ербелең', 'sedemdesetemu', 'আবার', 'pentru', 'sejamos', 'once', 'isne', 'šeststo', 'ها', 'verte', 'njega', '立即', 'cu', 'unke', 'τοῦ', 'vere', 'كلَّا', 'saara', 'তাঁর', 'זה', 'em', '乃至', 'oni', 'nekakem', 'apne', 'tinc', 'štirideseti', 'сам', 'ؤ', 'কেউ', 'itse', 'diantaranya', 'von', '阿', 'sedemnajst', 'hende', 'estat', 'atata', 'poc', 'dvanajstima', 'пырс', 'هذان', 'אתן', 'nekakšni', 'belül', 'οτι', 'тарс-тұрс', 'pels', '同时', 'ham', 'che', 'njegovimi', 'बाहेक', '积极', 'estuviste', 'zanje', 'ses', 'devetdesetih', 'sehingga', 'fûmes', 'ثلاث', 'seseorang', 'себя', 'viel', 'אחרי', 'tisočo', 'll', 'edir', 'سوف', 'बाहिर', 'где', 'aquell', '纵令', 'takšnimi', 'כאן', 'anyhow', 'begge', 'ἧς', 'milyen', 'selamanya', 'oricât', '嘎', 'أل', 'bukanlah', 'čim', 'enaintrideset', 'aurrera', 'митың-митың', 'tristotim', 'aos', '看来', '假如', 'ele', 'σὺ', 'fece', 'houvéssemos', 'õket', 'гар ', 'ἂν', '本着', 'poques', '例如', 'fareste', 'mí', 'jag', 'iz', 'mie', 'اربعون', 'estaríais', 'mîine', \"mightn't\", 'doing', 'derer', 'біреу', '做到', 'kuch', 'جعل', 'бірге', 'halako', 'করেছেন', 'fa', 'whoever', 'disinilah', '之', 'hebben', 'asalkan', 'hennes', 'devetnajstim', 'eine', 'kakršnakoli', 'خمسون', 'nanjo', '只要', 'то ки', 'בתוך', 'ihres', 'tău', 'wong', 'hogi', 'le-onim', 'سوى', 'šestnajstem', 'varte', '用', 'إذ', 'tal', 'ditanyakan', 'sinilah', 'unhe', 'oseminštirideset', 'nekaterih', 'канӣ', 'अरुलाई', 'melyek', 'ফলে', 'eğer', 'агар ки', 'badarik', 'trojega', 'čigavima', 'želite', 'njunim', 'sedemnajstemu', 'потому', 'želimo', 'пеш', 'حيَّ', 'जो', 'usne', 'cand', 'mult', 'لستن', 'صبرا', 'trikratnem', 'nahiz', 'מבעד', 'ҷуз', 'три', 'bunların', 'देखेर', 'estuvieron', 'želijo', 'horrenbestez', 'setidak-tidaknya', 'néhány', 'ҳай-ҳай ', 'karega', 'бүгжең-бүгжең', 'voltak', '过去', 'tristoto', 'aur', 'diibaratkannya', 'أخو', 'παρὰ', 'éramos', '以后', 'uno', 'berjumlah', 'всю', '抑或', 'niistä', 'שוב', 'hat', 'joissa', 'लाई', 'joille', 'kolikih', 'takšnega', 'sedemdeseto', 'njunima', 'bheetar', 'মধ্যে', '那么样', 'שלי', 'ones', 'wagaira', 'ئ', 'sesuatunya', 'nadenj', 'batao', 'aveste', 'noista', 'nach', 'since', 'vaisa', 'karta', 'যথেষ্ট', 'after', 'alt', 'vsemi', 'zmoreva', 'niet', 'prvima', 'μἐν', 'jelas', 'deseto', 'joista', 'ستين', 'مهما', 'तिमी', 'detta', 'сондай', 'le-takih', 'dvojega', 'meiltä', 'le-takimi', 'أنًّ', 'ура', 'мана', 'hatten', 'উনি', 'wenn', 'berada', 'malone', 'morebiti', 'كذا', 'selama', 'нас', 'petdesetemu', 'smeva', 'fussiez', 'dall', 'noina', 'pehla', 'atunci', 'devetstotih', 'fiecare', 'সহ', '开外', '乘', 'éreu', 'את', 'ez', 'tisočer', 'لو', 'mina', 'vsakim', 'איתנו', 'tue', 'за', 'bodisi', 'οὓς', 'amb', 'eussiez', '即', '要不', 'kinki', 'at', 'nagyon', 'sintiendo', 'goes', '这会儿', 'smete', 'kaha', 'mampu', 'বলল', 'my', 'dessen', 'यथोचित', 'tantes', 'оббо', 'sull', 'mogla', 'men', 'naar', 'onstran', 'enajstimi', 'مذ', 'devete', 'nek', '要是', 'auras', 'stavano', 'kakršnimi', 'haietan', '却不', 'enemu', '这时', 'آض', 'iets', 'does', 'izmed', 'petnajst', 'trojne', '除了', 'шаңқ-шұңқ', 'th', 'οσο', 'osemnajstimi', 'wird', \"n'hi\", 'cei', 'tempat', '以後', '着呢', 'example', 'ничего', 'le-onemu', 'مارس', 'dess', 'ҳо ана', 'tăi', 'şu', 'estávamos', 'nekako', 'četrtem', 'diperlukannya', '虽', 'حاء', 'estuvieses', 'triintridesetim', 'tretjim', 'häneltä', 'אך', 'zer', 'éssent', 'ғұрлым', '宁', 'unii', 'eddig', 'waktu', 'sedemnajstih', 'خامس', 'kalaulah', 'хом?ш', '出去', '纵然', 'ঠিক', 'olaraq', 'tenía', 'dvakraten', 'هلم', 'هاتين', '并且', 'le-takšnim', 'kajne', 'čem', 'hänessä', 'kinko', 'quin', '成为', 'yeddi', '几', 'siinä', 'hogy', 'mean', '要求', '对应', 'әттегенай', 'জনের', 'acea', 'أمامك', 'sekali-kali', 'asa', 'لما', 'sulle', 'fusses', 'blev', 'hemendik', 'ketkä', 'الذي', 'sen', 'terakhir', 'mulai', 'سحقا', 'nossos', '全面', 'zgolj', 'mungkin', 'le-takim', 'hab', 'stessi', 'لهن', 'হয়ে', 'atau', 'nekakšno', 'soll', 'шейін', 'zanju', 'quite', 'tabo', 'он', 'diya', '今年', 'עליהן', 'selv', 'ҳарчанд', '你的', 'dipastikan', 'houve', '加以', 'бүкіл', '而', 'sendirinya', 'cadascuna', '移动', 'ucap', 'صدقا', 'lap', 'হওয়া', 'जाहिर', 'nisva', 'тоже', 'οὗτος', 'fiu', 'druga', 'warst', 'uss', 'vajine', 'jonka', 'habrá', 'chalega', 'selain', 'tolikem', 'görə', 'tivessem', 'mijn', '后来', 'le-takem', 'étantes', 'manche', 'karkoli', 'tanpa', 'себебі', 'həmişə', 'नत्र', 'ditunjuknya', 'إنه', 'কাজ', 'κατ', 'аз-баски ', '行动', 'avut', 'berturut', 'stota', 'még', 'haver', 'nem', 'actually', 'huyi', 'tinham', 'estuvo', 'но', 'isti', 'dvojnem', 'padahal', 'zmorejo', 'astfel', 'lehetett', 'nekega', 'tristota', 'mara', 'сіз', '相反', 'nai', 'mostly', 'ketika', 'nyatanya', 'tienes', 'anyways', 'tvoji', 'नि', 'peterima', 'arasında', 'yangad', 'হয়েই', 'estamos', 'le', 'teníais', 'وراءَك', 'izza', '俺们', '根本', 'depois', 'doqquz', 'aku', 'всегда', 'তাকে', 'legalább', 'fir', 'yah', 'marsičem', 'katerimi', 'ἄλλος', 'tolikih', 'اثنان', '集中', 'kunnen', 'hočeta', 'enkratno', 'خمس', 'inginkan', 'donde', '自己', '各自', 'handik', 'petdeset', 'गैर', 'into', 'queste', 'menunjuki', 'kahte', 'tons', 'אותן', 'dituturkannya', 'onlar', 'karegi', 'sedma', 'štirinajsti', 'míg', 'satu', 'waktunya', 'সে', 'ذين', 'құр', '受到', 'takega', 'كليهما', '可见', 'euer', '一面', 'δαίσ', 'several', 'kakšnemu', 'ničemur', 'kakršnima', 'takšno', 'nobenih', 'যার', 'kolikšno', 'od', '总的来看', 'setibanya', 'jidhar', 'només', 'সঙ্গেও', 'stettero', '跟', 'kisne', 'aqueles', 'πως', 'vrh', 'nostre', 'četudi', 'ҳтимол', 'vannak', 'memihak', 'saber', 'petindvajset', 'estaba', 'oricum', 'هَاتِي', 'هاكَ', 'seeming', 'werde', 'יכולים', 'nekak', '还有', 'primul', 'õ', 'petinosemdesete', 'का', 'in', 'jelaslah', 'namreč', 'hão', 'trinajstemu', 'будет', 'tvojima', '哎呀', '既是', 'tristotih', 'delle', 'бо вуҷуди он ки', 'vocês', 'stoteri', 'obema', 'ma', '来', 'eg', 'ala', 'ἐφ', 'עז', 'triinpetdeset', 'منذ', 'pedig', 'nosso', 'sedmi', 'خاصة', 'біздерге', '开始', 'hotimo', 'petinštiridesetimi', 'during', 'oba', '什麽', 'naju', 'sedeminpetdesetimi', 'वरीपरी', 'сіздерден', 'kin', 'δή', 'berlainan', 'uske', '反映', 'ثمة', 'tretja', 'karti', 'incit', 'njenih', 'behinola', '咦', 'n', '特点', 'vous', 'nanju', 'tendría', 'cît', 'jól', 'ollut', 'une', 'بعض', 'ali', 'pertama-tama', 'kuchh', 'niin', 'oseminštiridesetim', 'أمد', 'রেখে', 'vaša', 'tak', 'waisa', 'katanya', 'чунон ки', 'starò', 'tuas', 'enajstega', 'diperkirakan', 'met', 'le-onega', 'দিয়েছেন', 'nou', 'estuvieseis', 'šestnajstega', 'azonban', 'masa', 'ли', 'sugli', '一下', '重大', 'waale', '到', 'enajste', 'were', 'avrebbe', 'onun', 'кә', 'nekakšen', 'бетер', 'дегенмен', 'kakršnem', '共同', 'estoy', '各位', 'бұл', 'česar', 'eussent', 'caruia', 'där', 'жаракімалла', 'आफूलाई', 'вақте ки', 'बीचमा', 'এমনি', 'هللة', 'dena', 'إياه', 'מן', '其次', 'atat', 'menyebutkan', 'إنا', 'doen', '相当', 'sekarang', 'מאיפה', 'noastră', 'auriez', 'jolta', 'nami', 'ati', 'allà', 'zu', 'thereupon', 'számára', 'petinosemdesetimi', 'litzateke', 'hänellä', '随着', 'tako', 'ب', 'bahkan', 'devetnajstem', 'rhe', 'thought', 'конечно', 'thank', 'إليكما', 'yes', 'mâine', 'jelasnya', 'साँच्चै', 'nah', 'every', 'fueron', 'bezala', 'oseminštiridesetih', 'ourselves', 'maan', '范围', 'euren', 'dovoliti', 'bodimo', 'ohne', 'nasproti', 'njihove', 'having', 'кәһ', 'det', 'টি', 'सबैलाई', 'habríamos', 'itna', 'estou', 'vanju', 'voltam', 'jiska', 'ঐ', 'চায়', 'denn', 'tidaklah', 'četrte', 'тырс', 'أنا', 'heihin', 'mere', 'لكنَّ', 'gayi', 'bersama-sama', 'إزاء', '一边', 'petimi', 'чего', 'annak', 'bermula', 'δαὶς', 'ইত্যাদি', 'τον', 'κι', 'banae', '失去', 'niillä', 'כש', 'üçün', 'arent', 'terjadi', 'nekakega', 'vsaki', 'zlasti', 'stessero', 'luar', 'ешкім', 'এটি', '不足', 'vami', 'welche', 'сондықтан', 'esas', 'sarebbero', '自家', 'аз ', 'näinä', 'tínhamos', '互相', 'হিসাবে', 'पक्का', 'wouldn', 'foste', 'aquests', 'sabeu', 'svojemu', '嘛', 'l', '其一', 'biri', 'hoge', '仍然', 'aise', 'هيت', 'siihen', 'katerega', 'secara', 'ё ин ки  ', 'morejo', 'khususnya', 'vendarle', 'vso', 'tiga', 'petdeseta', 'vara', 'eran', 'nimeni', 'de', 'hubiéramos', 'amelyekben', 'meille', 'shall', 'نيسان', 'ضحوة', 'hence', 'inhe', 'peto', 'sedan', 'أف', 'edu', 'নিতে', 'seorang', 'e', 'štiriindvajseto', 'إليكم', 'brief', 'begitu', 'drugačna', 'shouldnt', 'meves', '以上', 'জ্নজন', 'himself', 'quelli', 'vajinega', 'بما', 'ildə', 'כל', 'serupa', 'الألى', 'bat', 'ne', 'sedemnajste', \"let's\", 'marali', 'أُفٍّ', 'vsakršnima', 'asupra', 'talán', 'ين', 'ك', 'اللتين', 'دون', 'هذي', 'सधै', 'сіздерге', 'dupa', 'drugem', 'plus', 'ثمَّ', 'mon', 'now', 'häneen', 'οἱ', 'katerim', 'rahi', 'yetmiş', 'hamare', 'saling', 'usah', 'näillä', 'devetdesetima', 'желп', 'ваҳ', 'কাউকে', 'tele', 'nobenem', 'vale', 'नजिकै', 'жалп', 'walaupun', \"t'ha\", 'kenestä', 'потом', '也是', 'meva', 'бүйт', 'trojih', 'аз', 'betul', 'katerihkoli', 'humein', 'было', 'osemindevetdeset', 'বক্তব্য', '最大', 'তাহার', '原来', 'nikakršnimi', '尔后', 'نحن', 'lanjut', 'səkkiz', 'tendrán', 'selanjutnya', 'odkar', 'yaxşı', 'kalau', 'unki', 'thing', 'sedemindvajsetega', 'dette', 'היכן', 'кәнеки', 'le-takšen', 'اتخذ', 'osemindevetdesetim', 'trojnih', '有效', 'صراحة', 'ذات', 'স্পষ্ট', 'totes', 'stette', '俺', 'מתי', 'štiriindvajsetimi', 'tendrás', 'olmadı', 'ती', 'بلى', 'nanje', 'آهِ', 'kal', 'petdesetim', '上来', 'osemdesetima', '这样', 'hiç', 'teria', 'keneltä', 'kolikšnega', 'оҳе', 'ин', 'anyway', 'rakhe', 'numai', 'onih', 'jikalau', 'katerih', 'njuni', 'tinggi', 'avons', 'joilla', 'אוa', 'אולי', '显著', '并没有', 'nhi', '方便', 'পাচ', 'kvar', 'dusre', \"didn't\", 'nogle', 'করিতে', '否则', 'лучше', 'esto', 'belə', 'για', 'sondern', 'padanya', 'dedi', 'বদলে', 'sedemindvajsetim', 'njegovih', 'diucapkan', 'trikratnega', 'somebody', 'থেকে', 'aurait', 'dasselbe', 'স্বয়ং', 'estàvem', 'mengira', 'nekakih', 'mellan', 'mindig', 'sedeminpetdesetim', 'kolikšnemu', 'আছে', 'هنا', 'آنفا', 'amíg', 'četrta', 'henne', 'dvakratnemu', 'mojih', 'vid', 'vært', 'deseti', 'ellos', 'ض', '全部', 'bhi', 'troj', 'на ин ки', 'petindvajsete', 'tenido', 'niiden', 'comes', 'teiltä', 'әйда', 'újra', 'হৈলে', 'diperbuat', 'tridesetemu', 'عين', 'vali', '非徒', 'čemurkoli', 'm', 'أولئك', 'অন্য', 'ওরা', 'været', 'cel', 'kaka', \"c'mon\", 'petinsedemdesetimi', 'сар карда', 'azkenik', 'istima', 'sanki', 'ὑπὲρ', 'altul', 'här', 'sementara', '一天', 'hendak', 'sedmim', 'এল', '嗯', 'korso', 'қаңғыр-күңгір', 'far', 'insofar', 'onega', 'عما', 'dvaindvajset', 'gisa', 'или', 'trem', 'आफू', 'tiene', 'hortik', 'keinä', 'पहिल्यै', 'begitupun', 'anderr', 'साथै', 'četrtima', 'қаралы', 'eren', 'beside', 'ما أفعله', 'dvaindevetdeseti', 'houver', 'noget', 'vo', 'gibi', 'cause', 'eurent', '如下', 'va', 'ὅτι', 'koyi', 'кейін', 'fut', 'devetnajstima', 'ذوا', 'dvestota', 'keitä', 'ә', 'jinki', 'beginilah', 'যাদের', 'temveč', 'कोही', 'takšne', 'moralo', 'tendríais', 'kenet', 'sa-ti', '即令', 'यति', 'nekakima', '有著', 'three', '毫不', 'teesre', 'petintrideset', 'njih', 'thereby', 'οὐ', 'je', '不单', 'dijelaskan', 'হবেন', 'nekakšnim', 'তাই', 'οὖν', '这么些', 'nekake', 'कहिलेकाहीं', 'ceva', 'waduh', 'enaindvajsete', 'vašem', 'enkratnem', 'maane', '在下', '一致', 'zum', 'intre', 'nekaterega', '由', 'tenha', 'ديسمبر', 'त्यहाँ', 'sometimes', 'מאין', 'sols', 'dək', 'tumhara', 'ى', 'vendar', 'unto', 'aquí', 'әрне', 'إحدى', 'ook', 'ἔτι', 'sedemindvajsetem', '左右', 'सारा', 'faremmo', 'noştri', 'ποια', 'staresti', 'esté', 'njemu', 'amat', 'ca', 'kateremukoli', '来着', 'ҳе', 'kolike', 'trojen', 'meanwhile', 'हुन्', 'bundan', 'бо', 'қабл', 'zou', 'enaindvajseto', 'sedemdeseta', 'هيهات', 'quienes', 'donat', 'avez', 'ia', 'elles', 'sabem', 'vil', 'last', 'será', 'kakšni', 'abe', 'această', 'aţi', 'hubimos', 'bržčas', 'baar', 'σε', 'לי', 'deseteri', 'česa', 'πωσ', 'sedmima', 'starai', 'le-takšni', 'xan', 'zi', 'maka', 'tisočima', 'takemle', 'dəqiqə', 'njena', 'petinosemdesetem', 'δὴ', 'åt', '时候', 'גם', 'әні', 'dacă', 'vagy', 'hu', 'suntem', 'devetnajstega', 'أينما', '者', 'eso', 'karu', 'κατα', 'tries', 'аз рӯи', 'ie', 'ты', 'بسّ', '要不然', 'אי', 'noen', 'katere', 'nuestros', 'nossas', 'misal', 'αυτοσ', 'মনে', 'ҳатто ', 'umumnya', 'há', 'seringnya', 'niti', 'ҳу', 'teillä', 'é', '复杂', 'kecil', 'كلاهما', 'vahin', 'ألف', 'oldu', 'siapa', 'সবার', 'disse', 'avum', 'қаңқ-құңқ', 'bederen', 'yalnız', 'إما', 'gairebé', 'τῇ', 'ыңқ', 'dvestotima', 'quan', 'devetsto', 'أنتن', 'acestei', 'se', 'dvainšestdesetim', 'marava', 'sonra', '倘使', 'ko', 'altfel', 'dva', 'बिरुद्ध', 'yaha', 'keseluruhannya', 'mode', 'मुख्य', 'mea', 'imo', 'hur', 'mirşey', '专门', 'aurions', 'lenne', '边', 'гӯё', '往', 'аз баҳри он ки', 'thats', 'آه', 'akhirnya', 'nisem', 'אני', 'mirip', 'ӯим ', 'njihovega', 'maani', 'algun', 'šestdeseti', 'trideseti', 'lamanya', 'mateix', 'tampoc', 'triintridesetem', 'س', 'কেখা', 'avete', 'tridesetih', 'οὔτε', 'জন্যওজে', 'οὐχ', 'свою', 'šestnajstih', '分别', 'suoi', 'kch', 'morate', 'hoyengi', 'estarán', 'бинобар', 'smeš', '不然', 'then', '趁', 'petinštirideseto', '前者', 'right', 'এর', 'পর', 'hotite', 'كما', 'olisit', 'marsikatera', 'بكما', 'পেয়্র্', '我们', 'wo', 'îmi', 'siltä', 'מכאן', 'minut', 'nouă', 'দিলেন', 'kunde', 'fue', 'sva', 'этом', 'عاشر', 'meidän', 'ga', 'inner', 'kakšno', '限制', 'বা', 'гӯё ки', 'एउटै', 'أيا', 'einigen', 'ὅσ', '进入', 'vašima', 'noiksi', 'fussent', 'arre', 'kedua', 'مكانكم', 'honom', '不管', 'li', 'dvojo', 'ebben', 'moj', 'seinen', 'horri', 'teissä', 'zelf', 'tuviéramos', 'itu', 'menunjukkan', 'tej', 'प्लस', 'als', 'पनि', 'was', 'طَق', 'una', 'kafi', 'alti', 'preprosto', 'šestima', 'misalnya', '呗', '每天', 'למה', 'le-to', 'এরা', 'šestintridesetih', 'toliki', 'بخٍ', 'menyampaikan', 'tab', 'tuosta', 'سبعة', 'câţi', 'we', 'devetdesetem', 'estejamos', '甚么', 'šestintridesetim', 'njegov', 'njunimi', 'for', 'sa-mi', 'שלנו', 'τῶν', 'behiala', 'teníamos', 'horrek', 'le-takima', 'appear', 'smemo', 'others', 'sedemikian', 'egun', 'moltes', 'אתם', 'оған', 'әрқайсы', 'less', 'masing', 'أقل', 'semmi', 'есть', 'enaindvajsetim', 'мыңқ', 'ثلاثين', 'गयौ', 'ahol', 'নিজেদের', 'van', '凭', 'यसरी', 'apaan', 'sesampai', 'triintridesetih', '只是', 'রয়েছে', 'svoji', 'αυτο', 'لي', 'agak', 'әйткенмен', 'дүңк', 'emateko', 'someone', 'কেউই', 'thi', 'पर्थ्यो', 'आए', 'antzina', 'més', 'анау', 'diakhiri', '不一', 'baix', '必要', 'tell', 'estados', 'although', 'end', '打', '明确', 'dipergunakan', 'trinajstim', '有点', 'siate', 'sui', 'олар', 'ins', 'מעט', 'serait', 'mempunyai', 'אחרים', 'häntä', 'fomos', 'সেটি', 'ليس', 'כיצד', 'soyons', 'করায়', '必然', 'فيه', 'फेरी', 'sedemindvajsetimi', '上升', 'tridesetim', 'štirimi', 'أوشك', 'anderen', 'ممن', 'că', 'nobenima', 'оё', 'לעבר', 'ҳар', 'ibaratnya', 'würde', 'marsikom', 'tolikšnem', 'le-takega', 'আমি', '哎', '有着', 'في', 'تسعمئة', 'bezain', 'diberikan', 'takemu', 'kakšnimi', 'under', 'peter', 'қатар', 'ешқайсы', 'always', 'stava', 'ungkap', 'guzti', 'и', 'han', 'uit', \"i've\", 'să', 'toata', 'dvaindevetdeseta', 'želena', 'enaindvajseta', 'fuiste', '加入', 'ju', 'بطآن', '任务', 'kami', 'কিছু', 'datang', 'jene', '一片', 'staranno', 'dvakratnem', 'dată', 'takem', 'bhai', 'atatea', 'osemdeseti', 'vreun', 'takle', 'apna', 'बने', 'njun', 'heç', 'enaindvajsetimi', 'nase', 'oricine', 'vanj', 'algunes', 'tisočeremu', 'der', 'jahan', '自各儿', 'altmış', 'tuviese', 'anda', 'ben', \"d'uns\", 'mot', 'dvestotih', 'kein', 'proti', 'ditunjuki', 'dvojih', '反过来', 'mula', 'njihov', 'vaise', 'prvimi', 'а', 'teidän', 'skozi', 'estan', '转变', 'τῆς', 'жоқ', 'thinking', 'amikor', '离', 'amit', 'nočeta', 'міне', 'aller', 'dvestotega', 'ва', 'жуық', 'nekateri', 'whereupon', \"we're\", 'apatah', 'tämän', '起', 'nostro', 'eurem', 'isnt', 'chal', 'sent', 'vate', 'naših', 'estaría', 'ki', 'vsakršnim', 'îi', 'δε', 'भन्ने', 'obirisi', 'فيها', '一方面', 'sai', 'del', 'totusi', 'τίσ', 'meskipun', 'rada', 'ihrem', '两者', 'unos', '当时', 'drugega', 'tridesetem', 'dute', 'tisočera', 'mihin', 'fost', 'kake', 'tendríamos', 'ez ', 'τοι', 'benarkah', 'তাতে', 'ثلاثمئة', 'lîngă', 'अझै', 'निम्ति', 'لنا', 'unko', 'paling', 'তত', '问题', '怎么', 'تلقاء', '不成', 'šestdeset', 'nicht', 'amelyeket', 'غداة', 'berkehendak', '此外', 'trojo', 'seront', 'hote', 'дар', 'osemdeseta', 'stesse', 'saps', 'sedemdeset', 'خلف', 'вы', 'dvajsetih', 'دينار', 'بمن', 'aki', 'παρά', 'unuia', 'ăsta', 'njihovem', 'algunos', 'हुने', 'från', '呜', 'd', '後来', 'suas', 'מסוגל', 'dintr-', \"couldn't\", 'বিশেষ', 'אחר', 'terdiri', 'njihovim', 'sama-sama', 'ain', 'ואת', 'حبيب', 'agar', 'шәйт', 'γοῦν', 'prvim', 'सायद', 'nekaterimi', 'tolikšno', '多', 'illetve', 'dvaindvajsetih', '愿意', 'vanje', 'eravate', '拿', 'dörd', 'אין', 'одан', 'tenga', 'miért', 'igual', 'são', 'štiridesetem', 'ту-ту', 'jedem', \"who's\", 'ধামার', 'whenever', 'sto', 'шояд', 'maraš', 'nəhayət', 'لدى', '的话', 'but', 'thodi', 'istem', 'sme', 'لوما', 'le-takšnih', 'ὥς', 'تي', 'teh', 'anitz', 'peterimi', 'petih', 'ἐπεὶ', 'hajam', 'osmi', 'stotimi', 'seg', 'чтобы', 'sont', 'vsemu', 'av', 'আরও', 'batzuei', 'бойымен', 'tandas', 'алдақашан', 'जस्तो', 'soch', 'umm', 'كان', 'গোটা', 'إيه', 'anywhere', 'οὐδείσ', 'περὶ', 'जे', 'naši', '怎', 'ej', 'bile', '其它', 'gainera \\t', 'anume', 'sebabnya', 'apnaa', 'štiriindvajset', 'שם', 'onim', 'seem', 'ней', 'čigavih', 'todos', 'pentingnya', 'tuya', 'ikke', 'niso', 'mengungkapkan', 'bro', 'though', 'لولا', 'petnajstemu', 'kolikim', 'إياها', 'makanya', 'jitni', \"they've\", 'دواليك', 'ох', 'kelihatannya', 'over', 'unseres', 'las', 'name', 'zunaj', 'dvanajste', '据', \"δι'\", 'adalah', 'ستون', 'מי', 'أمس', 'menyatakan', 'sudah', 'potser', 'vouă', 'în', 'naj', 'nantinya', 'ذواتي', '决定', 'сона', 'tutur', 'জানায়', 'liye', 'nji', 'minha', 'sedem', 'pravzaprav', 'אחרות', 'vsakršnem', 'kuka', 'may', 'tiveram', 'weg', 'these', 'njiju', 'avendo', 'حسب', 'dov', 'soy', 'des', 'ker', 'najinimi', 'petnajstem', 'μὴ', 'unka', 'саған', '进而', 'τοιοῦτος', 'five', 'lainnya', 'οὐδ', 'siapakah', 'maine', 'azon', 'teringat-ingat', 'našim', 'مافتئ', 'ذ', 'havent', 'etmək', 'marsikdo', 'čigavo', 'nada', 'orduan', 'dvanajstih', 'عيانا', 'svojima', 'arte', 'rahe', 'балки', 'vsakršen', 'they', 'themselves', 'tisoč', 'skal', '一时', 'deasupra', 'het', 'علم', 'serai', 'starei', 'joihin', 'әншейін', 'samme', 'štirim', 'voştri', 'cual', 'mancher', 'habréis', '因此', 'najinima', 'خ', 'között', 'غين', 'шаңқ-шаңқ', 'esses', 'herself', 'sitä', 'تَيْنِ', 'ποιεσ', 'yahan', 'therefore', 'sebuah', 'menjelaskan', 'eden', 'zur', 'sinussa', 'شتان', 'ikusi', 'nuo', 'njo', 'jinka', 'semblants', 'sebegini', '宁可', 'doosra', 'eure', 'паһ-паһ', 'houvermos', 'جيم', 'dieses', 'estuvisteis', 'kakšen', 'across', 'ayants', 'dit', '当着', 'nate', 'won', 'mungkinkah', 'لا سيما', '没有', 'درى', 'noiz', 'ihnen', 'hoga', 'čigavemu', 'át', 'aan', 'use', 'trikratno', '一次', 'estábamos', 'zice', 'әй', 'gotten', 'fui', 'need', 'terlebih', 'soc', 'राम्रो', 'wil', 'multa', '嘿', 'نَّ', 'našem', 'abbey', 'не', 'lo', 'meget', 'देखिन्छ', 'حقا', 'karena', 'عليه', 'əlbəttə', 'қарай', 'पाँच', 'που', 'terlihat', 'forth', 'ús一', 'sometime', 'olduğu', 'নয়', 'অনেক', 'olehnya', 'du', '几乎', 'wie', 'sedemindvajsetemu', 'mengatakannya', 'солай', 'esse', 'doqsan', 'hoe', 'hubiésemos', 'болои ', '尽', '非但', 'dude', 'her', 'চেষ্টা', 'لعلَّ', 'apakah', 'καὶ', 'havde', 'voastre', 'tisočerima', 'κατὰ', 'fas', '每个', '得出', 'bukan', 'μετα', 'ihm', 'tuturor', 'petintridesetim', 'šestdesete', 'enajstih', 'kakem', '此', '别', 'أم', 'whom', 'שלהם', 'shant', 'själv', 'habría', 'seáis', 'acha', 'בגלל', 'habías', 'semblant', 'le-onima', 'حدَث', 'dvajsetega', 'nasıl', 'عشرين', 'heeft', '先後', 'bazı', 'ostean', 'تينك', 'במידה', 'seines', 'jise', 'heidän', 'osemdesetih', 'أكتوبر', 'eut', 'tahun', 'menoj', '哗', 'न', 'मलाई', 'didnt', 'banda', 'bili', 'før', 'এতে', 'يوان', 'هي', 'keines', '沿着', 'hanya', 'used', 'ой', 'הם', 'kakršnega', \"don't\", 'better', 'merasa', 'estivera', 'estaban', 'pet', 'dont', 'eh', 'naa', 'same', 'tuoi', 'যাওয়া', 'أمسى', '和', 'enaintridesetim', 'marsikomu', 'maramo', 'herein', 'למרות', 'seen', 'हुन्छ', 'tots', 'nečim', 'trojimi', 'bestela', 'sean', 'bəlkə', 'petnajstimi', 'enaindvajsetega', 'beharrez', 'rasa', 'nikar', '及', 'izan', 'wale', '里面', 'আজ', 'slik', 'eivät', 'isme', 'ăstea', 'bəli', 'ترك', '除此之外', 'ellen', 'ugyanis', 'zo', 'solche', 'zame', 'petinpetdesetimi', '他们', 'osmima', 'sangatlah', 'паси', 'ضاد', 'فضلا', 'varje', 'ّأيّان', 'ميم', 'houvessem', 'nočemo', 'estaremos', 'של', 'wollte', '等', '管', '允许', 'kakršnemukoli', '不独', 'should', 'اخلولق', 'knows', 'למקום שבו', 'إلّا', 'hver', 'sur', 'παρα', 'étée', 'сенімен', 'selaku', 'jeden', 'triintrideseta', 'apa', '普遍', 'ماذا', 'שלהן', 'šestindvajsetimi', 'eux', 'sedemnajsti', 'petsto', 'वास्तवमा', 'त', 'dvaindevetdesetima', 'citi', '严重', 'berawal', 'petinštiridesetega', 'hubieses', 'وإذا', '甚而', 'бұрын', 'онымен', 'kenessä', 'оның', 'जसले', 'দেওয়া', 'sedmo', '完成', 'хуб ', 'näitä', '当然', 'sedmega', 'while', 'জানতে', 'tisočerim', 'পারেন', 'toen', 'bist', 'अरु', 'tenidos', 'derselbe', 'can', 'amaitzeko', 'سرعان', 'sarebbe', '不过', 'idi', 'izpred', 'করলেন', 'пішә', 'meillä', 'niye', 'sau', 'jitna', 'ăla', 'le-takšnima', '看到', 'ظاء', 'теперь', 'गरेर', 'horiek', 'إلى', '那会儿', 'করেন', 'hem', 'why', 'inse', 'šestdesetimi', 'menanyakan', 'छ', 'ей', 'ওখানে', 'tersampaikan', 'η', 'nyaris', 'kunne', '别的', 'रहेका', 'בלי', '这么', 'туралы', 'anything', 'not', 'hamara', 'tambahnya', 'ابتدأ', 'ací', 'prea', 'pînă', 'moreover', 'भन्नुभयो', 'não', 'هذه', 'jumlah', 'onadva', 'deveta', 'around', 'dezadan', 'sería', \"you'll\", 'мне', '总之', 'pantas', 'keihin', 'кейбір', 'tarah', 'ته', 'horra \\t', 'pa', 'valamint', 'خمسين', 'cea', 'বললেন', 'sənin', 'tistima', 'à', 'valami', '让', 'tisočih', 'bagai', 'sekadar', 'ثمان', 'drugačnim', 'fôramos', 'very', 'vase', 'ravno', \"here's\", \"there's\", 'də', 'אס', 'stia', 'थियो', 'petdesetega', 'εἰ', 'joilta', 'marsičim', '说明', '如果', 'ойпырмай', 'них', 'nikomur', 'aye', 'só', 'kino', 'menginginkan', 'esteve', 'қалт-қалт', '起见', 'dello', 'acestia', 'å', 'le-te', 'راح', 'trojnimi', 'loro', 'trinajsto', 'medio', 'acelasi', 'najin', 'tenida', 'sarà', 'tolika', 'sap', 'osem', 'bada ', 'midva', 'tengo', 'сыңқ', 'भन', 'memisalkan', 'le-tako', '十分', 'avait', 'seva', 'eût', '不论', \"weren't\", \"can't\", 'podeu', 'lehen-lehenik', 'ambdós', 'dykkar', 'ž', 'honen', 'tuotä', 'nongo', 'encara', 'mampukah', 'avute', 'ليسوا', 'zadosti', '自从', 'dvestote', 'أنت', 'راء', 'там', 'akhir', 'একবার', 'қош-қош', 'elég', 'দুই', 'حَذارِ', 'anderem', 'kasus', 'denge', 'var', 'farebbero', 'দিয়ে', 'sou', 'fusse', 'takšnim', 'le-ti', 'তাহলে', 'still', 'osmih', 'саңқ', 'sedemstotimi', 'foi', 'estada', 'unes', 'әрбір', \"s'ha\", 'tälle', 'ondorioz', 'εἰμί', 'meine', 'hamari', 'poco', 'nočem', 'eurak', 'mujhe', 'hasieran', 'aurons', 'nadme', 'might', 'štiri', 'enakem', 'ذانِ', 'vsaka', '给', 'mulanya', 'dvaindevetdesete', 'estaréis', 'troji', 'аз рӯйи ', 'drugačnemu', 'facesse', 'bomo', 'wezen', 'adanya', '乌乎', 'יכל', '哉', 'le-takšna', 'nei', 'nearly', 'meni', 'habiendo', 'sillä', 'elsewhere', 'semisalnya', 'enakim', 'менің', 'रहेको', 'likely', 'مائة', 'hubierais', 'perlu', 'нм', 'ست', 'сияқты', 'hm', 'تسعون', 'çox', 'vilken', 'sepantasnyalah', 'dvojnemu', 'уау', 'pelos', 'থেকেও', 'tot', 'دولار', 'aitzitik', 'gu', 'τίς', 'hamne', 'أحد', 'niets', 'cat', 'خمسمئة', 'zanjo', 'stoteremu', 'tried', 'mengucapkannya', 'as', 'até', 'vzdolž', 'yani', 'qədər', 'fifth', 'ба шарте', 'إليكن', 'throughout', 'triintridesetega', '就', 'гарчанде ки ', 'vnovič', 'poikki', 'batzuk', 'lagte', 'sa', 'беу', 'cannot', 'általában', '此时', 'wah', 'tega', 'saya', 'аҳа', 'kept', 'vsak', 'lehenengo', 'petdesetima', 'tere', 'das', 'suyos', '作为', 'এখন', 'кәні', '行为', 'kajpak', '各人', 'أسكن', 'naik', '你', 'кәне', 'azkenez', '一起', 'deseterima', 'ليستا', 'طرا', 'shouldn', 'әлдеқайдан', 'गर्नु', 'אם', 'түге', 'kakršnegakoli', '及至', 'sota', 'unn', 'қолп', 'entahlah', 'mellom', 'unser', 'dvojni', 'štiristotim', 'সেখান', 'también', 'eitt', 'औं', 'αυτουσ', 'eue', 'quanto', 'nekaterima', 'njegovem', 'bole', 'ενω', 'what', 'بهما', 'hither', 'sedeminšestdeset', 'multă', 'ποιοι', '自身', 'misalkan', 'saktaa', 'per', 'triintridesete', 'bisa', 'nå', 'kebetulan', 'petindvajseti', 'deveto', 'किनभने', 'sedemdesetem', 'vuestro', 'treia', 'sebagainya', 'كسا', 'njen', '我的', 'jitne', 'sensible', 'नयाँ', 'هن', 'siksi', 'saremmo', 'temu', 'szinte', 'jo', 'terjadilah', 'mojimi', 'kakšnih', 'karenanya', 'marsikatero', 'še', 'štirinajsta', 'ab', 'zituen', 'quando', 'tisočero', 'fuésemos', 'mənə', 'vuestra', 'nikakršnemu', 'চান', 'heille', 'מעל', 'alle', 'كليكما', 'enaindvajsetem', 'demselben', 'devetdesetim', 'rupanya', 'inapoi', 'ἡ', 'kapankah', 'هل', 'خميس', 'hadnt', 'kahan', '无法', 'كأنما', 'والذين', 'إليكنّ', 'sesama', \"it's\", 'staremo', \"where's\", 'қана', 'llarg', 'cui', '若非', 'হলে', 'often', '为着', 'vajinemu', 'ityaadi', 'سمعا', 'jaz', 'kakršna', 'neeche', 'kenenä', 'undeva', 'lehet', 'teniu', 'stetti', 'berapakah', 'wala', 'خاء', 'sig', 'sure', 'enem', 'شيكل', 'osemdeseto', '了解', '岂但', 'арсалаң-арсалаң', 'dvakratno', 'sea', 'enakima', 'mais', 'houverei', 'alguna', 'из', '大约', 'dell', 'জানা', 'nélkül', 'sakti', 'ομωσ', '所有', 'পর্যন্ত', 'ditt', 'jawabnya', 'тәк', 'najina', 'sekecil', 'istemu', 'einmal', 'desetim', 'قد', 'čimer', 'dvoja', \"aren't\", 'mi', 'nos', 'كانون', 'sajalah', 'nikakršni', 'molt', 'puţina', 'guztiz ', '咳', 'doncs', '么', 'sunteţi', '认识', 'εκεινοι', 'sesudah', 'and', 'temuintemu', 'غير', 'sebaliknya', 'ذلكما', 'vostres', 'барқ', '然后', 'ap', 'біз', 'er', 'ja', 'trinajstimi', 'peteremu', 'the', 'weil', 'опять', 'inilah', 'أربعاء', 'serão', 'ل', 'saja', 'زاي', 'sia', 'dvoji', 'vidva', 'со', 'dau', 'dagl', 'στην', 'गर्न', 'لن', 'قرش', 'ponje', 'арқылы', 'marsikaterega', 'miksi', 'তারা', 'istifadə', 'seraient', '转动', 'vai', 'caranya', 'estarás', 'sóc', 'بس', 'quanti', 'smelo', 'fata', 'kira', 'وا', 'رجع', 'enajstem', 'fi', 'nekim', 'то', 'ثمانية', 'estuve', 'povrhu', 'dels', '照着', 'להיות', 'petindevetdeset', 'selbst', 'mempersoalkan', 'četrti', 'tvojih', 'dwaara', 'sinut', 'দ্বারা', 'petnajstim', 'থাকে', 'dusri', 'io', 'saying', 'পাওয়া', 'hai', 'kuchch', '啪达', 'vala', 'estéis', 'allen', 'कृपया', '嘻', \"that's\", 'पछि', 'vsakršnimi', 'moreva', 'takšen', 'muchos', 'fie', 'kahi', 'σόσ', 'কয়েক', 'nekomu', 'hotiva', 'כולם', 'לאיזו תכלית', '以外', 'siap', 'لمّا', 'mia', 'barren', '临', '意思', 'نعم', 'емес', 'mane', 'оларға', 'μήτε', 'petintridesetih', 'dikatakannya', '为何', 'siano', 'ene', 'osemnajst', 'τισ', 'going', 'sebagian', 'hubiesen', 'this', 'chiar', 'petdeseti', 'কখনও', 'ayante', '与此同时', '或', 'citiva', 'তবু', 'enaindvajsetih', '上去', 'мы', 'एक', 'almost', 'beri', 'njihova', 'لست', 'setinggi', 'estás', 'तपाईको', 'тот', '应该', 'poate', 'namely', 'toh', 'কাজে', 'ezpabere ', 'honela', 'tisoča', 'tile', 'see', 'semampunya', 'honge', 'جميع', 'drugačne', 'estivessem', 'jangan', 'kva', 'săi', 'enaindvajset', 'šestindvajsetim', 'petindvajsetemu', 'triindvajseta', 'mustn', 'तर', '前面', 'bij', 'menjawab', 'hala', 'যাচ্ছে', 'between', 'masing-masing', 'dvestotemu', 'কয়েকটি', 'le-takšnem', 'tuviste', 'tuvieses', 'nečem', 'ed', '赶', 'own', 'tetap', 'hi', 'নাগাদ', 'dusra', 'zakaj', 'لكم', 'twice', 'iznad', 'vajini', 'seems', 'petem', 'dazu', 'mightnt', 'kvarhelst', 'maram', 'siapapun', 'other', 'humne', 'enaintridesetih', 'fins', 'deiner', 'αἵ', 'triinšestdesetim', '它的', 'बीच', 'itt', 'solches', 'estiverem', '这么点儿', '不会', '必须', 'you', 'tolikšnega', '各地', 'দিকে', 'bukaeran', 'jadinya', 'وهب', '换句话说', '过', 'smem', '多数', 'apan', 'beberapa', 'minta', 'peste', 'seemed', 'degli', 'inkaa', 'dvojno', 'balik', 'consigueixen', 'kemudian', 'هاك', '一切', 'einigem', 'өзге', 'tenéis', 'tujhe', '以致', 'ter', 'le-taka', 'le-onih', 'eras', 'ălea', 'masih', 'štiridesetim', '非常', 'terão', 'замоно', 'sentida', 'hotele', 'αὐτόσ', 'ريث', 'menuturkan', '何时', 'ἑαυτοῦ', 'kala', 'kita', '哪年', 'היתי', 'fel', 'blir', 'tendréis', 'šestemu', 'dovoljeni', 'memintakan', 'dvestotim', 'səksən', 'alles', 'tovább', 'أرى', 'szemben', 'la', 'defa', 'nikakršnega', '与其', 'aveva', 'шақты', 'osmemu', 'sən', 'teesri', 'kemungkinan', 'diyaa', 'ke', 'ved', 'kakršnikoli', 'tenidas', 'পেয়ে', 'steste', 'dvakratnim', 'jauh', 'čigavimi', 'ebbe', 'jarraituz', 'trinajstima', 'le-oni', 'пеши', 'vsakršne', 'tendré', 'needn', 'aren', 'dovoljeno', 'menunjuknya', 'никогда', 'אותו', 'le-tistih', 'vse', 'mengakhiri', 'mednju', 'إذاً', '合理', 'somewhere', '但', 'osemdesetim', 'harusnya', 'lekin', 'nemara', 'ذلك', 'akik', 'अन्यथा', 'дүрс', 'dessa', 'você', 'egyetlen', 'setempat', 'tenham', 'ho', 'hau', '召开', 'аһа', 'هَذَيْنِ', 'do', 'aaj', 'rehte', 'stotih', 'seluruh', 'habidos', '喏', 'bo', '能', 'فإن', 'zich', 'leur', 'бале ', 'лекин', 'heb', 'of', 'dans', 'temule', 'бізге', 'সমস্ত', 'sedemnajsto', 'meitä', 'indem', 'vsakimi', 'jab', 'trideset', '设若', 'unter', 'thus', 'depan', 'былп', 'совсем', 'seamos', 'dvoj', 'ἐπί', 'аммо', 'baten', 'إذا', 'ah', 'أولاء', 'كأيّن', 'tvoje', 'estão', \"m'he\", 'عشرون', 'thence', 'serían', 'olitte', 'nič', 'meri', 'hayamos', 'إياهن', 'pete', 'ذو', 'whence', 'osme', 'dass', 'eusses', 'terkira', '加之', 'ذَيْنِ', '坚持', 'sekalian', 'tremi', 'šestdesetemu', 'hube', 'vašim', 'takemule', 'au', 'صباح', 'orain', 'nikakršne', 'formos', 'namun', 'وإذ', 'هَاتَيْنِ', 'तेस्कारण', 'kisi', 'devet', '练习', 'wagerah', 'छैन', 'ما', 'deset', 'moči', 'उप', 'atas', 'zavoljo', 'stavi', 'bəzən', 'acei', 'çünkü', 'everywhere', 'nobeno', '主要', \"that'll\", 'minä', 'viz', 'мышы', 'secondly', 'selves', 'ataukah', 'ওই', 'für', 'чанд', 'went', 'ا', 'koi', 'desde', 'ыржың-тыржың', 'με', 'وهو', 'батыр-бұтыр', 'hubiese', 'poca', 'लागि', 'followed', 'predvsem', 'estivéramos', '呃', 'al', 'নয়', 'yup', 'stote', 'tvojega', '宁肯', 'új', '不仅', 'treh', 'bolti', 'у', 'zmogla', 'menaiki', 'sebenarnya', 'وإن', 'úgy', 'celor', 'كرب', 'semata-mata', 'somos', 'tisočega', '朝着', 'allows', 'vaig', 'enaki', 'prve', '呼哧', 'ӯббо', 'meinen', 'least', 'אז', 'هاء', 'dovolila', 'vosotros', 'honaa', 'osmega', 'farei', 'অনুযায়ী', 'četrtih', 'mint', 'terdapat', 'তোমার', 'nikakršen', 'tidak', 'αυτη', '继续', 'andar', 'avesti', 'lehenik', 'erano', '中小', '双方', 'dengan', 'zwischen', 'ت', 'mera', 'provides', 'persoalan', 'kis', 'batek', 'če', 'inca', 'trojnega', 'γὰρ', '什么样', 'ἤ', 'אותם', '们', 'sekiranya', '冒', 'zraven', 'चाहिए', 'अन्य', 'ثلاثة', 'фақат', 'thanks', 'keduanya', 'želi', 'ол', 'যা', 'dalla', 'ihn', 'तुरुन्तै', 'čigave', 'naokoli', 'kolikšnih', 'osemnajstem', 'kolikšne', 'farai', 'sebanyak', 'kolikor', 'ثاني', 'аз афташ', 'dele', 'তুলে', '只限', 'it', 'sedemnajstem', 'nossa', 'מעטים', 'уже', 'tretjem', 'dimintai', 'тогда', 'devetnajstemu', 'su', 'ceilalti', '掌握', 'usi', 'sebaiknya', 'šestnajst', 'za', 'во', 'lett', 'werden', 'валекин ', 'আপনার', 'within', 'sedemnajstega', 'har', 'beranduago', 'эх', 'einen', 'ces', 'zanj', '突然', 'facevi', '为主', 'кадом', 'ondoren', '把', 'tunjuk', 'cadascunes', 'यहाँसम्म', 'ill', 'q', 'vama', 'أصبح', 'فمن', 'stoterim', 'ebbero', '现代', 'petnajste', 'বসে', 'deseter', 'خمسة', 'este', 'kakršen', 'çünki', 'তাঁকে', 'aleshores', 'sich', 'semuanya', 'سبتمبر', 'οὐδὲ', 'nekdo', 'andalah', 'hadde', 'gives', 'jó', 'нахот ки', 'lah', 'isto', 'neka', 'فلا', 'nekakšnima', 'كى', 'তুমি', 'haben', 'vilkas', 'olan', 'vsakršno', 'maupun', 'هلا', 'deires', 'le-toliko', 'pernah', 'nici', 'vem', 'hjå', 'takile', 'ফিরে', 'haya', 'то даме ки ', 'štiridesetima', '上述', 'onimi', 'ujar', 'kot', 'sepertinya', 'kar', 'están', 'μέν', 'sånn', 'mellett', 'tallä', \"doesn't\", 'mau', 'сол', 'siden', '能否', 'inho', 'רק', 'олардан', 'trikratna', 'يفعلون', 'больше', '哪个', 'tegale', 'fôssemos', 'sang', 'nismo', 'tenho', '那些', '趁着', 'барои', 'ik', 'stoterega', 'prvih', 'carora', 'follows', 'nuestra', 'penting', 'kolikšni', 'tampaknya', '这些', 'र', '丰富', 'facemmo', 'furthermore', 'known', 'لدن', 'ditunjukkannya', 'разве', 'تانِك', 'erais', 'usually', 'ἄρα', 'арбаң-арбаң', 'দেখে', 'mat', '另一方面', 'true', 'seja', 'اللتيا', 'seingat', 'magar', 'ul', 'dich', 'petinosemdeseti', 'entre', 'mani', 'ق', 'nelle', 'altceva', 'quelcom', 'petindvajseta', 'siente', 'wahaan', 'بماذا', \"t'he\", 'nostres', '再者', 'avevate', 'যাবে', 'estad', 'ᾧ', 'kab', 'menyangkut', 'ama', 'been', 'তবে', '一般', 'sini', 'aquelas', 'ori', '呸', 'insa', 'bax', 'ছাড়াও', '像', 'wat', 'сонау', 'sedemdesetega', 'esa', 'nerde', 'acest', 'tenías', 'dve', 'triindvajsetimi', 'fan', 'par', 'degi', 'petdesetimi', '嗬', 'কি', 'petinosemdeseta', 'হোক', 'harus', 'गरेको', 'αλλα', 'sarai', 'কিন্তু', 'यस्तो', 'unu', 'কারও', 'siitä', '经过', 'dos', 'his', 'тем', 'זאת', 'així', 'two', 'triintridesetima', 'komu', 'tvojo', 'farebbe', 'كأيّ', 'sudahlah', 'εκεινεσ', 'terhadap', 'কী', 'meus', 'هَؤلاء', 'terdahulu', 'peti', 'otro', 'তখন', 'ἐγώ', '这个', 'kvifor', 'petinpetdesetim', 'zmogel', 'sabhi', 'nekakemu', 'два', 'ء', 'onların ', 'κατά', 'kakršnekoli', 'сен', 'өзі', 'svojo', 'argi', 'له', 'benarlah', 'estarías', \"s'han\", 'greetings', 'vissza', '逐步', 'estuviésemos', 'triintridesetimi', 'sehr', 'bakalan', 'sobretot', 'miei', 'অতএব', 'zmogl', 'ditanyai', 'שלה', '一旦', 'dulu', 'dina', 'আগামী', 'sedeminpetdesetih', 'kemungkinannya', 'nu', 'بل', 'naah', 'dira', 'же', 'njihovemu', 'ἄν', 'belakangan', 'дейін', '各种', 'stoterimi', 'αυτων', 'त्सपछि', '几时', '紧接着', 'bitartean', 'yet', 'sedemdesetimi', 'mogli', 'două', 'pina', 'гар-чи', 'حيث', 'эти', 'τὸν', \"shouldn't\", 'xanım', 'hans', 'így', 'ayant', 'justru', 'unsere', 'mías', 'হবে', 'aus', 'faresti', 'إياهم', 'құрау', 'לא', 'в', 'সম্প্রতি', 'berebat', 'også', 'dijiye', 'біздің', 'petima', \"you've\", 'memperlihatkan', 'tenemos', 'seas', 'zate', 'bliver', 'тарта', 'esan', 'hauei', 'meines', 'devetnajst', 'здесь', 'myself', 'if', '哈', 'čemur', 'memastikan', 'old', 'آها', 'berean', 'abban', 'sedemdesetima', 'trikratnih', 'njihovih', '考虑', 'deseterega', '加强', 'nahin', 'aquells', 'مليم', 'multi', 'kakršnih', 'farò', 'যাতে', '每', 'jawaban', 'ves', 'dvaindevetdesetimi', 'ὑπέρ', '比方', 'نحو', '各', 'הן', 'tuoksi', 'чун-ки', 'أطعم', 'serions', 'neko', 'dvakratnima', 'izven', 'τοτε', 'bil', 'auraient', 'si', 'بي', 'being', '心里', 'ואילו', 'diperlihatkan', '大量', 'өзім', 'seríamos', 'পরেই', 'petindvajsetim', 'go', 'melakukan', 'cum', 'sind', 'қыңқ', 'যে', 'ditunjuk', 'صبر', 'तिनीहरू', 'يونيو', 'تفعلين', 'zuen', '而况', 'күрт', 'रूप', 'fossimo', 'edinole', '由于', 'upar', 'mistä', 'dvakratnimi', 'sedeminpetdeset', 'meissä', 'خمسمائة', 'seusai', 'τόν', 'kepadanya', 'houveremos', 'daar', 'damit', 'avrebbero', 'hota', 'devetdesetimi', 'desetimi', 'petintridesetima', 'minden', 'vsej', 'through', 'dvajsete', '彼此', 'dimulailah', 'hə', 'নিজেই', 'עד', '此间', 'clearly', 'bermaksud', 'fuisteis', 'গেল', 'bolta', 'le-tema', 'αὐτὸς', 'amely', 'toi', 'yəni', 'karo', 'राख्छ', 'एकदम', 'তিনঐ', 'thoda', 'fuimos', 'trinajstega', 'сарт', 'ছাড়া', 'stemmo', 'dilakukan', 'бинобар ин', '结果', 'জন্য', '规定', 'τε', 'vars', '明显', 'kam', '不可', 'esanak', 'first', 'estive', 'desetem', 'যত', 'takale', 'gilə', 'حمو', '故', 'trojnim', 'desselben', 'eu', 'dvojnim', 'štiridesetemu', 'fuerais', 'acestui', 'berapapun', '如何', 'never', 'sama', 'na', 'uw', 'أنتم', 'mano', 'inward', 'delas', 'quella', 'mojo', 'le-tistim', 'עצמה', 'must', 'sådant', 'כפי', 'merupakan', 'pukul', 'पटक', 'did', 'mikä', 'osemnajstim', 'чунки', 'ἀλλά', 'banaye', 'negli', '这点', 'астапыралла', 'stiamo', 'taka', '接著', 'enih', 'nekakšnega', 'become', 'tristotimi', 'мабодо', 'that', 'dvanajstem', 'marsikaterimi', 'njeni', '与否', '倘然', 'semua', 'gone', 'little', 'isski', 'kven', 'tutto', 'vår', 'אחרת', '喔唷', 'কমনে', 'ало', 'hvorfor', 'njuna', '某', 'ἃ', 'بها', 'cât', 'tisočemu', 'ليت', 'ҳамон', 'مكانكنّ', 'eues', 'omdat', 'aş', 'estando', 'магар ', 'sedemstotim', 'továbbá', 'sahi', 'алатау', 'δεν', 'haiek', 'tristote', 'samo', 'पर्याप्त', 'всего', 'semisal', 'stotima', 'ырқ', '唉', 'নেওয়া', '开展', 'أيّان', 'until', 'millä', 'vsakih', 'আগেই', 'kyuki', 'nuestro', 'šeste', 'dekat', 'semacam', 'অথবা', 'legyen', 'fer', 'želel', 'ours', 'noiden', 'सोही', 'triindvajsetim', 'kvi', 'zoper', 'maano', 'ničimer', 'toţi', 'aviez', 'αὖ', 'kaki', 'olimme', 'nista', 'seperti', 'ek', 'temi', 'দেওয়া', 'nondik', 'nokor', 'enkratne', 'הסיבה שבגללה', 'phle', 'біздерден', 'berehala', 'tera', 'तल', 'zeren', 'opp', 'keinginan', 'kepada', 'eta ', 'kakimi', 'ere ', '取得', 'cuando', '进步', 'pastilah', 'habido', 'olit', 'ثمانين', 'iska', 'εἰς', 'keneen', 'देखि', 'otuz', 'ما برح', 'onto', 'pasti', 'לעיכן', '可', 'cîte', 'נגד', 'keh', 'terlalu', 'واحد', '相信', 'eight', 'nekakšnem', 'kimə', 'adapun', '哪些', 'לכם', 'जुन', 'rakho', 'আমাকে', 'sedemnajstima', 'certain', 'šestdesetem', 'baad', 'arról', '以及', 'যখন', 'ثماني', 'עליו', 'ছিলেন', 'orduko', 'have', 'dat', 'ile', '任凭', 'sekitarnya', 'অনেকে', 'عَدَسْ', 'sekitar', 'dvakratnih', 'гүрс', 'كيت', 'באיזו מידה', 'kalaupun', 'seberapa', 'yenə', 'dvestoti', 'نوفمبر', '是不是', 'enakih', 'ἐν', 'kakršnimkoli', 'morda', 'noille', 'kakšnega', 'hotita', 'štiriindvajsetem', 'dikerjakan', 'kara', 'ἣ', 'bom', 'njej', '如此', 'παρ', 'إذما', 'bagi', 'fueras', 'vaali', 'كأين', 'nikakršnem', 'liya', 'svojim', 'pada', '那', 'smo', 'ὁ', 'utolsó', 'गर्नुपर्छ', 'an', 'én', 'prednje', 'تحت', 'hei', '不同', 'meistä', 'votre', 'رُبَّ', 'dvaindvajsetimi', 'pihak', 'because', 'josta', 'كن', 'ҳой', 'ander', 'তার', 'бе он ки ', 'জে', 'fuéramos', 'njeno', 'triintrideseti', 'želen', 'avuta', 'morem', 'арс-ұрс', 'petintrideseto', 'našo', 'honek', 'hočemo', 'nosotros', 'habrías', 'petdesete', 'зачем', 'alabadere', 'itulah', 'nell', '准备', 'যাঁর', 'tjhe', 'enajstima', 'when', 'esos', 'últim', 'berapalah', 'या', 'theek', 'nočete', 'estarían', 'okay', 'হইবে', '有的', 'tridesetimi', '真是', '尚且', 'happens', 'سبعون', '从事', 'lain', 'tiste', 'nikomer', 'أيار', 'dvajseta', 'ditambahkan', 'әлдеқашан', 'hänet', '不断', 'إي', 'aquilo', 'neradi', 'यसपछि', 'سبعمائة', 'good', 'ভাবেই', 'באמצע', '要', 'hereupon', 'بخ', 'tentulah', 'tendrías', 'καίτοι', 'among', 'marsikoga', 'هيّا', 'πρὸ', 'berkenaan', 'minkä', 'buradan', 'сізбен', 'sådana', 'štirideset', 'все', 'tolikšnim', 'tretji', 'estado', 'diesem', 'dvanajstega', 'deyil', 'ірк', 'štiriindvajsete', 'zergatik', 'sollte', 'dintr', 'štiriindvajsetima', 'dovoliva', 'lanjutnya', 'әрине', 'zmogle', 'nobenimi', 'ج', '以来', 'memberikan', 'تشرين', 'què', 'petinosemdeset', 'logon', 'bahwa', 'buna', 'niste', 'sebutlah', 'танҳо', 'noone', 'aztán', 'houveriam', 'berkeinginan', 'kogarkoli', 'تسعمائة', 'hui', 'καθ', 'même', 'smela', 'לאו', 'были', 'reeds', 'morale', 'mikor', 'otros', 'entah', 'dem', 'ему', 'havia', 'segalanya', 'belumlah', 'estuviesen', 'abhi', 'bertanya-tanya', 'apabila', 'them', 'ar', 'ei', 'voor', 'teljes', 'ezpere', 'vajino', 'mojemu', 'us', '嗡嗡', 'hereafter', 'tässä', 'এখানেই', 'houveríamos', 'моя', 'দিতে', '方面', 'seluruhnya', 'dvojemu', '反之', '相同', 'бай-бай', 'निम्नानुसार', 'preko', 'houveria', 'moreš', 'kull', 'ырс', 'trideseta', 'سبعين', 'štiristo', 'tolikemu', 'majd', 'tolikega', 'ingin', 'tendrían', 'можно', 'hajamos', 'apart', '安全', 'তাহা', 'wasnt', 'való', '引起', 'ليست', '着', 'qırx', 'un', 'patra', 'tiver', 'puţin', 'petinosemdeseto', 'μετ', 'তো', 'jyaada', 'noka', 'تاء', 'marajte', 'ومن', '逐渐', '认为', 'نَخْ', 'ذانك', 'njegovo', 'sentido', 'auch', 'vă', '它', 'কিংবা', 'zij', 'kun', 'šestdesetih', 'kyun', 'u', 'takšnemu', 'tuvimos', 'enggak', 'jangankan', 'أ', 'ইহা', 'nanti', 'šestnajste', 'bersama', 'لعل', 'ans', 'fosse', 'तिनिहरुलाई', 'enkratnemu', 'jenen', 'hendaknya', 'našega', 'petinštiridesetima', 'ذيت', 'mengetahui', 'איתם', 'stavate', 'τησ', 'একটি', 'came', 'estabais', 'op', 'anche', 'oss', 'gaur', 'jata', 'mojima', 'οὕτωσ', 'vosaltres', 'disebutkan', 'पर्छ', 'nekakšne', 'mengatakan', 'طاء', 'trying', 'both', 'ἵνα', 'om', 'যদিও', '经常', 'molts', 'thoroughly', 'sampai', 'pod', 'egunean', 'কোনও', 'aisa', 'tersebut', 'প্রায়', 'nočeš', 'ils', 'njihovima', 'denna', 'מה', 'lei', 'দেওয়ার', 'azt', 'ob', 'lately', 'hum', 'min', 'gainerontzean ', '尽管', 'dovoljena', 'naša', 'semasih', 'tolik', 'γα', 'чем', 'ثلاثمائة', '腾', 'skozenj', 'হয়a', 'vostra', 'hura', 'noilta', 'careia', 'bertanya', 'mucho', 'hade', 'ثمانمئة', 'utána', 'tvojemu', 'avevo', 'le-tega', 'إلا', 'ad', '怎麽', '假若', 'tuvieron', 'над', 'šestdesetega', 'vilket', '省得', '被', 'nagy', 'marala', 'sabse', 'морт', 'eres', 'dieser', \"what's\", 'arratsaldero', 'সেটা', 'aber', 'हुन', 'nə', 'istim', 'bare', '过来', 'אותך', 'waise', 'εκεινα', 'bagaikan', 'face', 'كلتا', 'fuesen', 'aspaldiko', 'tú', 'neednt', 'ce', 'selama-lamanya', 'kakršnimikoli', 'mar', 'sono', 'teidät', 'kisko', 'ἢ', 'été', 'к', 'nečemu', 'cit', 'všeč', 'инҷониб', 'sine', 'إيانا', 'сарт-сұрт', '突出', 'समय', 'faccio', 'mateixa', 'حيثما', 'karna', 'наконец', 'sinä', 'mendapatkan', 'tretjima', 'করিয়া', '吱', 'abbia', 'hin', 'vad', 'tisoči', 'bestalde', 'im', 'dvajseti', 'skorajda', 'nothing', 'রকম', 'didn', 'horiei', 'mir', 'هناك', 'regardless', 'čigar', 'le-takšnemu', 'waha', 'bazen', 'hari', 'pas', 'manchen', 'ole', 'так', 'ala ', 'رابع', 'עליך', 'multe', 'houveram', 'jim', 'করেই', 'unkaa', 'तिनीहरुको', 'ordea ', 'eens', 'zmogli', 'ана ҳамин', 'hotelo', 'tole', 'ltd', 'deim', 'דרך', 'өз', 'h', 'azzal', 'nosaltres', 'koga', 'дар ҳолате ки', 'katerakoli', 'iguals', '综上所述', 'كل', 'le-takšnimi', 'kembali', '然则', 'katerem', 'šestnajsto', 'menghendaki', 'hasiera', 'haven', 'petindvajsetega', 'sedemindvajsete', 'tegasnya', 'جير', 'উপরে', 'durant', 'drugačnega', '于是', 'αἱ', 'إذن', 'karungi', 'on', 'petstotimi', 'trikratnemu', 'لكي', 'achcha', 'куда', 'жалт-жалт', 'mine', 'إن', 'ayantes', 'ولكن', 'ه', '之前', 'dunga', 'num', 'mitkä', 'štiriindvajseti', 'way', 'later'}\n",
            "['ವೆಸ್ಟ್', 'ಇಂಡೀಸ್', 'ವಿರುದ್ಧದ', '3ನೇ', 'ಏಕದಿನ', 'ಪಂದ್ಯವನ್ನೂ', 'ಗೆದ್ದು', '3-0', 'ಅಂತರದಲ್ಲಿ', 'ಸರಣಿ', 'ಕೈವಶ', 'ಮಾಡಿಕೊಂಡಿರುವ', 'ಭಾರತ', 'ತಂಡ', 'ಐತಿಹಾಸಿಕ', 'ಸಾಧನೆ', 'ಮಾಡಿದ್ದು', ',', 'ತಂಡವೊಂದರ', 'ವಿರುದ್ಧ', 'ಅತೀ', 'ಹೆಚ್ಚು', 'ಸತತ', 'ಸರಣಿ', 'ಜಯ', 'ಗಳಿಸಿದ', 'ಮೊದಲ', 'ತಂಡ', 'ಎಂಬ', 'ಹೆಗ್ಗಳಿಕೆಗೆ', 'ಭಾರತ', 'ಪಾತ್ರವಾಗಿದೆ', '.', 'ಇಂದಿನ', 'ಸರಣಿ', 'ಜಯದ', 'ಮೂಲಕ', 'ಭಾರತದ', 'ಖಾತೆಗೆ', 'ವಿಂಡೀಸ್', 'ವಿರುದ್ಧ', 'ಮತ್ತೊಂದು', 'ಸರಣಿ', 'ಜಯ', 'ದಾಖಲಾಗಿದ್ದು', ',', 'ಇದು', 'ಭಾರತಕ್ಕೆ', 'ವಿಂಡೀಸ್', 'ವಿರುದ್ಧ', '12ನೇ', 'ಸತತ', 'ಸರಣಿ', 'ಜಯವಾಗಿದೆ', '.', 'ಒಂದು', 'ಅಂತಾರಾಷ್ಟ್ರೀಯ', 'ಕ್ರಿಕೆಟ್', 'ತಂಡವೊಂದರ', 'ವಿರುದ್ಧ', 'ಮತ್ತೊಂದು', 'ತಂಡ', 'ಸತತವಾಗಿ', 'ಹೆಚ್ಚು', 'ಸರಣಿ', 'ಗೆದ್ದ', 'ಪಟ್ಟಿಯಲ್ಲಿ', 'ಭಾರತ', 'ಇದೀಗ', 'ಅಗ್ರ', 'ಸ್ಥಾನಕ್ಕೇರಿದೆ', '.']\n",
            "ವೆಸ್ಟ್ 1\n",
            "ಇಂಡೀಸ್ 1\n",
            "ವಿರುದ್ಧದ 1\n",
            "3ನೇ 1\n",
            "ಏಕದಿನ 1\n",
            "ಪಂದ್ಯವನ್ನೂ 1\n",
            "ಗೆದ್ದು 1\n",
            "3-0 1\n",
            "ಅಂತರದಲ್ಲಿ 1\n",
            "ಸರಣಿ 6\n",
            "ಕೈವಶ 1\n",
            "ಮಾಡಿಕೊಂಡಿರುವ 1\n",
            "ಭಾರತ 3\n",
            "ತಂಡ 3\n",
            "ಐತಿಹಾಸಿಕ 1\n",
            "ಸಾಧನೆ 1\n",
            "ಮಾಡಿದ್ದು 1\n",
            ", 2\n",
            "ತಂಡವೊಂದರ 2\n",
            "ವಿರುದ್ಧ 4\n",
            "ಅತೀ 1\n",
            "ಹೆಚ್ಚು 2\n",
            "ಸತತ 2\n",
            "ಜಯ 2\n",
            "ಗಳಿಸಿದ 1\n",
            "ಮೊದಲ 1\n",
            "ಎಂಬ 1\n",
            "ಹೆಗ್ಗಳಿಕೆಗೆ 1\n",
            "ಪಾತ್ರವಾಗಿದೆ 1\n",
            ". 3\n",
            "ಇಂದಿನ 1\n",
            "ಜಯದ 1\n",
            "ಮೂಲಕ 1\n",
            "ಭಾರತದ 1\n",
            "ಖಾತೆಗೆ 1\n",
            "ವಿಂಡೀಸ್ 2\n",
            "ಮತ್ತೊಂದು 2\n",
            "ದಾಖಲಾಗಿದ್ದು 1\n",
            "ಇದು 1\n",
            "ಭಾರತಕ್ಕೆ 1\n",
            "12ನೇ 1\n",
            "ಜಯವಾಗಿದೆ 1\n",
            "ಒಂದು 1\n",
            "ಅಂತಾರಾಷ್ಟ್ರೀಯ 1\n",
            "ಕ್ರಿಕೆಟ್ 1\n",
            "ಸತತವಾಗಿ 1\n",
            "ಗೆದ್ದ 1\n",
            "ಪಟ್ಟಿಯಲ್ಲಿ 1\n",
            "ಇದೀಗ 1\n",
            "ಅಗ್ರ 1\n",
            "ಸ್ಥಾನಕ್ಕೇರಿದೆ 1\n"
          ]
        }
      ]
    },
    {
      "cell_type": "code",
      "source": [
        "import matplotlib.pyplot as plt\n",
        "\n",
        "x = filtered_kan\n",
        "y = wordfreq_kan\n",
        "\n",
        "plt.plot(x,y)\n",
        "\n",
        "plt.xlabel(\"Words\")\n",
        "plt.ylabel(\"Counts\")\n",
        "\n",
        "plt.title(\"Word count Graph\")\n",
        "\n",
        "plt.show()"
      ],
      "metadata": {
        "colab": {
          "base_uri": "https://localhost:8080/",
          "height": 1000
        },
        "id": "PYxDwMo-ptPD",
        "outputId": "ce84bb74-e2bb-4dd4-da08-4bbc82450af0"
      },
      "execution_count": 11,
      "outputs": [
        {
          "output_type": "stream",
          "name": "stderr",
          "text": [
            "/usr/local/lib/python3.7/dist-packages/matplotlib/backends/backend_agg.py:214: RuntimeWarning: Glyph 3253 missing from current font.\n",
            "  font.set_text(s, 0.0, flags=flags)\n",
            "/usr/local/lib/python3.7/dist-packages/matplotlib/backends/backend_agg.py:214: RuntimeWarning: Glyph 3270 missing from current font.\n",
            "  font.set_text(s, 0.0, flags=flags)\n",
            "/usr/local/lib/python3.7/dist-packages/matplotlib/backends/backend_agg.py:214: RuntimeWarning: Glyph 3256 missing from current font.\n",
            "  font.set_text(s, 0.0, flags=flags)\n",
            "/usr/local/lib/python3.7/dist-packages/matplotlib/backends/backend_agg.py:214: RuntimeWarning: Glyph 3277 missing from current font.\n",
            "  font.set_text(s, 0.0, flags=flags)\n",
            "/usr/local/lib/python3.7/dist-packages/matplotlib/backends/backend_agg.py:214: RuntimeWarning: Glyph 3231 missing from current font.\n",
            "  font.set_text(s, 0.0, flags=flags)\n",
            "/usr/local/lib/python3.7/dist-packages/matplotlib/backends/backend_agg.py:214: RuntimeWarning: Glyph 3207 missing from current font.\n",
            "  font.set_text(s, 0.0, flags=flags)\n",
            "/usr/local/lib/python3.7/dist-packages/matplotlib/backends/backend_agg.py:214: RuntimeWarning: Glyph 3202 missing from current font.\n",
            "  font.set_text(s, 0.0, flags=flags)\n",
            "/usr/local/lib/python3.7/dist-packages/matplotlib/backends/backend_agg.py:214: RuntimeWarning: Glyph 3233 missing from current font.\n",
            "  font.set_text(s, 0.0, flags=flags)\n",
            "/usr/local/lib/python3.7/dist-packages/matplotlib/backends/backend_agg.py:214: RuntimeWarning: Glyph 3264 missing from current font.\n",
            "  font.set_text(s, 0.0, flags=flags)\n",
            "/usr/local/lib/python3.7/dist-packages/matplotlib/backends/backend_agg.py:214: RuntimeWarning: Glyph 3263 missing from current font.\n",
            "  font.set_text(s, 0.0, flags=flags)\n",
            "/usr/local/lib/python3.7/dist-packages/matplotlib/backends/backend_agg.py:214: RuntimeWarning: Glyph 3248 missing from current font.\n",
            "  font.set_text(s, 0.0, flags=flags)\n",
            "/usr/local/lib/python3.7/dist-packages/matplotlib/backends/backend_agg.py:214: RuntimeWarning: Glyph 3265 missing from current font.\n",
            "  font.set_text(s, 0.0, flags=flags)\n",
            "/usr/local/lib/python3.7/dist-packages/matplotlib/backends/backend_agg.py:214: RuntimeWarning: Glyph 3238 missing from current font.\n",
            "  font.set_text(s, 0.0, flags=flags)\n",
            "/usr/local/lib/python3.7/dist-packages/matplotlib/backends/backend_agg.py:214: RuntimeWarning: Glyph 3239 missing from current font.\n",
            "  font.set_text(s, 0.0, flags=flags)\n",
            "/usr/local/lib/python3.7/dist-packages/matplotlib/backends/backend_agg.py:214: RuntimeWarning: Glyph 3240 missing from current font.\n",
            "  font.set_text(s, 0.0, flags=flags)\n",
            "/usr/local/lib/python3.7/dist-packages/matplotlib/backends/backend_agg.py:214: RuntimeWarning: Glyph 3271 missing from current font.\n",
            "  font.set_text(s, 0.0, flags=flags)\n",
            "/usr/local/lib/python3.7/dist-packages/matplotlib/backends/backend_agg.py:214: RuntimeWarning: Glyph 3215 missing from current font.\n",
            "  font.set_text(s, 0.0, flags=flags)\n",
            "/usr/local/lib/python3.7/dist-packages/matplotlib/backends/backend_agg.py:214: RuntimeWarning: Glyph 3221 missing from current font.\n",
            "  font.set_text(s, 0.0, flags=flags)\n",
            "/usr/local/lib/python3.7/dist-packages/matplotlib/backends/backend_agg.py:214: RuntimeWarning: Glyph 3242 missing from current font.\n",
            "  font.set_text(s, 0.0, flags=flags)\n",
            "/usr/local/lib/python3.7/dist-packages/matplotlib/backends/backend_agg.py:214: RuntimeWarning: Glyph 3247 missing from current font.\n",
            "  font.set_text(s, 0.0, flags=flags)\n",
            "/usr/local/lib/python3.7/dist-packages/matplotlib/backends/backend_agg.py:214: RuntimeWarning: Glyph 3266 missing from current font.\n",
            "  font.set_text(s, 0.0, flags=flags)\n",
            "/usr/local/lib/python3.7/dist-packages/matplotlib/backends/backend_agg.py:214: RuntimeWarning: Glyph 3223 missing from current font.\n",
            "  font.set_text(s, 0.0, flags=flags)\n",
            "/usr/local/lib/python3.7/dist-packages/matplotlib/backends/backend_agg.py:214: RuntimeWarning: Glyph 3205 missing from current font.\n",
            "  font.set_text(s, 0.0, flags=flags)\n",
            "/usr/local/lib/python3.7/dist-packages/matplotlib/backends/backend_agg.py:214: RuntimeWarning: Glyph 3236 missing from current font.\n",
            "  font.set_text(s, 0.0, flags=flags)\n",
            "/usr/local/lib/python3.7/dist-packages/matplotlib/backends/backend_agg.py:214: RuntimeWarning: Glyph 3250 missing from current font.\n",
            "  font.set_text(s, 0.0, flags=flags)\n",
            "/usr/local/lib/python3.7/dist-packages/matplotlib/backends/backend_agg.py:214: RuntimeWarning: Glyph 3235 missing from current font.\n",
            "  font.set_text(s, 0.0, flags=flags)\n",
            "/usr/local/lib/python3.7/dist-packages/matplotlib/backends/backend_agg.py:214: RuntimeWarning: Glyph 3272 missing from current font.\n",
            "  font.set_text(s, 0.0, flags=flags)\n",
            "/usr/local/lib/python3.7/dist-packages/matplotlib/backends/backend_agg.py:214: RuntimeWarning: Glyph 3254 missing from current font.\n",
            "  font.set_text(s, 0.0, flags=flags)\n",
            "/usr/local/lib/python3.7/dist-packages/matplotlib/backends/backend_agg.py:214: RuntimeWarning: Glyph 3246 missing from current font.\n",
            "  font.set_text(s, 0.0, flags=flags)\n",
            "/usr/local/lib/python3.7/dist-packages/matplotlib/backends/backend_agg.py:214: RuntimeWarning: Glyph 3262 missing from current font.\n",
            "  font.set_text(s, 0.0, flags=flags)\n",
            "/usr/local/lib/python3.7/dist-packages/matplotlib/backends/backend_agg.py:214: RuntimeWarning: Glyph 3274 missing from current font.\n",
            "  font.set_text(s, 0.0, flags=flags)\n",
            "/usr/local/lib/python3.7/dist-packages/matplotlib/backends/backend_agg.py:214: RuntimeWarning: Glyph 3245 missing from current font.\n",
            "  font.set_text(s, 0.0, flags=flags)\n",
            "/usr/local/lib/python3.7/dist-packages/matplotlib/backends/backend_agg.py:214: RuntimeWarning: Glyph 3216 missing from current font.\n",
            "  font.set_text(s, 0.0, flags=flags)\n",
            "/usr/local/lib/python3.7/dist-packages/matplotlib/backends/backend_agg.py:214: RuntimeWarning: Glyph 3257 missing from current font.\n",
            "  font.set_text(s, 0.0, flags=flags)\n",
            "/usr/local/lib/python3.7/dist-packages/matplotlib/backends/backend_agg.py:214: RuntimeWarning: Glyph 3226 missing from current font.\n",
            "  font.set_text(s, 0.0, flags=flags)\n",
            "/usr/local/lib/python3.7/dist-packages/matplotlib/backends/backend_agg.py:214: RuntimeWarning: Glyph 3228 missing from current font.\n",
            "  font.set_text(s, 0.0, flags=flags)\n",
            "/usr/local/lib/python3.7/dist-packages/matplotlib/backends/backend_agg.py:214: RuntimeWarning: Glyph 3251 missing from current font.\n",
            "  font.set_text(s, 0.0, flags=flags)\n",
            "/usr/local/lib/python3.7/dist-packages/matplotlib/backends/backend_agg.py:214: RuntimeWarning: Glyph 3214 missing from current font.\n",
            "  font.set_text(s, 0.0, flags=flags)\n",
            "/usr/local/lib/python3.7/dist-packages/matplotlib/backends/backend_agg.py:214: RuntimeWarning: Glyph 3244 missing from current font.\n",
            "  font.set_text(s, 0.0, flags=flags)\n",
            "/usr/local/lib/python3.7/dist-packages/matplotlib/backends/backend_agg.py:214: RuntimeWarning: Glyph 3222 missing from current font.\n",
            "  font.set_text(s, 0.0, flags=flags)\n",
            "/usr/local/lib/python3.7/dist-packages/matplotlib/backends/backend_agg.py:214: RuntimeWarning: Glyph 3218 missing from current font.\n",
            "  font.set_text(s, 0.0, flags=flags)\n",
            "/usr/local/lib/python3.7/dist-packages/matplotlib/backends/backend_agg.py:214: RuntimeWarning: Glyph 3255 missing from current font.\n",
            "  font.set_text(s, 0.0, flags=flags)\n",
            "/usr/local/lib/python3.7/dist-packages/matplotlib/backends/backend_agg.py:214: RuntimeWarning: Glyph 3237 missing from current font.\n",
            "  font.set_text(s, 0.0, flags=flags)\n",
            "/usr/local/lib/python3.7/dist-packages/matplotlib/backends/backend_agg.py:183: RuntimeWarning: Glyph 3253 missing from current font.\n",
            "  font.set_text(s, 0, flags=flags)\n",
            "/usr/local/lib/python3.7/dist-packages/matplotlib/backends/backend_agg.py:183: RuntimeWarning: Glyph 3270 missing from current font.\n",
            "  font.set_text(s, 0, flags=flags)\n",
            "/usr/local/lib/python3.7/dist-packages/matplotlib/backends/backend_agg.py:183: RuntimeWarning: Glyph 3256 missing from current font.\n",
            "  font.set_text(s, 0, flags=flags)\n",
            "/usr/local/lib/python3.7/dist-packages/matplotlib/backends/backend_agg.py:183: RuntimeWarning: Glyph 3277 missing from current font.\n",
            "  font.set_text(s, 0, flags=flags)\n",
            "/usr/local/lib/python3.7/dist-packages/matplotlib/backends/backend_agg.py:183: RuntimeWarning: Glyph 3231 missing from current font.\n",
            "  font.set_text(s, 0, flags=flags)\n",
            "/usr/local/lib/python3.7/dist-packages/matplotlib/backends/backend_agg.py:183: RuntimeWarning: Glyph 3207 missing from current font.\n",
            "  font.set_text(s, 0, flags=flags)\n",
            "/usr/local/lib/python3.7/dist-packages/matplotlib/backends/backend_agg.py:183: RuntimeWarning: Glyph 3202 missing from current font.\n",
            "  font.set_text(s, 0, flags=flags)\n",
            "/usr/local/lib/python3.7/dist-packages/matplotlib/backends/backend_agg.py:183: RuntimeWarning: Glyph 3233 missing from current font.\n",
            "  font.set_text(s, 0, flags=flags)\n",
            "/usr/local/lib/python3.7/dist-packages/matplotlib/backends/backend_agg.py:183: RuntimeWarning: Glyph 3264 missing from current font.\n",
            "  font.set_text(s, 0, flags=flags)\n",
            "/usr/local/lib/python3.7/dist-packages/matplotlib/backends/backend_agg.py:183: RuntimeWarning: Glyph 3263 missing from current font.\n",
            "  font.set_text(s, 0, flags=flags)\n",
            "/usr/local/lib/python3.7/dist-packages/matplotlib/backends/backend_agg.py:183: RuntimeWarning: Glyph 3248 missing from current font.\n",
            "  font.set_text(s, 0, flags=flags)\n",
            "/usr/local/lib/python3.7/dist-packages/matplotlib/backends/backend_agg.py:183: RuntimeWarning: Glyph 3265 missing from current font.\n",
            "  font.set_text(s, 0, flags=flags)\n",
            "/usr/local/lib/python3.7/dist-packages/matplotlib/backends/backend_agg.py:183: RuntimeWarning: Glyph 3238 missing from current font.\n",
            "  font.set_text(s, 0, flags=flags)\n",
            "/usr/local/lib/python3.7/dist-packages/matplotlib/backends/backend_agg.py:183: RuntimeWarning: Glyph 3239 missing from current font.\n",
            "  font.set_text(s, 0, flags=flags)\n",
            "/usr/local/lib/python3.7/dist-packages/matplotlib/backends/backend_agg.py:183: RuntimeWarning: Glyph 3240 missing from current font.\n",
            "  font.set_text(s, 0, flags=flags)\n",
            "/usr/local/lib/python3.7/dist-packages/matplotlib/backends/backend_agg.py:183: RuntimeWarning: Glyph 3271 missing from current font.\n",
            "  font.set_text(s, 0, flags=flags)\n",
            "/usr/local/lib/python3.7/dist-packages/matplotlib/backends/backend_agg.py:183: RuntimeWarning: Glyph 3215 missing from current font.\n",
            "  font.set_text(s, 0, flags=flags)\n",
            "/usr/local/lib/python3.7/dist-packages/matplotlib/backends/backend_agg.py:183: RuntimeWarning: Glyph 3221 missing from current font.\n",
            "  font.set_text(s, 0, flags=flags)\n",
            "/usr/local/lib/python3.7/dist-packages/matplotlib/backends/backend_agg.py:183: RuntimeWarning: Glyph 3242 missing from current font.\n",
            "  font.set_text(s, 0, flags=flags)\n",
            "/usr/local/lib/python3.7/dist-packages/matplotlib/backends/backend_agg.py:183: RuntimeWarning: Glyph 3247 missing from current font.\n",
            "  font.set_text(s, 0, flags=flags)\n",
            "/usr/local/lib/python3.7/dist-packages/matplotlib/backends/backend_agg.py:183: RuntimeWarning: Glyph 3266 missing from current font.\n",
            "  font.set_text(s, 0, flags=flags)\n",
            "/usr/local/lib/python3.7/dist-packages/matplotlib/backends/backend_agg.py:183: RuntimeWarning: Glyph 3223 missing from current font.\n",
            "  font.set_text(s, 0, flags=flags)\n",
            "/usr/local/lib/python3.7/dist-packages/matplotlib/backends/backend_agg.py:183: RuntimeWarning: Glyph 3205 missing from current font.\n",
            "  font.set_text(s, 0, flags=flags)\n",
            "/usr/local/lib/python3.7/dist-packages/matplotlib/backends/backend_agg.py:183: RuntimeWarning: Glyph 3236 missing from current font.\n",
            "  font.set_text(s, 0, flags=flags)\n",
            "/usr/local/lib/python3.7/dist-packages/matplotlib/backends/backend_agg.py:183: RuntimeWarning: Glyph 3250 missing from current font.\n",
            "  font.set_text(s, 0, flags=flags)\n",
            "/usr/local/lib/python3.7/dist-packages/matplotlib/backends/backend_agg.py:183: RuntimeWarning: Glyph 3235 missing from current font.\n",
            "  font.set_text(s, 0, flags=flags)\n",
            "/usr/local/lib/python3.7/dist-packages/matplotlib/backends/backend_agg.py:183: RuntimeWarning: Glyph 3272 missing from current font.\n",
            "  font.set_text(s, 0, flags=flags)\n",
            "/usr/local/lib/python3.7/dist-packages/matplotlib/backends/backend_agg.py:183: RuntimeWarning: Glyph 3254 missing from current font.\n",
            "  font.set_text(s, 0, flags=flags)\n",
            "/usr/local/lib/python3.7/dist-packages/matplotlib/backends/backend_agg.py:183: RuntimeWarning: Glyph 3246 missing from current font.\n",
            "  font.set_text(s, 0, flags=flags)\n",
            "/usr/local/lib/python3.7/dist-packages/matplotlib/backends/backend_agg.py:183: RuntimeWarning: Glyph 3262 missing from current font.\n",
            "  font.set_text(s, 0, flags=flags)\n",
            "/usr/local/lib/python3.7/dist-packages/matplotlib/backends/backend_agg.py:183: RuntimeWarning: Glyph 3274 missing from current font.\n",
            "  font.set_text(s, 0, flags=flags)\n",
            "/usr/local/lib/python3.7/dist-packages/matplotlib/backends/backend_agg.py:183: RuntimeWarning: Glyph 3245 missing from current font.\n",
            "  font.set_text(s, 0, flags=flags)\n",
            "/usr/local/lib/python3.7/dist-packages/matplotlib/backends/backend_agg.py:183: RuntimeWarning: Glyph 3216 missing from current font.\n",
            "  font.set_text(s, 0, flags=flags)\n",
            "/usr/local/lib/python3.7/dist-packages/matplotlib/backends/backend_agg.py:183: RuntimeWarning: Glyph 3257 missing from current font.\n",
            "  font.set_text(s, 0, flags=flags)\n",
            "/usr/local/lib/python3.7/dist-packages/matplotlib/backends/backend_agg.py:183: RuntimeWarning: Glyph 3226 missing from current font.\n",
            "  font.set_text(s, 0, flags=flags)\n",
            "/usr/local/lib/python3.7/dist-packages/matplotlib/backends/backend_agg.py:183: RuntimeWarning: Glyph 3228 missing from current font.\n",
            "  font.set_text(s, 0, flags=flags)\n",
            "/usr/local/lib/python3.7/dist-packages/matplotlib/backends/backend_agg.py:183: RuntimeWarning: Glyph 3251 missing from current font.\n",
            "  font.set_text(s, 0, flags=flags)\n",
            "/usr/local/lib/python3.7/dist-packages/matplotlib/backends/backend_agg.py:183: RuntimeWarning: Glyph 3214 missing from current font.\n",
            "  font.set_text(s, 0, flags=flags)\n",
            "/usr/local/lib/python3.7/dist-packages/matplotlib/backends/backend_agg.py:183: RuntimeWarning: Glyph 3244 missing from current font.\n",
            "  font.set_text(s, 0, flags=flags)\n",
            "/usr/local/lib/python3.7/dist-packages/matplotlib/backends/backend_agg.py:183: RuntimeWarning: Glyph 3222 missing from current font.\n",
            "  font.set_text(s, 0, flags=flags)\n",
            "/usr/local/lib/python3.7/dist-packages/matplotlib/backends/backend_agg.py:183: RuntimeWarning: Glyph 3218 missing from current font.\n",
            "  font.set_text(s, 0, flags=flags)\n",
            "/usr/local/lib/python3.7/dist-packages/matplotlib/backends/backend_agg.py:183: RuntimeWarning: Glyph 3255 missing from current font.\n",
            "  font.set_text(s, 0, flags=flags)\n",
            "/usr/local/lib/python3.7/dist-packages/matplotlib/backends/backend_agg.py:183: RuntimeWarning: Glyph 3237 missing from current font.\n",
            "  font.set_text(s, 0, flags=flags)\n"
          ]
        },
        {
          "output_type": "display_data",
          "data": {
            "text/plain": [
              "<Figure size 432x288 with 1 Axes>"
            ],
            "image/png": "[encoded data removed]"
          },
          "metadata": {
            "needs_background": "light"
          }
        }
      ]
    },
    {
      "cell_type": "code",
      "source": [
        "f3 = open('NLTK/french.txt','r')\n",
        "data3 = f3.read()\n",
        "\n",
        "tokenizer = RegexpTokenizer(r'\\w+')\n",
        "stop_words_french = set(stopwords.words('french'))\n",
        "\n",
        "word_tokens = tokenizer.tokenize(data3)\n",
        "\n",
        "filtered_sentence_french = [w for w in word_tokens if not w in stop_words_french]\n",
        "\n",
        "print('the stopped words are:',stop_words_french)\n",
        "print(filtered_sentence_french)\n",
        "\n",
        "\n",
        "wordfreq_french=[]\n",
        "filtered_french=[]\n",
        "\n",
        "for w in filtered_sentence_french:\n",
        "    a = filtered_sentence_french.count(w)\n",
        "    if w not in filtered_french:\n",
        "      filtered_french.append(w)\n",
        "      wordfreq_french.append(a)\n",
        "      print(w,a)\n",
        "\n",
        "x = filtered_french[:10]\n",
        "y = wordfreq_french[:10]\n",
        "\n",
        "plt.plot(x,y)\n",
        "\n",
        "plt.xlabel(\"Words\")\n",
        "plt.ylabel(\"Counts\")\n",
        "\n",
        "plt.title(\"Word count Graph\")\n",
        "\n",
        "plt.show()"
      ],
      "metadata": {
        "colab": {
          "base_uri": "https://localhost:8080/",
          "height": 1000
        },
        "id": "s_5ddCU4qHQa",
        "outputId": "b4ff3518-b11e-4827-a7ee-d3d2d67a3eab"
      },
      "execution_count": 14,
      "outputs": [
        {
          "output_type": "stream",
          "name": "stdout",
          "text": [
            "the stopped words are: {'eût', 'suis', 'qui', 'ses', 'lui', 'un', 'eu', 'étantes', 'fûmes', 'aura', 'auras', 'aurions', 'serai', 'eussions', 'mon', 'qu', 'ai', 'sa', 'ces', 'fus', 'aurez', 'tu', 'par', 'eut', 'ce', 'ma', 'seriez', 'soient', 'sont', 'sois', 'eûmes', 'avais', 'été', 'eus', 'la', 'tes', 'aie', 'j', 'm', 'furent', 'fusse', 'aurai', 'fussions', 'était', 'que', 'ta', 'y', 'mais', 'ait', 'c', 'avez', 'étais', 'ayante', 'son', 'aurons', 'serions', 'auraient', 'soit', 'ayants', 'n', 'vous', 'serait', 'le', 'les', 'nous', 'aux', 'notre', 'fût', 'eûtes', 'une', 'serez', 'pas', 'soyons', 'eue', 'serais', 'nos', 'en', 'étante', 'fûtes', 'étaient', 'à', 'seras', 'eues', 'étants', 'étés', 'vos', 'l', 'eusse', 'même', 'leur', 'fusses', 'fussent', 'étions', 'ton', 'es', 'est', 'fussiez', 'dans', 'et', 'seront', 'eurent', 'ayez', 'fut', 'ayons', 'ils', 'soyez', 'de', 'avons', 'du', 'étées', 'étiez', 'eussent', 'avions', 'ou', 'votre', 'sur', 'moi', 'd', 'des', 'pour', 'étée', 't', 'ayant', 'te', 'avec', 'êtes', 'toi', 'on', 'avaient', 'étant', 'je', 'me', 'eux', 'auriez', 'ont', 'elle', 'auront', 'seraient', 'eussiez', 'mes', 'aviez', 'eusses', 'ayantes', 'aient', 'il', 'se', 'sera', 'aurais', 'sommes', 'as', 'aies', 'aurait', 'au', 'serons', 'ne', 'avait', 's'}\n",
            "['SushiSwap', 'également', 'DEX', 'basé', 'AMM', 'différencie', 'Uniswap', 'suite', 'plus', 'large', 'produits', 'DeFi', 'internes', 'compris', 'protocoles', 'agriculture', 'prêt', 'optimisation', 'rendement', 'Les', 'deux', 'projets', 'propre', 'jeton', 'gouvernance', 'UNI', 'SUSHI', 'respectivement', 'classent', 'parmi', 'cinq', 'meilleurs', 'DEX', 'DeFi', 'Uniswap', 'dernière', 'itération', 'Uniswap', 'v3', 'désormais', 'déployé', 'réseau', 'principal', 'Ethereum', 'ainsi', 'principales', 'solutions', 'mise', 'échelle', 'couche', '2', 'Polygon', 'Arbitrum', 'Optimism', 'D', 'autre', 'part', 'SushiSwap', 'a', 'jeté', 'filet', 'encore', 'plus', 'large', 'assurer', 'croissance', 'TVL', 'prend', 'désormais', 'charge', '14', 'chaînes', 'différentes', 'En', 'termes', 'part', 'volume', 'DEX1', 'regardant', 'Uniswap', 'v3', 'constatons', 'pic', 'environ', '45', 'février', 'cette', 'année', 'légèrement', 'dessus', 'part', 'actuelle', 'environ', '44', 'Pour', 'contexte', 'cela', 'compare', 'pic', 'octobre', '2020', 'bien', 'Uniswap', 'v2', 'plus', '58', 'SushiSwap', 'a', 'connu', 'course', 'légèrement', 'plus', 'difficile', 'culminant', 'environ', '26', 'janvier', '2021', 'chutant', 'lentement', 'depuis', 'lors', 'chiffre', 'pendant', 'majorité', 'derniers', 'mois', 'En', 'termes', 'développements', 'récents', 'changement', 'plus', 'percutant', 'Uniswap', 'cours', 'année', 'dernière', 'a', 'introduction', 'Uniswap', 'v32', 'a', 'ajouté', 'certain', 'nombre', 'améliorations', 'notamment', 'meilleure', 'efficacité', 'capital', 'intégration', 'couche', '2', 'frais', 'flexibles', 'entre', 'autres', 'Pour', 'SushiSwap', 'après', 'quelques', 'frictions', 'communautaires', 'suite', 'prise', 'contrôle', 'ratée', 'désormais', 'tristement', 'célèbre', 'Frog', 'Nation', 'quelques', 'mois', 'délibération', 'abouti', 'proposition', 'Sushi', '2', '03', 'La', 'proposition', 'articule', 'autour', 'rétention', 'talents', 'création', 'comité', 'rémunération', 'formel', 'affecte', '6', 'millions', 'SUSHI', 'allouer', 'futures', 'embauches', 'stratégie', 'leadership', 'Les', 'mesures', 'volume', 'montrent', 'SushiSwap', 'démontre', 'certaine', 'augmentation', 'volume', 'a', 'marché', 'relativement', 'lent', 'indiquant', 'proposition', 'pourrait', 'commencer', 'avoir', 'impact', 'positif', 'projet']\n",
            "SushiSwap 5\n",
            "également 1\n",
            "DEX 2\n",
            "basé 1\n",
            "AMM 1\n",
            "différencie 1\n",
            "Uniswap 7\n",
            "suite 2\n",
            "plus 5\n",
            "large 2\n",
            "produits 1\n",
            "DeFi 2\n",
            "internes 1\n",
            "compris 1\n",
            "protocoles 1\n",
            "agriculture 1\n",
            "prêt 1\n",
            "optimisation 1\n",
            "rendement 1\n",
            "Les 2\n",
            "deux 1\n",
            "projets 1\n",
            "propre 1\n",
            "jeton 1\n",
            "gouvernance 1\n",
            "UNI 1\n",
            "SUSHI 2\n",
            "respectivement 1\n",
            "classent 1\n",
            "parmi 1\n",
            "cinq 1\n",
            "meilleurs 1\n",
            "dernière 2\n",
            "itération 1\n",
            "v3 2\n",
            "désormais 3\n",
            "déployé 1\n",
            "réseau 1\n",
            "principal 1\n",
            "Ethereum 1\n",
            "ainsi 1\n",
            "principales 1\n",
            "solutions 1\n",
            "mise 1\n",
            "échelle 1\n",
            "couche 2\n",
            "2 3\n",
            "Polygon 1\n",
            "Arbitrum 1\n",
            "Optimism 1\n",
            "D 1\n",
            "autre 1\n",
            "part 3\n",
            "a 5\n",
            "jeté 1\n",
            "filet 1\n",
            "encore 1\n",
            "assurer 1\n",
            "croissance 1\n",
            "TVL 1\n",
            "prend 1\n",
            "charge 1\n",
            "14 1\n",
            "chaînes 1\n",
            "différentes 1\n",
            "En 2\n",
            "termes 2\n",
            "volume 3\n",
            "DEX1 1\n",
            "regardant 1\n",
            "constatons 1\n",
            "pic 2\n",
            "environ 3\n",
            "45 1\n",
            "février 1\n",
            "cette 1\n",
            "année 2\n",
            "légèrement 2\n",
            "dessus 1\n",
            "actuelle 1\n",
            "44 1\n",
            "Pour 2\n",
            "contexte 1\n",
            "cela 1\n",
            "compare 1\n",
            "octobre 1\n",
            "2020 1\n",
            "bien 1\n",
            "v2 1\n",
            "58 1\n",
            "connu 1\n",
            "course 1\n",
            "difficile 1\n",
            "culminant 1\n",
            "26 1\n",
            "janvier 1\n",
            "2021 1\n",
            "chutant 1\n",
            "lentement 1\n",
            "depuis 1\n",
            "lors 1\n",
            "chiffre 1\n",
            "pendant 1\n",
            "majorité 1\n",
            "derniers 1\n",
            "mois 2\n",
            "développements 1\n",
            "récents 1\n",
            "changement 1\n",
            "percutant 1\n",
            "cours 1\n",
            "introduction 1\n",
            "v32 1\n",
            "ajouté 1\n",
            "certain 1\n",
            "nombre 1\n",
            "améliorations 1\n",
            "notamment 1\n",
            "meilleure 1\n",
            "efficacité 1\n",
            "capital 1\n",
            "intégration 1\n",
            "frais 1\n",
            "flexibles 1\n",
            "entre 1\n",
            "autres 1\n",
            "après 1\n",
            "quelques 2\n",
            "frictions 1\n",
            "communautaires 1\n",
            "prise 1\n",
            "contrôle 1\n",
            "ratée 1\n",
            "tristement 1\n",
            "célèbre 1\n",
            "Frog 1\n",
            "Nation 1\n",
            "délibération 1\n",
            "abouti 1\n",
            "proposition 3\n",
            "Sushi 1\n",
            "03 1\n",
            "La 1\n",
            "articule 1\n",
            "autour 1\n",
            "rétention 1\n",
            "talents 1\n",
            "création 1\n",
            "comité 1\n",
            "rémunération 1\n",
            "formel 1\n",
            "affecte 1\n",
            "6 1\n",
            "millions 1\n",
            "allouer 1\n",
            "futures 1\n",
            "embauches 1\n",
            "stratégie 1\n",
            "leadership 1\n",
            "mesures 1\n",
            "montrent 1\n",
            "démontre 1\n",
            "certaine 1\n",
            "augmentation 1\n",
            "marché 1\n",
            "relativement 1\n",
            "lent 1\n",
            "indiquant 1\n",
            "pourrait 1\n",
            "commencer 1\n",
            "avoir 1\n",
            "impact 1\n",
            "positif 1\n",
            "projet 1\n"
          ]
        },
        {
          "output_type": "display_data",
          "data": {
            "text/plain": [
              "<Figure size 432x288 with 1 Axes>"
            ],
            "image/png": "[encoded data removed]"
          },
          "metadata": {
            "needs_background": "light"
          }
        }
      ]
    },
    {
      "cell_type": "code",
      "source": [
        ""
      ],
      "metadata": {
        "id": "zhXtT7cyq-Hd"
      },
      "execution_count": null,
      "outputs": []
    }
  ]
}