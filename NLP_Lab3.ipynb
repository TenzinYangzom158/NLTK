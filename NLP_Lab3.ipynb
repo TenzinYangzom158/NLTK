{
  "nbformat": 4,
  "nbformat_minor": 0,
  "metadata": {
    "colab": {
      "name": "NLP_Lab3.ipynb",
      "provenance": [],
      "collapsed_sections": [],
      "authorship_tag": "ABX9TyMU/ErEdwq00CKClUWVrk7n",
      "include_colab_link": true
    },
    "kernelspec": {
      "name": "python3",
      "display_name": "Python 3"
    },
    "language_info": {
      "name": "python"
    }
  },
  "cells": [
    {
      "cell_type": "markdown",
      "metadata": {
        "id": "view-in-github",
        "colab_type": "text"
      },
      "source": [
        "<a href=\"https://colab.research.google.com/github/TenzinYangzom158/NLTK/blob/main/NLP_Lab3.ipynb\" target=\"_parent\"><img src=\"https://colab.research.google.com/assets/colab-badge.svg\" alt=\"Open In Colab\"/></a>"
      ]
    },
    {
      "cell_type": "markdown",
      "source": [
        "# **Lab3. Write a program to program to tokenize Non-English Languages**"
      ],
      "metadata": {
        "id": "DXjOBNy0dPKK"
      }
    },
    {
      "cell_type": "markdown",
      "source": [
        "### Tokenization is breaking the raw text into small chunks. Tokenization breaks the raw text into words, sentences called tokens. "
      ],
      "metadata": {
        "id": "Vc7f1RQ2Cq3j"
      }
    },
    {
      "cell_type": "code",
      "execution_count": 1,
      "metadata": {
        "id": "erWslPiHdL-G",
        "colab": {
          "base_uri": "https://localhost:8080/"
        },
        "outputId": "8b5d69b4-9beb-4818-9be6-40418e238495"
      },
      "outputs": [
        {
          "output_type": "stream",
          "name": "stderr",
          "text": [
            "[nltk_data] Downloading package punkt to /root/nltk_data...\n",
            "[nltk_data]   Unzipping tokenizers/punkt.zip.\n"
          ]
        }
      ],
      "source": [
        "# import the library\n",
        "import nltk\n",
        "nltk.download('punkt')\n",
        "import nltk.data"
      ]
    },
    {
      "cell_type": "code",
      "source": [
        "import matplotlib.pyplot as plt"
      ],
      "metadata": {
        "id": "3F6mADZZSZDD"
      },
      "execution_count": 2,
      "outputs": []
    },
    {
      "cell_type": "code",
      "source": [
        "# add necessary libraries\n",
        "from nltk.corpus import stopwords\n",
        "from nltk.tokenize import (word_tokenize, \n",
        "                          sent_tokenize,\n",
        "                           RegexpTokenizer,\n",
        "                           wordpunct_tokenize,\n",
        "                           TreebankWordTokenizer, \n",
        "                           TweetTokenizer,\n",
        "                           MWETokenizer)\n",
        "# TreebankWordTokenizer and MWETokenizer works but not useful\n",
        "\n",
        "from nltk.probability import FreqDist\n",
        "\n",
        "from nltk.stem import PorterStemmer\n",
        "import math"
      ],
      "metadata": {
        "id": "AjzolG5w9NGY"
      },
      "execution_count": 3,
      "outputs": []
    },
    {
      "cell_type": "code",
      "source": [
        "!git clone https://github.com/TenzinYangzom158/NLTK.git"
      ],
      "metadata": {
        "colab": {
          "base_uri": "https://localhost:8080/"
        },
        "id": "HwmNaH-DIItO",
        "outputId": "d8c3ecca-7fc5-44bb-ad61-843d1ff1e873"
      },
      "execution_count": 4,
      "outputs": [
        {
          "output_type": "stream",
          "name": "stdout",
          "text": [
            "Cloning into 'NLTK'...\n",
            "remote: Enumerating objects: 22, done.\u001b[K\n",
            "remote: Counting objects: 100% (22/22), done.\u001b[K\n",
            "remote: Compressing objects: 100% (19/19), done.\u001b[K\n",
            "remote: Total 22 (delta 4), reused 0 (delta 0), pack-reused 0\u001b[K\n",
            "Unpacking objects: 100% (22/22), done.\n"
          ]
        }
      ]
    },
    {
      "cell_type": "markdown",
      "source": [
        "Importing Hindi text from the text file"
      ],
      "metadata": {
        "id": "GyzrgXwy8Y6Z"
      }
    },
    {
      "cell_type": "code",
      "source": [
        "text = open('NLTK/hindi.txt')\n",
        "sen = text.read()\n",
        "print(sen)"
      ],
      "metadata": {
        "colab": {
          "base_uri": "https://localhost:8080/"
        },
        "id": "PdZtpWCBqgYc",
        "outputId": "f264dec0-b8cc-49f0-800c-ac46f880719d"
      },
      "execution_count": 5,
      "outputs": [
        {
          "output_type": "stream",
          "name": "stdout",
          "text": [
            "आदरणीय अध्यक्षा जी, मैं आपका आभार व्\\यक्\\त करता हूं, जिस धैर्य के साथ आपने सदन का आज संचालन किया है। यह अविश्\\वास प्रस्\\ताव एक प्रकार से हमारे लोकतंत्र की महत्\\वपूर्ण शक्ति का परिचायक है। भले ही टीडीपी के माध् यम से यह प्रस्ताव आया हो, लेकिन उनके साथ जुड़े हुए कुछ माननीय सदस्\\यों ने प्रस्\\ताव का समर्थन करते हुए बातें कही है।\n"
          ]
        }
      ]
    },
    {
      "cell_type": "code",
      "source": [
        ""
      ],
      "metadata": {
        "id": "6QniN3btED_f"
      },
      "execution_count": 5,
      "outputs": []
    },
    {
      "cell_type": "markdown",
      "source": [
        "Printing Hindi Stop words"
      ],
      "metadata": {
        "id": "KICbolIa8UJp"
      }
    },
    {
      "cell_type": "code",
      "source": [
        "hin_stops = open('NLTK/hindi_stopwords.txt')\n",
        "\n",
        "stopwords=[]\n",
        "for x in hin_stops:\n",
        "   stopwords.append(x)\n",
        "print(stopwords)"
      ],
      "metadata": {
        "id": "Jyt-uG7Gqu_Q",
        "colab": {
          "base_uri": "https://localhost:8080/"
        },
        "outputId": "c5f21cb1-b6db-462e-a3b2-e39cf0589fb6"
      },
      "execution_count": 6,
      "outputs": [
        {
          "output_type": "stream",
          "name": "stdout",
          "text": [
            "['अत\\n', 'अपना\\n', 'अपनी\\n', 'अपने\\n', 'अभी\\n', 'अंदर\\n', 'आदि\\n', 'आप\\n', 'इत्यादि\\n', 'इन \\n', 'इनका\\n', 'इन्हीं\\n', 'इन्हें\\n', 'इन्हों\\n', 'इस\\n', 'इसका\\n', 'इसकी\\n', 'इसके\\n', 'इसमें\\n', 'इसी\\n', 'इसे\\n', 'उन\\n', 'उनका\\n', 'उनकी\\n', 'उनके\\n', 'उनको\\n', 'उन्हीं\\n', 'उन्हें\\n', 'उन्हों\\n', 'उस\\n', 'उसके\\n', 'उसी\\n', 'उसे\\n', 'एक\\n', 'एवं\\n', 'एस\\n', 'ऐसे\\n', 'और\\n', 'कई\\n', 'कर\\n', 'करता\\n', 'करते\\n', 'करना\\n', 'करने\\n', 'करें\\n', 'कहते\\n', 'कहा\\n', 'का\\n', 'काफ़ी\\n', 'कि\\n', 'कितना\\n', 'किन्हें\\n', 'किन्हों\\n', 'किया\\n', 'किर\\n', 'किस\\n', 'किसी\\n', 'किसे\\n', 'की\\n', 'कुछ\\n', 'कुल\\n', 'के\\n', 'को\\n', 'कोई\\n', 'कौन\\n', 'कौनसा\\n', 'गया\\n', 'घर\\n', 'जब\\n', 'जहाँ\\n', 'जा\\n', 'जितना\\n', 'जिन\\n', 'जिन्हें\\n', 'जिन्हों\\n', 'जिस\\n', 'जिसे\\n', 'जीधर\\n', 'जैसा\\n', 'जैसे\\n', 'जो\\n', 'तक\\n', 'तब\\n', 'तरह\\n', 'तिन\\n', 'तिन्हें\\n', 'तिन्हों\\n', 'तिस\\n', 'तिसे\\n', 'तो\\n', 'था\\n', 'थी\\n', 'थे\\n', 'दबारा\\n', 'दिया\\n', 'दुसरा\\n', 'दूसरे\\n', 'दो\\n', 'द्वारा\\n', 'न\\n', 'नके\\n', 'नहीं\\n', 'ना\\n', 'निहायत\\n', 'नीचे\\n', 'ने\\n', 'पर\\n', 'पहले\\n', 'पूरा\\n', 'पे\\n', 'फिर\\n', 'बनी\\n', 'बही\\n', 'बहुत\\n', 'बाद\\n', 'बाला\\n', 'बिलकुल\\n', 'भी\\n', 'भीतर\\n', 'मगर\\n', 'मानो\\n', 'मे\\n', 'में\\n', 'यदि\\n', 'यह\\n', 'यहाँ\\n', 'यही\\n', 'या\\n', 'यिह\\n', 'ये\\n', 'रखें\\n', 'रहा\\n', 'रहे\\n', 'ऱ्वासा\\n', 'लिए\\n', 'लिये\\n', 'लेकिन\\n', 'व\\n', 'वग़ैरह\\n', 'वर्ग\\n', 'वह\\n', 'वहाँ\\n', 'वहीं\\n', 'वाले\\n', 'वुह\\n', 'वे\\n', 'सकता\\n', 'सकते\\n', 'सबसे\\n', 'सभी\\n', 'साथ\\n', 'साबुत\\n', 'साभ\\n', 'सारा\\n', 'से\\n', 'सो\\n', 'संग\\n', 'ही\\n', 'हुआ\\n', 'हुई\\n', 'हुए\\n', 'है\\n', 'हैं\\n', 'हो\\n', 'होता\\n', 'होती\\n', 'होते\\n', 'होना\\n', 'होने\\n']\n"
          ]
        }
      ]
    },
    {
      "cell_type": "markdown",
      "source": [
        "### Tokenization on Hindi language"
      ],
      "metadata": {
        "id": "VGtsTjJy8fjQ"
      }
    },
    {
      "cell_type": "code",
      "source": [
        "# 1. White Space Tokenization\n",
        "print(\"Full sentence: \",sen)\n",
        "print(\"After white space tokenization: \",word_tokenize(sen))"
      ],
      "metadata": {
        "id": "E78zOXRX714q",
        "colab": {
          "base_uri": "https://localhost:8080/"
        },
        "outputId": "8dd74916-a0b9-4de4-c7bc-225cda6e8c6d"
      },
      "execution_count": 7,
      "outputs": [
        {
          "output_type": "stream",
          "name": "stdout",
          "text": [
            "Full sentence:  आदरणीय अध्यक्षा जी, मैं आपका आभार व्\\यक्\\त करता हूं, जिस धैर्य के साथ आपने सदन का आज संचालन किया है। यह अविश्\\वास प्रस्\\ताव एक प्रकार से हमारे लोकतंत्र की महत्\\वपूर्ण शक्ति का परिचायक है। भले ही टीडीपी के माध् यम से यह प्रस्ताव आया हो, लेकिन उनके साथ जुड़े हुए कुछ माननीय सदस्\\यों ने प्रस्\\ताव का समर्थन करते हुए बातें कही है।\n",
            "After white space tokenization:  ['आदरणीय', 'अध्यक्षा', 'जी', ',', 'मैं', 'आपका', 'आभार', 'व्\\\\यक्\\\\त', 'करता', 'हूं', ',', 'जिस', 'धैर्य', 'के', 'साथ', 'आपने', 'सदन', 'का', 'आज', 'संचालन', 'किया', 'है।', 'यह', 'अविश्\\\\वास', 'प्रस्\\\\ताव', 'एक', 'प्रकार', 'से', 'हमारे', 'लोकतंत्र', 'की', 'महत्\\\\वपूर्ण', 'शक्ति', 'का', 'परिचायक', 'है।', 'भले', 'ही', 'टीडीपी', 'के', 'माध्', 'यम', 'से', 'यह', 'प्रस्ताव', 'आया', 'हो', ',', 'लेकिन', 'उनके', 'साथ', 'जुड़े', 'हुए', 'कुछ', 'माननीय', 'सदस्\\\\यों', 'ने', 'प्रस्\\\\ताव', 'का', 'समर्थन', 'करते', 'हुए', 'बातें', 'कही', 'है।']\n"
          ]
        }
      ]
    },
    {
      "cell_type": "code",
      "source": [
        "# 2. Sentence Tokenizer\n",
        "print(sent_tokenize(sen))\n",
        "print(sen.split('।'))"
      ],
      "metadata": {
        "id": "xJ0UwBjN9hJr",
        "colab": {
          "base_uri": "https://localhost:8080/"
        },
        "outputId": "3417463b-8707-4ff4-bacc-909be7d5dc60"
      },
      "execution_count": 8,
      "outputs": [
        {
          "output_type": "stream",
          "name": "stdout",
          "text": [
            "['आदरणीय अध्यक्षा जी, मैं आपका आभार व्\\\\यक्\\\\त करता हूं, जिस धैर्य के साथ आपने सदन का आज संचालन किया है। यह अविश्\\\\वास प्रस्\\\\ताव एक प्रकार से हमारे लोकतंत्र की महत्\\\\वपूर्ण शक्ति का परिचायक है। भले ही टीडीपी के माध् यम से यह प्रस्ताव आया हो, लेकिन उनके साथ जुड़े हुए कुछ माननीय सदस्\\\\यों ने प्रस्\\\\ताव का समर्थन करते हुए बातें कही है।']\n",
            "['आदरणीय अध्यक्षा जी, मैं आपका आभार व्\\\\यक्\\\\त करता हूं, जिस धैर्य के साथ आपने सदन का आज संचालन किया है', ' यह अविश्\\\\वास प्रस्\\\\ताव एक प्रकार से हमारे लोकतंत्र की महत्\\\\वपूर्ण शक्ति का परिचायक है', ' भले ही टीडीपी के माध् यम से यह प्रस्ताव आया हो, लेकिन उनके साथ जुड़े हुए कुछ माननीय सदस्\\\\यों ने प्रस्\\\\ताव का समर्थन करते हुए बातें कही है', '']\n"
          ]
        }
      ]
    },
    {
      "cell_type": "code",
      "source": [
        "# 3. Regexp Tokenizer\n",
        "tokenizer = RegexpTokenizer('[^आ]')\n",
        "tokenizer.tokenize(sen)"
      ],
      "metadata": {
        "id": "yLgWE0gbJPcm",
        "colab": {
          "base_uri": "https://localhost:8080/"
        },
        "outputId": "66ce198c-a58f-42dd-9424-9e8acb6fa30a"
      },
      "execution_count": 9,
      "outputs": [
        {
          "output_type": "execute_result",
          "data": {
            "text/plain": [
              "['द',\n",
              " 'र',\n",
              " 'ण',\n",
              " 'ी',\n",
              " 'य',\n",
              " ' ',\n",
              " 'अ',\n",
              " 'ध',\n",
              " '्',\n",
              " 'य',\n",
              " 'क',\n",
              " '्',\n",
              " 'ष',\n",
              " 'ा',\n",
              " ' ',\n",
              " 'ज',\n",
              " 'ी',\n",
              " ',',\n",
              " ' ',\n",
              " 'म',\n",
              " 'ै',\n",
              " 'ं',\n",
              " ' ',\n",
              " 'प',\n",
              " 'क',\n",
              " 'ा',\n",
              " ' ',\n",
              " 'भ',\n",
              " 'ा',\n",
              " 'र',\n",
              " ' ',\n",
              " 'व',\n",
              " '्',\n",
              " '\\\\',\n",
              " 'य',\n",
              " 'क',\n",
              " '्',\n",
              " '\\\\',\n",
              " 'त',\n",
              " ' ',\n",
              " 'क',\n",
              " 'र',\n",
              " 'त',\n",
              " 'ा',\n",
              " ' ',\n",
              " 'ह',\n",
              " 'ू',\n",
              " 'ं',\n",
              " ',',\n",
              " ' ',\n",
              " 'ज',\n",
              " 'ि',\n",
              " 'स',\n",
              " ' ',\n",
              " 'ध',\n",
              " 'ै',\n",
              " 'र',\n",
              " '्',\n",
              " 'य',\n",
              " ' ',\n",
              " 'क',\n",
              " 'े',\n",
              " ' ',\n",
              " 'स',\n",
              " 'ा',\n",
              " 'थ',\n",
              " ' ',\n",
              " 'प',\n",
              " 'न',\n",
              " 'े',\n",
              " ' ',\n",
              " 'स',\n",
              " 'द',\n",
              " 'न',\n",
              " ' ',\n",
              " 'क',\n",
              " 'ा',\n",
              " ' ',\n",
              " 'ज',\n",
              " ' ',\n",
              " 'स',\n",
              " 'ं',\n",
              " 'च',\n",
              " 'ा',\n",
              " 'ल',\n",
              " 'न',\n",
              " ' ',\n",
              " 'क',\n",
              " 'ि',\n",
              " 'य',\n",
              " 'ा',\n",
              " ' ',\n",
              " 'ह',\n",
              " 'ै',\n",
              " '।',\n",
              " ' ',\n",
              " 'य',\n",
              " 'ह',\n",
              " ' ',\n",
              " 'अ',\n",
              " 'व',\n",
              " 'ि',\n",
              " 'श',\n",
              " '्',\n",
              " '\\\\',\n",
              " 'व',\n",
              " 'ा',\n",
              " 'स',\n",
              " ' ',\n",
              " 'प',\n",
              " '्',\n",
              " 'र',\n",
              " 'स',\n",
              " '्',\n",
              " '\\\\',\n",
              " 'त',\n",
              " 'ा',\n",
              " 'व',\n",
              " ' ',\n",
              " 'ए',\n",
              " 'क',\n",
              " ' ',\n",
              " 'प',\n",
              " '्',\n",
              " 'र',\n",
              " 'क',\n",
              " 'ा',\n",
              " 'र',\n",
              " ' ',\n",
              " 'स',\n",
              " 'े',\n",
              " ' ',\n",
              " 'ह',\n",
              " 'म',\n",
              " 'ा',\n",
              " 'र',\n",
              " 'े',\n",
              " ' ',\n",
              " 'ल',\n",
              " 'ो',\n",
              " 'क',\n",
              " 'त',\n",
              " 'ं',\n",
              " 'त',\n",
              " '्',\n",
              " 'र',\n",
              " ' ',\n",
              " 'क',\n",
              " 'ी',\n",
              " ' ',\n",
              " 'म',\n",
              " 'ह',\n",
              " 'त',\n",
              " '्',\n",
              " '\\\\',\n",
              " 'व',\n",
              " 'प',\n",
              " 'ू',\n",
              " 'र',\n",
              " '्',\n",
              " 'ण',\n",
              " ' ',\n",
              " 'श',\n",
              " 'क',\n",
              " '्',\n",
              " 'त',\n",
              " 'ि',\n",
              " ' ',\n",
              " 'क',\n",
              " 'ा',\n",
              " ' ',\n",
              " 'प',\n",
              " 'र',\n",
              " 'ि',\n",
              " 'च',\n",
              " 'ा',\n",
              " 'य',\n",
              " 'क',\n",
              " ' ',\n",
              " 'ह',\n",
              " 'ै',\n",
              " '।',\n",
              " ' ',\n",
              " 'भ',\n",
              " 'ल',\n",
              " 'े',\n",
              " ' ',\n",
              " 'ह',\n",
              " 'ी',\n",
              " ' ',\n",
              " 'ट',\n",
              " 'ी',\n",
              " 'ड',\n",
              " 'ी',\n",
              " 'प',\n",
              " 'ी',\n",
              " ' ',\n",
              " 'क',\n",
              " 'े',\n",
              " ' ',\n",
              " 'म',\n",
              " 'ा',\n",
              " 'ध',\n",
              " '्',\n",
              " ' ',\n",
              " 'य',\n",
              " 'म',\n",
              " ' ',\n",
              " 'स',\n",
              " 'े',\n",
              " ' ',\n",
              " 'य',\n",
              " 'ह',\n",
              " ' ',\n",
              " 'प',\n",
              " '्',\n",
              " 'र',\n",
              " 'स',\n",
              " '्',\n",
              " 'त',\n",
              " 'ा',\n",
              " 'व',\n",
              " ' ',\n",
              " 'य',\n",
              " 'ा',\n",
              " ' ',\n",
              " 'ह',\n",
              " 'ो',\n",
              " ',',\n",
              " ' ',\n",
              " 'ल',\n",
              " 'े',\n",
              " 'क',\n",
              " 'ि',\n",
              " 'न',\n",
              " ' ',\n",
              " 'उ',\n",
              " 'न',\n",
              " 'क',\n",
              " 'े',\n",
              " ' ',\n",
              " 'स',\n",
              " 'ा',\n",
              " 'थ',\n",
              " ' ',\n",
              " 'ज',\n",
              " 'ु',\n",
              " 'ड',\n",
              " '़',\n",
              " 'े',\n",
              " ' ',\n",
              " 'ह',\n",
              " 'ु',\n",
              " 'ए',\n",
              " ' ',\n",
              " 'क',\n",
              " 'ु',\n",
              " 'छ',\n",
              " ' ',\n",
              " 'म',\n",
              " 'ा',\n",
              " 'न',\n",
              " 'न',\n",
              " 'ी',\n",
              " 'य',\n",
              " ' ',\n",
              " 'स',\n",
              " 'द',\n",
              " 'स',\n",
              " '्',\n",
              " '\\\\',\n",
              " 'य',\n",
              " 'ो',\n",
              " 'ं',\n",
              " ' ',\n",
              " 'न',\n",
              " 'े',\n",
              " ' ',\n",
              " 'प',\n",
              " '्',\n",
              " 'र',\n",
              " 'स',\n",
              " '्',\n",
              " '\\\\',\n",
              " 'त',\n",
              " 'ा',\n",
              " 'व',\n",
              " ' ',\n",
              " 'क',\n",
              " 'ा',\n",
              " ' ',\n",
              " 'स',\n",
              " 'म',\n",
              " 'र',\n",
              " '्',\n",
              " 'थ',\n",
              " 'न',\n",
              " ' ',\n",
              " 'क',\n",
              " 'र',\n",
              " 'त',\n",
              " 'े',\n",
              " ' ',\n",
              " 'ह',\n",
              " 'ु',\n",
              " 'ए',\n",
              " ' ',\n",
              " 'ब',\n",
              " 'ा',\n",
              " 'त',\n",
              " 'े',\n",
              " 'ं',\n",
              " ' ',\n",
              " 'क',\n",
              " 'ह',\n",
              " 'ी',\n",
              " ' ',\n",
              " 'ह',\n",
              " 'ै',\n",
              " '।']"
            ]
          },
          "metadata": {},
          "execution_count": 9
        }
      ]
    },
    {
      "cell_type": "code",
      "source": [
        "# 4. Punctuation based tokenizer\n",
        "print(wordpunct_tokenize(sen))"
      ],
      "metadata": {
        "id": "RV7Ozzo5KEni",
        "colab": {
          "base_uri": "https://localhost:8080/"
        },
        "outputId": "db12916d-b2f9-4f00-d599-ccc4a4b258bd"
      },
      "execution_count": 10,
      "outputs": [
        {
          "output_type": "stream",
          "name": "stdout",
          "text": [
            "['आदरण', 'ी', 'य', 'अध', '्', 'यक', '्', 'ष', 'ा', 'ज', 'ी,', 'म', 'ैं', 'आपक', 'ा', 'आभ', 'ा', 'र', 'व', '्\\\\', 'यक', '्\\\\', 'त', 'करत', 'ा', 'ह', 'ूं,', 'ज', 'ि', 'स', 'ध', 'ै', 'र', '्', 'य', 'क', 'े', 'स', 'ा', 'थ', 'आपन', 'े', 'सदन', 'क', 'ा', 'आज', 'स', 'ं', 'च', 'ा', 'लन', 'क', 'ि', 'य', 'ा', 'ह', 'ै।', 'यह', 'अव', 'ि', 'श', '्\\\\', 'व', 'ा', 'स', 'प', '्', 'रस', '्\\\\', 'त', 'ा', 'व', 'एक', 'प', '्', 'रक', 'ा', 'र', 'स', 'े', 'हम', 'ा', 'र', 'े', 'ल', 'ो', 'कत', 'ं', 'त', '्', 'र', 'क', 'ी', 'महत', '्\\\\', 'वप', 'ू', 'र', '्', 'ण', 'शक', '्', 'त', 'ि', 'क', 'ा', 'पर', 'ि', 'च', 'ा', 'यक', 'ह', 'ै।', 'भल', 'े', 'ह', 'ी', 'ट', 'ी', 'ड', 'ी', 'प', 'ी', 'क', 'े', 'म', 'ा', 'ध', '्', 'यम', 'स', 'े', 'यह', 'प', '्', 'रस', '्', 'त', 'ा', 'व', 'आय', 'ा', 'ह', 'ो,', 'ल', 'े', 'क', 'ि', 'न', 'उनक', 'े', 'स', 'ा', 'थ', 'ज', 'ु', 'ड', '़े', 'ह', 'ु', 'ए', 'क', 'ु', 'छ', 'म', 'ा', 'नन', 'ी', 'य', 'सदस', '्\\\\', 'य', 'ों', 'न', 'े', 'प', '्', 'रस', '्\\\\', 'त', 'ा', 'व', 'क', 'ा', 'समर', '्', 'थन', 'करत', 'े', 'ह', 'ु', 'ए', 'ब', 'ा', 'त', 'ें', 'कह', 'ी', 'ह', 'ै।']\n"
          ]
        }
      ]
    },
    {
      "cell_type": "code",
      "source": [
        "# 5. Tweet Tokenizer\n",
        "tweet = \"आदरणीय अध्यक्षा जी, मैं आपका आभार व्\\यक्\\त करता हूं 👩‍💻 \"\n",
        "tokenizer = TweetTokenizer()\n",
        "print(tokenizer.tokenize(tweet))"
      ],
      "metadata": {
        "id": "8X7JbrNwKxcO",
        "colab": {
          "base_uri": "https://localhost:8080/"
        },
        "outputId": "c5f5fe04-768e-4480-b267-dd0b929e594f"
      },
      "execution_count": 11,
      "outputs": [
        {
          "output_type": "stream",
          "name": "stdout",
          "text": [
            "['आदरणीय', 'अध्यक्षा', 'जी', ',', 'मैं', 'आपका', 'आभार', 'व्', '\\\\', 'यक्', '\\\\', 'त', 'करता', 'हूं', '👩\\u200d💻']\n"
          ]
        }
      ]
    },
    {
      "cell_type": "code",
      "source": [
        "# stop words in hindi\n",
        "stop=open('NLTK/hindi_stopwords.txt')\n",
        "stopwords=[]\n",
        "for x in stop:\n",
        "   stopwords.append(x)\n",
        "print(stopwords)"
      ],
      "metadata": {
        "id": "Uwa2QWEEPr1K",
        "colab": {
          "base_uri": "https://localhost:8080/"
        },
        "outputId": "3d87b82f-813d-4104-d1c3-30c27a5f75eb"
      },
      "execution_count": 12,
      "outputs": [
        {
          "output_type": "stream",
          "name": "stdout",
          "text": [
            "['अत\\n', 'अपना\\n', 'अपनी\\n', 'अपने\\n', 'अभी\\n', 'अंदर\\n', 'आदि\\n', 'आप\\n', 'इत्यादि\\n', 'इन \\n', 'इनका\\n', 'इन्हीं\\n', 'इन्हें\\n', 'इन्हों\\n', 'इस\\n', 'इसका\\n', 'इसकी\\n', 'इसके\\n', 'इसमें\\n', 'इसी\\n', 'इसे\\n', 'उन\\n', 'उनका\\n', 'उनकी\\n', 'उनके\\n', 'उनको\\n', 'उन्हीं\\n', 'उन्हें\\n', 'उन्हों\\n', 'उस\\n', 'उसके\\n', 'उसी\\n', 'उसे\\n', 'एक\\n', 'एवं\\n', 'एस\\n', 'ऐसे\\n', 'और\\n', 'कई\\n', 'कर\\n', 'करता\\n', 'करते\\n', 'करना\\n', 'करने\\n', 'करें\\n', 'कहते\\n', 'कहा\\n', 'का\\n', 'काफ़ी\\n', 'कि\\n', 'कितना\\n', 'किन्हें\\n', 'किन्हों\\n', 'किया\\n', 'किर\\n', 'किस\\n', 'किसी\\n', 'किसे\\n', 'की\\n', 'कुछ\\n', 'कुल\\n', 'के\\n', 'को\\n', 'कोई\\n', 'कौन\\n', 'कौनसा\\n', 'गया\\n', 'घर\\n', 'जब\\n', 'जहाँ\\n', 'जा\\n', 'जितना\\n', 'जिन\\n', 'जिन्हें\\n', 'जिन्हों\\n', 'जिस\\n', 'जिसे\\n', 'जीधर\\n', 'जैसा\\n', 'जैसे\\n', 'जो\\n', 'तक\\n', 'तब\\n', 'तरह\\n', 'तिन\\n', 'तिन्हें\\n', 'तिन्हों\\n', 'तिस\\n', 'तिसे\\n', 'तो\\n', 'था\\n', 'थी\\n', 'थे\\n', 'दबारा\\n', 'दिया\\n', 'दुसरा\\n', 'दूसरे\\n', 'दो\\n', 'द्वारा\\n', 'न\\n', 'नके\\n', 'नहीं\\n', 'ना\\n', 'निहायत\\n', 'नीचे\\n', 'ने\\n', 'पर\\n', 'पहले\\n', 'पूरा\\n', 'पे\\n', 'फिर\\n', 'बनी\\n', 'बही\\n', 'बहुत\\n', 'बाद\\n', 'बाला\\n', 'बिलकुल\\n', 'भी\\n', 'भीतर\\n', 'मगर\\n', 'मानो\\n', 'मे\\n', 'में\\n', 'यदि\\n', 'यह\\n', 'यहाँ\\n', 'यही\\n', 'या\\n', 'यिह\\n', 'ये\\n', 'रखें\\n', 'रहा\\n', 'रहे\\n', 'ऱ्वासा\\n', 'लिए\\n', 'लिये\\n', 'लेकिन\\n', 'व\\n', 'वग़ैरह\\n', 'वर्ग\\n', 'वह\\n', 'वहाँ\\n', 'वहीं\\n', 'वाले\\n', 'वुह\\n', 'वे\\n', 'सकता\\n', 'सकते\\n', 'सबसे\\n', 'सभी\\n', 'साथ\\n', 'साबुत\\n', 'साभ\\n', 'सारा\\n', 'से\\n', 'सो\\n', 'संग\\n', 'ही\\n', 'हुआ\\n', 'हुई\\n', 'हुए\\n', 'है\\n', 'हैं\\n', 'हो\\n', 'होता\\n', 'होती\\n', 'होते\\n', 'होना\\n', 'होने\\n']\n"
          ]
        }
      ]
    },
    {
      "cell_type": "code",
      "source": [
        "def createfrequencytable(text_string) -> dict:\n",
        "   stopWords = set(stopwords)\n",
        "   words = word_tokenize(text_string)\n",
        "   ps = PorterStemmer()\n",
        "   print(ps)\n",
        "   \n",
        "   freqTable = dict()\n",
        "   for word in words:\n",
        "      word=str(word)\n",
        "      # stemming\n",
        "      word = ps.stem(word)\n",
        "      print(word)\n",
        "      if word in stopWords:\n",
        "         continue\n",
        "      if word in freqTable:\n",
        "         freqTable[word] += 1\n",
        "      else:\n",
        "         freqTable[word] = 1\n",
        "   return freqTable\n",
        "ft=createfrequencytable(sen)\n",
        "print(ft)"
      ],
      "metadata": {
        "id": "yh-WvDfLPyts",
        "colab": {
          "base_uri": "https://localhost:8080/"
        },
        "outputId": "fdba55db-b2b6-48c1-a0c0-bed14a53a744"
      },
      "execution_count": 13,
      "outputs": [
        {
          "output_type": "stream",
          "name": "stdout",
          "text": [
            "<PorterStemmer>\n",
            "आदरणीय\n",
            "अध्यक्षा\n",
            "जी\n",
            ",\n",
            "मैं\n",
            "आपका\n",
            "आभार\n",
            "व्\\यक्\\त\n",
            "करता\n",
            "हूं\n",
            ",\n",
            "जिस\n",
            "धैर्य\n",
            "के\n",
            "साथ\n",
            "आपने\n",
            "सदन\n",
            "का\n",
            "आज\n",
            "संचालन\n",
            "किया\n",
            "है।\n",
            "यह\n",
            "अविश्\\वास\n",
            "प्रस्\\ताव\n",
            "एक\n",
            "प्रकार\n",
            "से\n",
            "हमारे\n",
            "लोकतंत्र\n",
            "की\n",
            "महत्\\वपूर्ण\n",
            "शक्ति\n",
            "का\n",
            "परिचायक\n",
            "है।\n",
            "भले\n",
            "ही\n",
            "टीडीपी\n",
            "के\n",
            "माध्\n",
            "यम\n",
            "से\n",
            "यह\n",
            "प्रस्ताव\n",
            "आया\n",
            "हो\n",
            ",\n",
            "लेकिन\n",
            "उनके\n",
            "साथ\n",
            "जुड़े\n",
            "हुए\n",
            "कुछ\n",
            "माननीय\n",
            "सदस्\\यों\n",
            "ने\n",
            "प्रस्\\ताव\n",
            "का\n",
            "समर्थन\n",
            "करते\n",
            "हुए\n",
            "बातें\n",
            "कही\n",
            "है।\n",
            "{'आदरणीय': 1, 'अध्यक्षा': 1, 'जी': 1, ',': 3, 'मैं': 1, 'आपका': 1, 'आभार': 1, 'व्\\\\यक्\\\\त': 1, 'करता': 1, 'हूं': 1, 'जिस': 1, 'धैर्य': 1, 'के': 2, 'साथ': 2, 'आपने': 1, 'सदन': 1, 'का': 3, 'आज': 1, 'संचालन': 1, 'किया': 1, 'है।': 3, 'यह': 2, 'अविश्\\\\वास': 1, 'प्रस्\\\\ताव': 2, 'एक': 1, 'प्रकार': 1, 'से': 2, 'हमारे': 1, 'लोकतंत्र': 1, 'की': 1, 'महत्\\\\वपूर्ण': 1, 'शक्ति': 1, 'परिचायक': 1, 'भले': 1, 'ही': 1, 'टीडीपी': 1, 'माध्': 1, 'यम': 1, 'प्रस्ताव': 1, 'आया': 1, 'हो': 1, 'लेकिन': 1, 'उनके': 1, 'जुड़े': 1, 'हुए': 2, 'कुछ': 1, 'माननीय': 1, 'सदस्\\\\यों': 1, 'ने': 1, 'समर्थन': 1, 'करते': 1, 'बातें': 1, 'कही': 1}\n"
          ]
        }
      ]
    },
    {
      "cell_type": "code",
      "source": [
        "hindi_fdist = nltk.FreqDist(ft)\n",
        "hindi_fdist.most_common(100)"
      ],
      "metadata": {
        "id": "1ATlBBa9QINw",
        "colab": {
          "base_uri": "https://localhost:8080/"
        },
        "outputId": "b4dfc9e1-55d1-4e9c-ba05-3abbdef2d9e1"
      },
      "execution_count": 14,
      "outputs": [
        {
          "output_type": "execute_result",
          "data": {
            "text/plain": [
              "[(',', 3),\n",
              " ('का', 3),\n",
              " ('है।', 3),\n",
              " ('के', 2),\n",
              " ('साथ', 2),\n",
              " ('यह', 2),\n",
              " ('प्रस्\\\\ताव', 2),\n",
              " ('से', 2),\n",
              " ('हुए', 2),\n",
              " ('आदरणीय', 1),\n",
              " ('अध्यक्षा', 1),\n",
              " ('जी', 1),\n",
              " ('मैं', 1),\n",
              " ('आपका', 1),\n",
              " ('आभार', 1),\n",
              " ('व्\\\\यक्\\\\त', 1),\n",
              " ('करता', 1),\n",
              " ('हूं', 1),\n",
              " ('जिस', 1),\n",
              " ('धैर्य', 1),\n",
              " ('आपने', 1),\n",
              " ('सदन', 1),\n",
              " ('आज', 1),\n",
              " ('संचालन', 1),\n",
              " ('किया', 1),\n",
              " ('अविश्\\\\वास', 1),\n",
              " ('एक', 1),\n",
              " ('प्रकार', 1),\n",
              " ('हमारे', 1),\n",
              " ('लोकतंत्र', 1),\n",
              " ('की', 1),\n",
              " ('महत्\\\\वपूर्ण', 1),\n",
              " ('शक्ति', 1),\n",
              " ('परिचायक', 1),\n",
              " ('भले', 1),\n",
              " ('ही', 1),\n",
              " ('टीडीपी', 1),\n",
              " ('माध्', 1),\n",
              " ('यम', 1),\n",
              " ('प्रस्ताव', 1),\n",
              " ('आया', 1),\n",
              " ('हो', 1),\n",
              " ('लेकिन', 1),\n",
              " ('उनके', 1),\n",
              " ('जुड़े', 1),\n",
              " ('कुछ', 1),\n",
              " ('माननीय', 1),\n",
              " ('सदस्\\\\यों', 1),\n",
              " ('ने', 1),\n",
              " ('समर्थन', 1),\n",
              " ('करते', 1),\n",
              " ('बातें', 1),\n",
              " ('कही', 1)]"
            ]
          },
          "metadata": {},
          "execution_count": 14
        }
      ]
    },
    {
      "cell_type": "code",
      "source": [
        "hindi_fdist.plot(5)"
      ],
      "metadata": {
        "colab": {
          "base_uri": "https://localhost:8080/",
          "height": 880
        },
        "id": "HAsqq7INK7lQ",
        "outputId": "09a5bf36-bbba-4f16-dcd8-2b4455ef4baa"
      },
      "execution_count": 18,
      "outputs": [
        {
          "output_type": "stream",
          "name": "stderr",
          "text": [
            "/usr/local/lib/python3.7/dist-packages/matplotlib/backends/backend_agg.py:214: RuntimeWarning: Glyph 2325 missing from current font.\n",
            "  font.set_text(s, 0.0, flags=flags)\n",
            "/usr/local/lib/python3.7/dist-packages/matplotlib/backends/backend_agg.py:214: RuntimeWarning: Glyph 2366 missing from current font.\n",
            "  font.set_text(s, 0.0, flags=flags)\n",
            "/usr/local/lib/python3.7/dist-packages/matplotlib/backends/backend_agg.py:214: RuntimeWarning: Glyph 2361 missing from current font.\n",
            "  font.set_text(s, 0.0, flags=flags)\n",
            "/usr/local/lib/python3.7/dist-packages/matplotlib/backends/backend_agg.py:214: RuntimeWarning: Glyph 2376 missing from current font.\n",
            "  font.set_text(s, 0.0, flags=flags)\n",
            "/usr/local/lib/python3.7/dist-packages/matplotlib/backends/backend_agg.py:214: RuntimeWarning: Glyph 2404 missing from current font.\n",
            "  font.set_text(s, 0.0, flags=flags)\n",
            "/usr/local/lib/python3.7/dist-packages/matplotlib/backends/backend_agg.py:214: RuntimeWarning: Glyph 2375 missing from current font.\n",
            "  font.set_text(s, 0.0, flags=flags)\n",
            "/usr/local/lib/python3.7/dist-packages/matplotlib/backends/backend_agg.py:214: RuntimeWarning: Glyph 2360 missing from current font.\n",
            "  font.set_text(s, 0.0, flags=flags)\n",
            "/usr/local/lib/python3.7/dist-packages/matplotlib/backends/backend_agg.py:214: RuntimeWarning: Glyph 2341 missing from current font.\n",
            "  font.set_text(s, 0.0, flags=flags)\n",
            "/usr/local/lib/python3.7/dist-packages/matplotlib/backends/backend_agg.py:183: RuntimeWarning: Glyph 2325 missing from current font.\n",
            "  font.set_text(s, 0, flags=flags)\n",
            "/usr/local/lib/python3.7/dist-packages/matplotlib/backends/backend_agg.py:183: RuntimeWarning: Glyph 2366 missing from current font.\n",
            "  font.set_text(s, 0, flags=flags)\n",
            "/usr/local/lib/python3.7/dist-packages/matplotlib/backends/backend_agg.py:183: RuntimeWarning: Glyph 2361 missing from current font.\n",
            "  font.set_text(s, 0, flags=flags)\n",
            "/usr/local/lib/python3.7/dist-packages/matplotlib/backends/backend_agg.py:183: RuntimeWarning: Glyph 2376 missing from current font.\n",
            "  font.set_text(s, 0, flags=flags)\n",
            "/usr/local/lib/python3.7/dist-packages/matplotlib/backends/backend_agg.py:183: RuntimeWarning: Glyph 2404 missing from current font.\n",
            "  font.set_text(s, 0, flags=flags)\n",
            "/usr/local/lib/python3.7/dist-packages/matplotlib/backends/backend_agg.py:183: RuntimeWarning: Glyph 2375 missing from current font.\n",
            "  font.set_text(s, 0, flags=flags)\n",
            "/usr/local/lib/python3.7/dist-packages/matplotlib/backends/backend_agg.py:183: RuntimeWarning: Glyph 2360 missing from current font.\n",
            "  font.set_text(s, 0, flags=flags)\n",
            "/usr/local/lib/python3.7/dist-packages/matplotlib/backends/backend_agg.py:183: RuntimeWarning: Glyph 2341 missing from current font.\n",
            "  font.set_text(s, 0, flags=flags)\n"
          ]
        },
        {
          "output_type": "display_data",
          "data": {
            "text/plain": [
              "<Figure size 432x288 with 1 Axes>"
            ],
            "image/png": "[encoded data removed]"
          },
          "metadata": {
            "needs_background": "light"
          }
        },
        {
          "output_type": "execute_result",
          "data": {
            "text/plain": [
              "<matplotlib.axes._subplots.AxesSubplot at 0x7f1b67a0a550>"
            ]
          },
          "metadata": {},
          "execution_count": 18
        }
      ]
    },
    {
      "cell_type": "markdown",
      "source": [
        "### Tokenization on Spanish Language"
      ],
      "metadata": {
        "id": "9brn60IhBRoG"
      }
    },
    {
      "cell_type": "code",
      "source": [
        "spanish_tokenizer = nltk.data.load('tokenizers/punkt/PY3/spanish.pickle') \n",
        "text = 'Hola amigo. Me llamo Ankit.'\n",
        "spanish_tokenizer.tokenize(text)"
      ],
      "metadata": {
        "id": "GgjK_fur_KqR",
        "colab": {
          "base_uri": "https://localhost:8080/"
        },
        "outputId": "e2ed6078-f88f-4f0b-de99-ec9285d791e2"
      },
      "execution_count": 19,
      "outputs": [
        {
          "output_type": "execute_result",
          "data": {
            "text/plain": [
              "['Hola amigo.', 'Me llamo Ankit.']"
            ]
          },
          "metadata": {},
          "execution_count": 19
        }
      ]
    },
    {
      "cell_type": "code",
      "source": [
        "Sample_text = \"Hola a todos, su aprendizaje de tokenización de diferentes idiomas.\"\n",
        "spanish_tokenizer.tokenize(Sample_text)"
      ],
      "metadata": {
        "id": "Vg4FwiIyBCAS",
        "colab": {
          "base_uri": "https://localhost:8080/"
        },
        "outputId": "a9c3f615-7580-4a25-c1cb-44a519e56270"
      },
      "execution_count": 20,
      "outputs": [
        {
          "output_type": "execute_result",
          "data": {
            "text/plain": [
              "['Hola a todos, su aprendizaje de tokenización de diferentes idiomas.']"
            ]
          },
          "metadata": {},
          "execution_count": 20
        }
      ]
    },
    {
      "cell_type": "markdown",
      "source": [
        "Using Spacy Tokenizer"
      ],
      "metadata": {
        "id": "K3hufCzoL8oP"
      }
    },
    {
      "cell_type": "code",
      "source": [
        "import spacy"
      ],
      "metadata": {
        "id": "ip3792czBvCV"
      },
      "execution_count": 21,
      "outputs": []
    },
    {
      "cell_type": "code",
      "source": [
        "# download spanish-language-model\n",
        "\n",
        "!python -m spacy download es_core_news_md"
      ],
      "metadata": {
        "id": "kdppPQhkDRNx",
        "colab": {
          "base_uri": "https://localhost:8080/"
        },
        "outputId": "c4c92987-e0b9-455a-8908-045735d32472"
      },
      "execution_count": 22,
      "outputs": [
        {
          "output_type": "stream",
          "name": "stdout",
          "text": [
            "Successfully installed es-core-news-md-3.4.0\n",
            "\u001b[38;5;2m✔ Download and installation successful\u001b[0m\n",
            "You can now load the package via spacy.load('es_core_news_md')\n"
          ]
        }
      ]
    },
    {
      "cell_type": "code",
      "source": [
        "# load the language model\n",
        "nlp = spacy.load('es_core_news_md')"
      ],
      "metadata": {
        "id": "FxPD3BtfDcHm"
      },
      "execution_count": 23,
      "outputs": []
    },
    {
      "cell_type": "code",
      "source": [
        "spanish_text = open('NLTK/spanish.txt')\n",
        "text = spanish_text.read()\n",
        "print(text)\n",
        "document = nlp(text) #Whenever we use spaCy, our first step will be to create a processed spaCy document with the loaded NLP model nlp()."
      ],
      "metadata": {
        "colab": {
          "base_uri": "https://localhost:8080/"
        },
        "id": "MBG36s7xDr3S",
        "outputId": "0aae7b1a-cf3a-48f2-ea1f-a849a30ed681"
      },
      "execution_count": 24,
      "outputs": [
        {
          "output_type": "stream",
          "name": "stdout",
          "text": [
            "Mi familia no es muy grande, somos solo cuatro personas: mi padre, mi madre, mi hermana y yo. También tenemos un perro.\n",
            "\n",
            "Yo soy mayor que mi hermana, pero ella es más alta. Yo tengo doce años y ella once. Mis padres se llaman Javier y María, mi hermana se llama Sara y yo Luis. Vivimos todos juntos en una casa muy bonita.\n",
            "\n",
            "Mi padre es banquero y mi madre ama de casa. Por la mañana, desayunamos juntos en la cocina. Me gusta desayunar con mi familia. Además, por las mañanas siempre tengo hambre. Después del colegio, mi madre prepara una comida deliciosa. Por la tarde, mi madre queda con sus amigas, y mi padre juega al tenis. Mi hermana y yo hacemos los deberes, y después vemos la televisión. Los viernes por la tarde vamos los cuatro de compras.\n"
          ]
        }
      ]
    },
    {
      "cell_type": "code",
      "source": [
        "# for token in document:\n",
        "#     print(token.lemma_, token.pos_, token.dep_)"
      ],
      "metadata": {
        "id": "1y94S1GPHnuP"
      },
      "execution_count": 25,
      "outputs": []
    },
    {
      "cell_type": "code",
      "source": [
        "for token in document:\n",
        "  print(token, token.idx)"
      ],
      "metadata": {
        "id": "f3Re9h5RENdS",
        "colab": {
          "base_uri": "https://localhost:8080/"
        },
        "outputId": "07a726cd-425c-4b07-b158-b3a82e874af1"
      },
      "execution_count": 26,
      "outputs": [
        {
          "output_type": "stream",
          "name": "stdout",
          "text": [
            "Mi 0\n",
            "familia 3\n",
            "no 11\n",
            "es 14\n",
            "muy 17\n",
            "grande 21\n",
            ", 27\n",
            "somos 29\n",
            "solo 35\n",
            "cuatro 40\n",
            "personas 47\n",
            ": 55\n",
            "mi 57\n",
            "padre 60\n",
            ", 65\n",
            "mi 67\n",
            "madre 70\n",
            ", 75\n",
            "mi 77\n",
            "hermana 80\n",
            "y 88\n",
            "yo 90\n",
            ". 92\n",
            "También 94\n",
            "tenemos 102\n",
            "un 110\n",
            "perro 113\n",
            ". 118\n",
            "\n",
            "\n",
            " 119\n",
            "Yo 121\n",
            "soy 124\n",
            "mayor 128\n",
            "que 134\n",
            "mi 138\n",
            "hermana 141\n",
            ", 148\n",
            "pero 150\n",
            "ella 155\n",
            "es 160\n",
            "más 163\n",
            "alta 167\n",
            ". 171\n",
            "Yo 173\n",
            "tengo 176\n",
            "doce 182\n",
            "años 187\n",
            "y 192\n",
            "ella 194\n",
            "once 199\n",
            ". 203\n",
            "Mis 205\n",
            "padres 209\n",
            "se 216\n",
            "llaman 219\n",
            "Javier 226\n",
            "y 233\n",
            "María 235\n",
            ", 240\n",
            "mi 242\n",
            "hermana 245\n",
            "se 253\n",
            "llama 256\n",
            "Sara 262\n",
            "y 267\n",
            "yo 269\n",
            "Luis 272\n",
            ". 276\n",
            "Vivimos 278\n",
            "todos 286\n",
            "juntos 292\n",
            "en 299\n",
            "una 302\n",
            "casa 306\n",
            "muy 311\n",
            "bonita 315\n",
            ". 321\n",
            "\n",
            "\n",
            " 322\n",
            "Mi 324\n",
            "padre 327\n",
            "es 333\n",
            "banquero 336\n",
            "y 345\n",
            "mi 347\n",
            "madre 350\n",
            "ama 356\n",
            "de 360\n",
            "casa 363\n",
            ". 367\n",
            "Por 369\n",
            "la 373\n",
            "mañana 376\n",
            ", 382\n",
            "desayunamos 384\n",
            "juntos 396\n",
            "en 403\n",
            "la 406\n",
            "cocina 409\n",
            ". 415\n",
            "Me 417\n",
            "gusta 420\n",
            "desayunar 426\n",
            "con 436\n",
            "mi 440\n",
            "familia 443\n",
            ". 450\n",
            "Además 452\n",
            ", 458\n",
            "por 460\n",
            "las 464\n",
            "mañanas 468\n",
            "siempre 476\n",
            "tengo 484\n",
            "hambre 490\n",
            ". 496\n",
            "Después 498\n",
            "del 506\n",
            "colegio 510\n",
            ", 517\n",
            "mi 519\n",
            "madre 522\n",
            "prepara 528\n",
            "una 536\n",
            "comida 540\n",
            "deliciosa 547\n",
            ". 556\n",
            "Por 558\n",
            "la 562\n",
            "tarde 565\n",
            ", 570\n",
            "mi 572\n",
            "madre 575\n",
            "queda 581\n",
            "con 587\n",
            "sus 591\n",
            "amigas 595\n",
            ", 601\n",
            "y 603\n",
            "mi 605\n",
            "padre 608\n",
            "juega 614\n",
            "al 620\n",
            "tenis 623\n",
            ". 628\n",
            "Mi 630\n",
            "hermana 633\n",
            "y 641\n",
            "yo 643\n",
            "hacemos 646\n",
            "los 654\n",
            "deberes 658\n",
            ", 665\n",
            "y 667\n",
            "después 669\n",
            "vemos 677\n",
            "la 683\n",
            "televisión 686\n",
            ". 696\n",
            "Los 698\n",
            "viernes 702\n",
            "por 710\n",
            "la 714\n",
            "tarde 717\n",
            "vamos 723\n",
            "los 729\n",
            "cuatro 733\n",
            "de 740\n",
            "compras 743\n",
            ". 750\n"
          ]
        }
      ]
    },
    {
      "cell_type": "code",
      "source": [
        "word_token = word_tokenize(text)\n",
        "print(word_token)"
      ],
      "metadata": {
        "colab": {
          "base_uri": "https://localhost:8080/"
        },
        "id": "NHuAa5cQMPbF",
        "outputId": "821ff2dc-82a6-4ce6-e74a-9874e58aa071"
      },
      "execution_count": 27,
      "outputs": [
        {
          "output_type": "stream",
          "name": "stdout",
          "text": [
            "['Mi', 'familia', 'no', 'es', 'muy', 'grande', ',', 'somos', 'solo', 'cuatro', 'personas', ':', 'mi', 'padre', ',', 'mi', 'madre', ',', 'mi', 'hermana', 'y', 'yo', '.', 'También', 'tenemos', 'un', 'perro', '.', 'Yo', 'soy', 'mayor', 'que', 'mi', 'hermana', ',', 'pero', 'ella', 'es', 'más', 'alta', '.', 'Yo', 'tengo', 'doce', 'años', 'y', 'ella', 'once', '.', 'Mis', 'padres', 'se', 'llaman', 'Javier', 'y', 'María', ',', 'mi', 'hermana', 'se', 'llama', 'Sara', 'y', 'yo', 'Luis', '.', 'Vivimos', 'todos', 'juntos', 'en', 'una', 'casa', 'muy', 'bonita', '.', 'Mi', 'padre', 'es', 'banquero', 'y', 'mi', 'madre', 'ama', 'de', 'casa', '.', 'Por', 'la', 'mañana', ',', 'desayunamos', 'juntos', 'en', 'la', 'cocina', '.', 'Me', 'gusta', 'desayunar', 'con', 'mi', 'familia', '.', 'Además', ',', 'por', 'las', 'mañanas', 'siempre', 'tengo', 'hambre', '.', 'Después', 'del', 'colegio', ',', 'mi', 'madre', 'prepara', 'una', 'comida', 'deliciosa', '.', 'Por', 'la', 'tarde', ',', 'mi', 'madre', 'queda', 'con', 'sus', 'amigas', ',', 'y', 'mi', 'padre', 'juega', 'al', 'tenis', '.', 'Mi', 'hermana', 'y', 'yo', 'hacemos', 'los', 'deberes', ',', 'y', 'después', 'vemos', 'la', 'televisión', '.', 'Los', 'viernes', 'por', 'la', 'tarde', 'vamos', 'los', 'cuatro', 'de', 'compras', '.']\n"
          ]
        }
      ]
    },
    {
      "cell_type": "code",
      "source": [
        "# stopwords in spanish\n",
        "stop=open('NLTK/spanish_stopwords.txt')\n",
        "s_stopwords=[]\n",
        "for x in stop:\n",
        "   s_stopwords.append(x)\n",
        "print(s_stopwords)"
      ],
      "metadata": {
        "colab": {
          "base_uri": "https://localhost:8080/"
        },
        "id": "xzbKbsEwNueL",
        "outputId": "cf6075be-431c-4fde-bf1b-e72873d1aa89"
      },
      "execution_count": 28,
      "outputs": [
        {
          "output_type": "stream",
          "name": "stdout",
          "text": [
            "['0\\n', '1\\n', '2\\n', '3\\n', '4\\n', '5\\n', '6\\n', '7\\n', '8\\n', '9\\n', '_\\n', 'a\\n', 'actualmente\\n', 'acuerdo\\n', 'adelante\\n', 'ademas\\n', 'además\\n', 'adrede\\n', 'afirmó\\n', 'agregó\\n', 'ahi\\n', 'ahora\\n', 'ahí\\n', 'al\\n', 'algo\\n', 'alguna\\n', 'algunas\\n', 'alguno\\n', 'algunos\\n', 'algún\\n', 'alli\\n', 'allí\\n', 'alrededor\\n', 'ambos\\n', 'ampleamos\\n', 'antano\\n', 'antaño\\n', 'ante\\n', 'anterior\\n', 'antes\\n', 'apenas\\n', 'aproximadamente\\n', 'aquel\\n', 'aquella\\n', 'aquellas\\n', 'aquello\\n', 'aquellos\\n', 'aqui\\n', 'aquél\\n', 'aquélla\\n', 'aquéllas\\n', 'aquéllos\\n', 'aquí\\n', 'arriba\\n', 'arribaabajo\\n', 'aseguró\\n', 'asi\\n', 'así\\n', 'atras\\n', 'aun\\n', 'aunque\\n', 'ayer\\n', 'añadió\\n', 'aún\\n', 'b\\n', 'bajo\\n', 'bastante\\n', 'bien\\n', 'breve\\n', 'buen\\n', 'buena\\n', 'buenas\\n', 'bueno\\n', 'buenos\\n', 'c\\n', 'cada\\n', 'casi\\n', 'cerca\\n', 'cierta\\n', 'ciertas\\n', 'cierto\\n', 'ciertos\\n', 'cinco\\n', 'claro\\n', 'comentó\\n', 'como\\n', 'con\\n', 'conmigo\\n', 'conocer\\n', 'conseguimos\\n', 'conseguir\\n', 'considera\\n', 'consideró\\n', 'consigo\\n', 'consigue\\n', 'consiguen\\n', 'consigues\\n', 'contigo\\n', 'contra\\n', 'cosas\\n', 'creo\\n', 'cual\\n', 'cuales\\n', 'cualquier\\n', 'cuando\\n', 'cuanta\\n', 'cuantas\\n', 'cuanto\\n', 'cuantos\\n', 'cuatro\\n', 'cuenta\\n', 'cuál\\n', 'cuáles\\n', 'cuándo\\n', 'cuánta\\n', 'cuántas\\n', 'cuánto\\n', 'cuántos\\n', 'cómo\\n', 'd\\n', 'da\\n', 'dado\\n', 'dan\\n', 'dar\\n', 'de\\n', 'debajo\\n', 'debe\\n', 'deben\\n', 'debido\\n', 'decir\\n', 'dejó\\n', 'del\\n', 'delante\\n', 'demasiado\\n', 'demás\\n', 'dentro\\n', 'deprisa\\n', 'desde\\n', 'despacio\\n', 'despues\\n', 'después\\n', 'detras\\n', 'detrás\\n', 'dia\\n', 'dias\\n', 'dice\\n', 'dicen\\n', 'dicho\\n', 'dieron\\n', 'diferente\\n', 'diferentes\\n', 'dijeron\\n', 'dijo\\n', 'dio\\n', 'donde\\n', 'dos\\n', 'durante\\n', 'día\\n', 'días\\n', 'dónde\\n', 'e\\n', 'ejemplo\\n', 'el\\n', 'ella\\n', 'ellas\\n', 'ello\\n', 'ellos\\n', 'embargo\\n', 'empleais\\n', 'emplean\\n', 'emplear\\n', 'empleas\\n', 'empleo\\n', 'en\\n', 'encima\\n', 'encuentra\\n', 'enfrente\\n', 'enseguida\\n', 'entonces\\n', 'entre\\n', 'era\\n', 'erais\\n', 'eramos\\n', 'eran\\n', 'eras\\n', 'eres\\n', 'es\\n', 'esa\\n', 'esas\\n', 'ese\\n', 'eso\\n', 'esos\\n', 'esta\\n', 'estaba\\n', 'estabais\\n', 'estaban\\n', 'estabas\\n', 'estad\\n', 'estada\\n', 'estadas\\n', 'estado\\n', 'estados\\n', 'estais\\n', 'estamos\\n', 'estan\\n', 'estando\\n', 'estar\\n', 'estaremos\\n', 'estará\\n', 'estarán\\n', 'estarás\\n', 'estaré\\n', 'estaréis\\n', 'estaría\\n', 'estaríais\\n', 'estaríamos\\n', 'estarían\\n', 'estarías\\n', 'estas\\n', 'este\\n', 'estemos\\n', 'esto\\n', 'estos\\n', 'estoy\\n', 'estuve\\n', 'estuviera\\n', 'estuvierais\\n', 'estuvieran\\n', 'estuvieras\\n', 'estuvieron\\n', 'estuviese\\n', 'estuvieseis\\n', 'estuviesen\\n', 'estuvieses\\n', 'estuvimos\\n', 'estuviste\\n', 'estuvisteis\\n', 'estuviéramos\\n', 'estuviésemos\\n', 'estuvo\\n', 'está\\n', 'estábamos\\n', 'estáis\\n', 'están\\n', 'estás\\n', 'esté\\n', 'estéis\\n', 'estén\\n', 'estés\\n', 'ex\\n', 'excepto\\n', 'existe\\n', 'existen\\n', 'explicó\\n', 'expresó\\n', 'f\\n', 'fin\\n', 'final\\n', 'fue\\n', 'fuera\\n', 'fuerais\\n', 'fueran\\n', 'fueras\\n', 'fueron\\n', 'fuese\\n', 'fueseis\\n', 'fuesen\\n', 'fueses\\n', 'fui\\n', 'fuimos\\n', 'fuiste\\n', 'fuisteis\\n', 'fuéramos\\n', 'fuésemos\\n', 'g\\n', 'general\\n', 'gran\\n', 'grandes\\n', 'gueno\\n', 'h\\n', 'ha\\n', 'haber\\n', 'habia\\n', 'habida\\n', 'habidas\\n', 'habido\\n', 'habidos\\n', 'habiendo\\n', 'habla\\n', 'hablan\\n', 'habremos\\n', 'habrá\\n', 'habrán\\n', 'habrás\\n', 'habré\\n', 'habréis\\n', 'habría\\n', 'habríais\\n', 'habríamos\\n', 'habrían\\n', 'habrías\\n', 'habéis\\n', 'había\\n', 'habíais\\n', 'habíamos\\n', 'habían\\n', 'habías\\n', 'hace\\n', 'haceis\\n', 'hacemos\\n', 'hacen\\n', 'hacer\\n', 'hacerlo\\n', 'haces\\n', 'hacia\\n', 'haciendo\\n', 'hago\\n', 'han\\n', 'has\\n', 'hasta\\n', 'hay\\n', 'haya\\n', 'hayamos\\n', 'hayan\\n', 'hayas\\n', 'hayáis\\n', 'he\\n', 'hecho\\n', 'hemos\\n', 'hicieron\\n', 'hizo\\n', 'horas\\n', 'hoy\\n', 'hube\\n', 'hubiera\\n', 'hubierais\\n', 'hubieran\\n', 'hubieras\\n', 'hubieron\\n', 'hubiese\\n', 'hubieseis\\n', 'hubiesen\\n', 'hubieses\\n', 'hubimos\\n', 'hubiste\\n', 'hubisteis\\n', 'hubiéramos\\n', 'hubiésemos\\n', 'hubo\\n', 'i\\n', 'igual\\n', 'incluso\\n', 'indicó\\n', 'informo\\n', 'informó\\n', 'intenta\\n', 'intentais\\n', 'intentamos\\n', 'intentan\\n', 'intentar\\n', 'intentas\\n', 'intento\\n', 'ir\\n', 'j\\n', 'junto\\n', 'k\\n', 'l\\n', 'la\\n', 'lado\\n', 'largo\\n', 'las\\n', 'le\\n', 'lejos\\n', 'les\\n', 'llegó\\n', 'lleva\\n', 'llevar\\n', 'lo\\n', 'los\\n', 'luego\\n', 'lugar\\n', 'm\\n', 'mal\\n', 'manera\\n', 'manifestó\\n', 'mas\\n', 'mayor\\n', 'me\\n', 'mediante\\n', 'medio\\n', 'mejor\\n', 'mencionó\\n', 'menos\\n', 'menudo\\n', 'mi\\n', 'mia\\n', 'mias\\n', 'mientras\\n', 'mio\\n', 'mios\\n', 'mis\\n', 'misma\\n', 'mismas\\n', 'mismo\\n', 'mismos\\n', 'modo\\n', 'momento\\n', 'mucha\\n', 'muchas\\n', 'mucho\\n', 'muchos\\n', 'muy\\n', 'más\\n', 'mí\\n', 'mía\\n', 'mías\\n', 'mío\\n', 'míos\\n', 'n\\n', 'nada\\n', 'nadie\\n', 'ni\\n', 'ninguna\\n', 'ningunas\\n', 'ninguno\\n', 'ningunos\\n', 'ningún\\n', 'no\\n', 'nos\\n', 'nosotras\\n', 'nosotros\\n', 'nuestra\\n', 'nuestras\\n', 'nuestro\\n', 'nuestros\\n', 'nueva\\n', 'nuevas\\n', 'nuevo\\n', 'nuevos\\n', 'nunca\\n', 'o\\n', 'ocho\\n', 'os\\n', 'otra\\n', 'otras\\n', 'otro\\n', 'otros\\n', 'p\\n', 'pais\\n', 'para\\n', 'parece\\n', 'parte\\n', 'partir\\n', 'pasada\\n', 'pasado\\n', 'paìs\\n', 'peor\\n', 'pero\\n', 'pesar\\n', 'poca\\n', 'pocas\\n', 'poco\\n', 'pocos\\n', 'podeis\\n', 'podemos\\n', 'poder\\n', 'podria\\n', 'podriais\\n', 'podriamos\\n', 'podrian\\n', 'podrias\\n', 'podrá\\n', 'podrán\\n', 'podría\\n', 'podrían\\n', 'poner\\n', 'por\\n', 'por qué\\n', 'porque\\n', 'posible\\n', 'primer\\n', 'primera\\n', 'primero\\n', 'primeros\\n', 'principalmente\\n', 'pronto\\n', 'propia\\n', 'propias\\n', 'propio\\n', 'propios\\n', 'proximo\\n', 'próximo\\n', 'próximos\\n', 'pudo\\n', 'pueda\\n', 'puede\\n', 'pueden\\n', 'puedo\\n', 'pues\\n', 'q\\n', 'qeu\\n', 'que\\n', 'quedó\\n', 'queremos\\n', 'quien\\n', 'quienes\\n', 'quiere\\n', 'quiza\\n', 'quizas\\n', 'quizá\\n', 'quizás\\n', 'quién\\n', 'quiénes\\n', 'qué\\n', 'r\\n', 'raras\\n', 'realizado\\n', 'realizar\\n', 'realizó\\n', 'repente\\n', 'respecto\\n', 's\\n', 'sabe\\n', 'sabeis\\n', 'sabemos\\n', 'saben\\n', 'saber\\n', 'sabes\\n', 'sal\\n', 'salvo\\n', 'se\\n', 'sea\\n', 'seamos\\n', 'sean\\n', 'seas\\n', 'segun\\n', 'segunda\\n', 'segundo\\n', 'según\\n', 'seis\\n', 'ser\\n', 'sera\\n', 'seremos\\n', 'será\\n', 'serán\\n', 'serás\\n', 'seré\\n', 'seréis\\n', 'sería\\n', 'seríais\\n', 'seríamos\\n', 'serían\\n', 'serías\\n', 'seáis\\n', 'señaló\\n', 'si\\n', 'sido\\n', 'siempre\\n', 'siendo\\n', 'siete\\n', 'sigue\\n', 'siguiente\\n', 'sin\\n', 'sino\\n', 'sobre\\n', 'sois\\n', 'sola\\n', 'solamente\\n', 'solas\\n', 'solo\\n', 'solos\\n', 'somos\\n', 'son\\n', 'soy\\n', 'soyos\\n', 'su\\n', 'supuesto\\n', 'sus\\n', 'suya\\n', 'suyas\\n', 'suyo\\n', 'suyos\\n', 'sé\\n', 'sí\\n', 'sólo\\n', 't\\n', 'tal\\n', 'tambien\\n', 'también\\n', 'tampoco\\n', 'tan\\n', 'tanto\\n', 'tarde\\n', 'te\\n', 'temprano\\n', 'tendremos\\n', 'tendrá\\n', 'tendrán\\n', 'tendrás\\n', 'tendré\\n', 'tendréis\\n', 'tendría\\n', 'tendríais\\n', 'tendríamos\\n', 'tendrían\\n', 'tendrías\\n', 'tened\\n', 'teneis\\n', 'tenemos\\n', 'tener\\n', 'tenga\\n', 'tengamos\\n', 'tengan\\n', 'tengas\\n', 'tengo\\n', 'tengáis\\n', 'tenida\\n', 'tenidas\\n', 'tenido\\n', 'tenidos\\n', 'teniendo\\n', 'tenéis\\n', 'tenía\\n', 'teníais\\n', 'teníamos\\n', 'tenían\\n', 'tenías\\n', 'tercera\\n', 'ti\\n', 'tiempo\\n', 'tiene\\n', 'tienen\\n', 'tienes\\n', 'toda\\n', 'todas\\n', 'todavia\\n', 'todavía\\n', 'todo\\n', 'todos\\n', 'total\\n', 'trabaja\\n', 'trabajais\\n', 'trabajamos\\n', 'trabajan\\n', 'trabajar\\n', 'trabajas\\n', 'trabajo\\n', 'tras\\n', 'trata\\n', 'través\\n', 'tres\\n', 'tu\\n', 'tus\\n', 'tuve\\n', 'tuviera\\n', 'tuvierais\\n', 'tuvieran\\n', 'tuvieras\\n', 'tuvieron\\n', 'tuviese\\n', 'tuvieseis\\n', 'tuviesen\\n', 'tuvieses\\n', 'tuvimos\\n', 'tuviste\\n', 'tuvisteis\\n', 'tuviéramos\\n', 'tuviésemos\\n', 'tuvo\\n', 'tuya\\n', 'tuyas\\n', 'tuyo\\n', 'tuyos\\n', 'tú\\n', 'u\\n', 'ultimo\\n', 'un\\n', 'una\\n', 'unas\\n', 'uno\\n', 'unos\\n', 'usa\\n', 'usais\\n', 'usamos\\n', 'usan\\n', 'usar\\n', 'usas\\n', 'uso\\n', 'usted\\n', 'ustedes\\n', 'v\\n', 'va\\n', 'vais\\n', 'valor\\n', 'vamos\\n', 'van\\n', 'varias\\n', 'varios\\n', 'vaya\\n', 'veces\\n', 'ver\\n', 'verdad\\n', 'verdadera\\n', 'verdadero\\n', 'vez\\n', 'vosotras\\n', 'vosotros\\n', 'voy\\n', 'vuestra\\n', 'vuestras\\n', 'vuestro\\n', 'vuestros\\n', 'w\\n', 'x\\n', 'y\\n', 'ya\\n', 'yo\\n', 'z\\n', 'él\\n', 'éramos\\n', 'ésa\\n', 'ésas\\n', 'ése\\n', 'ésos\\n', 'ésta\\n', 'éstas\\n', 'éste\\n', 'éstos\\n', 'última\\n', 'últimas\\n', 'último\\n', 'últimos']\n"
          ]
        }
      ]
    },
    {
      "cell_type": "code",
      "source": [
        "# create words\n",
        "filtered_sentences = [w for w in word_token if not w in stop]\n",
        "print(filtered_sentences)"
      ],
      "metadata": {
        "id": "055yRHt6Lnvf",
        "colab": {
          "base_uri": "https://localhost:8080/"
        },
        "outputId": "bf2269bb-acc8-43f6-e67e-b8d39c68975d"
      },
      "execution_count": 29,
      "outputs": [
        {
          "output_type": "stream",
          "name": "stdout",
          "text": [
            "['Mi', 'familia', 'no', 'es', 'muy', 'grande', ',', 'somos', 'solo', 'cuatro', 'personas', ':', 'mi', 'padre', ',', 'mi', 'madre', ',', 'mi', 'hermana', 'y', 'yo', '.', 'También', 'tenemos', 'un', 'perro', '.', 'Yo', 'soy', 'mayor', 'que', 'mi', 'hermana', ',', 'pero', 'ella', 'es', 'más', 'alta', '.', 'Yo', 'tengo', 'doce', 'años', 'y', 'ella', 'once', '.', 'Mis', 'padres', 'se', 'llaman', 'Javier', 'y', 'María', ',', 'mi', 'hermana', 'se', 'llama', 'Sara', 'y', 'yo', 'Luis', '.', 'Vivimos', 'todos', 'juntos', 'en', 'una', 'casa', 'muy', 'bonita', '.', 'Mi', 'padre', 'es', 'banquero', 'y', 'mi', 'madre', 'ama', 'de', 'casa', '.', 'Por', 'la', 'mañana', ',', 'desayunamos', 'juntos', 'en', 'la', 'cocina', '.', 'Me', 'gusta', 'desayunar', 'con', 'mi', 'familia', '.', 'Además', ',', 'por', 'las', 'mañanas', 'siempre', 'tengo', 'hambre', '.', 'Después', 'del', 'colegio', ',', 'mi', 'madre', 'prepara', 'una', 'comida', 'deliciosa', '.', 'Por', 'la', 'tarde', ',', 'mi', 'madre', 'queda', 'con', 'sus', 'amigas', ',', 'y', 'mi', 'padre', 'juega', 'al', 'tenis', '.', 'Mi', 'hermana', 'y', 'yo', 'hacemos', 'los', 'deberes', ',', 'y', 'después', 'vemos', 'la', 'televisión', '.', 'Los', 'viernes', 'por', 'la', 'tarde', 'vamos', 'los', 'cuatro', 'de', 'compras', '.']\n"
          ]
        }
      ]
    },
    {
      "cell_type": "code",
      "source": [
        "# create a frequency distribution to find the most common words\n",
        "fdist = nltk.FreqDist(filtered_sentences)\n",
        "fdist.most_common(100)"
      ],
      "metadata": {
        "id": "adl269pjNzs_",
        "colab": {
          "base_uri": "https://localhost:8080/"
        },
        "outputId": "426f3dc6-dce0-4f4c-d2f8-a8f67d6e6b7a"
      },
      "execution_count": 30,
      "outputs": [
        {
          "output_type": "execute_result",
          "data": {
            "text/plain": [
              "[('.', 14),\n",
              " (',', 11),\n",
              " ('mi', 10),\n",
              " ('y', 8),\n",
              " ('la', 5),\n",
              " ('madre', 4),\n",
              " ('hermana', 4),\n",
              " ('Mi', 3),\n",
              " ('es', 3),\n",
              " ('padre', 3),\n",
              " ('yo', 3),\n",
              " ('familia', 2),\n",
              " ('muy', 2),\n",
              " ('cuatro', 2),\n",
              " ('Yo', 2),\n",
              " ('ella', 2),\n",
              " ('tengo', 2),\n",
              " ('se', 2),\n",
              " ('juntos', 2),\n",
              " ('en', 2),\n",
              " ('una', 2),\n",
              " ('casa', 2),\n",
              " ('de', 2),\n",
              " ('Por', 2),\n",
              " ('con', 2),\n",
              " ('por', 2),\n",
              " ('tarde', 2),\n",
              " ('los', 2),\n",
              " ('no', 1),\n",
              " ('grande', 1),\n",
              " ('somos', 1),\n",
              " ('solo', 1),\n",
              " ('personas', 1),\n",
              " (':', 1),\n",
              " ('También', 1),\n",
              " ('tenemos', 1),\n",
              " ('un', 1),\n",
              " ('perro', 1),\n",
              " ('soy', 1),\n",
              " ('mayor', 1),\n",
              " ('que', 1),\n",
              " ('pero', 1),\n",
              " ('más', 1),\n",
              " ('alta', 1),\n",
              " ('doce', 1),\n",
              " ('años', 1),\n",
              " ('once', 1),\n",
              " ('Mis', 1),\n",
              " ('padres', 1),\n",
              " ('llaman', 1),\n",
              " ('Javier', 1),\n",
              " ('María', 1),\n",
              " ('llama', 1),\n",
              " ('Sara', 1),\n",
              " ('Luis', 1),\n",
              " ('Vivimos', 1),\n",
              " ('todos', 1),\n",
              " ('bonita', 1),\n",
              " ('banquero', 1),\n",
              " ('ama', 1),\n",
              " ('mañana', 1),\n",
              " ('desayunamos', 1),\n",
              " ('cocina', 1),\n",
              " ('Me', 1),\n",
              " ('gusta', 1),\n",
              " ('desayunar', 1),\n",
              " ('Además', 1),\n",
              " ('las', 1),\n",
              " ('mañanas', 1),\n",
              " ('siempre', 1),\n",
              " ('hambre', 1),\n",
              " ('Después', 1),\n",
              " ('del', 1),\n",
              " ('colegio', 1),\n",
              " ('prepara', 1),\n",
              " ('comida', 1),\n",
              " ('deliciosa', 1),\n",
              " ('queda', 1),\n",
              " ('sus', 1),\n",
              " ('amigas', 1),\n",
              " ('juega', 1),\n",
              " ('al', 1),\n",
              " ('tenis', 1),\n",
              " ('hacemos', 1),\n",
              " ('deberes', 1),\n",
              " ('después', 1),\n",
              " ('vemos', 1),\n",
              " ('televisión', 1),\n",
              " ('Los', 1),\n",
              " ('viernes', 1),\n",
              " ('vamos', 1),\n",
              " ('compras', 1)]"
            ]
          },
          "metadata": {},
          "execution_count": 30
        }
      ]
    },
    {
      "cell_type": "code",
      "source": [
        "fdist.items()"
      ],
      "metadata": {
        "colab": {
          "base_uri": "https://localhost:8080/"
        },
        "id": "kuTmVHxoOzc4",
        "outputId": "7c19aeed-ecb9-4fef-b65e-6722f5d920d1"
      },
      "execution_count": 31,
      "outputs": [
        {
          "output_type": "execute_result",
          "data": {
            "text/plain": [
              "dict_items([('Mi', 3), ('familia', 2), ('no', 1), ('es', 3), ('muy', 2), ('grande', 1), (',', 11), ('somos', 1), ('solo', 1), ('cuatro', 2), ('personas', 1), (':', 1), ('mi', 10), ('padre', 3), ('madre', 4), ('hermana', 4), ('y', 8), ('yo', 3), ('.', 14), ('También', 1), ('tenemos', 1), ('un', 1), ('perro', 1), ('Yo', 2), ('soy', 1), ('mayor', 1), ('que', 1), ('pero', 1), ('ella', 2), ('más', 1), ('alta', 1), ('tengo', 2), ('doce', 1), ('años', 1), ('once', 1), ('Mis', 1), ('padres', 1), ('se', 2), ('llaman', 1), ('Javier', 1), ('María', 1), ('llama', 1), ('Sara', 1), ('Luis', 1), ('Vivimos', 1), ('todos', 1), ('juntos', 2), ('en', 2), ('una', 2), ('casa', 2), ('bonita', 1), ('banquero', 1), ('ama', 1), ('de', 2), ('Por', 2), ('la', 5), ('mañana', 1), ('desayunamos', 1), ('cocina', 1), ('Me', 1), ('gusta', 1), ('desayunar', 1), ('con', 2), ('Además', 1), ('por', 2), ('las', 1), ('mañanas', 1), ('siempre', 1), ('hambre', 1), ('Después', 1), ('del', 1), ('colegio', 1), ('prepara', 1), ('comida', 1), ('deliciosa', 1), ('tarde', 2), ('queda', 1), ('sus', 1), ('amigas', 1), ('juega', 1), ('al', 1), ('tenis', 1), ('hacemos', 1), ('los', 2), ('deberes', 1), ('después', 1), ('vemos', 1), ('televisión', 1), ('Los', 1), ('viernes', 1), ('vamos', 1), ('compras', 1)])"
            ]
          },
          "metadata": {},
          "execution_count": 31
        }
      ]
    },
    {
      "cell_type": "code",
      "source": [
        "fdist.plot(50, cumulative = True)"
      ],
      "metadata": {
        "colab": {
          "base_uri": "https://localhost:8080/",
          "height": 332
        },
        "id": "kZSPPemqO3jS",
        "outputId": "28a529ce-cb5d-4750-a5b0-07fd2b3e16aa"
      },
      "execution_count": 32,
      "outputs": [
        {
          "output_type": "display_data",
          "data": {
            "text/plain": [
              "<Figure size 432x288 with 1 Axes>"
            ],
            "image/png": "[encoded data removed]"
          },
          "metadata": {
            "needs_background": "light"
          }
        },
        {
          "output_type": "execute_result",
          "data": {
            "text/plain": [
              "<matplotlib.axes._subplots.AxesSubplot at 0x7f1a8eb61d50>"
            ]
          },
          "metadata": {},
          "execution_count": 32
        }
      ]
    },
    {
      "cell_type": "markdown",
      "source": [
        "Tibetan Language"
      ],
      "metadata": {
        "id": "ADAnV-A0QTBA"
      }
    },
    {
      "cell_type": "code",
      "source": [
        "!git clone https://github.com/TenzinYangzom158/NLTK.git"
      ],
      "metadata": {
        "colab": {
          "base_uri": "https://localhost:8080/"
        },
        "id": "XU2ACrapO56G",
        "outputId": "e5de1781-409b-4e81-bf3d-7b71f4e26812"
      },
      "execution_count": 33,
      "outputs": [
        {
          "output_type": "stream",
          "name": "stdout",
          "text": [
            "fatal: destination path 'NLTK' already exists and is not an empty directory.\n"
          ]
        }
      ]
    },
    {
      "cell_type": "code",
      "source": [
        "tex = open('NLTK/tibetan.txt')\n",
        "sen=tex.read()\n",
        "print(sen)"
      ],
      "metadata": {
        "colab": {
          "base_uri": "https://localhost:8080/"
        },
        "id": "1fo3g3iUQZ8z",
        "outputId": "8ee9e748-6d73-49e1-d4c0-016719ef2554"
      },
      "execution_count": 34,
      "outputs": [
        {
          "output_type": "stream",
          "name": "stdout",
          "text": [
            "༄༅། །འདིར་རྩོམ་པ་པོའི་སྔོན་གླེང་དུ། “ད་ཕན་རང་རེའི་སྤྱི་ཚོགས་ནང་ལབ་གླེང་དཀའ་རྙོག་འདྲ་མིན་བྱུང་ཁོངས་ནས་ཕྲན་བུའི་ཆེ་ཁག་འགའི་བྱུང་རིམ་གནས་ལུགས་དང་། གཞན་ཡང་རང་ཉིད་ཀྱི་ལས་རྒྱུན་རིང་སྐུ་སྒེར་ཡིག་ཚང་དང་འབྲེལ་བའི་བསམ་ཚུལ་རེ་ཟུང་རྒྱུས་མངའ་དཔང་པོའི་ཚུལ་དུ་བརྗོད་བདེ་གོ་སླའི་ཚིག་གིས་ཡིག་ངོ་ཤེས་ཚད་ཐམས་ཅད་ཀྱིས་ནང་དོན་མཁྱེན་རྟོགས་ཐུབ་པའི་རེ་སེམས་བཅངས་ཏེ་ཞོར་འཕྲོས་གསལ་བཤད་དང་བཅས་ཕྱོགས་སྒྲིག་བགྱིས།” ཞེས་གསུངས་འདུག་པ་ལྟར། དཔེ་དེབ་འདིར་༸གོང་ས་མཆོག་གི་མཛད་པ་ཆེ་ཁག་རྣམས་ཚིག་ཉུང་དོན་འདུས་ཀྱི་ལམ་ནས་རྩལ་འདོན་གནང་ཞིང་། དགོས་ངེས་ཅན་གྱི་བྱུང་བ་གནད་ཆེ་ཁག་ལ་ལོ་རྒྱུས་ཀྱི་རྒྱབ་ལྗོངས་དང་། ལོ་ཚིགས། ས་གནས། མི་སྣ། ཡིག་ཚགས་བཅས་ཀྱིས་མཚོན་དཔང་རྟགས་ཚད་ལྡན་གྱི་རྒྱས་བཏབ་འདུག་སྟབས་འདི་ལས་ལྷག་པའི་ཡིག་ཆ་ཁུངས་འཕེར་ཞིག་གནམ་མཐའ་བརྒལ་ཡང་རྙེད་རྒྱུ་དཀའ་སྙམ།\n"
          ]
        }
      ]
    },
    {
      "cell_type": "code",
      "source": [
        "stop=open('NLTK/tibetan_stopwords.txt')\n",
        "stopwords=[]\n",
        "for x in stop:\n",
        "   stopwords.append(x)\n",
        "print(stopwords)"
      ],
      "metadata": {
        "colab": {
          "base_uri": "https://localhost:8080/"
        },
        "id": "mSf9qX-mQtAr",
        "outputId": "7986c248-527a-446c-d6cb-700a6f2d55ac"
      },
      "execution_count": 35,
      "outputs": [
        {
          "output_type": "stream",
          "name": "stdout",
          "text": [
            "['།\\n', '་\\n', 'ཕན་']\n"
          ]
        }
      ]
    },
    {
      "cell_type": "code",
      "source": [
        "sen.split(\"་\")\n",
        "words = sen.split(\"་\")\n",
        "print(words)"
      ],
      "metadata": {
        "colab": {
          "base_uri": "https://localhost:8080/"
        },
        "id": "VrcakRqnRYEg",
        "outputId": "e45c367e-d9bf-490c-a1ed-3f6ed7992b94"
      },
      "execution_count": 36,
      "outputs": [
        {
          "output_type": "stream",
          "name": "stdout",
          "text": [
            "['༄༅། །འདིར', 'རྩོམ', 'པ', 'པོའི', 'སྔོན', 'གླེང', 'དུ། “ད', 'ཕན', 'རང', 'རེའི', 'སྤྱི', 'ཚོགས', 'ནང', 'ལབ', 'གླེང', 'དཀའ', 'རྙོག', 'འདྲ', 'མིན', 'བྱུང', 'ཁོངས', 'ནས', 'ཕྲན', 'བུའི', 'ཆེ', 'ཁག', 'འགའི', 'བྱུང', 'རིམ', 'གནས', 'ལུགས', 'དང', '། གཞན', 'ཡང', 'རང', 'ཉིད', 'ཀྱི', 'ལས', 'རྒྱུན', 'རིང', 'སྐུ', 'སྒེར', 'ཡིག', 'ཚང', 'དང', 'འབྲེལ', 'བའི', 'བསམ', 'ཚུལ', 'རེ', 'ཟུང', 'རྒྱུས', 'མངའ', 'དཔང', 'པོའི', 'ཚུལ', 'དུ', 'བརྗོད', 'བདེ', 'གོ', 'སླའི', 'ཚིག', 'གིས', 'ཡིག', 'ངོ', 'ཤེས', 'ཚད', 'ཐམས', 'ཅད', 'ཀྱིས', 'ནང', 'དོན', 'མཁྱེན', 'རྟོགས', 'ཐུབ', 'པའི', 'རེ', 'སེམས', 'བཅངས', 'ཏེ', 'ཞོར', 'འཕྲོས', 'གསལ', 'བཤད', 'དང', 'བཅས', 'ཕྱོགས', 'སྒྲིག', 'བགྱིས།” ཞེས', 'གསུངས', 'འདུག', 'པ', 'ལྟར། དཔེ', 'དེབ', 'འདིར', '༸གོང', 'ས', 'མཆོག', 'གི', 'མཛད', 'པ', 'ཆེ', 'ཁག', 'རྣམས', 'ཚིག', 'ཉུང', 'དོན', 'འདུས', 'ཀྱི', 'ལམ', 'ནས', 'རྩལ', 'འདོན', 'གནང', 'ཞིང', '། དགོས', 'ངེས', 'ཅན', 'གྱི', 'བྱུང', 'བ', 'གནད', 'ཆེ', 'ཁག', 'ལ', 'ལོ', 'རྒྱུས', 'ཀྱི', 'རྒྱབ', 'ལྗོངས', 'དང', '། ལོ', 'ཚིགས། ས', 'གནས། མི', 'སྣ། ཡིག', 'ཚགས', 'བཅས', 'ཀྱིས', 'མཚོན', 'དཔང', 'རྟགས', 'ཚད', 'ལྡན', 'གྱི', 'རྒྱས', 'བཏབ', 'འདུག', 'སྟབས', 'འདི', 'ལས', 'ལྷག', 'པའི', 'ཡིག', 'ཆ', 'ཁུངས', 'འཕེར', 'ཞིག', 'གནམ', 'མཐའ', 'བརྒལ', 'ཡང', 'རྙེད', 'རྒྱུ', 'དཀའ', 'སྙམ།']\n"
          ]
        }
      ]
    },
    {
      "cell_type": "code",
      "source": [
        "stopWords = set(stopwords)\n",
        "sentences = [w for w in words if not w in stopWords]\n",
        "print(sentences)"
      ],
      "metadata": {
        "colab": {
          "base_uri": "https://localhost:8080/"
        },
        "id": "Gr1TvXeIRLg_",
        "outputId": "c5134cf8-aa4f-41bd-be62-6f9d0a12e6e6"
      },
      "execution_count": 37,
      "outputs": [
        {
          "output_type": "stream",
          "name": "stdout",
          "text": [
            "['༄༅། །འདིར', 'རྩོམ', 'པ', 'པོའི', 'སྔོན', 'གླེང', 'དུ། “ད', 'ཕན', 'རང', 'རེའི', 'སྤྱི', 'ཚོགས', 'ནང', 'ལབ', 'གླེང', 'དཀའ', 'རྙོག', 'འདྲ', 'མིན', 'བྱུང', 'ཁོངས', 'ནས', 'ཕྲན', 'བུའི', 'ཆེ', 'ཁག', 'འགའི', 'བྱུང', 'རིམ', 'གནས', 'ལུགས', 'དང', '། གཞན', 'ཡང', 'རང', 'ཉིད', 'ཀྱི', 'ལས', 'རྒྱུན', 'རིང', 'སྐུ', 'སྒེར', 'ཡིག', 'ཚང', 'དང', 'འབྲེལ', 'བའི', 'བསམ', 'ཚུལ', 'རེ', 'ཟུང', 'རྒྱུས', 'མངའ', 'དཔང', 'པོའི', 'ཚུལ', 'དུ', 'བརྗོད', 'བདེ', 'གོ', 'སླའི', 'ཚིག', 'གིས', 'ཡིག', 'ངོ', 'ཤེས', 'ཚད', 'ཐམས', 'ཅད', 'ཀྱིས', 'ནང', 'དོན', 'མཁྱེན', 'རྟོགས', 'ཐུབ', 'པའི', 'རེ', 'སེམས', 'བཅངས', 'ཏེ', 'ཞོར', 'འཕྲོས', 'གསལ', 'བཤད', 'དང', 'བཅས', 'ཕྱོགས', 'སྒྲིག', 'བགྱིས།” ཞེས', 'གསུངས', 'འདུག', 'པ', 'ལྟར། དཔེ', 'དེབ', 'འདིར', '༸གོང', 'ས', 'མཆོག', 'གི', 'མཛད', 'པ', 'ཆེ', 'ཁག', 'རྣམས', 'ཚིག', 'ཉུང', 'དོན', 'འདུས', 'ཀྱི', 'ལམ', 'ནས', 'རྩལ', 'འདོན', 'གནང', 'ཞིང', '། དགོས', 'ངེས', 'ཅན', 'གྱི', 'བྱུང', 'བ', 'གནད', 'ཆེ', 'ཁག', 'ལ', 'ལོ', 'རྒྱུས', 'ཀྱི', 'རྒྱབ', 'ལྗོངས', 'དང', '། ལོ', 'ཚིགས། ས', 'གནས། མི', 'སྣ། ཡིག', 'ཚགས', 'བཅས', 'ཀྱིས', 'མཚོན', 'དཔང', 'རྟགས', 'ཚད', 'ལྡན', 'གྱི', 'རྒྱས', 'བཏབ', 'འདུག', 'སྟབས', 'འདི', 'ལས', 'ལྷག', 'པའི', 'ཡིག', 'ཆ', 'ཁུངས', 'འཕེར', 'ཞིག', 'གནམ', 'མཐའ', 'བརྒལ', 'ཡང', 'རྙེད', 'རྒྱུ', 'དཀའ', 'སྙམ།']\n"
          ]
        }
      ]
    },
    {
      "cell_type": "code",
      "source": [
        "# create a frequency distribution to find the most common words\n",
        "\n",
        "fdist = nltk.FreqDist(sentences)\n",
        "fdist.most_common(10)"
      ],
      "metadata": {
        "colab": {
          "base_uri": "https://localhost:8080/"
        },
        "id": "s4xrWiLnRP3U",
        "outputId": "a4f82c19-28c4-4db8-a194-ebf762b44b8a"
      },
      "execution_count": 38,
      "outputs": [
        {
          "output_type": "execute_result",
          "data": {
            "text/plain": [
              "[('དང', 4),\n",
              " ('པ', 3),\n",
              " ('བྱུང', 3),\n",
              " ('ཆེ', 3),\n",
              " ('ཁག', 3),\n",
              " ('ཀྱི', 3),\n",
              " ('ཡིག', 3),\n",
              " ('པོའི', 2),\n",
              " ('གླེང', 2),\n",
              " ('རང', 2)]"
            ]
          },
          "metadata": {},
          "execution_count": 38
        }
      ]
    },
    {
      "cell_type": "code",
      "source": [
        "fdist.items()"
      ],
      "metadata": {
        "colab": {
          "base_uri": "https://localhost:8080/"
        },
        "id": "0HzgbS2CSEg-",
        "outputId": "bc5ae84a-ab58-4049-8c5a-37c99967b3bd"
      },
      "execution_count": 39,
      "outputs": [
        {
          "output_type": "execute_result",
          "data": {
            "text/plain": [
              "dict_items([('༄༅། །འདིར', 1), ('རྩོམ', 1), ('པ', 3), ('པོའི', 2), ('སྔོན', 1), ('གླེང', 2), ('དུ། “ད', 1), ('ཕན', 1), ('རང', 2), ('རེའི', 1), ('སྤྱི', 1), ('ཚོགས', 1), ('ནང', 2), ('ལབ', 1), ('དཀའ', 2), ('རྙོག', 1), ('འདྲ', 1), ('མིན', 1), ('བྱུང', 3), ('ཁོངས', 1), ('ནས', 2), ('ཕྲན', 1), ('བུའི', 1), ('ཆེ', 3), ('ཁག', 3), ('འགའི', 1), ('རིམ', 1), ('གནས', 1), ('ལུགས', 1), ('དང', 4), ('། གཞན', 1), ('ཡང', 2), ('ཉིད', 1), ('ཀྱི', 3), ('ལས', 2), ('རྒྱུན', 1), ('རིང', 1), ('སྐུ', 1), ('སྒེར', 1), ('ཡིག', 3), ('ཚང', 1), ('འབྲེལ', 1), ('བའི', 1), ('བསམ', 1), ('ཚུལ', 2), ('རེ', 2), ('ཟུང', 1), ('རྒྱུས', 2), ('མངའ', 1), ('དཔང', 2), ('དུ', 1), ('བརྗོད', 1), ('བདེ', 1), ('གོ', 1), ('སླའི', 1), ('ཚིག', 2), ('གིས', 1), ('ངོ', 1), ('ཤེས', 1), ('ཚད', 2), ('ཐམས', 1), ('ཅད', 1), ('ཀྱིས', 2), ('དོན', 2), ('མཁྱེན', 1), ('རྟོགས', 1), ('ཐུབ', 1), ('པའི', 2), ('སེམས', 1), ('བཅངས', 1), ('ཏེ', 1), ('ཞོར', 1), ('འཕྲོས', 1), ('གསལ', 1), ('བཤད', 1), ('བཅས', 2), ('ཕྱོགས', 1), ('སྒྲིག', 1), ('བགྱིས།” ཞེས', 1), ('གསུངས', 1), ('འདུག', 2), ('ལྟར། དཔེ', 1), ('དེབ', 1), ('འདིར', 1), ('༸གོང', 1), ('ས', 1), ('མཆོག', 1), ('གི', 1), ('མཛད', 1), ('རྣམས', 1), ('ཉུང', 1), ('འདུས', 1), ('ལམ', 1), ('རྩལ', 1), ('འདོན', 1), ('གནང', 1), ('ཞིང', 1), ('། དགོས', 1), ('ངེས', 1), ('ཅན', 1), ('གྱི', 2), ('བ', 1), ('གནད', 1), ('ལ', 1), ('ལོ', 1), ('རྒྱབ', 1), ('ལྗོངས', 1), ('། ལོ', 1), ('ཚིགས། ས', 1), ('གནས། མི', 1), ('སྣ། ཡིག', 1), ('ཚགས', 1), ('མཚོན', 1), ('རྟགས', 1), ('ལྡན', 1), ('རྒྱས', 1), ('བཏབ', 1), ('སྟབས', 1), ('འདི', 1), ('ལྷག', 1), ('ཆ', 1), ('ཁུངས', 1), ('འཕེར', 1), ('ཞིག', 1), ('གནམ', 1), ('མཐའ', 1), ('བརྒལ', 1), ('རྙེད', 1), ('རྒྱུ', 1), ('སྙམ།', 1)])"
            ]
          },
          "metadata": {},
          "execution_count": 39
        }
      ]
    },
    {
      "cell_type": "code",
      "source": [
        "fdist.plot(10)"
      ],
      "metadata": {
        "id": "Usf9ZMovSIVR",
        "colab": {
          "base_uri": "https://localhost:8080/",
          "height": 1000
        },
        "outputId": "ec61ccd6-832f-47db-bf41-679a858adf27"
      },
      "execution_count": 42,
      "outputs": [
        {
          "output_type": "stream",
          "name": "stderr",
          "text": [
            "/usr/local/lib/python3.7/dist-packages/matplotlib/backends/backend_agg.py:214: RuntimeWarning: Glyph 3921 missing from current font.\n",
            "  font.set_text(s, 0.0, flags=flags)\n",
            "/usr/local/lib/python3.7/dist-packages/matplotlib/backends/backend_agg.py:214: RuntimeWarning: Glyph 3908 missing from current font.\n",
            "  font.set_text(s, 0.0, flags=flags)\n",
            "/usr/local/lib/python3.7/dist-packages/matplotlib/backends/backend_agg.py:214: RuntimeWarning: Glyph 3924 missing from current font.\n",
            "  font.set_text(s, 0.0, flags=flags)\n",
            "/usr/local/lib/python3.7/dist-packages/matplotlib/backends/backend_agg.py:214: RuntimeWarning: Glyph 3926 missing from current font.\n",
            "  font.set_text(s, 0.0, flags=flags)\n",
            "/usr/local/lib/python3.7/dist-packages/matplotlib/backends/backend_agg.py:214: RuntimeWarning: Glyph 4017 missing from current font.\n",
            "  font.set_text(s, 0.0, flags=flags)\n",
            "/usr/local/lib/python3.7/dist-packages/matplotlib/backends/backend_agg.py:214: RuntimeWarning: Glyph 3956 missing from current font.\n",
            "  font.set_text(s, 0.0, flags=flags)\n",
            "/usr/local/lib/python3.7/dist-packages/matplotlib/backends/backend_agg.py:214: RuntimeWarning: Glyph 3910 missing from current font.\n",
            "  font.set_text(s, 0.0, flags=flags)\n",
            "/usr/local/lib/python3.7/dist-packages/matplotlib/backends/backend_agg.py:214: RuntimeWarning: Glyph 3962 missing from current font.\n",
            "  font.set_text(s, 0.0, flags=flags)\n",
            "/usr/local/lib/python3.7/dist-packages/matplotlib/backends/backend_agg.py:214: RuntimeWarning: Glyph 3905 missing from current font.\n",
            "  font.set_text(s, 0.0, flags=flags)\n",
            "/usr/local/lib/python3.7/dist-packages/matplotlib/backends/backend_agg.py:214: RuntimeWarning: Glyph 3906 missing from current font.\n",
            "  font.set_text(s, 0.0, flags=flags)\n",
            "/usr/local/lib/python3.7/dist-packages/matplotlib/backends/backend_agg.py:214: RuntimeWarning: Glyph 3904 missing from current font.\n",
            "  font.set_text(s, 0.0, flags=flags)\n",
            "/usr/local/lib/python3.7/dist-packages/matplotlib/backends/backend_agg.py:214: RuntimeWarning: Glyph 3954 missing from current font.\n",
            "  font.set_text(s, 0.0, flags=flags)\n",
            "/usr/local/lib/python3.7/dist-packages/matplotlib/backends/backend_agg.py:214: RuntimeWarning: Glyph 3937 missing from current font.\n",
            "  font.set_text(s, 0.0, flags=flags)\n",
            "/usr/local/lib/python3.7/dist-packages/matplotlib/backends/backend_agg.py:214: RuntimeWarning: Glyph 3964 missing from current font.\n",
            "  font.set_text(s, 0.0, flags=flags)\n",
            "/usr/local/lib/python3.7/dist-packages/matplotlib/backends/backend_agg.py:214: RuntimeWarning: Glyph 3936 missing from current font.\n",
            "  font.set_text(s, 0.0, flags=flags)\n",
            "/usr/local/lib/python3.7/dist-packages/matplotlib/backends/backend_agg.py:214: RuntimeWarning: Glyph 4019 missing from current font.\n",
            "  font.set_text(s, 0.0, flags=flags)\n",
            "/usr/local/lib/python3.7/dist-packages/matplotlib/backends/backend_agg.py:214: RuntimeWarning: Glyph 3938 missing from current font.\n",
            "  font.set_text(s, 0.0, flags=flags)\n",
            "/usr/local/lib/python3.7/dist-packages/matplotlib/backends/backend_agg.py:183: RuntimeWarning: Glyph 3921 missing from current font.\n",
            "  font.set_text(s, 0, flags=flags)\n",
            "/usr/local/lib/python3.7/dist-packages/matplotlib/backends/backend_agg.py:183: RuntimeWarning: Glyph 3908 missing from current font.\n",
            "  font.set_text(s, 0, flags=flags)\n",
            "/usr/local/lib/python3.7/dist-packages/matplotlib/backends/backend_agg.py:183: RuntimeWarning: Glyph 3924 missing from current font.\n",
            "  font.set_text(s, 0, flags=flags)\n",
            "/usr/local/lib/python3.7/dist-packages/matplotlib/backends/backend_agg.py:183: RuntimeWarning: Glyph 3926 missing from current font.\n",
            "  font.set_text(s, 0, flags=flags)\n",
            "/usr/local/lib/python3.7/dist-packages/matplotlib/backends/backend_agg.py:183: RuntimeWarning: Glyph 4017 missing from current font.\n",
            "  font.set_text(s, 0, flags=flags)\n",
            "/usr/local/lib/python3.7/dist-packages/matplotlib/backends/backend_agg.py:183: RuntimeWarning: Glyph 3956 missing from current font.\n",
            "  font.set_text(s, 0, flags=flags)\n",
            "/usr/local/lib/python3.7/dist-packages/matplotlib/backends/backend_agg.py:183: RuntimeWarning: Glyph 3910 missing from current font.\n",
            "  font.set_text(s, 0, flags=flags)\n",
            "/usr/local/lib/python3.7/dist-packages/matplotlib/backends/backend_agg.py:183: RuntimeWarning: Glyph 3962 missing from current font.\n",
            "  font.set_text(s, 0, flags=flags)\n",
            "/usr/local/lib/python3.7/dist-packages/matplotlib/backends/backend_agg.py:183: RuntimeWarning: Glyph 3905 missing from current font.\n",
            "  font.set_text(s, 0, flags=flags)\n",
            "/usr/local/lib/python3.7/dist-packages/matplotlib/backends/backend_agg.py:183: RuntimeWarning: Glyph 3906 missing from current font.\n",
            "  font.set_text(s, 0, flags=flags)\n",
            "/usr/local/lib/python3.7/dist-packages/matplotlib/backends/backend_agg.py:183: RuntimeWarning: Glyph 3904 missing from current font.\n",
            "  font.set_text(s, 0, flags=flags)\n",
            "/usr/local/lib/python3.7/dist-packages/matplotlib/backends/backend_agg.py:183: RuntimeWarning: Glyph 3954 missing from current font.\n",
            "  font.set_text(s, 0, flags=flags)\n",
            "/usr/local/lib/python3.7/dist-packages/matplotlib/backends/backend_agg.py:183: RuntimeWarning: Glyph 3937 missing from current font.\n",
            "  font.set_text(s, 0, flags=flags)\n",
            "/usr/local/lib/python3.7/dist-packages/matplotlib/backends/backend_agg.py:183: RuntimeWarning: Glyph 3964 missing from current font.\n",
            "  font.set_text(s, 0, flags=flags)\n",
            "/usr/local/lib/python3.7/dist-packages/matplotlib/backends/backend_agg.py:183: RuntimeWarning: Glyph 3936 missing from current font.\n",
            "  font.set_text(s, 0, flags=flags)\n",
            "/usr/local/lib/python3.7/dist-packages/matplotlib/backends/backend_agg.py:183: RuntimeWarning: Glyph 4019 missing from current font.\n",
            "  font.set_text(s, 0, flags=flags)\n",
            "/usr/local/lib/python3.7/dist-packages/matplotlib/backends/backend_agg.py:183: RuntimeWarning: Glyph 3938 missing from current font.\n",
            "  font.set_text(s, 0, flags=flags)\n"
          ]
        },
        {
          "output_type": "display_data",
          "data": {
            "text/plain": [
              "<Figure size 432x288 with 1 Axes>"
            ],
            "image/png": "[encoded data removed]"
          },
          "metadata": {
            "needs_background": "light"
          }
        },
        {
          "output_type": "execute_result",
          "data": {
            "text/plain": [
              "<matplotlib.axes._subplots.AxesSubplot at 0x7f1a8ea32f90>"
            ]
          },
          "metadata": {},
          "execution_count": 42
        }
      ]
    },
    {
      "cell_type": "code",
      "source": [
        ""
      ],
      "metadata": {
        "id": "mRipxGaeTBhS"
      },
      "execution_count": null,
      "outputs": []
    }
  ]
}