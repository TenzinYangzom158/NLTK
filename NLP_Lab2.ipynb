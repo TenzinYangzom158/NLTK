{
  "nbformat": 4,
  "nbformat_minor": 0,
  "metadata": {
    "colab": {
      "name": "NLP_Lab2.ipynb",
      "provenance": [],
      "collapsed_sections": [],
      "authorship_tag": "ABX9TyNkZjwv75PGNIdnL3RJ69uN",
      "include_colab_link": true
    },
    "kernelspec": {
      "name": "python3",
      "display_name": "Python 3"
    },
    "language_info": {
      "name": "python"
    }
  },
  "cells": [
    {
      "cell_type": "markdown",
      "metadata": {
        "id": "view-in-github",
        "colab_type": "text"
      },
      "source": [
        "<a href=\"https://colab.research.google.com/github/TenzinYangzom158/NLTK/blob/main/NLP_Lab2.ipynb\" target=\"_parent\"><img src=\"https://colab.research.google.com/assets/colab-badge.svg\" alt=\"Open In Colab\"/></a>"
      ]
    },
    {
      "cell_type": "markdown",
      "source": [
        "# **Lab2: Write a program to count word frequency and to remove stop words in your domain.**"
      ],
      "metadata": {
        "id": "v4L0d5U8rpFF"
      }
    },
    {
      "cell_type": "markdown",
      "source": [
        "Stop words are available in abundance in any human language. By removing these words, we remove the low-level information from our text in order to give more focus to the important information"
      ],
      "metadata": {
        "id": "uRZ2BRyu7NK-"
      }
    },
    {
      "cell_type": "code",
      "source": [
        "import nltk\n",
        "nltk.download('stopwords')\n",
        "nltk.download('punkt')"
      ],
      "metadata": {
        "id": "h8QP_8vNvz3D"
      },
      "execution_count": null,
      "outputs": []
    },
    {
      "cell_type": "code",
      "execution_count": null,
      "metadata": {
        "id": "JySnY1oyrTGD"
      },
      "outputs": [],
      "source": [
        "# add necessary libraries\n",
        "from nltk.corpus import stopwords\n",
        "from nltk.tokenize import word_tokenize, sent_tokenize\n",
        "from nltk.probability import FreqDist\n",
        "\n",
        "from nltk.stem import PorterStemmer\n",
        "import math"
      ]
    },
    {
      "cell_type": "code",
      "source": [
        "article = '''A consumer's buying experience can be tailored by an e-commerce site, reducing client retention\n",
        "and loyalty to a single factor. 91 percent of people prefer to shop with companies that make\n",
        "pertinent recommendations and offers while they shop, according to a poll by Accenture. InvesP,\n",
        "which discovered that 45% of consumers prefer to shop from a store that customizes its\n",
        "recommendations, supports the conclusion.'''"
      ],
      "metadata": {
        "id": "yaSWbArJvK_I"
      },
      "execution_count": null,
      "outputs": []
    },
    {
      "cell_type": "code",
      "source": [
        "# list of english stopwords\n",
        "stop_words = set(stopwords.words('english'))\n",
        "print(stop_words)"
      ],
      "metadata": {
        "colab": {
          "base_uri": "https://localhost:8080/"
        },
        "id": "0qZ9LQSqvnG2",
        "outputId": "9134f5f7-e046-488d-ebd9-a1b86a8f21ff"
      },
      "execution_count": null,
      "outputs": [
        {
          "output_type": "stream",
          "name": "stdout",
          "text": [
            "{'further', 're', 'until', \"won't\", 'needn', \"mightn't\", 'hasn', 'off', 'can', 'against', \"didn't\", 'you', 'other', 'up', 'between', 'below', 'during', \"haven't\", 'won', 'whom', 'are', 'did', 'weren', 'themselves', 'by', 'were', 'in', 'how', 'after', 'own', \"isn't\", 'just', 'myself', 'do', 'not', 'theirs', \"wouldn't\", 'should', \"hadn't\", 'ma', 'him', 'once', 'she', \"you've\", 'ourselves', 'so', 'don', 'my', 'each', 'from', \"needn't\", 'before', \"that'll\", 'shouldn', 'wouldn', \"aren't\", 'was', 'what', 'herself', 't', 'he', 'o', 'at', \"you'll\", 'same', 'having', 'our', \"wasn't\", 'yourselves', 'through', 's', 'down', 'only', 'had', 'here', 'more', 'why', 'their', 'his', 'about', 'it', 'mustn', 'will', 'out', \"don't\", 'some', \"mustn't\", 'haven', 'aren', 'both', \"you'd\", 'these', 'be', 'yours', 'because', 'to', 'itself', 'ain', \"hasn't\", 'for', 'again', 'or', 'a', 'yourself', 'being', 'where', 'such', \"it's\", 'doing', \"doesn't\", 'while', 'under', 'on', 'then', 'didn', 'i', 'd', 'over', 'doesn', 'does', 'above', 'hers', 'mightn', \"you're\", 'is', 'that', 'which', 'y', 'couldn', 'when', \"she's\", 'who', 'her', 've', 'too', 'very', \"couldn't\", 'if', 'wasn', 'now', 'ours', 'them', 'and', 'we', 'shan', 'all', 'of', 'with', 'has', \"should've\", 'as', 'an', 'nor', 'its', 'they', \"shouldn't\", 'll', 'm', 'most', \"weren't\", 'your', 'this', 'into', 'isn', 'there', 'any', 'but', 'am', 'me', 'himself', 'been', 'the', 'than', 'those', 'few', 'hadn', \"shan't\", 'no', 'have'}\n"
          ]
        }
      ]
    },
    {
      "cell_type": "code",
      "source": [
        "# create tokens\n",
        "word_tokens = word_tokenize(article)\n",
        "print(word_tokens)"
      ],
      "metadata": {
        "colab": {
          "base_uri": "https://localhost:8080/"
        },
        "id": "oKdPDzcIvv3D",
        "outputId": "2ba4e7cc-a98c-48ac-b3be-6688b7b2dccb"
      },
      "execution_count": null,
      "outputs": [
        {
          "output_type": "stream",
          "name": "stdout",
          "text": [
            "['A', 'consumer', \"'s\", 'buying', 'experience', 'can', 'be', 'tailored', 'by', 'an', 'e-commerce', 'site', ',', 'reducing', 'client', 'retention', 'and', 'loyalty', 'to', 'a', 'single', 'factor', '.', '91', 'percent', 'of', 'people', 'prefer', 'to', 'shop', 'with', 'companies', 'that', 'make', 'pertinent', 'recommendations', 'and', 'offers', 'while', 'they', 'shop', ',', 'according', 'to', 'a', 'poll', 'by', 'Accenture', '.', 'InvesP', ',', 'which', 'discovered', 'that', '45', '%', 'of', 'consumers', 'prefer', 'to', 'shop', 'from', 'a', 'store', 'that', 'customizes', 'its', 'recommendations', ',', 'supports', 'the', 'conclusion', '.']\n"
          ]
        }
      ]
    },
    {
      "cell_type": "markdown",
      "source": [
        "## **Stop words removed from the sentences**"
      ],
      "metadata": {
        "id": "kZP1v5eE58wf"
      }
    },
    {
      "cell_type": "code",
      "source": [
        "# create words\n",
        "filtered_sentences = [w for w in word_tokens if not w in stop_words]\n",
        "print(filtered_sentences)"
      ],
      "metadata": {
        "colab": {
          "base_uri": "https://localhost:8080/"
        },
        "id": "BE1P_H97woNv",
        "outputId": "3461eeb7-2b17-4f2a-db3b-a98f056d5e03"
      },
      "execution_count": null,
      "outputs": [
        {
          "output_type": "stream",
          "name": "stdout",
          "text": [
            "['A', 'consumer', \"'s\", 'buying', 'experience', 'tailored', 'e-commerce', 'site', ',', 'reducing', 'client', 'retention', 'loyalty', 'single', 'factor', '.', '91', 'percent', 'people', 'prefer', 'shop', 'companies', 'make', 'pertinent', 'recommendations', 'offers', 'shop', ',', 'according', 'poll', 'Accenture', '.', 'InvesP', ',', 'discovered', '45', '%', 'consumers', 'prefer', 'shop', 'store', 'customizes', 'recommendations', ',', 'supports', 'conclusion', '.']\n"
          ]
        }
      ]
    },
    {
      "cell_type": "code",
      "source": [
        "filtered_sentences = []"
      ],
      "metadata": {
        "id": "tAp3ZiFxx8FY"
      },
      "execution_count": null,
      "outputs": []
    },
    {
      "cell_type": "code",
      "source": [
        "for w in word_tokens:\n",
        "    if w not in stop_words:\n",
        "        filtered_sentences.append(w)"
      ],
      "metadata": {
        "id": "NQypHgkrzFBD"
      },
      "execution_count": null,
      "outputs": []
    },
    {
      "cell_type": "code",
      "source": [
        "print(filtered_sentences)"
      ],
      "metadata": {
        "colab": {
          "base_uri": "https://localhost:8080/"
        },
        "id": "f_MogjVIzJcW",
        "outputId": "ed5f6155-4519-4687-84b0-afeda92df099"
      },
      "execution_count": null,
      "outputs": [
        {
          "output_type": "stream",
          "name": "stdout",
          "text": [
            "['A', 'consumer', \"'s\", 'buying', 'experience', 'tailored', 'e-commerce', 'site', ',', 'reducing', 'client', 'retention', 'loyalty', 'single', 'factor', '.', '91', 'percent', 'people', 'prefer', 'shop', 'companies', 'make', 'pertinent', 'recommendations', 'offers', 'shop', ',', 'according', 'poll', 'Accenture', '.', 'InvesP', ',', 'discovered', '45', '%', 'consumers', 'prefer', 'shop', 'store', 'customizes', 'recommendations', ',', 'supports', 'conclusion', '.']\n"
          ]
        }
      ]
    },
    {
      "cell_type": "markdown",
      "source": [
        "## **Count word frequency**"
      ],
      "metadata": {
        "id": "L87SJmpc6z-2"
      }
    },
    {
      "cell_type": "code",
      "source": [
        "# create text\n",
        "text = nltk.Text(filtered_sentences)"
      ],
      "metadata": {
        "id": "9tNBlLSPz5-K"
      },
      "execution_count": null,
      "outputs": []
    },
    {
      "cell_type": "code",
      "source": [
        "# create a list of every individual word (no repeats)\n",
        "word_set = set(filtered_sentences)\n",
        "len(word_set)\n"
      ],
      "metadata": {
        "id": "A8vvNAHu0ktC",
        "colab": {
          "base_uri": "https://localhost:8080/"
        },
        "outputId": "a3ddc995-f72f-404a-c337-7c67356c5b84"
      },
      "execution_count": null,
      "outputs": [
        {
          "output_type": "execute_result",
          "data": {
            "text/plain": [
              "38"
            ]
          },
          "metadata": {},
          "execution_count": 54
        }
      ]
    },
    {
      "cell_type": "code",
      "source": [
        "# using count() to check word frequency\n",
        "\n",
        "wordfreq = []\n",
        "for w in filtered_sentences:\n",
        "    wordfreq.append(filtered_sentences.count(w))\n",
        "\n",
        "print(filtered_sentences, wordfreq)"
      ],
      "metadata": {
        "colab": {
          "base_uri": "https://localhost:8080/"
        },
        "id": "FOJwZ6yJzNr9",
        "outputId": "17e17c6e-0e6e-4fe1-d400-1f745c7fb258"
      },
      "execution_count": null,
      "outputs": [
        {
          "output_type": "stream",
          "name": "stdout",
          "text": [
            "['A', 'consumer', \"'s\", 'buying', 'experience', 'tailored', 'e-commerce', 'site', ',', 'reducing', 'client', 'retention', 'loyalty', 'single', 'factor', '.', '91', 'percent', 'people', 'prefer', 'shop', 'companies', 'make', 'pertinent', 'recommendations', 'offers', 'shop', ',', 'according', 'poll', 'Accenture', '.', 'InvesP', ',', 'discovered', '45', '%', 'consumers', 'prefer', 'shop', 'store', 'customizes', 'recommendations', ',', 'supports', 'conclusion', '.'] [1, 1, 1, 1, 1, 1, 1, 1, 4, 1, 1, 1, 1, 1, 1, 3, 1, 1, 1, 2, 3, 1, 1, 1, 2, 1, 3, 4, 1, 1, 1, 3, 1, 4, 1, 1, 1, 1, 2, 3, 1, 1, 2, 4, 1, 1, 3]\n"
          ]
        }
      ]
    },
    {
      "cell_type": "code",
      "source": [
        "# create a frequency distribution to find the most common words\n",
        "\n",
        "fdist = nltk.FreqDist(filtered_sentences)\n",
        "# features = list(fdist.keys())\n",
        "# features[:1000]\n",
        "fdist.most_common(100)"
      ],
      "metadata": {
        "colab": {
          "base_uri": "https://localhost:8080/"
        },
        "id": "a08xMzuU26gr",
        "outputId": "6bf71486-737d-4c0e-8a34-a5ef0ef3c136"
      },
      "execution_count": null,
      "outputs": [
        {
          "output_type": "execute_result",
          "data": {
            "text/plain": [
              "[(',', 4),\n",
              " ('.', 3),\n",
              " ('shop', 3),\n",
              " ('prefer', 2),\n",
              " ('recommendations', 2),\n",
              " ('A', 1),\n",
              " ('consumer', 1),\n",
              " (\"'s\", 1),\n",
              " ('buying', 1),\n",
              " ('experience', 1),\n",
              " ('tailored', 1),\n",
              " ('e-commerce', 1),\n",
              " ('site', 1),\n",
              " ('reducing', 1),\n",
              " ('client', 1),\n",
              " ('retention', 1),\n",
              " ('loyalty', 1),\n",
              " ('single', 1),\n",
              " ('factor', 1),\n",
              " ('91', 1),\n",
              " ('percent', 1),\n",
              " ('people', 1),\n",
              " ('companies', 1),\n",
              " ('make', 1),\n",
              " ('pertinent', 1),\n",
              " ('offers', 1),\n",
              " ('according', 1),\n",
              " ('poll', 1),\n",
              " ('Accenture', 1),\n",
              " ('InvesP', 1),\n",
              " ('discovered', 1),\n",
              " ('45', 1),\n",
              " ('%', 1),\n",
              " ('consumers', 1),\n",
              " ('store', 1),\n",
              " ('customizes', 1),\n",
              " ('supports', 1),\n",
              " ('conclusion', 1)]"
            ]
          },
          "metadata": {},
          "execution_count": 59
        }
      ]
    },
    {
      "cell_type": "code",
      "source": [
        "fdist.items()"
      ],
      "metadata": {
        "colab": {
          "base_uri": "https://localhost:8080/"
        },
        "id": "Rj6gA5dY3Drl",
        "outputId": "e5b2bdcd-cce5-40df-e31a-f20ad3a776e0"
      },
      "execution_count": null,
      "outputs": [
        {
          "output_type": "execute_result",
          "data": {
            "text/plain": [
              "dict_items([('A', 1), ('consumer', 1), (\"'s\", 1), ('buying', 1), ('experience', 1), ('tailored', 1), ('e-commerce', 1), ('site', 1), (',', 4), ('reducing', 1), ('client', 1), ('retention', 1), ('loyalty', 1), ('single', 1), ('factor', 1), ('.', 3), ('91', 1), ('percent', 1), ('people', 1), ('prefer', 2), ('shop', 3), ('companies', 1), ('make', 1), ('pertinent', 1), ('recommendations', 2), ('offers', 1), ('according', 1), ('poll', 1), ('Accenture', 1), ('InvesP', 1), ('discovered', 1), ('45', 1), ('%', 1), ('consumers', 1), ('store', 1), ('customizes', 1), ('supports', 1), ('conclusion', 1)])"
            ]
          },
          "metadata": {},
          "execution_count": 60
        }
      ]
    },
    {
      "cell_type": "code",
      "source": [
        "fdist.plot(50, cumulative = True)"
      ],
      "metadata": {
        "colab": {
          "base_uri": "https://localhost:8080/",
          "height": 376
        },
        "id": "kETMK7Nk8bSO",
        "outputId": "6469e370-d0fc-4180-edd4-80bf1c190e0e"
      },
      "execution_count": null,
      "outputs": [
        {
          "output_type": "display_data",
          "data": {
            "text/plain": [
              "<Figure size 432x288 with 1 Axes>"
            ],
            "image/png": "[encoded data removed]"
          },
          "metadata": {
            "needs_background": "light"
          }
        },
        {
          "output_type": "execute_result",
          "data": {
            "text/plain": [
              "<matplotlib.axes._subplots.AxesSubplot at 0x7f1dec7b6810>"
            ]
          },
          "metadata": {},
          "execution_count": 66
        }
      ]
    },
    {
      "cell_type": "markdown",
      "source": [
        "Importing text "
      ],
      "metadata": {
        "id": "z6rt7K-i_fMb"
      }
    },
    {
      "cell_type": "code",
      "source": [
        "tex = open('hindi.txt')\n",
        "sen=tex.read()\n",
        "print(sen)"
      ],
      "metadata": {
        "colab": {
          "base_uri": "https://localhost:8080/"
        },
        "id": "VymuCHP99FaM",
        "outputId": "76b003eb-9413-4621-9f48-b5ae8be51905"
      },
      "execution_count": null,
      "outputs": [
        {
          "output_type": "stream",
          "name": "stdout",
          "text": [
            "आदरणीय अध्यक्षा जी, मैं आपका आभार व्\\यक्\\त करता हूं, जिस धैर्य के साथ आपने सदन का आज संचालन किया है। यह अविश्\\वास प्रस्\\ताव एक प्रकार से हमारे लोकतंत्र की महत्\\वपूर्ण शक्ति का परिचायक है। भले ही टीडीपी के माध् यम से यह प्रस्ताव आया हो, लेकिन उनके साथ जुड़े हुए कुछ माननीय सदस्\\यों ने प्रस्\\ताव का समर्थन करते हुए बातें कही है।\n"
          ]
        }
      ]
    },
    {
      "cell_type": "markdown",
      "source": [
        "extracting stop words"
      ],
      "metadata": {
        "id": "7OQuHlJ-ANWK"
      }
    },
    {
      "cell_type": "code",
      "source": [
        "stop=open('stopwords.txt')\n",
        "stopwords=[]\n",
        "for x in stop:\n",
        "   stopwords.append(x)"
      ],
      "metadata": {
        "id": "2YyLuLy5_tGI"
      },
      "execution_count": null,
      "outputs": []
    },
    {
      "cell_type": "markdown",
      "source": [
        "create frequency table"
      ],
      "metadata": {
        "id": "JcZ0vvqyAVtp"
      }
    },
    {
      "cell_type": "code",
      "source": [
        "def createfrequencytable(text_string) -> dict:\n",
        "   stopWords = set(stopwords)\n",
        "   words = word_tokenize(text_string)\n",
        "   ps = PorterStemmer()\n",
        "   \n",
        "   freqTable = dict()\n",
        "   for word in words:\n",
        "      word=str(word)\n",
        "      word = ps.stem(word)\n",
        "      if word in stopWords:\n",
        "         continue\n",
        "      if word in freqTable:\n",
        "         freqTable[word] += 1\n",
        "      else:\n",
        "         freqTable[word] = 1\n",
        "   return freqTable\n",
        "ft=createfrequencytable(sen)\n",
        "print(ft)"
      ],
      "metadata": {
        "colab": {
          "base_uri": "https://localhost:8080/"
        },
        "id": "ElsJWWE-AQ8J",
        "outputId": "1533a72c-2de9-4bd9-9280-f788c934a31e"
      },
      "execution_count": null,
      "outputs": [
        {
          "output_type": "stream",
          "name": "stdout",
          "text": [
            "{'आदरणीय': 1, 'अध्यक्षा': 1, 'जी': 1, ',': 3, 'मैं': 1, 'आपका': 1, 'आभार': 1, 'व्\\\\यक्\\\\त': 1, 'करता': 1, 'हूं': 1, 'जिस': 1, 'धैर्य': 1, 'के': 2, 'साथ': 2, 'आपने': 1, 'सदन': 1, 'का': 3, 'आज': 1, 'संचालन': 1, 'किया': 1, 'है।': 3, 'यह': 2, 'अविश्\\\\वास': 1, 'प्रस्\\\\ताव': 2, 'एक': 1, 'प्रकार': 1, 'से': 2, 'हमारे': 1, 'लोकतंत्र': 1, 'की': 1, 'महत्\\\\वपूर्ण': 1, 'शक्ति': 1, 'परिचायक': 1, 'भले': 1, 'ही': 1, 'टीडीपी': 1, 'माध्': 1, 'यम': 1, 'प्रस्ताव': 1, 'आया': 1, 'हो': 1, 'लेकिन': 1, 'उनके': 1, 'जुड़े': 1, 'हुए': 2, 'कुछ': 1, 'माननीय': 1, 'सदस्\\\\यों': 1, 'ने': 1, 'समर्थन': 1, 'करते': 1, 'बातें': 1, 'कही': 1}\n"
          ]
        }
      ]
    },
    {
      "cell_type": "code",
      "source": [
        ""
      ],
      "metadata": {
        "id": "SxmaUcetAh7a"
      },
      "execution_count": null,
      "outputs": []
    }
  ]
}